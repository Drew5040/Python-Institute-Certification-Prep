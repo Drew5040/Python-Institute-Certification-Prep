{
 "cells": [
  {
   "cell_type": "markdown",
   "id": "0",
   "metadata": {},
   "source": [
    "# PCAP-31-03-1.5 – Create and use user-defined modules and packages"
   ]
  },
  {
   "cell_type": "markdown",
   "id": "1",
   "metadata": {},
   "source": [
    "### Difference between: module, package, & library"
   ]
  },
  {
   "cell_type": "code",
   "execution_count": null,
   "id": "2",
   "metadata": {},
   "outputs": [],
   "source": [
    "# module: - single .py file with Python code\n",
    "# package: - made of many modules or subpackages\n",
    "# library: - collection of packages and/or modules designed to be reused across projects\n",
    "\n",
    "# my_library/               ← Library\n",
    "# │\n",
    "# ├── __init__.py           ← Makes this a package\n",
    "# ├── math_utils.py         ← Module\n",
    "# ├── string_utils.py       ← Module\n",
    "# └── io_tools/             ← Subpackage (another package)\n",
    "#     ├── __init__.py\n",
    "#     └── file_utils.py     ← Module"
   ]
  },
  {
   "cell_type": "markdown",
   "id": "3",
   "metadata": {},
   "source": [
    "### What is a Package?"
   ]
  },
  {
   "cell_type": "code",
   "execution_count": null,
   "id": "4",
   "metadata": {},
   "outputs": [],
   "source": [
    "# What is a Package?\n",
    "# A package is a directory containing an __init__.py file (can be empty) and possibly other modules or sub-packages.\n",
    "\n",
    "# Why use packages?\n",
    "# - Help structure complex applications.\n",
    "\n",
    "# - Allow nested module organization.\n",
    "\n",
    "# - Enable advanced module importing."
   ]
  },
  {
   "cell_type": "markdown",
   "id": "5",
   "metadata": {},
   "source": [
    "### # The \\__pycache\\_\\_ Directory"
   ]
  },
  {
   "cell_type": "code",
   "execution_count": null,
   "id": "6",
   "metadata": {},
   "outputs": [],
   "source": [
    "# The __pycache__ Directory\n",
    "\n",
    "# What is it?\n",
    "# - When you import a module, Python compiles it to bytecode (.pyc files) for performance. \n",
    "#   These files are stored in a directory named __pycache__.\n",
    "\n",
    "# If you import math_utils.py, Python creates a pycache file for faster execution on future imports:\n",
    "\n",
    "# __pycache__/math_utils.cpython-311.pyc"
   ]
  },
  {
   "cell_type": "markdown",
   "id": "7",
   "metadata": {},
   "source": [
    "### The \\__name\\_\\_ Variable"
   ]
  },
  {
   "cell_type": "code",
   "execution_count": null,
   "id": "8",
   "metadata": {},
   "outputs": [],
   "source": [
    "# The __name__ Variable\n",
    "\n",
    "# What is __name__?\n",
    "# Every module has a built-in variable called __name__.\n",
    "\n",
    "# If the module is run directly, __name__ == \"__main__\"\n",
    "\n",
    "# If the module is imported, __name__ == module_name\n",
    "\n",
    "# Why is it useful?\n",
    "# To prevent certain code from executing when a module is imported."
   ]
  },
  {
   "cell_type": "code",
   "execution_count": null,
   "id": "9",
   "metadata": {},
   "outputs": [],
   "source": [
    "# file: greeter.py\n",
    "def greet():\n",
    "    print(\"Hello!\")\n",
    "\n",
    "if __name__ == \"__main__\":\n",
    "    greet()\n"
   ]
  },
  {
   "cell_type": "markdown",
   "id": "10",
   "metadata": {},
   "source": [
    "### Public & Private Variables"
   ]
  },
  {
   "cell_type": "code",
   "execution_count": null,
   "id": "11",
   "metadata": {},
   "outputs": [],
   "source": [
    "# Public and Private Variables\n",
    "# Python doesn’t enforce strict access controls like Java or C++, but:\n",
    "\n",
    "# Variables/methods with a single underscore (_name) are \"protected\" (by convention).\n",
    "# Variables with double underscore (__name) are \"private\" (name-mangled)."
   ]
  },
  {
   "cell_type": "code",
   "execution_count": null,
   "id": "12",
   "metadata": {},
   "outputs": [],
   "source": [
    "class Example:\n",
    "    def __init__(self):\n",
    "        self.public = \"I am public\"\n",
    "        self._protected = \"I am protected\"\n",
    "        self.__private = \"I am private\"\n",
    "\n",
    "obj = Example()\n",
    "print(obj.public)        # OK\n",
    "print(obj._protected)    # OK but discouraged\n",
    "# print(obj.__private)   # AttributeError\n",
    "\n",
    "# Accessing mangled name\n",
    "print(obj._Example__private)  # Works, but not recommended\n"
   ]
  },
  {
   "cell_type": "markdown",
   "id": "13",
   "metadata": {},
   "source": [
    "### # The \\__init\\_\\_.py File"
   ]
  },
  {
   "cell_type": "code",
   "execution_count": null,
   "id": "14",
   "metadata": {},
   "outputs": [],
   "source": [
    "# The __init__.py File\n",
    "\n",
    "# What is it?\n",
    "# - A file that initializes a Python package. It can be empty or contain initialization code.\n",
    "# - Before Python 3.3, it was required to define a directory as a package. Now it’s optional, but still used to:\n",
    "# - Run package-level setup.\n",
    "# - Expose a cleaner API."
   ]
  },
  {
   "cell_type": "code",
   "execution_count": null,
   "id": "15",
   "metadata": {},
   "outputs": [],
   "source": [
    "# my_project/\n",
    "# ├── main.py\n",
    "# └── math_tools/\n",
    "#     ├── __init__.py\n",
    "#     ├── algebra.py\n",
    "#     └── geometry.py\n"
   ]
  },
  {
   "cell_type": "code",
   "execution_count": null,
   "id": "16",
   "metadata": {},
   "outputs": [],
   "source": [
    "# __init__.py\n",
    "\n",
    "# Use Case \t                            Example\n",
    "# Expose top-level functions\tfrom .module import function\n",
    "# Register plugins/components\tPopulate a registry during initialization\n",
    "# Versioning your package\t    Define __version__\n",
    "# Preload dependencies\t        Load submodules on import\n",
    "\n",
    "# What can be placed in __init__.py? (Answer: import statements, setup code, constants)"
   ]
  },
  {
   "cell_type": "code",
   "execution_count": null,
   "id": "17",
   "metadata": {},
   "outputs": [],
   "source": [
    "# utils/__init__.py\n",
    "from .string_utils import capitalize_words # type: ignore\n",
    "\n",
    "# Now you can:\n",
    "from utils import capitalize_words # type: ignore\n",
    "\n",
    "# Instead of:\n",
    "from utils.string_utils import capitalize_words # type: ignore\n",
    "\n"
   ]
  },
  {
   "cell_type": "markdown",
   "id": "18",
   "metadata": {},
   "source": [
    "### Searching For & Through Modules & Packages"
   ]
  },
  {
   "cell_type": "code",
   "execution_count": null,
   "id": "19",
   "metadata": {},
   "outputs": [],
   "source": [
    "# How Python finds modules:\n",
    "# Python uses a list of paths stored in sys.path to search for modules when importing.\n",
    "\n",
    "# This includes:\n",
    "\n",
    "# - Current directory\n",
    "\n",
    "# - Standard library directories\n",
    "\n",
    "# - Paths set by environment variables (PYTHONPATH)"
   ]
  },
  {
   "cell_type": "code",
   "execution_count": null,
   "id": "20",
   "metadata": {},
   "outputs": [],
   "source": [
    "# How to import custom modules:\n",
    "\n",
    "# - Either place your module in the same folder as your script.\n",
    "# - Or append its directory to sys.path.\n",
    "\n",
    "import sys\n",
    "sys.path.append('/path/to/my/modules')\n",
    "\n",
    "import my_module # type: ignore\n"
   ]
  },
  {
   "cell_type": "markdown",
   "id": "21",
   "metadata": {},
   "source": [
    "### Nested Packages vs Directory Trees"
   ]
  },
  {
   "cell_type": "code",
   "execution_count": null,
   "id": "22",
   "metadata": {},
   "outputs": [],
   "source": [
    "# Nested Packages vs. Directory Trees\n",
    "\n",
    "# Directory Tree:\n",
    "# - A file structure that may or may not be Python-aware.\n",
    "\n",
    "# Nested Package:\n",
    "# - A directory structure of packages that include __init__.py at every level.\n",
    "\n",
    "# Example:\n",
    "\n",
    "# ecommerce/\n",
    "# ├── __init__.py\n",
    "# ├── payments/\n",
    "# │   ├── __init__.py\n",
    "# │   └── processor.py\n",
    "# └── products/\n",
    "#     ├── __init__.py\n",
    "#     └── catalog.py\n",
    "\n",
    "# Importing:\n",
    "from ecommerce.payments import processor # type: ignore\n",
    "\n",
    "\n"
   ]
  },
  {
   "cell_type": "code",
   "execution_count": null,
   "id": "23",
   "metadata": {},
   "outputs": [],
   "source": []
  },
  {
   "cell_type": "code",
   "execution_count": null,
   "id": "24",
   "metadata": {},
   "outputs": [],
   "source": []
  },
  {
   "cell_type": "code",
   "execution_count": null,
   "id": "25",
   "metadata": {},
   "outputs": [],
   "source": []
  },
  {
   "cell_type": "code",
   "execution_count": null,
   "id": "26",
   "metadata": {},
   "outputs": [],
   "source": []
  },
  {
   "cell_type": "code",
   "execution_count": null,
   "id": "27",
   "metadata": {},
   "outputs": [],
   "source": []
  },
  {
   "cell_type": "code",
   "execution_count": null,
   "id": "28",
   "metadata": {},
   "outputs": [],
   "source": []
  },
  {
   "cell_type": "code",
   "execution_count": null,
   "id": "29",
   "metadata": {},
   "outputs": [],
   "source": []
  },
  {
   "cell_type": "code",
   "execution_count": null,
   "id": "30",
   "metadata": {},
   "outputs": [],
   "source": []
  },
  {
   "cell_type": "code",
   "execution_count": null,
   "id": "31",
   "metadata": {},
   "outputs": [],
   "source": []
  },
  {
   "cell_type": "code",
   "execution_count": null,
   "id": "32",
   "metadata": {},
   "outputs": [],
   "source": []
  },
  {
   "cell_type": "code",
   "execution_count": null,
   "id": "33",
   "metadata": {},
   "outputs": [],
   "source": []
  },
  {
   "cell_type": "code",
   "execution_count": null,
   "id": "34",
   "metadata": {},
   "outputs": [],
   "source": []
  },
  {
   "cell_type": "code",
   "execution_count": null,
   "id": "35",
   "metadata": {},
   "outputs": [],
   "source": []
  },
  {
   "cell_type": "code",
   "execution_count": null,
   "id": "36",
   "metadata": {},
   "outputs": [],
   "source": []
  },
  {
   "cell_type": "code",
   "execution_count": null,
   "id": "37",
   "metadata": {},
   "outputs": [],
   "source": []
  },
  {
   "cell_type": "code",
   "execution_count": null,
   "id": "38",
   "metadata": {},
   "outputs": [],
   "source": []
  },
  {
   "cell_type": "code",
   "execution_count": null,
   "id": "39",
   "metadata": {},
   "outputs": [],
   "source": []
  },
  {
   "cell_type": "code",
   "execution_count": null,
   "id": "40",
   "metadata": {},
   "outputs": [],
   "source": []
  },
  {
   "cell_type": "code",
   "execution_count": null,
   "id": "41",
   "metadata": {},
   "outputs": [],
   "source": []
  },
  {
   "cell_type": "code",
   "execution_count": null,
   "id": "42",
   "metadata": {},
   "outputs": [],
   "source": []
  },
  {
   "cell_type": "code",
   "execution_count": null,
   "id": "43",
   "metadata": {},
   "outputs": [],
   "source": []
  }
 ],
 "metadata": {
  "kernelspec": {
   "display_name": "Python 3.10.13 (venv_wsl)",
   "language": "python",
   "name": "venv_wsl"
  },
  "language_info": {
   "codemirror_mode": {
    "name": "ipython",
    "version": 3
   },
   "file_extension": ".py",
   "mimetype": "text/x-python",
   "name": "python",
   "nbconvert_exporter": "python",
   "pygments_lexer": "ipython3",
   "version": "3.10.13"
  }
 },
 "nbformat": 4,
 "nbformat_minor": 5
}
