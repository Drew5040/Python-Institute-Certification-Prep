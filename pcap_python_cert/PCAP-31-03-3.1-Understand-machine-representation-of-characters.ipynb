{
 "cells": [
  {
   "cell_type": "markdown",
   "id": "0",
   "metadata": {},
   "source": [
    "# PCAP-31-03 3.1 – Understand machine representation of characters"
   ]
  },
  {
   "cell_type": "code",
   "execution_count": null,
   "id": "1",
   "metadata": {},
   "outputs": [],
   "source": [
    "# ASCII (American Standard Code for Information Interchange)\n",
    "# - Developed in the 60's\n",
    "# - Encodes 128 characters\n",
    "# - character = 7-bits\n",
    "\n",
    "print(ord('A'))\n",
    "print(chr(65))"
   ]
  },
  {
   "cell_type": "code",
   "execution_count": null,
   "id": "2",
   "metadata": {},
   "outputs": [],
   "source": [
    "# ASCII letter ranges\n",
    "\n",
    "#    Digits 0-9: 48-57\n",
    "# Uppercase A-Z: 65-90\n",
    "# Lowercase a-z: 97-122\n",
    "\n",
    "for i in range(0, 33, 1):\n",
    "    print(chr(i), end=' ')"
   ]
  },
  {
   "cell_type": "code",
   "execution_count": null,
   "id": "3",
   "metadata": {},
   "outputs": [],
   "source": [
    "chr(90)"
   ]
  },
  {
   "cell_type": "code",
   "execution_count": null,
   "id": "4",
   "metadata": {},
   "outputs": [],
   "source": [
    "print('x\\u0304')      # x̄\n",
    "print('μ', ord('μ'))  # μ 956\n",
    "print('σ', ord('σ'))  # σ 963\n",
    "print('∑', ord('∑'))  # ∑ 8721\n",
    "print('±', ord('±'))  # ± 177"
   ]
  },
  {
   "cell_type": "code",
   "execution_count": null,
   "id": "5",
   "metadata": {},
   "outputs": [],
   "source": [
    "# From lowercase to uppercase only works in ASCII\n",
    "char = 'g'\n",
    "print(chr(ord(char) - 32))  # G\n",
    "\n",
    "# From uppercase to lowercase\n",
    "char = 'M'\n",
    "print(chr(ord(char) + 32))  # m\n"
   ]
  },
  {
   "cell_type": "code",
   "execution_count": null,
   "id": "6",
   "metadata": {},
   "outputs": [],
   "source": [
    "# Unicode (Universal Character Set)\n",
    "# - assigns a code point to every character in every language\n",
    "# - includes symbols & emojis\n",
    "# - ASCII is a subset (1st 128 characters are the same)\n",
    "# - each character is represented by a unique code like: 'A' U+0041, 'é' ➝ U+00E9\n",
    "# - thought of as a massive international dictionary"
   ]
  },
  {
   "cell_type": "code",
   "execution_count": null,
   "id": "7",
   "metadata": {},
   "outputs": [],
   "source": [
    "# UTF-8 (Unicode Transformation Format - 8-bit)\n",
    "# - most common encoding of unicode\n",
    "# - is one of several ways to store or transmit unicode points in 'bytes'\n",
    "# - it can encode any character, but:\n",
    "# - ASCII chars = 1 byte (0 - 127)\n",
    "# - Other chars = 2 to 4 bytes\n",
    "# - Backward compatible with ASCII\n",
    "# - Efficient & widely used binary format\n",
    "\n",
    "# Encodes:\n",
    "# - web pages (HTML, JSON, Python source code)\n",
    "# - Python3 uses UTF-8 by default for string literals and file encoding"
   ]
  },
  {
   "cell_type": "code",
   "execution_count": null,
   "id": "8",
   "metadata": {},
   "outputs": [],
   "source": [
    "# ASCII example\n",
    "print(ord('A'))       # 65\n",
    "print(chr(65))        # 'A'\n",
    "\n",
    "# Unicode character\n",
    "print(ord('é'))       # 233 (U+00E9)\n",
    "print(hex(ord('é')))  # '0xe9'\n",
    "\n",
    "# Emoji (beyond ASCII/Latin)\n",
    "print(ord('😊'))      # 128522 (U+1F60A)"
   ]
  },
  {
   "cell_type": "code",
   "execution_count": null,
   "id": "9",
   "metadata": {},
   "outputs": [],
   "source": [
    "print('\\u00E9')       # 'é'\n",
    "print(chr(233))       # 'é'\n",
    "print('\\U0001F60A')   # '😊'"
   ]
  },
  {
   "cell_type": "code",
   "execution_count": null,
   "id": "10",
   "metadata": {},
   "outputs": [],
   "source": []
  }
 ],
 "metadata": {
  "kernelspec": {
   "display_name": "Python 3.10.13 (venv_wsl)",
   "language": "python",
   "name": "venv_wsl"
  },
  "language_info": {
   "codemirror_mode": {
    "name": "ipython",
    "version": 3
   },
   "file_extension": ".py",
   "mimetype": "text/x-python",
   "name": "python",
   "nbconvert_exporter": "python",
   "pygments_lexer": "ipython3",
   "version": "3.10.13"
  }
 },
 "nbformat": 4,
 "nbformat_minor": 5
}
