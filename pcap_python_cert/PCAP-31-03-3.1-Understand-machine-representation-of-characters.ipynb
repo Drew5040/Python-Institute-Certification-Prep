{
 "cells": [
  {
   "cell_type": "markdown",
   "id": "5b8880ba-4725-4173-905c-a0b7a205c720",
   "metadata": {},
   "source": [
    "# PCAP-31-03 3.1 – Understand machine representation of characters"
   ]
  },
  {
   "cell_type": "code",
   "execution_count": null,
   "id": "016293fb-9be9-4fcb-a517-c074fe10f411",
   "metadata": {},
   "outputs": [],
   "source": [
    "# ASCII (American Standard Code for Information Interchange)\n",
    "# - Developed in the 60's\n",
    "# - Encodes 128 characters\n",
    "# - character = 7-bits\n",
    "\n",
    "print(ord('A'))\n",
    "print(chr(65))"
   ]
  },
  {
   "cell_type": "code",
   "execution_count": null,
   "id": "53956635-9ece-499d-bdb8-f8fa1d64f9d8",
   "metadata": {},
   "outputs": [],
   "source": [
    "# ASCII letter ranges\n",
    "\n",
    "#    Digits 0-9: 48-57\n",
    "# Uppercase A-Z: 65-90\n",
    "# Lowercase a-z: 97-122\n",
    "\n",
    "for i in range(0, 33, 1):\n",
    "    print(chr(i), end=' ')"
   ]
  },
  {
   "cell_type": "code",
   "execution_count": null,
   "id": "6f025c7e-baf0-418c-99a0-f886b34c4b88",
   "metadata": {},
   "outputs": [],
   "source": [
    "chr(90)"
   ]
  },
  {
   "cell_type": "code",
   "execution_count": null,
   "id": "6bacf18a-0619-472d-ba99-0306ae9617cf",
   "metadata": {},
   "outputs": [],
   "source": [
    "print('x\\u0304')      # x̄\n",
    "print('μ', ord('μ'))  # μ 956\n",
    "print('σ', ord('σ'))  # σ 963\n",
    "print('∑', ord('∑'))  # ∑ 8721\n",
    "print('±', ord('±'))  # ± 177"
   ]
  },
  {
   "cell_type": "code",
   "execution_count": null,
   "id": "9efc0ddc-eba3-4485-aeb4-c70b93534939",
   "metadata": {},
   "outputs": [],
   "source": [
    "# From lowercase to uppercase only works in ASCII\n",
    "char = 'g'\n",
    "print(chr(ord(char) - 32))  # G\n",
    "\n",
    "# From uppercase to lowercase\n",
    "char = 'M'\n",
    "print(chr(ord(char) + 32))  # m\n"
   ]
  },
  {
   "cell_type": "code",
   "execution_count": null,
   "id": "e86e124d-f5a4-4f9b-a26e-7eea3109eda8",
   "metadata": {},
   "outputs": [],
   "source": [
    "# Unicode (Universal Character Set)\n",
    "# - assigns a code point to every character in every language\n",
    "# - includes symbols & emojis\n",
    "# - ASCII is a subset (1st 128 characters are the same)\n",
    "# - each character is represented by a unique code like: 'A' U+0041, 'é' ➝ U+00E9\n",
    "# - thought of as a massive international dictionary"
   ]
  },
  {
   "cell_type": "code",
   "execution_count": null,
   "id": "b2b1aefd-f573-414c-8906-a9aff214ef61",
   "metadata": {},
   "outputs": [],
   "source": [
    "# UTF-8 (Unicode Transformation Format - 8-bit)\n",
    "# - most common encoding of unicode\n",
    "# - is one of several ways to store or transmit unicode points in 'bytes'\n",
    "# - it can encode any character, but:\n",
    "# - ASCII chars = 1 byte (0 - 127)\n",
    "# - Other chars = 2 to 4 bytes\n",
    "# - Backward compatible with ASCII\n",
    "# - Efficient & widely used binary format\n",
    "\n",
    "# Encodes:\n",
    "# - web pages (HTML, JSON, Python source code)\n",
    "# - Python3 uses UTF-8 by default for string literals and file encoding"
   ]
  },
  {
   "cell_type": "code",
   "execution_count": null,
   "id": "a8d4c8fb-1e8d-41b0-a3e2-8e110f50996e",
   "metadata": {},
   "outputs": [],
   "source": [
    "# ASCII example\n",
    "print(ord('A'))       # 65\n",
    "print(chr(65))        # 'A'\n",
    "\n",
    "# Unicode character\n",
    "print(ord('é'))       # 233 (U+00E9)\n",
    "print(hex(ord('é')))  # '0xe9'\n",
    "\n",
    "# Emoji (beyond ASCII/Latin)\n",
    "print(ord('😊'))      # 128522 (U+1F60A)"
   ]
  },
  {
   "cell_type": "code",
   "execution_count": null,
   "id": "4ea6d799-e712-4159-8fd7-ba03d30f6220",
   "metadata": {},
   "outputs": [],
   "source": [
    "print('\\u00E9')       # 'é'\n",
    "print(chr(233))       # 'é'\n",
    "print('\\U0001F60A')   # '😊'"
   ]
  },
  {
   "cell_type": "code",
   "execution_count": null,
   "id": "6c720837-5bab-4821-b417-b0627f3ec71b",
   "metadata": {},
   "outputs": [],
   "source": [
    ""
   ]
  },
  {
   "cell_type": "code",
   "execution_count": null,
   "id": "431c1525-9d8b-41a5-8ae6-eba7e0e2cb87",
   "metadata": {},
   "outputs": [],
   "source": []
  },
  {
   "cell_type": "code",
   "execution_count": null,
   "id": "13a9c814-7e2c-4c69-aa36-e9daf18f1428",
   "metadata": {},
   "outputs": [],
   "source": []
  },
  {
   "cell_type": "code",
   "execution_count": null,
   "id": "2a63b5a5-58d3-4d4b-a3c7-a84a2b2180b7",
   "metadata": {},
   "outputs": [],
   "source": []
  },
  {
   "cell_type": "code",
   "execution_count": null,
   "id": "a9b7ef7c-b95c-44d5-850f-5eac7899c3a6",
   "metadata": {},
   "outputs": [],
   "source": []
  },
  {
   "cell_type": "code",
   "execution_count": null,
   "id": "3f107578-6a6b-40f1-bfde-c2cd948876ca",
   "metadata": {},
   "outputs": [],
   "source": []
  },
  {
   "cell_type": "code",
   "execution_count": null,
   "id": "b771e08f-0186-40ab-867a-e3086d42073d",
   "metadata": {},
   "outputs": [],
   "source": []
  },
  {
   "cell_type": "code",
   "execution_count": null,
   "id": "a7af70cc-9266-4fb3-969c-36c4a818cfd0",
   "metadata": {},
   "outputs": [],
   "source": []
  },
  {
   "cell_type": "code",
   "execution_count": null,
   "id": "75c96eef-e66b-4a8f-8248-36240a77b801",
   "metadata": {},
   "outputs": [],
   "source": []
  },
  {
   "cell_type": "code",
   "execution_count": null,
   "id": "092e9d63-ef39-4db7-9b75-eba231f0aeca",
   "metadata": {},
   "outputs": [],
   "source": []
  },
  {
   "cell_type": "code",
   "execution_count": null,
   "id": "224926cd-7cbe-4bbd-b97a-37d4a176e5d5",
   "metadata": {},
   "outputs": [],
   "source": []
  },
  {
   "cell_type": "code",
   "execution_count": null,
   "id": "6eeed8dc-0f0e-42e5-a64d-752e9cd38473",
   "metadata": {},
   "outputs": [],
   "source": []
  },
  {
   "cell_type": "code",
   "execution_count": null,
   "id": "f891f69e-5b69-4c86-824c-a2fa8b1da0f1",
   "metadata": {},
   "outputs": [],
   "source": []
  },
  {
   "cell_type": "code",
   "execution_count": null,
   "id": "4142b602-4928-4974-860d-5b689d2976a5",
   "metadata": {},
   "outputs": [],
   "source": []
  },
  {
   "cell_type": "code",
   "execution_count": null,
   "id": "2a77e033-8ff0-4630-8c7e-966665fe88f8",
   "metadata": {},
   "outputs": [],
   "source": []
  },
  {
   "cell_type": "code",
   "execution_count": null,
   "id": "09e192ac-9da9-4e02-8d55-9c00af580bbf",
   "metadata": {},
   "outputs": [],
   "source": []
  },
  {
   "cell_type": "code",
   "execution_count": null,
   "id": "0a6ce206-b634-4851-8a08-44699816e847",
   "metadata": {},
   "outputs": [],
   "source": []
  },
  {
   "cell_type": "code",
   "execution_count": null,
   "id": "1fa2fe58-45bf-401e-ae59-0dd10237b900",
   "metadata": {},
   "outputs": [],
   "source": []
  },
  {
   "cell_type": "code",
   "execution_count": null,
   "id": "61d8930f-d0df-45b9-829d-ab213e82a0fc",
   "metadata": {},
   "outputs": [],
   "source": []
  }
 ],
 "metadata": {
  "kernelspec": {
   "display_name": "Python 3.10.13 (venv_wsl)",
   "language": "python",
   "name": "venv_wsl"
  },
  "language_info": {
   "codemirror_mode": {
    "name": "ipython",
    "version": 3
   },
   "file_extension": ".py",
   "mimetype": "text/x-python",
   "name": "python",
   "nbconvert_exporter": "python",
   "pygments_lexer": "ipython3",
   "version": "3.10.13"
  }
 },
 "nbformat": 4,
 "nbformat_minor": 5
}
