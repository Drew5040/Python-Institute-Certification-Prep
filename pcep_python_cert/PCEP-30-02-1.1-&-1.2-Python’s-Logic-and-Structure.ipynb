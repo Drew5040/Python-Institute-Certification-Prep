{
 "cells": [
  {
   "cell_type": "markdown",
   "id": "abfe9174-d5ef-4ba3-949b-0c98eef10653",
   "metadata": {},
   "source": [
    "# PCEP-30-02 1.1 – Python’s Logic and Structure"
   ]
  },
  {
   "cell_type": "markdown",
   "id": "74569197-126e-4da5-9bac-9ca69fd4ca97",
   "metadata": {},
   "source": [
    "### Interpreting"
   ]
  },
  {
   "cell_type": "code",
   "execution_count": null,
   "id": "c3328230-1d27-44b2-bc1e-d6b6a9a2a42a",
   "metadata": {},
   "outputs": [],
   "source": [
    "# Python is an interpreted language, meaning that Python code is executed line-by-line by an interpreter instead of being compiled\n",
    "# into machine code before execution.\n",
    "\n",
    "# What is an Interpreter?\n",
    "# An interpreter is a program that:\n",
    "\n",
    "# - Reads source code line by line\n",
    "# - Converts it into bytecode instructions dynamically\n",
    "# - Executes the bytecode immediately"
   ]
  },
  {
   "cell_type": "code",
   "execution_count": null,
   "id": "ae81fb0b-13cc-4d41-98f0-cccde8b4ba42",
   "metadata": {},
   "outputs": [],
   "source": [
    "## Interpreted Languages ##\n",
    "# - Python\n",
    "# - JavaScript\n",
    "# - Ruby\n",
    "# - PHP"
   ]
  },
  {
   "cell_type": "code",
   "execution_count": 24,
   "id": "aa2b1f4f-8a21-44cd-80cf-7fc87d6512cc",
   "metadata": {},
   "outputs": [
    {
     "name": "stdout",
     "output_type": "stream",
     "text": [
      "Hello World\n"
     ]
    }
   ],
   "source": [
    "# The Python interpreter reads the print() statement.\n",
    "# It executes the line immediately without requiring compilation.\n",
    "\n",
    "print(\"Hello World\")"
   ]
  },
  {
   "cell_type": "markdown",
   "id": "ec32e311-557b-433b-8b7a-67643f108202",
   "metadata": {},
   "source": [
    "### Compilation"
   ]
  },
  {
   "cell_type": "code",
   "execution_count": null,
   "id": "e57eb510-2b0b-4bcf-b74e-b1ce5feb1a1b",
   "metadata": {},
   "outputs": [],
   "source": [
    "# A compiler is a program that:\n",
    "# - Translates entire source code into machine code before execution\n",
    "# - Generates an executable file (.exe, .out, etc.)\n",
    "# - Executes the compiled machine code directly on the CPU\n",
    "\n",
    "# Examples of Compiled Languages:\n",
    "# - C, C++\n",
    "# - Rust\n",
    "# - Go\n",
    "# - Java (partially compiled into bytecode for the JVM)"
   ]
  },
  {
   "cell_type": "code",
   "execution_count": null,
   "id": "7ab78186-9da1-4aa5-8d37-57b2f721e9b3",
   "metadata": {},
   "outputs": [],
   "source": [
    "# This code must be compiled first using gcc (GNU Compiler) or clang.\n",
    "# After compilation, it generates a machine code file (a.out).\n",
    "# Running ./a.out executes the program.\n",
    "\n",
    "\\#include <stdio.h>\n",
    "\n",
    "int main() {\n",
    "    printf(\"Hello, World!\\n\");\n",
    "    return 0;\n",
    "}"
   ]
  },
  {
   "cell_type": "code",
   "execution_count": null,
   "id": "15e64a9a-bfbd-498b-87d2-9a0a30357d43",
   "metadata": {},
   "outputs": [],
   "source": [
    "# Key Differences: Interpreter vs. Compiler\n",
    "\n",
    "#        \t             Interpreter (Python)\t                                    Compiler (C, C++)\n",
    "# Execution\t                Line by line\t                                      Whole program at once\n",
    "# Speed\t               Slower (interpreted live)\t                               Faster (precompiled)\n",
    "# Errors\t           Stops at the first error\t                            Detects all errors before execution\n",
    "# Debugging\t      Easier (since code runs line-by-line)                    Harder (entire code must be compiled first)\n",
    "# Portability\tPortable across OS (since it’s not compiled)\t            Must be recompiled for different OS/CPU"
   ]
  },
  {
   "cell_type": "markdown",
   "id": "58cabd93-f73d-4395-b2c8-09cf023f7f6a",
   "metadata": {},
   "source": [
    "### Bytecode"
   ]
  },
  {
   "cell_type": "code",
   "execution_count": 25,
   "id": "2691505d-4b4f-4be8-829e-88a852b15e7d",
   "metadata": {},
   "outputs": [
    {
     "name": "stdout",
     "output_type": "stream",
     "text": [
      "  6           0 LOAD_GLOBAL              0 (print)\n",
      "              2 LOAD_CONST               1 ('Hello, Python!')\n",
      "              4 CALL_FUNCTION            1\n",
      "              6 POP_TOP\n",
      "              8 LOAD_CONST               0 (None)\n",
      "             10 RETURN_VALUE\n"
     ]
    }
   ],
   "source": [
    "# Bytecode is a low-level, platform-independent representation of Python code that the Python Virtual Machine (PVM) executes.\n",
    "\n",
    "import dis\n",
    "\n",
    "def hello():\n",
    "    print(\"Hello, Python!\")\n",
    "\n",
    "dis.dis(hello)  # Shows bytecode instructions. They are stored in a .pyc file withing the __pycache__ directory\n"
   ]
  },
  {
   "cell_type": "markdown",
   "id": "e462df8a-d948-4e18-9530-68be99106370",
   "metadata": {},
   "source": [
    "### Lexis"
   ]
  },
  {
   "cell_type": "code",
   "execution_count": null,
   "id": "533728a2-be5b-48a3-b1b1-df4a08872c92",
   "metadata": {},
   "outputs": [],
   "source": [
    "# What is Lexis? (Lexical Analysis)\n",
    "# Lexis refers to how Python reads the text of your code before execution.\n",
    "# The Python Lexer (Tokenizer) converts source code into tokens.\n",
    "\n",
    "# Lexical Errors (Tokenization Issues):\n",
    "# - Occur when a symbol or sequence is used in a way that Python’s lexer does not expect.\n",
    "# - Even though the symbol exists in Python, it is not valid in that position.\n",
    "# - Happens at the first stage of code analysis (tokenization)."
   ]
  },
  {
   "cell_type": "code",
   "execution_count": null,
   "id": "9b4cb8b9-de3f-4f06-b9f1-ff48bd16485f",
   "metadata": {},
   "outputs": [],
   "source": [
    "x = 10\n",
    "y = x + 5\n",
    "\n",
    "# TOKEN: NAME (x)      <-- where 'name' error comes from\n",
    "# TOKEN: EQUAL (=)\n",
    "# TOKEN: NUMBER (10)\n",
    "# TOKEN: NEWLINE\n",
    "# TOKEN: NAME (y)\n",
    "# TOKEN: EQUAL (=)\n",
    "# TOKEN: NAME (x)\n",
    "# TOKEN: PLUS (+)\n",
    "# TOKEN: NUMBER (5)\n",
    "# TOKEN: NEWLINE\n"
   ]
  },
  {
   "cell_type": "code",
   "execution_count": 26,
   "id": "90dd01bd-c0d6-4a11-8f4d-434fb6441027",
   "metadata": {},
   "outputs": [
    {
     "ename": "SyntaxError",
     "evalue": "invalid syntax (2016297958.py, line 1)",
     "output_type": "error",
     "traceback": [
      "\u001b[0;36m  Cell \u001b[0;32mIn[26], line 1\u001b[0;36m\u001b[0m\n\u001b[0;31m    num = $100  # Invalid character '$'\u001b[0m\n\u001b[0m          ^\u001b[0m\n\u001b[0;31mSyntaxError\u001b[0m\u001b[0;31m:\u001b[0m invalid syntax\n"
     ]
    }
   ],
   "source": [
    "num = $100  # Invalid character '$'\n",
    "print(num)\n"
   ]
  },
  {
   "cell_type": "markdown",
   "id": "33f9b185-1c59-4839-aa22-41d214588eba",
   "metadata": {},
   "source": [
    "### Syntax"
   ]
  },
  {
   "cell_type": "code",
   "execution_count": null,
   "id": "61e42db8-c6ad-43a1-b87b-a58f78eb8f25",
   "metadata": {},
   "outputs": [],
   "source": [
    "# Syntax errors occur at compile-time before execution.\n",
    "\n",
    "if x > 5:\n",
    "    print(\"Valid syntax\")\n",
    "\n",
    "if x > 5\n",
    "    print(\"Missing colon\")  # <-- SyntaxError: invalid syntax"
   ]
  },
  {
   "cell_type": "markdown",
   "id": "46c6c30f-5ab6-4995-8ccc-bba7f5ba4319",
   "metadata": {},
   "source": [
    "### Semantics"
   ]
  },
  {
   "cell_type": "code",
   "execution_count": null,
   "id": "950233e9-9c50-469f-b2de-f7bf75603ed7",
   "metadata": {},
   "outputs": [],
   "source": [
    "# What is Semantics?\n",
    "# Semantics refer to the meaning of the code.\n",
    "# Code with correct syntax can still have semantic errors (logic mistakes).\n",
    "# Semantic Errors are harder to detect because they don’t cause immediate syntax errors.\n",
    "\n",
    "age = \"twenty\"\n",
    "print(age + 5)  # <-- TypeError: can only concatenate str to str\n"
   ]
  },
  {
   "cell_type": "markdown",
   "id": "1409e88e-6b07-4bcb-bbd6-18465326dd7b",
   "metadata": {},
   "source": [
    "### Python: Execution Flow"
   ]
  },
  {
   "cell_type": "code",
   "execution_count": null,
   "id": "f19d14c6-cfb6-4e24-af35-11809a82ddf8",
   "metadata": {},
   "outputs": [],
   "source": [
    "# Python code execution follows these steps:\n",
    "\n",
    "# - 1. Lexical Analysis (Tokenization):\n",
    "#     - Python reads the code and breaks it into tokens.\n",
    "#     - Errors here: Invalid characters, undefined tokens.\n",
    "# - 2. Parsing (Syntax Analysis):\n",
    "#     - Python checks the syntax rules.\n",
    "#     - If incorrect, it raises a SyntaxError before reaching bytecode.\n",
    "# - 3. Bytecode Compilation:\n",
    "#     - If the syntax is correct, Python converts the source code into bytecode (.pyc).\n",
    "#     - This step will not happen if there’s a syntax error.\n",
    "# - 4. Execution by the Python Virtual Machine (PVM):\n",
    "#     - The PVM runs the bytecode.\n",
    "#     - Runtime errors (e.g., ZeroDivisionError, TypeError) occur at this stage."
   ]
  },
  {
   "cell_type": "code",
   "execution_count": null,
   "id": "125fed02-e329-485f-a599-84c8ae84b764",
   "metadata": {},
   "outputs": [],
   "source": [
    "# Lexical Analysis (tokenization) --> Parsing (syntax analysis) --> Bytecode Compilation --> Execution (by PVM)\n",
    "\n",
    "#                                                  \tWhat Happens?\t                                  Errors Caught?\n",
    "# 1. Lexical Analysis (Tokenization)\t        Converts code into tokens\t                Lexical Errors (Invalid Characters)\n",
    "# 2. Parsing (Syntax Analysis)\t      Checks if tokens follow correct Python grammar\t       Syntax Errors (Bad Structure)\n",
    "# 3. Bytecode Compilation\t              Converts valid syntax into bytecode (.pyc)\t  No Errors (Only valid code reaches this step)\n",
    "# 4. Execution (PVM Runs Bytecode)\t        Runs bytecode using Python Virtual Machine\t   Runtime Errors (TypeError, NameError, etc.)"
   ]
  },
  {
   "cell_type": "code",
   "execution_count": null,
   "id": "6ead3589-ccb8-44f4-bef8-d95ca0458bdc",
   "metadata": {},
   "outputs": [],
   "source": [
    "# Key Takeaways for PCEP Exam\n",
    "# - Python is an interpreted language (executed line-by-line).\n",
    "# - Interpreters execute code immediately, while compilers generate an executable file first.\n",
    "# - Python still compiles to bytecode before execution.\n",
    "# - Lexis, Syntax, and Semantics define how Python processes code:\n",
    "\n",
    "#             Lexis → Tokenization\n",
    "#           Syntax → Code structure\n",
    "#            Semantics → Code meaning\n"
   ]
  },
  {
   "cell_type": "markdown",
   "id": "66229eba-25de-45b8-9961-a34586554590",
   "metadata": {},
   "source": [
    "# PCEP-30-02 1.2 – Python’s Logic and Structure"
   ]
  },
  {
   "cell_type": "code",
   "execution_count": null,
   "id": "1be79fbf-1c8c-4b7f-a457-9a935e50f745",
   "metadata": {},
   "outputs": [],
   "source": [
    "# Control Flow\tData Types\tExceptions\tOthers\n",
    "#      if\t      True\t       try\t     def       raise\n",
    "#     else\t     False\t      except\tclass      async\n",
    "#     elif\t      None\t     finally\timport     await\n",
    "#     for\t      and\t      raise\t      as       \n",
    "#    while\t      or\t     assert\t     with      \n",
    "#    break\t      not\t      pass\t    lambda\n",
    "#   continue\t  is\t      del\t    yield\n",
    "#    return\t      in\t     global\t   nonlocal = 35 keywords"
   ]
  },
  {
   "cell_type": "code",
   "execution_count": 1,
   "id": "3b092531-275e-487c-aef1-27d14293c9c0",
   "metadata": {},
   "outputs": [
    {
     "name": "stdout",
     "output_type": "stream",
     "text": [
      "\n",
      "Here is a list of the Python keywords.  Enter any keyword to get more help.\n",
      "\n",
      "False               class               from                or\n",
      "None                continue            global              pass\n",
      "True                def                 if                  raise\n",
      "and                 del                 import              return\n",
      "as                  elif                in                  try\n",
      "assert              else                is                  while\n",
      "async               except              lambda              with\n",
      "await               finally             nonlocal            yield\n",
      "break               for                 not                 \n",
      "\n"
     ]
    }
   ],
   "source": [
    "help(\"keywords\")"
   ]
  },
  {
   "cell_type": "code",
   "execution_count": 4,
   "id": "0690d80b-9a51-4755-9fe5-eea05bebcd3b",
   "metadata": {},
   "outputs": [
    {
     "name": "stdout",
     "output_type": "stream",
     "text": [
      "0\n",
      "1\n",
      "2\n"
     ]
    }
   ],
   "source": [
    "for i in range(3):\n",
    "    print(i)  # No indentation (error)\n"
   ]
  },
  {
   "cell_type": "code",
   "execution_count": 5,
   "id": "72cc4566-24eb-43e0-9e58-078d0293b787",
   "metadata": {},
   "outputs": [
    {
     "name": "stdout",
     "output_type": "stream",
     "text": [
      "35\n",
      "['False', 'None', 'True', 'and', 'as', 'assert', 'async', 'await', 'break', 'class', 'continue', 'def', 'del', 'elif', 'else', 'except', 'finally', 'for', 'from', 'global', 'if', 'import', 'in', 'is', 'lambda', 'nonlocal', 'not', 'or', 'pass', 'raise', 'return', 'try', 'while', 'with', 'yield']\n"
     ]
    }
   ],
   "source": [
    "import keyword\n",
    "print(len(keyword.kwlist))  # Output: 36\n",
    "print(keyword.kwlist)  # Prints all 36 keywords\n"
   ]
  },
  {
   "cell_type": "code",
   "execution_count": 11,
   "id": "5cc7d503-f16a-4896-b02f-c9a8bc139285",
   "metadata": {},
   "outputs": [
    {
     "name": "stdout",
     "output_type": "stream",
     "text": [
      "[1, 2, 3]\n"
     ]
    }
   ],
   "source": [
    "list = [1, 2, 3]  # Overrides the built-in `list` type\n",
    "print(list)  # Works, but now `list()` is unusable!"
   ]
  },
  {
   "cell_type": "code",
   "execution_count": 14,
   "id": "9e230e3f-875a-4efd-80de-85872a65eb46",
   "metadata": {},
   "outputs": [
    {
     "name": "stdout",
     "output_type": "stream",
     "text": [
      "15\n"
     ]
    }
   ],
   "source": [
    "x = 5; y = 10; print(x + y)\n"
   ]
  },
  {
   "cell_type": "code",
   "execution_count": 15,
   "id": "bfc690ff-d7a2-4f2e-a656-809f38c9d466",
   "metadata": {},
   "outputs": [
    {
     "name": "stdout",
     "output_type": "stream",
     "text": [
      "Yes\n",
      "No\n"
     ]
    }
   ],
   "source": [
    "if True: print(\"Yes\"); print(\"No\")  # Confusing!"
   ]
  },
  {
   "cell_type": "code",
   "execution_count": 17,
   "id": "4e49fce7-9371-478d-bcd9-cf883570142d",
   "metadata": {},
   "outputs": [],
   "source": [
    "def bad_indentation():\n",
    "    print(\"First line\")   # 1 tab\n",
    "    print(\"Second line\")  # 1 tab = ok\n"
   ]
  },
  {
   "cell_type": "code",
   "execution_count": 18,
   "id": "f17baaf2-53a4-48dd-a7f1-713d76e90606",
   "metadata": {},
   "outputs": [],
   "source": [
    "def bad_indentation():\n",
    "    print(\"First line\")   # 4 spaces\n",
    "    print(\"Second line\")  # 4 spaces = ok"
   ]
  },
  {
   "cell_type": "code",
   "execution_count": 19,
   "id": "cc320924-3425-42a3-ae18-e9fd6ead2286",
   "metadata": {},
   "outputs": [],
   "source": [
    "def bad_indentation():\n",
    "    print(\"First line\")   # 4 spaces\n",
    "    print(\"Second line\")  # 1 tab  = (IndentationError)\n"
   ]
  },
  {
   "cell_type": "code",
   "execution_count": 22,
   "id": "b1f6be14-0da5-4c10-a6cf-8938c93e63aa",
   "metadata": {},
   "outputs": [
    {
     "name": "stdout",
     "output_type": "stream",
     "text": [
      "Hello\n"
     ]
    }
   ],
   "source": [
    "\"\"\"\n",
    "This looks like a comment\n",
    "but is actually a string!\n",
    "\"\"\"\n",
    "print(\"Hello\")\n"
   ]
  },
  {
   "cell_type": "code",
   "execution_count": 23,
   "id": "c380acd7-e203-4e40-a544-6aa0ead4ed9f",
   "metadata": {},
   "outputs": [],
   "source": [
    "x = 0\n",
    "if x:\n",
    "    print(\"hello\")"
   ]
  },
  {
   "cell_type": "code",
   "execution_count": null,
   "id": "0e0f5ac7-7b04-4cc6-836f-2c9c742604e9",
   "metadata": {},
   "outputs": [],
   "source": []
  },
  {
   "cell_type": "code",
   "execution_count": null,
   "id": "f676be44-4698-4ef1-b392-c1ed6b980d4a",
   "metadata": {},
   "outputs": [],
   "source": []
  },
  {
   "cell_type": "code",
   "execution_count": null,
   "id": "54f6a35d-345d-40b0-89a2-135275973596",
   "metadata": {},
   "outputs": [],
   "source": []
  }
 ],
 "metadata": {
  "kernelspec": {
   "display_name": "Python 3 (ipykernel)",
   "language": "python",
   "name": "python3"
  },
  "language_info": {
   "codemirror_mode": {
    "name": "ipython",
    "version": 3
   },
   "file_extension": ".py",
   "mimetype": "text/x-python",
   "name": "python",
   "nbconvert_exporter": "python",
   "pygments_lexer": "ipython3",
   "version": "3.10.13"
  }
 },
 "nbformat": 4,
 "nbformat_minor": 5
}
