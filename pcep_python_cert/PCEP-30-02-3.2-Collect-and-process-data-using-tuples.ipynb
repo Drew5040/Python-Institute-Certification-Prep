{
 "cells": [
  {
   "cell_type": "markdown",
   "id": "85305691-cabc-4049-9166-cfb6b5b29632",
   "metadata": {},
   "source": [
    "# PCEP-30-02 3.2 – Collect and process data using tuples"
   ]
  },
  {
   "cell_type": "code",
   "execution_count": null,
   "id": "39505ad5-0be9-40ca-93ff-fbdefe168d15",
   "metadata": {},
   "outputs": [],
   "source": [
    "# Tuples are created using parentheses () and can hold elements of different types:\n",
    "\n",
    "# Empty tuple\n",
    "empty_tuple = ()\n",
    "\n",
    "# Tuple with elements\n",
    "my_tuple = (1, 2, 3, 4, 5)\n",
    "\n",
    "# Tuple with mixed data types\n",
    "mixed_tuple = (10, \"Python\", 3.14, True)\n",
    "\n",
    "# Tuple with a single element (must include a comma)\n",
    "single_element_tuple = (5,)  # Without the comma, it would just be an integer"
   ]
  },
  {
   "cell_type": "markdown",
   "id": "737402eb-c445-4649-8d05-dfc1648599b8",
   "metadata": {},
   "source": [
    "### Tuples: Indexing & Slicing"
   ]
  },
  {
   "cell_type": "code",
   "execution_count": null,
   "id": "e1bdc6b0-508e-4359-a1d3-3026c31094a2",
   "metadata": {},
   "outputs": [],
   "source": [
    "# Tuple indexing works the same way as in lists\n",
    "\n",
    "my_tuple = (10, 20, 30, 40, 50, 60)\n",
    "\n",
    "# Access\n",
    "my_tuple[-1]"
   ]
  },
  {
   "cell_type": "code",
   "execution_count": null,
   "id": "a7650a47-bb31-48ad-bdf6-8041926ffd3e",
   "metadata": {},
   "outputs": [],
   "source": [
    "# Tuple slicing works the same way as in lists\n",
    "\n",
    "print(my_tuple[1:4])   # (20, 30, 40)\n",
    "print(my_tuple[:3])    # (10, 20, 30)\n",
    "print(my_tuple[::2])   # (10, 30, 50)"
   ]
  },
  {
   "cell_type": "code",
   "execution_count": null,
   "id": "6e673a54-337d-49a6-ab2a-980c6fff418b",
   "metadata": {},
   "outputs": [],
   "source": [
    "# Tuples are Immutable\n",
    "\n",
    "my_tuple[0] = 100         # <-- raises TypeError"
   ]
  },
  {
   "cell_type": "code",
   "execution_count": null,
   "id": "a515420a-cc40-40d2-9a7e-1690d92de485",
   "metadata": {},
   "outputs": [],
   "source": [
    "t = 1, 2, 3\n",
    "type(t)"
   ]
  },
  {
   "cell_type": "code",
   "execution_count": null,
   "id": "5514c166-6413-49db-90a9-54e3b6e65c96",
   "metadata": {},
   "outputs": [],
   "source": [
    "t = (1)\n",
    "u = (1,)\n",
    "print(type(t))\n",
    "print(type(u))"
   ]
  },
  {
   "cell_type": "markdown",
   "id": "d99900f4-41c2-4c50-9309-5add5ad3f697",
   "metadata": {},
   "source": [
    "### Tuple: Operations"
   ]
  },
  {
   "cell_type": "code",
   "execution_count": null,
   "id": "7178969a-6242-4208-8aac-a40dd177fb26",
   "metadata": {},
   "outputs": [],
   "source": [
    "t = (1, 2, 3)\n",
    "t += (4,)\n",
    "print(t)\n"
   ]
  },
  {
   "cell_type": "code",
   "execution_count": null,
   "id": "0aadbffc-edbb-4abb-ba85-0ad42394b102",
   "metadata": {},
   "outputs": [],
   "source": [
    "# Which operations are valid??\n",
    "\n",
    "t = (1, 2, [1, 2, 3])\n",
    "t.append(4)\n",
    "t[0] = 3\n",
    "t = t + (3,)\n",
    "t = t[1].append(3)"
   ]
  },
  {
   "cell_type": "code",
   "execution_count": null,
   "id": "755884ed-c487-471c-9883-69b547f5a36d",
   "metadata": {},
   "outputs": [],
   "source": [
    "3 + (1, 2, 3)                           # <-- TypeError: 3 needs to be a tuple: (3,)"
   ]
  },
  {
   "cell_type": "code",
   "execution_count": 92,
   "id": "24831b53-bbc0-4ba0-a774-b56e17141454",
   "metadata": {},
   "outputs": [
    {
     "data": {
      "text/plain": [
       "(3, 1, 2, 3)"
      ]
     },
     "execution_count": 92,
     "metadata": {},
     "output_type": "execute_result"
    }
   ],
   "source": [
    "(3,) + (1, 2, 3)                        # <-- works now"
   ]
  },
  {
   "cell_type": "code",
   "execution_count": null,
   "id": "2fd3ed46-ba57-4984-8b9e-2781d790082a",
   "metadata": {},
   "outputs": [],
   "source": [
    "d = {([1, 2], \"X\"): \"Invalid\"}  # TypeError: unhashable type: 'list'. Having non-hashable (immutable) elements in the tuple\n",
    "                                #            prevents tuples from being used as dictionary keys              "
   ]
  },
  {
   "cell_type": "markdown",
   "id": "209234ec-868b-4e66-b44a-62f5bae67547",
   "metadata": {},
   "source": [
    "#### NOTE**"
   ]
  },
  {
   "cell_type": "code",
   "execution_count": null,
   "id": "d2c4d8d6-632d-4d84-9d38-b3d495bb4499",
   "metadata": {},
   "outputs": [],
   "source": [
    "t = (1, 2, [3, 4])  \n",
    "\n",
    "u = t[2] + [5]                   # <-- we can index into an mutable element inside the tuple, perform addition and return the mutable element\n",
    "u"
   ]
  },
  {
   "cell_type": "code",
   "execution_count": null,
   "id": "3a64ab3d-cdce-4597-96b3-9f25d1743f16",
   "metadata": {},
   "outputs": [],
   "source": [
    "t = (1, 2, [3, 4])\n",
    "\n",
    "t[2] += [5]                      # <-- Using the '+=' operator will throw a TypeError\n"
   ]
  },
  {
   "cell_type": "code",
   "execution_count": null,
   "id": "68c9c112-a258-48aa-9ac9-18f0538f4892",
   "metadata": {},
   "outputs": [],
   "source": [
    "t                                # <-- even though t[2] += [5] threw a TypeError, the list gets modified before the error"
   ]
  },
  {
   "cell_type": "code",
   "execution_count": null,
   "id": "a25ce19d-4b07-4994-90be-05ffaa1dd412",
   "metadata": {},
   "outputs": [],
   "source": [
    "t = (1, 2, [3, 4])\n",
    "\n",
    "t[2] = t[2] + [5]                # <-- if we try to explicitly perform the addition (without '+=' operator) a TypeError is raised again"
   ]
  },
  {
   "cell_type": "code",
   "execution_count": null,
   "id": "1a8166f9-a242-44dc-81cd-aa8c68d5417c",
   "metadata": {},
   "outputs": [],
   "source": [
    "t                                # <-- but this time, the list does not get modified prior to the error"
   ]
  },
  {
   "cell_type": "code",
   "execution_count": null,
   "id": "280c5793-8d52-4341-96ef-d5969d5d33c9",
   "metadata": {},
   "outputs": [],
   "source": [
    "# Reasons\n",
    "\n",
    "# - '+=' gets processed in two steps:\n",
    "\n",
    "# - 1. '+=' modifies the mutable element in the tuple in place before the error ('+=' == .extend([5]))\n",
    "# - 2. python then tries to assign the modified list to the tuple, at the tuple level, which causes the TypeError due to tuples being immutable\n",
    "\n",
    "\n",
    "# - 'item assignment' (t[2] = t[2] + [5]) gets processed in two steps too:\n",
    "\n",
    "# - 1. the operation gets read from right-to-left, and creates a brand new list\n",
    "# - 2. python then tries to assign the new list to the tuple but fails"
   ]
  },
  {
   "cell_type": "code",
   "execution_count": null,
   "id": "662da0e1-1dfb-4fc7-9a66-a40c731b8fac",
   "metadata": {},
   "outputs": [],
   "source": [
    "# The extend method modifies a list in place and is equivalent to '+='\n",
    "\n",
    "lst = [1, 2, 3]\n",
    "print(id(lst))                                    # <-- id: 140249923650624\n",
    "lst.extend([4, 5])\n",
    "print(id(lst))                                    # <-- id: 140249923650624                       \n",
    "print(lst)                                        # <-- [1, 2, 3, 4, 5]"
   ]
  },
  {
   "cell_type": "code",
   "execution_count": null,
   "id": "c3bc7f15-beb7-409d-a651-21761915faf4",
   "metadata": {},
   "outputs": [],
   "source": [
    "# The + operator creates a new list entirely\n",
    "\n",
    "lst1 = [1, 2, 3]\n",
    "lst2 = [4, 5]\n",
    "\n",
    "print(id(lst1))                                    # <-- id: 139737393756224\n",
    "print(id(lst2))                                    # <-- id: 139737393751552\n",
    "lst1 += lst2                                 \n",
    "print(id(lst1))                                    # <-- id: 139737393756224\n",
    "print(id(lst2))                                    # <-- id: 139737393751552\n",
    "print(lst1)  "
   ]
  },
  {
   "cell_type": "markdown",
   "id": "b9c7b8ea-1059-48ab-97f5-6c96d8541987",
   "metadata": {},
   "source": [
    "### Tuple: Methods"
   ]
  },
  {
   "cell_type": "code",
   "execution_count": null,
   "id": "f9d3a8b1-68d7-4c47-a424-39e843b3f29a",
   "metadata": {},
   "outputs": [],
   "source": [
    "# There are only two tuple methods. This is a result of their immutability\n",
    "t = 1, 2, 3, 4, 5, 6, 7, 3, 3, 3\n",
    "print(t.count(3))                             # <-- both can be assigned a variable if needed      \n",
    "print(t.index(3))                             # <-- returns the index of the first occurence"
   ]
  },
  {
   "cell_type": "markdown",
   "id": "fda498b7-f78f-4dfc-b3cb-e60aad9613ce",
   "metadata": {},
   "source": [
    "### Tuple: Unpacking"
   ]
  },
  {
   "cell_type": "code",
   "execution_count": null,
   "id": "fa53492e-93bd-4976-beb7-34cd279b2582",
   "metadata": {},
   "outputs": [],
   "source": [
    "t = (10, 20, 30)\n",
    "a, b, c = t\n",
    "print(a, b, c)  # 10 20 30"
   ]
  },
  {
   "cell_type": "code",
   "execution_count": null,
   "id": "421bd88c-018c-4e4e-bf36-ee0499a0c336",
   "metadata": {},
   "outputs": [],
   "source": [
    "def unpack(a, b, c):\n",
    "    return a + b + c\n",
    "\n",
    "t = 1, 2, 3\n",
    "unpack(*t)"
   ]
  },
  {
   "cell_type": "code",
   "execution_count": null,
   "id": "1b1d9550-a6f6-4145-a9a5-7568f48527fe",
   "metadata": {},
   "outputs": [],
   "source": [
    "# The number of variables must match for tuple packing & unpacking or else a ValueError occurs\n",
    "\n",
    "a, b = (1, 2, 3)                             # <-- ValueError: too many values to unpack"
   ]
  },
  {
   "cell_type": "code",
   "execution_count": 1,
   "id": "7e553775-1ca1-4647-9f77-61078eff8268",
   "metadata": {},
   "outputs": [
    {
     "name": "stdout",
     "output_type": "stream",
     "text": [
      "1\n",
      "[2, 3]\n"
     ]
    }
   ],
   "source": [
    "# We can fix this by using 'extended unpacking'\n",
    "\n",
    "a, *b = (1, 2, 3)\n",
    "\n",
    "print(a)\n",
    "print(b)"
   ]
  },
  {
   "cell_type": "code",
   "execution_count": 2,
   "id": "85ab8c3e-26cb-4fb0-937f-3ac276d20490",
   "metadata": {},
   "outputs": [
    {
     "name": "stdout",
     "output_type": "stream",
     "text": [
      "1\n",
      "2\n",
      "[3]\n"
     ]
    }
   ],
   "source": [
    "a, b, *c = (1, 2, 3)\n",
    "\n",
    "print(a)\n",
    "print(b)\n",
    "print(c)"
   ]
  },
  {
   "cell_type": "markdown",
   "id": "6eee0f60-1f8b-476d-89e5-2f82d69a5e7e",
   "metadata": {},
   "source": [
    "### Tuples Inside Lists"
   ]
  },
  {
   "cell_type": "code",
   "execution_count": null,
   "id": "e2afbd3b-cbc8-4c20-879e-fd23e3c9c88d",
   "metadata": {},
   "outputs": [],
   "source": [
    "data = [(1, \"Alice\"), (2, \"Bob\"), (3, \"Charlie\")]\n",
    "print(data[1])  # (2, \"Bob\")\n",
    "print(data[1][1])  # \"Bob\"\n"
   ]
  },
  {
   "cell_type": "markdown",
   "id": "d41ac8e5-3cc4-4ba0-a4b7-51149e11065a",
   "metadata": {},
   "source": [
    "### Lists Inside Tuples"
   ]
  },
  {
   "cell_type": "code",
   "execution_count": null,
   "id": "2def823a-5c44-41af-8dc3-8f801d10b3ad",
   "metadata": {},
   "outputs": [],
   "source": [
    "tuple_with_list = (1, 2, [3, 4, 5])\n",
    "tuple_with_list[2].append(6)                                  # <-- Allowed\n",
    "print(tuple_with_list)                                        # <--  (1, 2, [3, 4, 5, 6])"
   ]
  },
  {
   "cell_type": "code",
   "execution_count": 3,
   "id": "6bacfc59-0f5a-434e-a12e-5d16f544e487",
   "metadata": {},
   "outputs": [
    {
     "name": "stdout",
     "output_type": "stream",
     "text": [
      "(102, 'Bob', 'bob@example.com')\n",
      "Bob\n"
     ]
    }
   ],
   "source": [
    "users = [\n",
    "    (101, \"Alice\", \"alice@example.com\"),\n",
    "    (102, \"Bob\", \"bob@example.com\"),\n",
    "    (103, \"Charlie\", \"charlie@example.com\")\n",
    "]\n",
    "\n",
    "# Accessing a tuple\n",
    "print(users[1])  # Output: (102, \"Bob\", \"bob@example.com\")\n",
    "\n",
    "# Accessing an element inside the tuple\n",
    "print(users[1][1])  # Output: \"Bob\"\n"
   ]
  },
  {
   "cell_type": "code",
   "execution_count": 4,
   "id": "c2eb6f68-fc6a-450d-b8e9-d479fe2bb069",
   "metadata": {},
   "outputs": [
    {
     "name": "stdout",
     "output_type": "stream",
     "text": [
      "[(101, 'Alice', 'alice@example.com'), (102, 'Bob', 'bob@example.com'), (103, 'Charlie', 'charlie@example.com'), (104, 'David', 'david@example.com')]\n",
      "[(101, 'Alice', 'alice@example.com'), (103, 'Charlie', 'charlie@example.com'), (104, 'David', 'david@example.com')]\n"
     ]
    }
   ],
   "source": [
    "# Adding a new user (a new tuple)\n",
    "users.append((104, \"David\", \"david@example.com\"))\n",
    "print(users)\n",
    "\n",
    "# Removing a tuple from the list\n",
    "users.remove((102, \"Bob\", \"bob@example.com\"))\n",
    "print(users)\n"
   ]
  },
  {
   "cell_type": "markdown",
   "id": "653b7c0c-c6c7-4da2-9cd0-bfba3c448c77",
   "metadata": {},
   "source": [
    "### Sorting a List of Tuples: .sort()"
   ]
  },
  {
   "cell_type": "code",
   "execution_count": null,
   "id": "b1fb9a6a-312d-415f-857a-0f089718a3ff",
   "metadata": {},
   "outputs": [],
   "source": [
    "# Python sorts lexicographically with both .sort() and sorted()\n",
    "# Strings: compared alphabetically, then if one has more elements than the other\n",
    "# Lists: compared element-wise, then if one has more elements than the other\n",
    "# Tuples: compared element-wise, then if one has more elements than the other\n"
   ]
  },
  {
   "cell_type": "code",
   "execution_count": null,
   "id": "803f75d5-aabb-45b1-b6d0-4612514c585a",
   "metadata": {},
   "outputs": [],
   "source": [
    "# - .sort() is a stable sorting algorithm that uses 'Tim Sort' underneath\n",
    "# - This means that elements are left in the same relative order as before they were sorted\n",
    "\n",
    "# - Ex: stable: only elements that need to be moved are moved\n",
    "# - [(1, \"apple\"), (2, \"banana\"), (1, \"cherry\"), (2, \"date\")] <-- input\n",
    "# - [(1, \"apple\"), (1, \"cherry\"), (2, \"banana\"), (2, \"date\")] <-- output\n",
    "\n",
    "# - Ex: unstable: some elements that do not need to be moved might move\n",
    "# - [(1, \"apple\"), (1, \"cherry\"), (2, \"banana\"), (2, \"date\")] <-- input\n",
    "# - [(1, \"cherry\"), (1, \"apple\"), (2, \"banana\"), (2, \"date\")] <-- output\n"
   ]
  },
  {
   "cell_type": "code",
   "execution_count": null,
   "id": "ee7614cb-65c8-43f4-98d9-8c8dd8aaed36",
   "metadata": {},
   "outputs": [],
   "source": [
    "# Since Python compares lexicographically, and the first elements of the tuples are integers, .sort() works just fine\n",
    "data = [(3, [\"Charlie\"]), (1, [\"Alice\"]), (2, [\"Bob\"])]\n",
    "data.sort()                                                   # <-- .sort() only returns None, if assigned to variable will get None\n",
    "data"
   ]
  },
  {
   "cell_type": "code",
   "execution_count": 5,
   "id": "0a17ecf2-4295-4269-81b0-756199d652bb",
   "metadata": {},
   "outputs": [
    {
     "data": {
      "text/plain": [
       "[(1, ['Alice']), (1, ['Bob']), (1, ['Charlie'])]"
      ]
     },
     "execution_count": 5,
     "metadata": {},
     "output_type": "execute_result"
    }
   ],
   "source": [
    "# However, what if we take the integers out of the equation?? Sorting still works since Python can directly compare the types\n",
    "# within the lists (strings)\n",
    "data = [(1, [\"Charlie\"]), (1, [\"Alice\"]), (1, [\"Bob\"])]\n",
    "data.sort()\n",
    "data"
   ]
  },
  {
   "cell_type": "code",
   "execution_count": null,
   "id": "b95edfed-711e-48a4-bc4e-31e8a366ce00",
   "metadata": {},
   "outputs": [],
   "source": [
    "# What about when Python cannot directly compare the types inside the lists?? A type error will occur.\n",
    "# This is because strings and integers cannot be comapared with '<= > >= < == !='\n",
    "data = [(1, [\"Charlie\"]), (1, [1, 2]), (1, [\"Bob\"])]\n",
    "data.sort()\n",
    "data"
   ]
  },
  {
   "cell_type": "code",
   "execution_count": null,
   "id": "e58120d6-9e37-4cac-9b4b-d6e249e05f0f",
   "metadata": {},
   "outputs": [],
   "source": [
    "# The solution to this problem is using a sorting key to extract a comparable type\n",
    "data = [(1, [\"Charlie\"]), (1, [1, 2]), (1, [\"Bob\"])]\n",
    "\n",
    "data.sort(key=lambda x: x[0])                               # <-- remember we must use the keyword argument or will get type error (key=)\n",
    "print(data)                                                 # <-- is sorted by the first key only"
   ]
  },
  {
   "cell_type": "code",
   "execution_count": null,
   "id": "d7e8d30c-256a-4734-9465-df5a3506291a",
   "metadata": {},
   "outputs": [],
   "source": [
    "data = [(1, [(\"Charlie\")]), (1, [(\"Alice\")]), (1, [(\"Bob\")])]   # <-- remember, singleton tuples  must have a ,\n",
    "data.sort()  \n",
    "data"
   ]
  },
  {
   "cell_type": "code",
   "execution_count": null,
   "id": "604d04c9-e361-41c9-a9ed-43c25b34d747",
   "metadata": {},
   "outputs": [],
   "source": [
    "data = [(1, [(\"Charlie\",)]), (1, [(\"Alice\",)]), (1, [(\"Bob\",)])]   # <-- remember, singleton tuples  must have a ,\n",
    "data.sort()                                                        # <-- these sort just fine too\n",
    "data"
   ]
  },
  {
   "cell_type": "code",
   "execution_count": null,
   "id": "8f5a86b1-e1d7-4125-98ae-4d08a0ba9faa",
   "metadata": {},
   "outputs": [],
   "source": [
    "# Will this throw a TypeError? Why or why not?\n",
    "data = [(2, [[None], \"X\"]), (1, [[\"Alice\"], 42]), (3, [[\"Bob\"], 0])]\n",
    "data.sort()\n",
    "print(data)\n",
    "\n",
    "# A TypeError does not occur because Python can decide which elements are greater or less than before ever getting to the incomparable types\n",
    "# This is because there are three main tuples that contain integers as their first elements"
   ]
  },
  {
   "cell_type": "code",
   "execution_count": null,
   "id": "6e4d9051-dc1b-4725-9d8b-1e815c8a7e17",
   "metadata": {},
   "outputs": [],
   "source": [
    "data = [(1, \"Alice\"), (1, \"Bob\"), (1, [\"Charlie\"])]\n",
    "data.sort()                                          # <-- TypeError: \"Bob\" and [\"Charlie\"] cannot be compared"
   ]
  },
  {
   "cell_type": "code",
   "execution_count": null,
   "id": "86bad7fe-ae43-4c3a-b5d0-6a65e9a4bbea",
   "metadata": {},
   "outputs": [],
   "source": [
    "data = [(3, [\"Charlie\"]), (1, [\"Alice\"]), (2, [\"Bob\"])]\n",
    "data = data.sort()\n",
    "print(data)"
   ]
  },
  {
   "cell_type": "markdown",
   "id": "0d3c18e6-5d7c-43c6-9d48-b79a4873fe4c",
   "metadata": {},
   "source": [
    "### Tuple Sorting: sorted()"
   ]
  },
  {
   "cell_type": "code",
   "execution_count": 6,
   "id": "1a052fca-cc99-4c21-b0f6-eb981b9add95",
   "metadata": {},
   "outputs": [
    {
     "name": "stdout",
     "output_type": "stream",
     "text": [
      "[1, 2, 3]\n",
      "(1, 2, 3)\n"
     ]
    }
   ],
   "source": [
    "t = (3, 1, 2)\n",
    "\n",
    "sorted_t = sorted(t)  # <-- Returns a new list: [1, 2, 3], and not a sorted tuple!!\n",
    "print(sorted_t)\n",
    "\n",
    "# We can turn it back into a tuple tho\n",
    "t = tuple(sorted(t))\n",
    "print(t)"
   ]
  },
  {
   "cell_type": "code",
   "execution_count": null,
   "id": "3e163653-a520-4c04-8e53-54e1a0cf87b0",
   "metadata": {},
   "outputs": [],
   "source": [
    "# When sorting tuples the data types have to be comparable\n",
    "\n",
    "t = (1, \"apple\", 3, \"banana\")\n",
    "sorted(t)                         # <-- TypeError: '<' not supported between instances of 'str' and 'int'\n"
   ]
  },
  {
   "cell_type": "code",
   "execution_count": 89,
   "id": "14e72bd1-6992-4bb7-b4a1-e91d107a2d8c",
   "metadata": {},
   "outputs": [
    {
     "data": {
      "text/plain": [
       "[(1, [0, 1]), (1, [2, 3]), (1, [4, 5])]"
      ]
     },
     "execution_count": 89,
     "metadata": {},
     "output_type": "execute_result"
    }
   ],
   "source": [
    "t = ((1, [2, 3]), (1, [4, 5]), (1, [0, 1]))\n",
    "\n",
    "sorted(t)                         # <-- Works, because lists inside tuples are comparable\n"
   ]
  },
  {
   "cell_type": "code",
   "execution_count": 103,
   "id": "de9ea466-98e6-4e7a-a199-51d7e2e3dba8",
   "metadata": {},
   "outputs": [
    {
     "name": "stdout",
     "output_type": "stream",
     "text": [
      "[(1, ['X', 1]), (1, [2, 3]), (1, [None, 5])]\n"
     ]
    }
   ],
   "source": [
    "t = ((1, [2, 3]), (1, [None, 5]), (1, [\"X\", 1]))\n",
    "\n",
    "sorted_t = sorted(t, key=lambda x: (x[0], str(x[1])))  \n",
    "print(sorted_t)\n"
   ]
  },
  {
   "cell_type": "code",
   "execution_count": 127,
   "id": "04616423-f30f-427b-9d4f-90defe37fa2c",
   "metadata": {},
   "outputs": [
    {
     "name": "stdout",
     "output_type": "stream",
     "text": [
      "[(1, 'apple'), (2, 'banana'), (3, 'banana'), (1, 'cherry')]\n"
     ]
    }
   ],
   "source": [
    "# What is the output??\n",
    "t = ((3, \"banana\"), (1, \"apple\"), (2, \"banana\"), (1, \"cherry\"))\n",
    "print(sorted(t, key=lambda x: (x[1], x[0])))                     # <-- 'x' represents all elements in the tuple\n",
    "                                                                 # <-- the 'key' says to sort by strings in each element first & then integers\n",
    "                                                                 # <-- in other words, first sort by strings, and if there is a tie, sort by the int"
   ]
  },
  {
   "cell_type": "code",
   "execution_count": null,
   "id": "cfa9fde6-fcf1-45dd-90e9-4f4388f4d5fc",
   "metadata": {},
   "outputs": [],
   "source": [
    "# How to write this out on an exam (on paper)\n",
    "\n",
    "# 1. Figure out the sorting keys: x[1], x[0] (str, int), then reverse order of tuples if necessary\n",
    "#          (\"banana\", 3)\n",
    "#          (\"apple\", 1)\n",
    "#          (\"banana\" 2)\n",
    "#          (\"cherry\", 1)\n",
    "\n",
    "# 2. Sort by the primary key: x[1] (str), breaking ties with x[0] (int)\n",
    "#         (\"apple\", 1)\n",
    "#         (\"banana\", 2)\n",
    "#         (\"banana\", 3)\n",
    "#         (\"cherry\", 1)\n",
    "\n",
    "# 3. Reverse the order:\n",
    "#         (1, \"apple\")\n",
    "#         (2, \"banana\")\n",
    "#         (3, \"banana\")\n",
    "#         (1, \"cherry\")\n",
    "\n",
    "# 4. Write left-to-right going from top to bottom:\n",
    "#  [(1, \"apple\"), (2, \"banana\"), (3, \"banana\"), (1, \"cherry\")]"
   ]
  },
  {
   "cell_type": "code",
   "execution_count": 97,
   "id": "2c23b4fc-1417-4996-9dd7-282c043cf58c",
   "metadata": {},
   "outputs": [
    {
     "name": "stdout",
     "output_type": "stream",
     "text": [
      "True\n",
      "True\n",
      "True\n",
      "True\n",
      "True\n",
      "True\n"
     ]
    }
   ],
   "source": [
    "print((1, \"apple\") < (3, \"banana\"))                                     # <-- 1 < 3 : True : stop comparing\n",
    "print((1, \"apple\") < (2, \"banana\"))                                     # <-- 1 < 2 : True : stop comparing\n",
    "print((1, \"apple\") < (1, \"cherry\"))                                     # <-- 1 == 1 : len(\"apple\") < len(\"cherry\") True : stop comparing\n",
    "print((3, \"banana\") > (2, \"banana\"))                                    # <-- 3 > 2 : True : stop comparing\n",
    "print((3, \"banana\") > (1, \"cherry\"))                                    # <-- 3 > 1 : True : stop comparing\n",
    "print((1, \"apple\") < (1, \"cherry\") < (2, \"banana\") < (3, \"banana\"))     # <-- True not sorting by a key"
   ]
  },
  {
   "cell_type": "code",
   "execution_count": 128,
   "id": "e2c5c159-b0d1-4b05-97ee-aab8f70c2db2",
   "metadata": {},
   "outputs": [
    {
     "name": "stdout",
     "output_type": "stream",
     "text": [
      "True\n",
      "True\n",
      "True\n",
      "True\n",
      "True\n",
      "True\n"
     ]
    }
   ],
   "source": [
    "# How Python sorts internally with both .sort() & sorted()\n",
    "t = ((3, \"banana\"), (1, \"apple\"), (2, \"banana\"), (1, \"cherry\"))\n",
    "print(sorted(t, key=lambda x: (x[1], x[0]))) \n",
    "\n",
    "print((1, \"apple\")[1] < (3, \"banana\")[1])\n",
    "print((2, \"banana\")[0] < (3, \"banana\")[0])\n",
    "print((3, \"banana\")[1] < (1, \"cherry\")[1])\n",
    "print((1, \"apple\")[1] < (2, \"banana\")[1])\n",
    "print((1, \"apple\")[1] < (1, \"cherry\")[1])\n",
    "print((2, \"banana\")[1] < (1, \"cherry\")[1])"
   ]
  },
  {
   "cell_type": "markdown",
   "id": "bdcd18d3-cac8-4869-b672-0bd1ccb423c2",
   "metadata": {},
   "source": [
    "### Python Memory Management & Tuples"
   ]
  },
  {
   "cell_type": "code",
   "execution_count": null,
   "id": "1ef5cbeb-d3e3-44f0-b602-c82a95d66749",
   "metadata": {},
   "outputs": [],
   "source": [
    "# Reference counting is the core of Python's memory management\n",
    "# It keeps track of how many references exist for an object\n",
    "# When a reference count = 0, Python automatically deletes the object\n",
    "# This is why one doesn't have to automatically free memory like in 'C'"
   ]
  },
  {
   "cell_type": "code",
   "execution_count": 129,
   "id": "823735f6-3ae5-426a-b205-27ec4391a0f0",
   "metadata": {},
   "outputs": [
    {
     "name": "stdout",
     "output_type": "stream",
     "text": [
      "2\n",
      "3\n",
      "2\n"
     ]
    }
   ],
   "source": [
    "import sys\n",
    "\n",
    "x = [1, 2, 3]  # Create a list\n",
    "print(sys.getrefcount(x))                  # <-- 2 (one reference in `x`, one temporary reference for getrefcount)\n",
    "\n",
    "y = x  # Another reference\n",
    "print(sys.getrefcount(x))                  # <-- 3 (Now `y` and `x` both reference the list)\n",
    "\n",
    "del y  # Remove reference\n",
    "print(sys.getrefcount(x))                  # <-- 2 (Back to one variable holding it)\n"
   ]
  },
  {
   "cell_type": "markdown",
   "id": "ffd95a68-b81e-43c1-89b9-0c830f9449b3",
   "metadata": {},
   "source": [
    "#### Circular References"
   ]
  },
  {
   "cell_type": "code",
   "execution_count": 148,
   "id": "088a809c-fe4d-49d2-9c38-02d60e934a96",
   "metadata": {},
   "outputs": [
    {
     "name": "stdout",
     "output_type": "stream",
     "text": [
      "3\n"
     ]
    }
   ],
   "source": [
    "# Garbage collection is needed when reference counting fails. Python's garbage collector detects circular references\n",
    "# and cleans them up eventually. \n",
    "\n",
    "import sys\n",
    "\n",
    "class A:\n",
    "    def __init__(self):\n",
    "        self.ref = self  # 🚨 Circular reference!\n",
    "\n",
    "a = A()\n",
    "\n",
    "\n",
    "print(sys.getrefcount(a)) \n",
    "\n",
    "del a                                   # <-- Reference count never reaches 0 because `self.ref` points to itself!\n"
   ]
  },
  {
   "cell_type": "markdown",
   "id": "4307fef5-19d2-40c2-a85a-d5cf4bd89433",
   "metadata": {},
   "source": [
    "### Tuple -vs- List Memory Usage"
   ]
  },
  {
   "cell_type": "code",
   "execution_count": 176,
   "id": "502fe0e6-9779-4380-b6d4-e5a14e593fa9",
   "metadata": {},
   "outputs": [
    {
     "name": "stdout",
     "output_type": "stream",
     "text": [
      "64\n",
      "88\n",
      "216\n",
      "216\n",
      "232\n",
      "72\n"
     ]
    }
   ],
   "source": [
    "import sys\n",
    "import collections\n",
    "\n",
    "tpl = (1, 2, 3)\n",
    "lst = [1, 2, 3]\n",
    "seht = set({1, 2, 3})\n",
    "frozen_seht = frozenset({1, 2, 3})\n",
    "dic = {1: 1, 2: 2, 3: 3}\n",
    "d_dic = collections.defaultdict(int, {})\n",
    "\n",
    "\n",
    "print(sys.getsizeof(tpl))                        # <-- Larger (includes list overhead)\n",
    "print(sys.getsizeof(lst))                        # <-- Smaller (fixed size, immutable)\n",
    "print(sys.getsizeof(seht))\n",
    "print(sys.getsizeof(frozen_seht))\n",
    "print(sys.getsizeof(dic))\n",
    "print(sys.getsizeof(d_dic))"
   ]
  },
  {
   "cell_type": "code",
   "execution_count": 177,
   "id": "30764f83-d627-4161-b144-3f209be2fac7",
   "metadata": {},
   "outputs": [
    {
     "data": {
      "text/plain": [
       "0"
      ]
     },
     "execution_count": 177,
     "metadata": {},
     "output_type": "execute_result"
    }
   ],
   "source": [
    "d_dic[1]"
   ]
  },
  {
   "cell_type": "markdown",
   "id": "9891657a-c839-4882-9200-b6dcaa5e2c99",
   "metadata": {},
   "source": [
    "#### Tuple Caching (interning)"
   ]
  },
  {
   "cell_type": "code",
   "execution_count": 150,
   "id": "9f47f558-2f49-47c2-9e8c-e329a95b5f3f",
   "metadata": {},
   "outputs": [
    {
     "name": "stdout",
     "output_type": "stream",
     "text": [
      "False\n",
      "False\n"
     ]
    }
   ],
   "source": [
    "# Tuples are sometimes stored in the same memory location, while lists are always separate\n",
    "# Here: 'a' is 'b' is False, but sometimes true depending on the Python version\n",
    "\n",
    "a = (1, 2, 3)\n",
    "b = (1, 2, 3)\n",
    "print(a is b)  # <-- True somtimes (Same object due to interning), but here: False\n",
    "\n",
    "x = [1, 2, 3]\n",
    "y = [1, 2, 3]\n",
    "print(x is y)  # <-- False (Lists are separate objects)\n"
   ]
  },
  {
   "cell_type": "code",
   "execution_count": 153,
   "id": "ca319e05-9e06-4d7b-a889-099c346cd4da",
   "metadata": {},
   "outputs": [
    {
     "name": "stdout",
     "output_type": "stream",
     "text": [
      "True\n"
     ]
    }
   ],
   "source": [
    "# We can force tuple interning by nesting the tuples inside a function\n",
    "# Python interns inside the function for reuse optimization\n",
    "\n",
    "def test():\n",
    "    a = (1, 2, 3)\n",
    "    b = (1, 2, 3)\n",
    "    print(a is b)  # <-- More likely to be True in a function\n",
    "\n",
    "test()\n"
   ]
  },
  {
   "cell_type": "code",
   "execution_count": 151,
   "id": "e858086e-cf8c-494a-b6f4-920178221733",
   "metadata": {},
   "outputs": [
    {
     "name": "stdout",
     "output_type": "stream",
     "text": [
      "[1, 2, 3]\n",
      "(4, 5, 6)\n"
     ]
    }
   ],
   "source": [
    "a = [1, 2, 3]\n",
    "b = a\n",
    "del a\n",
    "print(b)  \n",
    "\n",
    "c = (4, 5, 6)\n",
    "d = c\n",
    "del c\n",
    "print(d)\n"
   ]
  },
  {
   "cell_type": "code",
   "execution_count": 152,
   "id": "20290387-dcb6-4cd5-bd6d-ccc1c82ee544",
   "metadata": {},
   "outputs": [
    {
     "name": "stdout",
     "output_type": "stream",
     "text": [
      "2\n"
     ]
    }
   ],
   "source": [
    "# There are two reference counts to 'z' in this\n",
    "import sys\n",
    "z = (10, 20, 30)\n",
    "print(sys.getrefcount(z))\n"
   ]
  },
  {
   "cell_type": "code",
   "execution_count": 179,
   "id": "dbf47781-d673-4f71-80e3-739971af748a",
   "metadata": {},
   "outputs": [
    {
     "name": "stdout",
     "output_type": "stream",
     "text": [
      "4\n",
      "3\n",
      "2\n"
     ]
    }
   ],
   "source": [
    "import sys\n",
    "\n",
    "x = [1, 2, 3]\n",
    "y = x\n",
    "z = y\n",
    "\n",
    "print(sys.getrefcount(x))  # (A) ?\n",
    "\n",
    "del y\n",
    "print(sys.getrefcount(x))  # (B) ?\n",
    "\n",
    "del z\n",
    "print(sys.getrefcount(x))  # (C) ?\n"
   ]
  },
  {
   "cell_type": "code",
   "execution_count": null,
   "id": "b605f3f3-3422-4648-af43-a6ad57bbc1d9",
   "metadata": {},
   "outputs": [],
   "source": []
  },
  {
   "cell_type": "code",
   "execution_count": null,
   "id": "30cefc1c-105e-4237-a088-8e9d33711d79",
   "metadata": {},
   "outputs": [],
   "source": []
  },
  {
   "cell_type": "code",
   "execution_count": null,
   "id": "bca1a9a8-4208-4703-8d1b-00b57ddd9bd2",
   "metadata": {},
   "outputs": [],
   "source": []
  },
  {
   "cell_type": "code",
   "execution_count": null,
   "id": "e1deb315-1358-4f84-8aef-71a6fded04e2",
   "metadata": {},
   "outputs": [],
   "source": []
  },
  {
   "cell_type": "code",
   "execution_count": null,
   "id": "46307fd6-f008-41ef-9114-0267cd1d45c8",
   "metadata": {},
   "outputs": [],
   "source": []
  },
  {
   "cell_type": "code",
   "execution_count": null,
   "id": "95fdd7b9-915d-4a5f-beba-af132221df84",
   "metadata": {},
   "outputs": [],
   "source": []
  },
  {
   "cell_type": "code",
   "execution_count": null,
   "id": "90f29591-077b-49b1-b0e5-071668c33c76",
   "metadata": {},
   "outputs": [],
   "source": []
  },
  {
   "cell_type": "code",
   "execution_count": null,
   "id": "de7cf66c-378b-4bc5-ac6b-bfde8ae2f368",
   "metadata": {},
   "outputs": [],
   "source": []
  },
  {
   "cell_type": "code",
   "execution_count": null,
   "id": "0e6cd8b2-7dbc-4c00-97af-b5ee33bc4226",
   "metadata": {},
   "outputs": [],
   "source": []
  },
  {
   "cell_type": "code",
   "execution_count": null,
   "id": "dd9217f0-401d-4db4-b45e-4ecf1d2a7bc7",
   "metadata": {},
   "outputs": [],
   "source": []
  }
 ],
 "metadata": {
  "kernelspec": {
   "display_name": "Python 3 (ipykernel)",
   "language": "python",
   "name": "python3"
  },
  "language_info": {
   "codemirror_mode": {
    "name": "ipython",
    "version": 3
   },
   "file_extension": ".py",
   "mimetype": "text/x-python",
   "name": "python",
   "nbconvert_exporter": "python",
   "pygments_lexer": "ipython3",
   "version": "3.10.13"
  }
 },
 "nbformat": 4,
 "nbformat_minor": 5
}
