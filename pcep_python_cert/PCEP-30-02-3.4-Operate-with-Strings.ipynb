{
 "cells": [
  {
   "cell_type": "markdown",
   "id": "9f711e64-b07a-443d-9b5b-8015e39fb2dc",
   "metadata": {},
   "source": [
    "# PCEP-30-02 3.4 Operate with Strings"
   ]
  },
  {
   "cell_type": "code",
   "execution_count": null,
   "id": "bdb1dbc9-1925-4621-953c-12d4fecde6e7",
   "metadata": {},
   "outputs": [],
   "source": [
    "# Strings are one of the most fundamental data types in Python. This section will cover:\n",
    "# - Constructing strings\n",
    "# - Indexing, slicing, and immutability\n",
    "# - Escaping characters using \\\n",
    "# - Quotes and apostrophes inside strings\n",
    "# - Multi-line strings\n",
    "# - Basic string functions and methods"
   ]
  },
  {
   "cell_type": "markdown",
   "id": "09c5c656-2e5b-480c-a8e3-912d4d07422d",
   "metadata": {},
   "source": [
    "### Ways to Create Strings"
   ]
  },
  {
   "cell_type": "code",
   "execution_count": null,
   "id": "ccdd0967-b4d0-40eb-a2b1-d7b509206049",
   "metadata": {},
   "outputs": [],
   "source": [
    "# Single and double quotes\n",
    "s1 = 'Hello'\n",
    "\n",
    "s2 = \"World\"\n",
    "\n",
    "# Triple quotes for multi-line strings\n",
    "s3 = '''This is\n",
    "a multi-line\n",
    "string.'''\n",
    "\n",
    "s4 = \"\"\"Another\n",
    "multi-line string.\"\"\"\n"
   ]
  },
  {
   "cell_type": "markdown",
   "id": "49600f65-bd29-41d8-8037-0e0f451de16c",
   "metadata": {},
   "source": [
    "### Strings: Indexing"
   ]
  },
  {
   "cell_type": "code",
   "execution_count": null,
   "id": "3fb71d7b-85c2-4fcc-8c03-f3385d1f60f5",
   "metadata": {},
   "outputs": [],
   "source": [
    "text = \"Python\"\n",
    "print(text[0])                    # <-- grabs first string literal 'P' at index 0\n",
    "print(text[3])                    # <-- grabs the 4th element at index 3\n",
    "print(text[-1])                   # <-- grabs the last index of the string"
   ]
  },
  {
   "cell_type": "markdown",
   "id": "d9f6239b-39b6-4ee2-b0e3-f22bf69bffc3",
   "metadata": {},
   "source": [
    "### Strings: Slicing"
   ]
  },
  {
   "cell_type": "code",
   "execution_count": null,
   "id": "d78a9eb2-6d0e-4e42-9d29-56a5289a6059",
   "metadata": {},
   "outputs": [],
   "source": [
    "#            str[:]  -->  full shallow copy of string\n",
    "\n",
    "#       str[start:]  -->  from 'start' to 'end', by 'one'\n",
    "\n",
    "#        str[:stop]  -->  from 0 to (stop-1)\n",
    "\n",
    "#       str[::step]  -->  from 0 to last index, by 'step'\n",
    "\n",
    "#   str[start:stop]  -->  from 'start' to 'stop-1', by 'one'\n",
    "\n",
    "#  str[start::step]  -->  from 'start' to last index, by 'step'\n",
    "\n",
    "#   str[:stop:step]\t -->  from '0'\tto 'stop', by 'step'\t\n",
    "\n",
    "#         str[::-1]  -->  from '-1' to '0', by -1\n"
   ]
  },
  {
   "cell_type": "code",
   "execution_count": null,
   "id": "64172f23-7504-4d7d-a998-8fb459fdf628",
   "metadata": {},
   "outputs": [],
   "source": [
    "text = \"Python\"\n",
    "print(text[0:4])                               # <-- starts at index 0, and stops at index 3\n",
    "print(text[:3])                                # <-- starts at index 0, and stops at index 2\n",
    "print(text[2:])                                # <-- starts at index 2, and stops at last index\n",
    "print(text[::2])                               # <-- starts at index 0, stops at last index, but only slices every other string literal\n",
    "print(text[::-1])                              # <-- starts at index 0, stops at last index, but slices starting with last index and goes all the way to index 0\n",
    "print(text[-6:] == text[::1] == text[:])       # <-- same thing"
   ]
  },
  {
   "cell_type": "code",
   "execution_count": null,
   "id": "4ef12ccc-dbf7-4fad-9e35-d4d12b3a93a1",
   "metadata": {},
   "outputs": [],
   "source": [
    "# Start: if 'start' is ommited, and 'step' is '-', python defaults to 'start=-1'\n",
    "# Stop:  defaults to beginning of string 'None'\n",
    "# Step:  -6, means it moves backwards by 6 places each time\n",
    "\n",
    "\n",
    " #  P   y   t   h   o   n\n",
    " #  0   1   2   3   4   5\n",
    " # -6  -5  -4  -3  -2  -1\n",
    "\n",
    "\n",
    "text = \"Python\"\n",
    "print(text[::-6]) # <-- starts at -1, because 'start' and 'stop' are 'None', prints -1 (n),  moves -6 places, finds nothing, then gracefully ends\n",
    "print(text[None:None:-6] == text[::-6])\n",
    "print(text[::-5]) # <-- starts at -1  because 'start' and 'stop' are 'None', prints -1,  moves -5 places, and prints the 'P'\n",
    "print(text[None:None:-5] == text[::-5])\n",
    "print(text[::-2]) # <-- starts at -1, prints every other index, moving right-to-left\n",
    "print(text[None:None:-2] == text[::-2])\n",
    "print(text[100::-1]) # <-- if start does not exist Python adjusts it automatically"
   ]
  },
  {
   "cell_type": "markdown",
   "id": "66f592c2-c1f5-48d8-87b8-08475d7daedc",
   "metadata": {},
   "source": [
    "### Strings: Immutability"
   ]
  },
  {
   "cell_type": "code",
   "execution_count": null,
   "id": "42ca4b34-73f3-452e-9389-5cf4ffb8f397",
   "metadata": {},
   "outputs": [],
   "source": [
    "# Strings in Python are immutable. This means we cannot change them once they are created"
   ]
  },
  {
   "cell_type": "code",
   "execution_count": null,
   "id": "9d366ca4-9d3a-4fd8-9a8b-d8fa3835ef0b",
   "metadata": {},
   "outputs": [],
   "source": [
    "# Cannot perform this operation on strings, therefore a 'TypeError' is raised \n",
    "\n",
    "text = \"Python\"\n",
    "\n",
    "text[0] = 'y'"
   ]
  },
  {
   "cell_type": "markdown",
   "id": "0b3e5cf5-0078-4246-b47a-1bc74884571a",
   "metadata": {},
   "source": [
    "### Strings: Escape Characters"
   ]
  },
  {
   "cell_type": "code",
   "execution_count": null,
   "id": "c37d32cb-c5d3-424f-8fb9-ac99e5a7fbf1",
   "metadata": {},
   "outputs": [],
   "source": [
    "# - single quote:        \\'\n",
    "# - double quote:        \\\"\n",
    "# - backslash:           \\\\\n",
    "# - newline:             \\n\n",
    "# - tab:                 \\t\n",
    "# - carriage return:     \\r           <-- moves cursor to start of lines\n",
    "# - backspace:           \\b           <-- deletes previous character\n",
    "# - page-break (rare)    \\f\n",
    "# - vertical tab         \\v           <-- similar to newline, but vertical spacing\n",
    "# - octal value          \\ooo         <-- \\141 = 'a' , Octal -> Ascii\n",
    "# - hexadecimal          \\xhh         <-- \\x61 = 'a' , Hex -> Ascii\n",
    "# - unicode (name)       \\N{name}     <-- \\N{delta} = Δ\n",
    "# - unicode 16-bit       \\u03a9       <-- Greek Omega: Ω\n",
    "# - unicode 32-bit       \\U0001F600   <-- emoji: 😀"
   ]
  },
  {
   "cell_type": "code",
   "execution_count": null,
   "id": "0653a930-a918-4134-918c-23d2018d11ac",
   "metadata": {},
   "outputs": [],
   "source": [
    "print('Single quote: \\'')\n",
    "print(\"Double quote: \\\"\")\n",
    "print(\"Backslash: \\\\\")\n",
    "print(\"Newline:\\nNext line\")\n",
    "print(\"Tab:\\tIndented text\")\n",
    "print(\"Carriage return: Hello\\rWorld\")                       # <-- World replaces Hello\n",
    "print(\"Backspace: Hello\\b World\")                            # <-- Deletes last character of \"Hell\"\n",
    "print(\"Unicode (Ω): \\u03A9\")\n",
    "print(\"Emoji 😀: \\U0001F600\")"
   ]
  },
  {
   "cell_type": "code",
   "execution_count": null,
   "id": "a4f3b2c6-badf-49b3-8071-ae16d234e422",
   "metadata": {},
   "outputs": [],
   "source": [
    "# Carriage Return\n",
    "print(\"Hello\\rWor\")  # output: World (overwrites \"Hello\")\n",
    "\n",
    "\n",
    "# Use Case:\n",
    "\n",
    "import time\n",
    "\n",
    "for i in range(0, 101, 10):\n",
    "    print(f\"\\rProgress: {i}%\", end=\"\", flush=True)\n",
    "    time.sleep(0.5)\n"
   ]
  },
  {
   "cell_type": "code",
   "execution_count": null,
   "id": "207ae900-8341-41bb-8ce4-5a32ffa61c63",
   "metadata": {},
   "outputs": [],
   "source": [
    "# Octal & Hexadecimal\n",
    "print(\"\\141\")  # output: a  (Octal for 'a')\n",
    "print(\"\\x61\")  # output: a  (Hex for 'a')"
   ]
  },
  {
   "cell_type": "code",
   "execution_count": null,
   "id": "25a95b1c-0abd-4cd8-8a22-ea61c0162d1a",
   "metadata": {},
   "outputs": [],
   "source": [
    "# Raw Strings\n",
    "\n",
    "# print(\"C:\\Users\\Documents\\file.txt\")     # <-- produces error because Python interprets \\ as escape characters\n",
    "\n",
    "# fixes:\n",
    "\n",
    "# Use escape characters\n",
    "print(\"C:\\\\Users\\\\Documents\\\\file.txt\")\n",
    "\n",
    "# User raw string\n",
    "print(r\"C:\\Users\\Documents\\file.txt\")  "
   ]
  },
  {
   "cell_type": "markdown",
   "id": "50053464-295a-429d-861a-cd3e07d60f09",
   "metadata": {},
   "source": [
    "### Strings: Methods & Functions"
   ]
  },
  {
   "cell_type": "markdown",
   "id": "8c6bf20b-3e45-4168-8583-e13cf0a29e44",
   "metadata": {},
   "source": [
    "#### Replacing Substrings"
   ]
  },
  {
   "cell_type": "code",
   "execution_count": null,
   "id": "1274b4a7-a9d7-4d68-8721-9641335c4048",
   "metadata": {},
   "outputs": [],
   "source": [
    "text = \"I love Python\"\n",
    "print(text.replace(\"o\", \"t\"))             # <-- output: I love Java, replaces whole words or single letters"
   ]
  },
  {
   "cell_type": "markdown",
   "id": "5a6bab69-2d72-47db-9c94-e0e740aa0d43",
   "metadata": {},
   "source": [
    "#### Search for SubStrings"
   ]
  },
  {
   "cell_type": "code",
   "execution_count": null,
   "id": "0169e3f0-443e-4494-9ff0-5d343f6c66e9",
   "metadata": {},
   "outputs": [],
   "source": [
    "# How .find() and .index() work:\n",
    "# They search for a substring (a sequence of characters).\n",
    "# They return the starting index of the first occurrence.\n",
    "# They do not check if it is a separate word."
   ]
  },
  {
   "cell_type": "code",
   "execution_count": null,
   "id": "55acf4f6-dd4a-427d-9e2f-2d61c99ca27d",
   "metadata": {},
   "outputs": [],
   "source": [
    "text = 'Find P string in Python'\n",
    "\n",
    "print(text.find('in'))                    # <-- note: .find() searches for entire substring, not just a single char\n",
    "                                          # <-- note: if the substring is not found, returns -1\n",
    "                                          # <-- note: .find() is case sensitive: 'P' is diff than 'p'. Good to use in conjunction with .lower()\n",
    "\n",
    "print(\"aaaa\".find(\"aa\"))                  # <-- note: output: 0, finds first occurence of substring\n",
    "print(\"aaaa\".rfind(\"aa\"))                 # <-- note: output: finds last occurrence of substring\n",
    "\n",
    "print(text.index('in'))                   # <-- same as find but raises error if not found\n"
   ]
  },
  {
   "cell_type": "code",
   "execution_count": null,
   "id": "6a8d749e-bc56-424b-93e5-aa5003981b53",
   "metadata": {},
   "outputs": [],
   "source": [
    "text = \"hello.txt\"\n",
    "print(text.startswith(\"hello\"))          # <-- output: True\n",
    "print(text.endswith(\".txt\"))             # <-- output: True"
   ]
  },
  {
   "cell_type": "markdown",
   "id": "15ff9034-1d5d-4430-8da6-6ff902f5bfaf",
   "metadata": {},
   "source": [
    "#### Splitting Strings"
   ]
  },
  {
   "cell_type": "code",
   "execution_count": null,
   "id": "7cd72cdc-cbff-4b2f-bbf3-4ed6f7d1ef0c",
   "metadata": {},
   "outputs": [],
   "source": [
    "text = \"bapple,banana,grape\"\n",
    "words = text.split(\"b\")  \n",
    "print(words)                             # <-- output: splits into a list ['apple', 'banana', 'grape']"
   ]
  },
  {
   "cell_type": "markdown",
   "id": "e9214770-4e3a-4e06-befe-c5ae8515166c",
   "metadata": {},
   "source": [
    "#### Joining Strings"
   ]
  },
  {
   "cell_type": "code",
   "execution_count": null,
   "id": "16271d4d-d154-464f-b0aa-e2bab99e9fab",
   "metadata": {},
   "outputs": [],
   "source": [
    "words = [\"apple\", \"banana\", \"grape\"]\n",
    "text = \", \".join(words)\n",
    "print(text)                              # <-- output: joins the elements of list together into one string:  \"apple, banana, grape\""
   ]
  },
  {
   "cell_type": "markdown",
   "id": "a8ce67fa-3706-4f39-9c91-44168ba2be43",
   "metadata": {},
   "source": [
    "### Edge Cases: Strings, String Operators"
   ]
  },
  {
   "cell_type": "code",
   "execution_count": null,
   "id": "f0c83c41-58a1-43e7-b921-70d15f710daa",
   "metadata": {},
   "outputs": [],
   "source": [
    "s = \"Hello\" + str(5)                     # <-- Works fine: \"Hello5\"\n",
    "print(s)\n",
    "s = \"Hello\" + 5                          # <-- TypeError: can only concatenate str (not \"int\") to str"
   ]
  },
  {
   "cell_type": "code",
   "execution_count": null,
   "id": "471af148-bdc8-4683-ab0a-927a164094ea",
   "metadata": {},
   "outputs": [],
   "source": [
    "# Concatenating empty strings\n",
    "\n",
    "print(\"Hello\" + \"\")                      # <-- both do nothing and does not error. output: \"Hello\"\n",
    "print(\"\" + \"World\")                      # <-- does nothing and does not error output: \"World\"\n"
   ]
  },
  {
   "cell_type": "code",
   "execution_count": null,
   "id": "176f99df-a66d-473e-93cf-7ba4729e50db",
   "metadata": {},
   "outputs": [],
   "source": [
    "# Multiplying strings\n",
    "\n",
    "print(\"Hello\" * 0)                       # output: \"\" (empty string)\n",
    "print(\"Hello\" * -7)                      # output: \"\" (empty string)\n",
    "print(\"Hello\" * -0)                      # output: \"\" (empty string)\n",
    "print(\"Hello\" * True)\n",
    "print(\"Hello\"*int(float(2)))"
   ]
  },
  {
   "cell_type": "code",
   "execution_count": null,
   "id": "e102f130-787b-4b54-9dc4-fdf3563fde49",
   "metadata": {},
   "outputs": [],
   "source": [
    "print(\" \" in \"Hello World\")              # <-- note: output: True"
   ]
  },
  {
   "cell_type": "code",
   "execution_count": null,
   "id": "3e295c80-4405-4888-a92e-f0603670b73e",
   "metadata": {},
   "outputs": [],
   "source": [
    "print(\"\" in \"Hello World\")               # <-- note: output: True"
   ]
  },
  {
   "cell_type": "code",
   "execution_count": null,
   "id": "76ade4d8-c598-42a5-ba06-e271c728185c",
   "metadata": {},
   "outputs": [],
   "source": [
    "# Slicing: Edge Cases\n",
    "\n",
    "text = 'Python'\n",
    "print(text[0:100])         # <-- no index error is raised. Python handles them gracefully for strings\n",
    "print(text[-100:])         # <-- no index error is raised. Python handles them gracefully for strings"
   ]
  },
  {
   "cell_type": "code",
   "execution_count": null,
   "id": "92a93c11-5ed8-467d-8959-44856c159c8f",
   "metadata": {},
   "outputs": [],
   "source": [
    "# Case: start > stop with a + step\n",
    "\n",
    "text = \"Python\"\n",
    "print(text[4:2:-1])        # <-- output: \"\" (empty string)"
   ]
  },
  {
   "cell_type": "code",
   "execution_count": null,
   "id": "db0bda98-ce4a-4d6b-8c5f-60c5f4c58643",
   "metadata": {},
   "outputs": [],
   "source": [
    "# Case: start < stop with a - step\n",
    "\n",
    "text = \"Python\"\n",
    "print(text[4:2])           # <-- output: \"\" (empty string)"
   ]
  },
  {
   "cell_type": "code",
   "execution_count": null,
   "id": "073bc0db-9df2-4a97-95c2-b804119f0248",
   "metadata": {},
   "outputs": [],
   "source": [
    "# Case: ommiting start or stop\n",
    "\n",
    "text = \"Python\"\n",
    "print(text[:])             # <-- output: \"Python\" (full string)\n",
    "print(text[None:])         # <-- output: \"Python\" (same as above)\n",
    "print(text[:None])         # <-- output: \"Python\" (same as above)"
   ]
  },
  {
   "cell_type": "code",
   "execution_count": null,
   "id": "2e116a86-9a25-45b3-b22b-6e86aa2ebea4",
   "metadata": {},
   "outputs": [],
   "source": [
    "# Case: setting step=0\n",
    "\n",
    "text = \"Python\"\n",
    "print(text[::0])           # <-- ValueError: slice step cannot be zero"
   ]
  },
  {
   "cell_type": "code",
   "execution_count": null,
   "id": "8cfb94e6-406f-4392-b697-7c7414d5fd70",
   "metadata": {},
   "outputs": [],
   "source": [
    "# Case: large negative step\n",
    "\n",
    "text = \"Python\"\n",
    "print(text[::-6])          # <-- output: \"n\", starting from 'n' going backward there are not -6 indexes, so the first is only returned"
   ]
  },
  {
   "cell_type": "code",
   "execution_count": null,
   "id": "0ce3f803-38fc-4628-a9d5-d7dead884e03",
   "metadata": {},
   "outputs": [],
   "source": [
    "# Case: slicing an empty string\n",
    "\n",
    "empty = \"\"\n",
    "print(empty[:])            # <-- output: \"\" (empty string)\n",
    "print(empty[::-1])         # <-- output: \"\" (still empty)"
   ]
  },
  {
   "cell_type": "code",
   "execution_count": null,
   "id": "242135f3-6565-4c1f-9cac-a522ad6898ee",
   "metadata": {},
   "outputs": [],
   "source": [
    "# Case: Step skips over stop\n",
    "\n",
    "text = \"Python\"\n",
    "print(text[0:5:2])         # <-- output: \"Pto\", includes"
   ]
  },
  {
   "cell_type": "markdown",
   "id": "886ae426-4f6b-41cb-8a21-763f677eb3fc",
   "metadata": {},
   "source": [
    "## String Methods: Mutation"
   ]
  },
  {
   "cell_type": "markdown",
   "id": "956107d0-2e9d-4886-84de-9aeb322d6f08",
   "metadata": {},
   "source": [
    "### Method: .upper()"
   ]
  },
  {
   "cell_type": "code",
   "execution_count": null,
   "id": "8ce70163-e721-4d65-9cf0-b710999730e9",
   "metadata": {},
   "outputs": [],
   "source": [
    "# - .upper()\n",
    "# - takes: no args\n",
    "# - returns: a new string with all characters converted to uppercase\n",
    "# - exceptions: no exceptions\n",
    "# - modifies: does not modify the original string (strings are immutable)"
   ]
  },
  {
   "cell_type": "code",
   "execution_count": null,
   "id": "c135b689-2225-4b26-a433-67a8a693f747",
   "metadata": {},
   "outputs": [],
   "source": [
    "print(\"   hello world   \".upper())               # <-- note: output: \" HELLO WORLD \""
   ]
  },
  {
   "cell_type": "markdown",
   "id": "8635f37d-c941-446d-84c8-ab41ba1e4c23",
   "metadata": {},
   "source": [
    "### Method: .lower()"
   ]
  },
  {
   "cell_type": "code",
   "execution_count": null,
   "id": "144daef3-2ba0-4f50-8c05-7471b64ce7e7",
   "metadata": {},
   "outputs": [],
   "source": [
    "# - .lower()\n",
    "# - takes: no args\n",
    "# - returns: a new string with all characters converted to lowercase\n",
    "# - exceptions: no exceptions\n",
    "# - modifies: does not modify the original string (strings are immutable)"
   ]
  },
  {
   "cell_type": "code",
   "execution_count": null,
   "id": "4ba59ad1-bfd7-47a4-88b8-715eb3639dae",
   "metadata": {},
   "outputs": [],
   "source": [
    "print(\"   HELLO WORLD   \".lower())               # <-- note: output: \" hello world \""
   ]
  },
  {
   "cell_type": "markdown",
   "id": "57851d83-1953-45cf-9b74-79dac417ba9a",
   "metadata": {},
   "source": [
    "### Method: .title()"
   ]
  },
  {
   "cell_type": "code",
   "execution_count": null,
   "id": "45eb998c-d024-4d74-a946-ba878f5f21fe",
   "metadata": {},
   "outputs": [],
   "source": [
    "# - .title()\n",
    "# - takes: no args\n",
    "# - returns: a new string where the first character of each word is capitalized\n",
    "# - exceptions: no exceptions\n",
    "# - modifies: does not modify the original string (strings are immutable)"
   ]
  },
  {
   "cell_type": "code",
   "execution_count": null,
   "id": "40081895-1e42-4764-83ae-3302e6dc7ba0",
   "metadata": {},
   "outputs": [],
   "source": [
    "print(\"hello world\".title())                     # <-- note: output: \"Hello World\""
   ]
  },
  {
   "cell_type": "code",
   "execution_count": null,
   "id": "ee9cae72-d5c8-498c-bd09-5160f632141e",
   "metadata": {},
   "outputs": [],
   "source": [
    "print(\"HELLO WORLD\".title())                     # <-- note: output: \"Hello World\""
   ]
  },
  {
   "cell_type": "code",
   "execution_count": null,
   "id": "6966840d-41b6-4ef4-8e66-4e74774b718c",
   "metadata": {},
   "outputs": [],
   "source": [
    "print(\"hello2world\".title())                     # <-- note: output: \"Hello2World\", #'s do not break title-case"
   ]
  },
  {
   "cell_type": "code",
   "execution_count": null,
   "id": "5e3cb6b3-9e3a-46b0-b9ac-aa792e7bb62a",
   "metadata": {},
   "outputs": [],
   "source": [
    "print(\"#hello world\".title())                    # <-- note: output: \"#Hello World\"\n"
   ]
  },
  {
   "cell_type": "code",
   "execution_count": null,
   "id": "7c080927-af60-4eeb-a674-e43de0659fe2",
   "metadata": {},
   "outputs": [],
   "source": [
    "print(\"o'reilly's book\".title())                 # <-- note: output: \"O'Reilly'S Book\""
   ]
  },
  {
   "cell_type": "code",
   "execution_count": null,
   "id": "5cc2178b-ec26-4544-9ef5-64d7908fb30b",
   "metadata": {},
   "outputs": [],
   "source": [
    "print(\"self-learning ai\".title())                # <-- note: output: \"Self-Learning Ai\""
   ]
  },
  {
   "cell_type": "markdown",
   "id": "e0451f52-fe63-4183-ade0-2b2f4dd2f4f0",
   "metadata": {},
   "source": [
    "### Method: .capitalize()"
   ]
  },
  {
   "cell_type": "code",
   "execution_count": null,
   "id": "fc11d96b-6a3e-4752-9279-5a84d41a8c30",
   "metadata": {},
   "outputs": [],
   "source": [
    "# - .capitalize()\n",
    "# - takes: no args\n",
    "# - returns: a new string with the first character capitalized and the rest in lowercase\n",
    "# - exceptions: no exceptions\n",
    "# - modifies: does not modify the original string (strings are immutable)"
   ]
  },
  {
   "cell_type": "code",
   "execution_count": null,
   "id": "070a4324-9e41-40eb-8a99-967080d0fd34",
   "metadata": {},
   "outputs": [],
   "source": [
    "print(\"hello world\".capitalize())              # <-- note: output: \"Hello world\""
   ]
  },
  {
   "cell_type": "code",
   "execution_count": null,
   "id": "9f8d5f30-d737-4265-bc93-16120ce55600",
   "metadata": {},
   "outputs": [],
   "source": [
    "print(\"Hello world\".capitalize())              # <-- note: output: \"Hello world\""
   ]
  },
  {
   "cell_type": "code",
   "execution_count": null,
   "id": "d2723668-e329-45ea-be6e-00f2f5f52b56",
   "metadata": {},
   "outputs": [],
   "source": [
    "print(\"HELLO WORLD\".capitalize())              # <-- note: output: \"Hello world\""
   ]
  },
  {
   "cell_type": "code",
   "execution_count": null,
   "id": "6c572ed7-5a4e-467f-a667-576af27c0b9a",
   "metadata": {},
   "outputs": [],
   "source": [
    "print(\"123hello world\".capitalize())           # <-- note: output: \"123hello world\", returns input string"
   ]
  },
  {
   "cell_type": "code",
   "execution_count": null,
   "id": "e4af3bf5-c7b4-460b-99cc-d08dfedca374",
   "metadata": {},
   "outputs": [],
   "source": [
    "print(\"#hello world\".capitalize())             # <-- note: output: \"#hello world\", special chars prevent leading letter capitalization"
   ]
  },
  {
   "cell_type": "code",
   "execution_count": null,
   "id": "4a7caa67-b3b0-477c-ae20-92d293c70873",
   "metadata": {},
   "outputs": [],
   "source": [
    "print(\"ábc\".capitalize())                      # <-- note: output: \"Ábc\", works with non-ASCII characters"
   ]
  },
  {
   "cell_type": "markdown",
   "id": "0b3c7c83-d109-4941-a2ba-0c446a7de367",
   "metadata": {},
   "source": [
    "### Method: .strip()"
   ]
  },
  {
   "cell_type": "code",
   "execution_count": null,
   "id": "55e16b80-9132-431a-bf0e-6548ff5f753f",
   "metadata": {},
   "outputs": [],
   "source": [
    "# - .strip()\n",
    "# - takes: one optional arg (a string of characters to remove from both sides, defaults to whitespace)\n",
    "# - returns: a new string with the specified characters removed from both the left and right sides\n",
    "# - exceptions: no exceptions\n",
    "# - modifies: does not modify the original string (strings are immutable)\n",
    "# - functionality:  removes leading (left) and trailing (right) characters from a string (whitespace by default). Can strip different chars"
   ]
  },
  {
   "cell_type": "code",
   "execution_count": null,
   "id": "4d7f8768-579c-450b-abb9-18f295c4a064",
   "metadata": {},
   "outputs": [],
   "source": [
    "print(\"   hello world   \".strip())                 # <-- note: output: \"hello world\""
   ]
  },
  {
   "cell_type": "code",
   "execution_count": null,
   "id": "2170041c-5172-47a1-83df-4d16d413ce23",
   "metadata": {},
   "outputs": [],
   "source": [
    "print(\"---hello---\".strip(\"-\"))                    # <-- note: output: \"hello\""
   ]
  },
  {
   "cell_type": "code",
   "execution_count": null,
   "id": "1627a2d9-1c62-401b-beb5-a0ab61585340",
   "metadata": {},
   "outputs": [],
   "source": [
    "# .strip() only removes from the ends not the middle\n",
    "\n",
    "print(\"xxhelloxx\".strip(\"x\"))                      # <-- note: output: \"hello\""
   ]
  },
  {
   "cell_type": "code",
   "execution_count": null,
   "id": "b8de8789-611e-4bef-88d3-7bc1a9d804c6",
   "metadata": {},
   "outputs": [],
   "source": [
    "print(\"hello\".strip(\"\"))                           # <-- note: output: \"hello\", no chars to strip"
   ]
  },
  {
   "cell_type": "code",
   "execution_count": null,
   "id": "9094a0d5-8258-464b-9335-01c7de7f1b7b",
   "metadata": {},
   "outputs": [],
   "source": [
    "print(\"abcHelloXYZabc\".strip(\"abcXYZ\"))            # <-- note: output: \"Hello\", removes all occurences from either end (ODM)"
   ]
  },
  {
   "cell_type": "code",
   "execution_count": null,
   "id": "34c51049-a79c-4303-ac23-7358d24c7eb7",
   "metadata": {},
   "outputs": [],
   "source": [
    "print(\"hello\".strip(\"xyz\"))                        # <-- note: output: \"hello\", no matching chars returns input string"
   ]
  },
  {
   "cell_type": "code",
   "execution_count": null,
   "id": "a2f2abbb-f44e-4a15-b233-c1405861753f",
   "metadata": {},
   "outputs": [],
   "source": [
    "print(\"xxxxxx\".strip(\"x\"))                         # <-- note: output: \"\""
   ]
  },
  {
   "cell_type": "code",
   "execution_count": null,
   "id": "139c690c-bedb-49c3-b780-e59bdb6dfd48",
   "metadata": {},
   "outputs": [],
   "source": [
    "print(\"\\n\\t hello world \\n\\t\".strip())             # <-- note: output: \"hello world\", removes tabs and newlines"
   ]
  },
  {
   "cell_type": "code",
   "execution_count": null,
   "id": "8f429eda-408c-4666-9deb-6f1ab2d1999b",
   "metadata": {},
   "outputs": [],
   "source": [
    "print(\"\\u2003Hello\\u2003\".strip())                 # <-- note: output: \"Hello\" (only removes standard whitespace, NOT special ones [unicode])"
   ]
  },
  {
   "cell_type": "markdown",
   "id": "a726202d-ca6c-4cde-9146-a40a311549df",
   "metadata": {},
   "source": [
    "### Method: .lstrip()"
   ]
  },
  {
   "cell_type": "code",
   "execution_count": null,
   "id": "559a1bc9-8a2a-487d-808e-9013073c4f7c",
   "metadata": {},
   "outputs": [],
   "source": [
    "# - .lstrip()\n",
    "# - takes: one optional arg (a string of characters to remove from the left, defaults to whitespace)\n",
    "# - returns: a new string with the specified characters removed from the left\n",
    "# - exceptions: no exceptions\n",
    "# - modifies: does not modify the original string (strings are immutable)"
   ]
  },
  {
   "cell_type": "code",
   "execution_count": null,
   "id": "042657f7-da47-4866-863e-204138f352fc",
   "metadata": {},
   "outputs": [],
   "source": [
    "print(\"   hello world   \".lstrip())               # <-- note: output: \"hello world   \""
   ]
  },
  {
   "cell_type": "markdown",
   "id": "c1a94c26-24b9-4c32-965a-281b59b217e7",
   "metadata": {},
   "source": [
    "### Method: .rstrip()"
   ]
  },
  {
   "cell_type": "code",
   "execution_count": null,
   "id": "6f54afd4-822a-4758-9088-9f709ed73482",
   "metadata": {},
   "outputs": [],
   "source": [
    "# - .rstrip()\n",
    "# - takes: one optional arg (a string of characters to remove from the right, defaults to whitespace)\n",
    "# - returns: a new string with the specified characters removed from the right\n",
    "# - exceptions: no exceptions\n",
    "# - modifies: does not modify the original string (strings are immutable)"
   ]
  },
  {
   "cell_type": "code",
   "execution_count": null,
   "id": "0db12a17-4fd3-49c3-94fb-1582fbb164bc",
   "metadata": {},
   "outputs": [],
   "source": [
    "print(\"   hello world   \".rstrip())               # <-- note: output: \"  hello world\""
   ]
  },
  {
   "cell_type": "markdown",
   "id": "6ba6fc19-8a82-4955-90c3-4cbcf816aa65",
   "metadata": {},
   "source": [
    "### Method: .replace()"
   ]
  },
  {
   "cell_type": "code",
   "execution_count": null,
   "id": "2560bedd-799d-436b-9659-1d5f64fbdb0c",
   "metadata": {},
   "outputs": [],
   "source": [
    "# - .replace()\n",
    "# - takes: two required positional args (old substring, new substring), one optional arg (count, number of replacements)\n",
    "# - returns: a new string with occurrences of the old substring replaced by the new substring\n",
    "# - exceptions: no exceptions\n",
    "# - modifies: does not modify the original string (strings are immutable)"
   ]
  },
  {
   "cell_type": "code",
   "execution_count": null,
   "id": "93113d30-1153-4974-9e21-c5ea46d5133b",
   "metadata": {},
   "outputs": [],
   "source": [
    "text = \"banana banana banana\"\n",
    "print(text.replace(\"banana\", \"apple\"))           # <-- note: normal functioning"
   ]
  },
  {
   "cell_type": "code",
   "execution_count": null,
   "id": "241d6594-98e5-41a0-bb50-3571d24373d6",
   "metadata": {},
   "outputs": [],
   "source": [
    "text = \"banana apple banana\"\n",
    "print(text.replace(\"banana\", \"apple\", 2))        # <-- note: with optional 'num of replacements' arg\n",
    "# output: \"apple apple banana\"\n"
   ]
  },
  {
   "cell_type": "code",
   "execution_count": null,
   "id": "62b10603-80f2-45dc-80f3-7c133a5ee57d",
   "metadata": {},
   "outputs": [],
   "source": [
    "print(\"hello world\".replace(\"z\", \"X\"))           # <-- note: output: \"hello world\" (unchanged)"
   ]
  },
  {
   "cell_type": "code",
   "execution_count": null,
   "id": "9ff57cc1-1193-4f00-9899-34ce04f060d4",
   "metadata": {},
   "outputs": [],
   "source": [
    "print(\"hello world\".replace(\"o\", \"\"))            # <-- note: output: \"hell wrld\""
   ]
  },
  {
   "cell_type": "code",
   "execution_count": null,
   "id": "d1f757ff-73e8-451c-a27d-b05df3b77026",
   "metadata": {},
   "outputs": [],
   "source": [
    "print(\"hello\".replace(\"\", \"-\"))                  # <-- note: output: \"-h-e-l-l-o-\" (inserts between each character)"
   ]
  },
  {
   "cell_type": "code",
   "execution_count": null,
   "id": "92f634cf-dd5a-4d68-af69-9e0f24dbba1f",
   "metadata": {},
   "outputs": [],
   "source": [
    "print(\"hello\".replace(\"\", \" \"))                                      # <-- note: output: \"hello\"  (unchanged)"
   ]
  },
  {
   "cell_type": "code",
   "execution_count": null,
   "id": "3e63e64d-1e1a-4b03-82b4-3c7e14173bf0",
   "metadata": {},
   "outputs": [],
   "source": [
    "print(\"banana banana\".replace(\"banana\", \"apple\", 10))                # <-- note: output: \"apple apple\""
   ]
  },
  {
   "cell_type": "code",
   "execution_count": null,
   "id": "a96c0268-688e-4939-bf97-e3e640bee646",
   "metadata": {},
   "outputs": [],
   "source": [
    "print(\"hello world\".replace(\"o\", \"X\", 0))                            # <-- note: output: \"hello world\""
   ]
  },
  {
   "cell_type": "code",
   "execution_count": null,
   "id": "3390734b-99a0-45fa-92c6-bf05d1bdc8b9",
   "metadata": {},
   "outputs": [],
   "source": [
    "print(\"hello world\".replace(\"world\", \"world\"))                       # <-- note: output: \"hello world\""
   ]
  },
  {
   "cell_type": "code",
   "execution_count": null,
   "id": "692eb938-8aac-4c85-b2b8-ea0c1fe81ec2",
   "metadata": {},
   "outputs": [],
   "source": [
    "print(\"aaaa\".replace(\"aa\", \"b\"))                                     # <-- note: output: \"bb\""
   ]
  },
  {
   "cell_type": "markdown",
   "id": "4387fe92-6808-4f23-81cc-e344e569198b",
   "metadata": {},
   "source": [
    "### Method: .translate()"
   ]
  },
  {
   "cell_type": "code",
   "execution_count": null,
   "id": "4ac6cd03-ccf7-4795-a623-471f88cae39b",
   "metadata": {},
   "outputs": [],
   "source": [
    "# - .translate(table)\n",
    "# - takes: one arg (a translation table, created using str.maketrans())\n",
    "# - returns: a new string with characters replaced based on the translation table\n",
    "# - exceptions: 'TypeError' if the argument is not a valid translation table\n",
    "# - modifies: does not modify the original string (strings are immutable)"
   ]
  },
  {
   "cell_type": "code",
   "execution_count": null,
   "id": "33d462f6-4e2b-48e2-a4dc-af101b8cf412",
   "metadata": {},
   "outputs": [],
   "source": [
    "# Create a translation table\n",
    "table = str.maketrans(\"abc\", \"123\")                 # <-- note: maps 'a' → '1', 'b' → '2', 'c' → '3'\n",
    "\n",
    "# Apply translation\n",
    "text = \"banana\"\n",
    "print(text.translate(table))                        # <-- note: output: \"b1n1n1\" (replaces 'a' with '1')\n",
    "\n",
    "# Handling removal\n",
    "remove_table = str.maketrans(\"\", \"\", \"aeiou\")       # <-- note: maps ' ' → a, ' ' → e, ' ' → 'i', ' ' → 'o', ' ' → 'u'\n",
    "print(\"hello world\".translate(remove_table))  \n"
   ]
  },
  {
   "cell_type": "markdown",
   "id": "44a59878-fa80-46dc-b822-5fd645c19cbc",
   "metadata": {},
   "source": [
    "### Method: .casefold()"
   ]
  },
  {
   "cell_type": "code",
   "execution_count": null,
   "id": "546bf498-491a-487e-af96-d768999c4152",
   "metadata": {},
   "outputs": [],
   "source": [
    "# - .casefold()\n",
    "# - takes: no args\n",
    "# - returns: a new string with all characters aggressively converted to lowercase (for case-insensitive comparisons)\n",
    "# - exceptions: no exceptions\n",
    "# - modifies: does not modify the original string (strings are immutable)\n",
    "# - NOTE: is a one-way conversion designed for case-insensitive comparisons, not reversible transformations \n",
    "# -       use .lower() for english and .casefold() for unicode characters"
   ]
  },
  {
   "cell_type": "code",
   "execution_count": null,
   "id": "f79dedce-701e-49c6-a85f-2ed69d8b72f7",
   "metadata": {},
   "outputs": [],
   "source": [
    "print(\"HELLO WORLD\".casefold())                     # <-- note: output: \"hello world\""
   ]
  },
  {
   "cell_type": "code",
   "execution_count": null,
   "id": "4ddb9d02-79b9-414e-85de-b2a064979fc2",
   "metadata": {},
   "outputs": [],
   "source": [
    "print(\"straße\".lower())                             # <-- note: output: \"straße\"\n",
    "\n",
    "print(\"straße\".casefold())                          # <-- note: output: \"strasse\"\n"
   ]
  },
  {
   "cell_type": "code",
   "execution_count": null,
   "id": "8f514d09-e1ad-406e-be35-bd303cbb355f",
   "metadata": {},
   "outputs": [],
   "source": [
    "print(\"Μικρά\".lower())                              # <-- note: output: \"μικρά\"\n",
    "\n",
    "print(\"Μικρά\".casefold())                           # <-- note: output: \"μικρα\""
   ]
  },
  {
   "cell_type": "code",
   "execution_count": null,
   "id": "4e673f86-a5f9-44cd-b18d-6e081408a790",
   "metadata": {},
   "outputs": [],
   "source": [
    "str1 = \"HELLO\"\n",
    "str2 = \"hello\"\n",
    "\n",
    "print(str1.lower() == str2.lower())                 # <-- note: output: True\n",
    "\n",
    "print(str1.casefold() == str2.casefold())           # <-- note: output: True"
   ]
  },
  {
   "cell_type": "code",
   "execution_count": null,
   "id": "5bb5c388-0355-4ee5-a3ae-9ce9be94da53",
   "metadata": {},
   "outputs": [],
   "source": [
    "print(\"İstanbul\".lower())                           # <-- note: output: \"i̇stanbul\"  (keeps the dot!)\n",
    "\n",
    "print(\"İstanbul\".casefold())                        # <-- note: output: \"istanbul\"  (removes the dot)"
   ]
  },
  {
   "cell_type": "markdown",
   "id": "d220dceb-644e-4238-ac68-fad5960b1154",
   "metadata": {},
   "source": [
    "## String Methods: Search & Identification"
   ]
  },
  {
   "cell_type": "markdown",
   "id": "35d18750-b914-4a66-9ef3-8c5a7096bba0",
   "metadata": {},
   "source": [
    "### Method: .maketrans()"
   ]
  },
  {
   "cell_type": "code",
   "execution_count": null,
   "id": "e89bb86b-a53e-47d3-82e5-feaa93c3a4d0",
   "metadata": {},
   "outputs": [],
   "source": [
    "# - .maketrans()\n",
    "# - takes: either (1) three separate strings (`old`, `new`, `delete`), or (2) a dictionary mapping characters to replacements\n",
    "# - returns: a translation table that can be used with `.translate()`\n",
    "# - exceptions: ValueError if `old` and `new` have different lengths (in string form)\n",
    "# - modifies: does not modify the original string (creates a mapping for later use)"
   ]
  },
  {
   "cell_type": "code",
   "execution_count": null,
   "id": "e7a2799d-e603-4c80-bc7b-8d23a68c5c1a",
   "metadata": {},
   "outputs": [],
   "source": [
    "table = str.maketrans(\"abc\", \"123\")            # <-- note: replace 'a' → '1', 'b' → '2', 'c' → '3'\n",
    "print(\"banana\".translate(table))  \n",
    "# output: \"b1n1n1\"\n",
    "\n",
    "# Removing characters\n",
    "remove_table = str.maketrans(\"\", \"\", \"aeiou\")  # <-- note: remove vowels\n",
    "print(\"hello world\".translate(remove_table))   # <-- note: output: \"hll wrld\""
   ]
  },
  {
   "cell_type": "markdown",
   "id": "bc117823-b531-4743-8025-9324519de353",
   "metadata": {},
   "source": [
    "### Method: .isidentifier()"
   ]
  },
  {
   "cell_type": "code",
   "execution_count": null,
   "id": "91a56b16-13f6-4c00-add3-8180c88f2a67",
   "metadata": {},
   "outputs": [],
   "source": [
    "# - .isidentifier()\n",
    "# - takes: no args\n",
    "# - returns: True if the string is a valid Python identifier (variable name), otherwise False\n",
    "# - exceptions: no exceptions\n",
    "# - modifies: does not modify the original string (only checks validity)"
   ]
  },
  {
   "cell_type": "code",
   "execution_count": null,
   "id": "88cd003e-99f6-4533-a1be-ef0ec94f7245",
   "metadata": {},
   "outputs": [],
   "source": [
    "print(\"variable_name\".isidentifier())          # <-- note: output: True (valid identifier)\n",
    "\n",
    "print(\"2nd_variable\".isidentifier())           # <-- note: output: False (cannot start with a number)\n",
    "\n",
    "print(\"class\".isidentifier())                  # <-- note: output: True (but is a Python keyword!)\n",
    "\n",
    "print(\"hello world\".isidentifier())            # <-- note: output: False (contains a space)\n",
    "\n",
    "print(\"hello\".isidentifier())                  # <-- note: output: True (all underscores)"
   ]
  },
  {
   "cell_type": "markdown",
   "id": "01d606ee-d390-4da9-843b-9de93c09f19c",
   "metadata": {},
   "source": [
    "### Method: .isalpha()"
   ]
  },
  {
   "cell_type": "code",
   "execution_count": null,
   "id": "5a171df2-347d-4a8f-94aa-f6c38c27baf4",
   "metadata": {},
   "outputs": [],
   "source": [
    "# - .isalpha()\n",
    "# - takes: no args\n",
    "# - returns: True if the string contains only letters (no numbers or symbols)\n",
    "# - exceptions: no exceptions\n",
    "# - modifies: does not modify the original string (only checks validity)"
   ]
  },
  {
   "cell_type": "code",
   "execution_count": null,
   "id": "5b43d61f-3195-41b4-baa4-4ac3b0c841a8",
   "metadata": {},
   "outputs": [],
   "source": [
    "print(\"HelloWorld\".isalpha())                   # <-- note: output: True (only letters)\n",
    "\n",
    "print(\"Hello123\".isalpha())                     # <-- note: output: False (contains numbers)\n",
    "\n",
    "print(\"Hello!\".isalpha())                       # <-- note: output: False (contains punctuation)"
   ]
  },
  {
   "cell_type": "markdown",
   "id": "00d6df77-07ac-40d8-a5e3-b635dcaa066d",
   "metadata": {},
   "source": [
    "### Method: .isdigit()"
   ]
  },
  {
   "cell_type": "code",
   "execution_count": null,
   "id": "8fc4f3c8-ad20-4135-8a52-9c28b8d0d590",
   "metadata": {},
   "outputs": [],
   "source": [
    "# - .isdigit()\n",
    "# - takes: no arguments\n",
    "# - returns: 'True' if the string contains only numeric digits ('0-9'), otherwise 'False'\n",
    "# - exceptions: no exceptions\n",
    "# - modifies: does not modify the original string (returns a boolean)\n",
    "# - NOTE: does not recognize negative numbers, decimal points, or fractions as digits"
   ]
  },
  {
   "cell_type": "code",
   "execution_count": null,
   "id": "2c3e8e9b-4680-46f6-9de4-8c42ca3b8416",
   "metadata": {},
   "outputs": [],
   "source": [
    "print(\"1245\".isdigit())                        # <-- note: output: True, only contains digits between 0-9\n",
    "\n",
    "print(\"abc123\".isdigit())                      # <-- note: output: False"
   ]
  },
  {
   "cell_type": "code",
   "execution_count": null,
   "id": "c42b5822-7dce-4240-bd50-e0cdd3ddef8d",
   "metadata": {},
   "outputs": [],
   "source": [
    "print(\"-12345\".isdigit())                      # <-- note: output: False, doesn't recognize negative digits"
   ]
  },
  {
   "cell_type": "markdown",
   "id": "0943c274-0b81-479f-a7de-a0a92e49cfad",
   "metadata": {},
   "source": [
    "### Method: .isalnum()"
   ]
  },
  {
   "cell_type": "code",
   "execution_count": null,
   "id": "f1d215a0-9508-42ae-8639-5f4bc28fbd36",
   "metadata": {},
   "outputs": [],
   "source": [
    "# - .isalnum()\n",
    "# - takes: no args\n",
    "# - returns: True if the string contains only letters and/or digits (no spaces or symbols)\n",
    "# - exceptions: no exceptions\n",
    "# - modifies: does not modify the original string (only checks validity)"
   ]
  },
  {
   "cell_type": "code",
   "execution_count": null,
   "id": "17998279-2b94-43f4-82f4-ea8f1f826572",
   "metadata": {},
   "outputs": [],
   "source": [
    "print(\"Hello123\".isalnum())                     # <-- note: output: True (only letters and numbers)\n",
    "\n",
    "print(\"Hello 123\".isalnum())                    # <-- note: output: False (contains a space)\n",
    "\n",
    "print(\"Hello!\".isalnum())                       # <-- note: output: False (contains a special character)\n",
    "\n",
    "print(\"\".isalnum())                             # <-- note: output: False (contains empty string)"
   ]
  },
  {
   "cell_type": "markdown",
   "id": "5638feba-6339-412a-ae3d-76b279eac1e0",
   "metadata": {},
   "source": [
    "### Method: .isspace()"
   ]
  },
  {
   "cell_type": "code",
   "execution_count": null,
   "id": "98e93d46-b104-48d7-93d1-f69e287e4594",
   "metadata": {},
   "outputs": [],
   "source": [
    "# - .isspace()\n",
    "# - takes: no arguments\n",
    "# - returns: `True` if the string contains only whitespace characters, otherwise `False`\n",
    "# - exceptions: no exceptions\n",
    "# - modifies: does not modify the original string (returns a boolean)\n",
    "# - NOTE: recognizes spaces, tabs, newlines, and other Unicode whitespace characters"
   ]
  },
  {
   "cell_type": "code",
   "execution_count": null,
   "id": "9945e6ad-5297-40c9-afed-ce597ab6ad4f",
   "metadata": {},
   "outputs": [],
   "source": [
    "print(\"   \".isspace())                          # <-- note: output: True\n",
    "print(\"hello world\".isspace())                  # <-- note: output: False"
   ]
  },
  {
   "cell_type": "code",
   "execution_count": null,
   "id": "fc97f58d-1e51-45d8-9202-b9d780f8cc60",
   "metadata": {},
   "outputs": [],
   "source": [
    "print(\"\\t\".isspace())                           # <-- note: output: True\n",
    "print(\"\\n\".isspace())                           # <-- note: output: True\n",
    "print(\"\\r\".isspace())                           # <-- note: output: True"
   ]
  },
  {
   "cell_type": "code",
   "execution_count": null,
   "id": "88f6017d-a193-4797-a817-95222a4d06b5",
   "metadata": {},
   "outputs": [],
   "source": [
    "print(\"\".isspace())                             # <-- note: output: False\n",
    "print(\"\\u2003\".isspace())                       # <-- note: output: True\n"
   ]
  },
  {
   "cell_type": "markdown",
   "id": "e56dac10-cadb-432b-9c5a-bad367f0fe7f",
   "metadata": {},
   "source": [
    "### Method: .isnumeric()"
   ]
  },
  {
   "cell_type": "code",
   "execution_count": null,
   "id": "6975836d-a95c-48ca-81b9-609d6cc5f96d",
   "metadata": {},
   "outputs": [],
   "source": [
    "# - .isnumeric()\n",
    "# - takes: no arguments\n",
    "# - returns: `True` if the string contains only numeric characters (including fractions, Roman numerals, and Unicode digits)\n",
    "# - exceptions: no exceptions\n",
    "# - modifies: does not modify the original string (returns a boolean)\n",
    "# - NOTE: recognizes fractions (`½`), superscripts (`²`), and full-width numbers (`１２３`)"
   ]
  },
  {
   "cell_type": "code",
   "execution_count": null,
   "id": "104fcc08-7d88-437b-b387-d7a81747de65",
   "metadata": {},
   "outputs": [],
   "source": [
    "print(\"12345\".isnumeric())      # <-- note: output: True\n",
    "print(\"٣٤٥\".isnumeric())        # <-- note: output: True (Arabic digits)\n",
    "print(\"Ⅻ\".isnumeric())         # <-- note: output: True (Roman numeral for 12)\n",
    "print(\"²\".isnumeric())         # <-- note: output: True (Superscript 2)\n",
    "print(\"½\".isnumeric())         # <-- note: output: True (Fraction one-half)\n",
    "print(\"-123\".isnumeric())      # <-- note: output: False\n",
    "print(\"3.14\".isnumeric())      # <-- note: output: False\n",
    "print(\"\".isnumeric())          # <-- note: output: False"
   ]
  },
  {
   "cell_type": "markdown",
   "id": "bf73d9db-d798-4863-8de3-5a983c33ca57",
   "metadata": {},
   "source": [
    "### Method: .isdecimal()"
   ]
  },
  {
   "cell_type": "code",
   "execution_count": null,
   "id": "3530d46f-c6f2-4643-9226-795fbefd943e",
   "metadata": {},
   "outputs": [],
   "source": [
    "# - .isdecimal()\n",
    "# - takes: no arguments\n",
    "# - returns: `True` if the string contains only decimal digits (`0-9`) or Unicode decimal numbers\n",
    "# - exceptions: no exceptions\n",
    "# - modifies: does not modify the original string (returns a boolean)\n",
    "# - NOTE: stricter than `.isnumeric()` (does NOT allow fractions, superscripts, or Roman numerals)"
   ]
  },
  {
   "cell_type": "code",
   "execution_count": null,
   "id": "98a2c275-4c7b-4e5f-9df3-26d322daa71f",
   "metadata": {},
   "outputs": [],
   "source": [
    "print(\"12345\".isdecimal())       # <-- note: output: True\n",
    "print(\"٣٤٥\".isdecimal())         # <-- note: output: True (Arabic digits)\n",
    "print(\"Ⅻ\".isdecimal())         # <-- note: output: False (Roman numeral)\n",
    "print(\"²\".isdecimal())          # <-- note: output: False (Superscript 2)\n",
    "print(\"½\".isdecimal())          # <-- note: output: False (Fraction one-half)\n",
    "print(\"-123\".isdecimal())       # <-- note: output: False\n",
    "print(\"3.14\".isdecimal())       # <-- note: output: False\n",
    "print(\"\".isdecimal())           # <-- note: output: Falseaa"
   ]
  },
  {
   "cell_type": "markdown",
   "id": "ec9487cf-570a-4e30-9c56-0450af4cf252",
   "metadata": {},
   "source": [
    "## String Methods: Splitting & Joining"
   ]
  },
  {
   "cell_type": "markdown",
   "id": "26ebb2f9-4a3a-4a18-a11a-4f9b13fbd415",
   "metadata": {},
   "source": [
    "### Method: .split()"
   ]
  },
  {
   "cell_type": "code",
   "execution_count": null,
   "id": "d8df3aed-298b-430b-83c6-7f8b8e0ac1dc",
   "metadata": {},
   "outputs": [],
   "source": [
    "# - .split(sep=None, maxsplit=-1)\n",
    "# - takes: optional separator (string), optional maxsplit (int)\n",
    "# - returns: a list of substrings\n",
    "# - exceptions: none\n",
    "# - modifies: does not modify the original string\n",
    "# - iteration considerations: if using `maxsplit`, ensure your loop accounts for varying list lengths"
   ]
  },
  {
   "cell_type": "code",
   "execution_count": null,
   "id": "cbbb3a1f-470b-4dfd-802d-6d558536eb3c",
   "metadata": {},
   "outputs": [],
   "source": [
    "s = \"Python is great\"\n",
    "print(s.split())                     # <-- note: ['Python', 'is', 'great'] (splits on whitespace)"
   ]
  },
  {
   "cell_type": "code",
   "execution_count": null,
   "id": "b8116233-e45e-4310-9379-637d452fb1dc",
   "metadata": {},
   "outputs": [],
   "source": [
    "s = \"Python   is    great\"           # <-- note: when 'sep=None', .split() treats consecutive spaces as one separator\n",
    "print(s.split())                     # <-- note: ['Python', 'is', 'great'] (extra spaces are ignored)\n",
    "\n",
    "\n",
    "\n",
    "s = \"Python   is    great\"           # <-- note: when sep=\" \", .split() treats consecutive spaces as empty strings\n",
    "print(s.split(sep=' '))              # <-- note: ['Python', '', '', 'is', '', '', '', 'great'] (extra spaces are not ignored)"
   ]
  },
  {
   "cell_type": "code",
   "execution_count": null,
   "id": "1b7798cb-4ba3-4c40-9a05-f6be55b457c2",
   "metadata": {},
   "outputs": [],
   "source": [
    "s = \"Python is great\"\n",
    "print(s.split(maxsplit=1))           # <-- note: ['Python', 'is great'] (only splits once)\n",
    "\n",
    "\n",
    "s = \"Python is great\"\n",
    "print(s.split(maxsplit=0))           # <-- note: puts whole string (including whitespaces into a list as one element)\n",
    "                                     #           turns off splitting entirely. Good for dynamically switching on & off in algos\n"
   ]
  },
  {
   "cell_type": "code",
   "execution_count": null,
   "id": "7f446fef-17ea-410d-9c57-7390bd63c5d8",
   "metadata": {},
   "outputs": [],
   "source": [
    "## Splitting Empty Strings ##\n",
    "\n",
    "s = \"\"\n",
    "print(s.split())                     # <-- note: [] (empty list)\n",
    "print(s.split(\",\"))                  # <-- note: [''] (list with one empty string)\n",
    "print(s.split(\"!\"))                  # <-- note: [''] (list with one empty string)\n",
    "print(s.split(\"?\"))                  # <-- note: [''] (list with one empty string) etc..."
   ]
  },
  {
   "cell_type": "code",
   "execution_count": null,
   "id": "8e5ea13a-457c-4119-b8d1-00d4e80f9058",
   "metadata": {},
   "outputs": [],
   "source": [
    "## Splitting When Separator is Not Found ##\n",
    "\n",
    "s = \"Python is great\"\n",
    "print(s.split(\",\"))                  # <-- note: ['Python is great'] puts whole string (including whitespaces into a list as one element)"
   ]
  },
  {
   "cell_type": "code",
   "execution_count": null,
   "id": "34b67449-38c7-446f-9a4c-ed6fad869145",
   "metadata": {},
   "outputs": [],
   "source": [
    "## Splitting on Non-Space Characters ##\n",
    "\n",
    "s = \"apple,banana,,grape\"\n",
    "print(s.split(\",\"))                  # <-- note: ['apple', 'banana', '', 'grape'] (keeps empty string)\n",
    "                                     # <-- note: preserves empty sections between separators"
   ]
  },
  {
   "cell_type": "code",
   "execution_count": null,
   "id": "a30a6c49-dd00-446a-b5a3-1f5240b94e2b",
   "metadata": {},
   "outputs": [],
   "source": [
    "## Trailing Separators ##\n",
    "\n",
    "s = \"apple,banana,grape,\"\n",
    "print(s.split(\",\"))                  # <-- note: ['apple', 'banana', 'grape', ''] (trailing comma creates an empty string)"
   ]
  },
  {
   "cell_type": "code",
   "execution_count": null,
   "id": "bc6193a2-cbcb-4a86-a12d-f758efed33c2",
   "metadata": {},
   "outputs": [],
   "source": [
    "## Splitting on Multi-Character Separators ##\n",
    "\n",
    "s = \"hello<>world<>Python\"\n",
    "print(s.split(\"<>\"))                 # <-- note: ['hello', 'world', 'Python'] (splits correctly)"
   ]
  },
  {
   "cell_type": "code",
   "execution_count": null,
   "id": "04097c01-5319-4f16-970d-280c3971daf5",
   "metadata": {},
   "outputs": [],
   "source": [
    "## Overlapping Separators ##\n",
    "\n",
    "s = \"hello<<>>world<<>>Python\"\n",
    "print(s.split(\"<<>>\"))               # <-- note: ['hello', 'world', 'Python'] (splits correctly)\n",
    "print(s.split(\"<<>\"))                # <-- note: ['hello', '>world', '>Python'] (not what you expect!)"
   ]
  },
  {
   "cell_type": "code",
   "execution_count": null,
   "id": "4240d869-24a8-4506-b268-f0245dff7321",
   "metadata": {},
   "outputs": [],
   "source": [
    "## Unicode Characters ##\n",
    "\n",
    "s = \"apple🍎banana🍎grape\"\n",
    "print(s.split(\"🍎\"))                 # <-- note: ['apple', 'banana', 'grape'] (splits correctly)"
   ]
  },
  {
   "cell_type": "markdown",
   "id": "0616918e-0b1c-437f-a484-61008dbf2943",
   "metadata": {},
   "source": [
    "### Method: .rsplit()"
   ]
  },
  {
   "cell_type": "code",
   "execution_count": null,
   "id": "f50c85d6-f2e7-478b-a0d6-4ec622c28181",
   "metadata": {},
   "outputs": [],
   "source": [
    "# - .rsplit()\n",
    "# - takes: one optional arg (`sep`), one optional arg (`maxsplit`, default `-1` meaning no limit)\n",
    "# - returns: a list of substrings split from the right, based on `sep`\n",
    "# - exceptions: no exceptions (works even if `sep` is not found)\n",
    "# - modifies: does not modify the original string (returns a new list)\n",
    "# - NOTE: works like `.split()`, but starts splitting from the right instead of the left\n",
    "# -       Difference betweeen rsplit() and split() is seen only when 'maxsplit' parameter is used"
   ]
  },
  {
   "cell_type": "code",
   "execution_count": null,
   "id": "c97cfb74-3585-4e9b-a506-12cadf015e1a",
   "metadata": {},
   "outputs": [],
   "source": [
    "print(\"apple banana cherry\".rsplit())  # <-- note: output: ['apple', 'banana', 'cherry']\n",
    "                                       # <-- note: output: just like .split(), splits on whitespace by default"
   ]
  },
  {
   "cell_type": "code",
   "execution_count": null,
   "id": "0b49d426-9f8a-4e77-9827-42d46f7b4a04",
   "metadata": {},
   "outputs": [],
   "source": [
    "print(\"apple,banana,cherry\".rsplit(\",\"))  # <-- note: output: ['apple', 'banana', 'cherry']\n",
    "                                          # <-- note: output:  "
   ]
  },
  {
   "cell_type": "code",
   "execution_count": null,
   "id": "fcce43b0-9793-4ae2-9530-2e76b99e4f8d",
   "metadata": {},
   "outputs": [],
   "source": [
    "print(\"apple,banana,cherry\".rsplit(\",\", 1))   # <-- note: output: ['apple,banana', 'cherry']\n",
    "\n",
    "print(\"apple,banana,cherry\".split(\",\", 10))   # <-- note: output: ['apple', 'banana,cherry']"
   ]
  },
  {
   "cell_type": "markdown",
   "id": "d2cd5fa3-69a4-458b-ac98-d9e374e9db16",
   "metadata": {},
   "source": [
    "### Method: .partition()"
   ]
  },
  {
   "cell_type": "code",
   "execution_count": null,
   "id": "6dfdfe06-db2e-41ae-a7fd-80126c98937c",
   "metadata": {},
   "outputs": [],
   "source": [
    "# - .partition()\n",
    "# - takes: one required arg (`sep`), the separator to split on\n",
    "# - returns: a tuple (`before`, `sep`, `after`), where:\n",
    "#     - `before` → the part before `sep`\n",
    "#     - `sep` → the separator itself\n",
    "#     - `after` → the part after `sep`\n",
    "# - exceptions: no exceptions (works even if `sep` is not found)\n",
    "# - modifies: does not modify the original string (returns a tuple)\n",
    "# - NOTE: always returns a **3-element tuple**, even if `sep` is missing"
   ]
  },
  {
   "cell_type": "code",
   "execution_count": 155,
   "id": "800f9a27-97d1-4634-b76e-3c821cbfe5f8",
   "metadata": {},
   "outputs": [
    {
     "name": "stdout",
     "output_type": "stream",
     "text": [
      "('apple', '-', 'banana-cherry')\n"
     ]
    }
   ],
   "source": [
    "print(\"apple-banana-cherry\".partition(\"-\"))  # <-- note: output: ('apple', '-', 'banana-cherry')\n",
    "                                             # <-- note: partitions on the first occurence of the separator\n",
    "                                             # <-- note: always returns a 3tuple with string before \"-\" sep at 3tuple[0], sep at 3tuple[1]\n",
    "                                             #           and the rest of the string at 3tuple[2]"
   ]
  },
  {
   "cell_type": "code",
   "execution_count": 158,
   "id": "bfa4f774-84b7-4e26-aca1-431e6a4743f1",
   "metadata": {},
   "outputs": [
    {
     "name": "stdout",
     "output_type": "stream",
     "text": [
      "('', '', '')\n"
     ]
    }
   ],
   "source": [
    "print(\"\".partition(\"-\"))                     # <-- note: output: ('', '', '')"
   ]
  },
  {
   "cell_type": "code",
   "execution_count": 156,
   "id": "b88e3918-56da-4cd4-941c-df10f0c26bbe",
   "metadata": {},
   "outputs": [
    {
     "name": "stdout",
     "output_type": "stream",
     "text": [
      "('apple banana cherry', '', '')\n"
     ]
    }
   ],
   "source": [
    "print(\"apple banana cherry\".partition(\",\"))  # <-- note: output: ('apple banana cherry', '', '')"
   ]
  },
  {
   "cell_type": "code",
   "execution_count": null,
   "id": "aecb5c5c-f2c1-4d7d-89d6-f518c942c4da",
   "metadata": {},
   "outputs": [],
   "source": [
    "print(\"-apple-banana\".partition(\"-\"))        # <-- note: output: ('', '-', 'apple-banana')"
   ]
  },
  {
   "cell_type": "code",
   "execution_count": 157,
   "id": "7444b8ef-7d72-4b91-a948-313b3d3af47d",
   "metadata": {},
   "outputs": [
    {
     "name": "stdout",
     "output_type": "stream",
     "text": [
      "('apple', '-', 'banana-')\n"
     ]
    }
   ],
   "source": [
    "print(\"apple-banana-\".partition(\"-\"))        # <-- note: output: ('apple', '-', 'banana-')"
   ]
  },
  {
   "cell_type": "code",
   "execution_count": null,
   "id": "d4b2122e-584c-47a0-ba32-fd6774ff7998",
   "metadata": {},
   "outputs": [],
   "source": [
    "print(\"apple banana cherry\".partition(\" \"))  # <-- note: output: ('apple', ' ', 'banana cherry')"
   ]
  },
  {
   "cell_type": "code",
   "execution_count": null,
   "id": "68d76b48-c701-47b0-82f0-162a8d49dbb3",
   "metadata": {},
   "outputs": [],
   "source": [
    "print(\"   \".partition(\" \"))                  # <-- note: output: ('', ' ', '  ')"
   ]
  },
  {
   "cell_type": "markdown",
   "id": "1404b859-03cc-4493-9a89-80c2ec22f370",
   "metadata": {},
   "source": [
    "### Method: .rpartition()"
   ]
  },
  {
   "cell_type": "code",
   "execution_count": null,
   "id": "10fffeb3-35c4-4a5f-863a-e1d436bde18c",
   "metadata": {},
   "outputs": [],
   "source": [
    "# - .rpartition()\n",
    "# - takes: one required arg (`sep`), the separator to split on\n",
    "# - returns: a tuple (`before`, `sep`, `after`), where:\n",
    "#     - `before` → the part before the **last occurrence** of `sep`\n",
    "#     - `sep` → the separator itself\n",
    "#     - `after` → the part after the **last occurrence** of `sep`\n",
    "# - exceptions: no exceptions (works even if `sep` is not found)\n",
    "# - modifies: does not modify the original string (returns a tuple)\n",
    "# - NOTE: always returns a **3-element tuple**, even if `sep` is missing"
   ]
  },
  {
   "cell_type": "code",
   "execution_count": 159,
   "id": "b04f3e59-c75d-4849-927c-0c8d51618716",
   "metadata": {},
   "outputs": [
    {
     "name": "stdout",
     "output_type": "stream",
     "text": [
      "('', '', '')\n",
      "('', '', '')\n"
     ]
    }
   ],
   "source": [
    "print(\"\".partition(\"-\"))                     # <-- note: Output: ('', '', '')\n",
    "print(\"\".rpartition(\"-\"))                    # <-- note: Output: ('', '', '')"
   ]
  },
  {
   "cell_type": "code",
   "execution_count": 160,
   "id": "f2e42b7f-9958-4e4d-94ee-5d28f5e73e22",
   "metadata": {},
   "outputs": [
    {
     "name": "stdout",
     "output_type": "stream",
     "text": [
      "('apple banana cherry', '', '')\n",
      "('', '', 'apple banana cherry')\n"
     ]
    }
   ],
   "source": [
    "print(\"apple banana cherry\".partition(\",\"))  # <-- note: Output: ('apple banana cherry', '', '')\n",
    "print(\"apple banana cherry\".rpartition(\",\")) # <-- note: Output: ('', '', 'apple banana cherry')"
   ]
  },
  {
   "cell_type": "code",
   "execution_count": 161,
   "id": "370ac459-305b-4f7c-b84d-8be7fe495176",
   "metadata": {},
   "outputs": [
    {
     "name": "stdout",
     "output_type": "stream",
     "text": [
      "('apple', ',', ',banana,,cherry')\n",
      "('apple,,banana,', ',', 'cherry')\n"
     ]
    }
   ],
   "source": [
    "print(\"apple,,banana,,cherry\".partition(\",\"))  # <-- note: Output: ('apple banana cherry', '', '')\n",
    "print(\"apple,,banana,,cherry\".rpartition(\",\")) # <-- note: Output: ('', '', 'apple banana cherry')"
   ]
  },
  {
   "cell_type": "markdown",
   "id": "9d97a244-8735-4dd6-bdb6-6ebf95b82e2c",
   "metadata": {},
   "source": [
    "### Method: .join()"
   ]
  },
  {
   "cell_type": "code",
   "execution_count": null,
   "id": "ff5afb7a-c163-4af8-aa2e-0acefa18600f",
   "metadata": {},
   "outputs": [],
   "source": [
    "# - .join(iterable)\n",
    "# - takes: an iterable of strings\n",
    "# - returns: a single string with elements joined by the separator\n",
    "# - exceptions: raises 'TypeError' if any element is not a string\n",
    "# - modifies: does not modify the original iterable\n",
    "# - iteration considerations: ensure all elements are strings before joining"
   ]
  },
  {
   "cell_type": "code",
   "execution_count": null,
   "id": "7292c966-85c6-4ade-a380-e33fda630eef",
   "metadata": {},
   "outputs": [],
   "source": [
    "## Basic Functionality ##\n",
    "\n",
    "words = [\"Python\", \"is\", \"awesome\"]\n",
    "result = \" \".join(words)                  # <-- note: joins with a space\n",
    "print(result)                             # <-- note: separator goes where the commas are in the list"
   ]
  },
  {
   "cell_type": "code",
   "execution_count": null,
   "id": "fce4811c-d61a-4cbf-ba67-fd2169862d57",
   "metadata": {},
   "outputs": [],
   "source": [
    "## Joining Empty List ##\n",
    "\n",
    "empty_list = []\n",
    "print(\",\".join(empty_list))               # <-- note: returns an '' (empty string, not None or [])"
   ]
  },
  {
   "cell_type": "code",
   "execution_count": null,
   "id": "7b2feac6-150e-4eb0-8ee6-3ab935de6218",
   "metadata": {},
   "outputs": [],
   "source": [
    "## Joining a List with a Single Elements ##\n",
    "\n",
    "single = [\"Python\"]\n",
    "print(\" \".join(single))          # <-- note: 'Python' (no separator added). sep='H' proves no whitespace at end"
   ]
  },
  {
   "cell_type": "code",
   "execution_count": null,
   "id": "6ae7b5a7-7c39-45cc-b234-85a427a8bdb4",
   "metadata": {},
   "outputs": [],
   "source": [
    "## Joining with Different Separators ##\n",
    "\n",
    "words = [\"Python\", \"is\", \"awesome\"]\n",
    "print(\" | \".join(words))                 # <-- note: 'Python | is | awesome'\n",
    "print(\"\".join(words))                    # <-- note: 'Pythonisawesome' (no separator)\n",
    "print(\"\\n\".join(words))                  # <-- note: multi-line output. separator can be anything!"
   ]
  },
  {
   "cell_type": "code",
   "execution_count": null,
   "id": "c1b1f89d-ffe6-49c1-b326-bd9707053aef",
   "metadata": {},
   "outputs": [],
   "source": [
    "## .join() Only Works on Strings ##\n",
    "\n",
    "numbers = [1, 2, 3]\n",
    "print(\",\".join(numbers))                 # <-- note: TypeError: sequence item 0: expected str instance, int found"
   ]
  },
  {
   "cell_type": "code",
   "execution_count": null,
   "id": "dfec35d8-1a11-4898-b771-6fd4f2759a05",
   "metadata": {},
   "outputs": [],
   "source": [
    "## Fix: Convert to Strings First ## \n",
    "\n",
    "numbers = [1, 2, 3]\n",
    "print(\",\".join(map(str, numbers)))       # <-- note: '1,2,3'. The \",\".join() says, join these strings together with this\n",
    "\n",
    "print(\", \".join(map(str, numbers)))      # <-- note: '1, 2, 3'"
   ]
  },
  {
   "cell_type": "code",
   "execution_count": null,
   "id": "ff33cadd-0f1b-4dbc-bdf6-406248d199f8",
   "metadata": {},
   "outputs": [],
   "source": [
    "## Unicode in .join() ##\n",
    "\n",
    "words = [\"Python\", \"rocks\"]\n",
    "print(\"🔥\".join(words))                 # <-- note: 'Python🔥rocks'"
   ]
  },
  {
   "cell_type": "code",
   "execution_count": null,
   "id": "0f8fdb86-b3d8-48df-b8ba-025b238b3e89",
   "metadata": {},
   "outputs": [],
   "source": [
    "## Joining Self-Referencing Lists ##\n",
    "\n",
    "lst = [\"a\", \"b\"]\n",
    "lst.append(lst)                          # <-- note: self-reference\n",
    "print(\",\".join(str(lst)))                # <-- note: 'TypeError': sequence item 2: expected str instance, list found"
   ]
  },
  {
   "cell_type": "code",
   "execution_count": null,
   "id": "3bb62940-caaf-40b2-8a80-9c77e70245d6",
   "metadata": {},
   "outputs": [],
   "source": [
    "## Joining with Dictionaries ##\n",
    "\n",
    "d = {\"name\": \"Alice\", \"age\": \"25\", \"city\": \"NY\"}\n",
    "\n",
    "print(\", \".join(d))                     # <-- note: 'name, age, city' (only joins keys) if all are strings\n"
   ]
  },
  {
   "cell_type": "code",
   "execution_count": null,
   "id": "4d794b34-eb49-4c92-ae0c-a8b1285a94a3",
   "metadata": {},
   "outputs": [],
   "source": [
    "\n",
    "d = {\"name\": \"Alice\", \"age\": \"25\", \"city\": \"NY\"}\n",
    "print(\", \".join(d.values()))  # <-- note: 'Alice, 25, NY'\n"
   ]
  },
  {
   "cell_type": "markdown",
   "id": "75a6fbd7-51be-4f28-9b7d-c65b5102f623",
   "metadata": {},
   "source": [
    "## String Methods: Formatting"
   ]
  },
  {
   "cell_type": "markdown",
   "id": "1732dbfd-722a-4411-994f-3dd13243b2a6",
   "metadata": {},
   "source": [
    "### Method: .center()"
   ]
  },
  {
   "cell_type": "code",
   "execution_count": null,
   "id": "db5653dd-9db7-4fd5-b04c-ceaf210a5424",
   "metadata": {},
   "outputs": [],
   "source": [
    "# - .center()\n",
    "# - takes: one required arg ('width'), one optional arg ('fillchar', default is \" \")\n",
    "# - returns: a new string centered in a field of given width, padded with 'fillchar'\n",
    "# - exceptions: TypeError if `fillchar` is more than one character\n",
    "# - modifies: does not modify the original string (returns a new one)"
   ]
  },
  {
   "cell_type": "code",
   "execution_count": null,
   "id": "eef3a6f5-6d6d-48d9-9790-28c96f61cb72",
   "metadata": {},
   "outputs": [],
   "source": [
    "print(\"Python\".center(10))                    # <-- note: output: \"  Python  \" (centered with spaces)\n",
    "\n",
    "print(\"Python\".center(100, \"-\"))              # <-- note: output: \"--Python--\" (centered with \"-\")\n",
    "\n",
    "# Error Case:\n",
    "try:\n",
    "    print(\"Python\".center(10, \"**\"))          # <-- note: TypeError: The fill character must be exactly one character long\n",
    "except TypeError as e:\n",
    "    print(repr(e))\n"
   ]
  },
  {
   "cell_type": "markdown",
   "id": "58291b22-573d-4bbd-8510-2a1f2f3a6be7",
   "metadata": {},
   "source": [
    "### Method: .ljust()"
   ]
  },
  {
   "cell_type": "code",
   "execution_count": null,
   "id": "63544023-0dde-42fc-b812-a14ed9e00a2e",
   "metadata": {},
   "outputs": [],
   "source": [
    "# - .ljust()\n",
    "# - takes: one required arg ('width'), one optional arg ('fillchar', default \" \")\n",
    "# - returns: a new string left-aligned within `width` characters, padded on the right with 'fillchar'\n",
    "# - exceptions: TypeError if 'fillchar' is more than one character\n",
    "# - modifies: does not modify the original string (returns a new one)\n",
    "# - NOTE: commonly used for aligning text in tables, formatting reports, or creating fixed-width output\n",
    "# -       .rjust() is the generalization of .zfill(), and .ljust() is the generalization of .zfill() for the right margin"
   ]
  },
  {
   "cell_type": "code",
   "execution_count": null,
   "id": "371c6575-2928-4abf-aa8a-21271ad1c045",
   "metadata": {},
   "outputs": [],
   "source": [
    "print(\"Python\".ljust(10))            # <-- note: output: \"Python    \"\n",
    "print(\"Python\".ljust(10, \"-\"))       # <-- note: output: \"Python----\"\n",
    "print(\"Python\".ljust(6))             # <-- note: output: \"Python\" , if width <= len(str), python returns the string as is\n",
    "print(\"Python\".ljust(3))             # <-- note: output: \"Python\" , width <= len(str)\n",
    "print(\"Python\".ljust(10, \"0\"))"
   ]
  },
  {
   "cell_type": "code",
   "execution_count": null,
   "id": "626dc1a5-ce2d-4509-87d5-b403707d061c",
   "metadata": {},
   "outputs": [],
   "source": [
    "print(\"\".ljust(5, \"*\"))                # <-- note: output: \"*****\"\n",
    "print(\"你好\".ljust(6, \"。\"))           # <-- note: output: \"你好。。\"\n",
    "print(\"Price:\".ljust(10) + \"$5.00\")   # <-- note: output: \"Price:    $5.00\""
   ]
  },
  {
   "cell_type": "code",
   "execution_count": null,
   "id": "9a27e238-dae3-48e9-a114-7fe53d7024a3",
   "metadata": {},
   "outputs": [],
   "source": [
    "try:\n",
    "    print(\"Python\".ljust(10, \"--\"))  # <-- note: TypeError: The fill character must be exactly one character long\n",
    "except TypeError as e:\n",
    "    print(repr(e))"
   ]
  },
  {
   "cell_type": "markdown",
   "id": "1068843d-bfd9-45f7-b928-2f6e395cdd13",
   "metadata": {},
   "source": [
    "### Method: .zfill()"
   ]
  },
  {
   "cell_type": "code",
   "execution_count": null,
   "id": "2d9ddddc-d0b3-4bee-a3af-3210a9a5ec18",
   "metadata": {},
   "outputs": [],
   "source": [
    "# - .zfill()\n",
    "# - takes: one required arg (`width`)\n",
    "# - returns: a new string padded with leading zeros (`0`) to ensure it is at least `width` characters long\n",
    "# - exceptions: no exceptions\n",
    "# - modifies: does not modify the original string (returns a new one)\n",
    "# - NOTE: commonly used for formatting numbers, padding numeric strings, or ensuring fixed-length output\n",
    "# -       the width must exceed the len(str). The # of 0's to appear padded on the left = width - len(str)\n",
    "# -       If there is a +, or - sign at index 0, then the + or - sign comes before the 0's"
   ]
  },
  {
   "cell_type": "code",
   "execution_count": null,
   "id": "7d06b65f-0a54-47a4-8c56-2aa804159709",
   "metadata": {},
   "outputs": [],
   "source": [
    "print(\"42\".zfill(5))                 # <-- note: output: \"00042\"\n",
    "print(\"hello\".zfill(10))             # <-- note: output: \"00000hello\"\n",
    "print(\"Python\".zfill(6))             # <-- note: output: \"Python\", width <= len(str), string is returned as is\n",
    "print(\"Python\".zfill(3))             # <-- note: output: \"Python\", if width <= len(str), then Python returns the string as is"
   ]
  },
  {
   "cell_type": "code",
   "execution_count": null,
   "id": "2880ca9c-a52b-406a-a177-94fe569bc69c",
   "metadata": {},
   "outputs": [],
   "source": [
    "print(\"\".zfill(5))                   # <-- note: output: \"00000\"\n",
    "print(\"-42\".zfill(6))                # <-- note: output: \"-00042\"\n",
    "print(\"+42\".zfill(6))                # <-- note: output: \"+00042\"\n",
    "print(\"你好\".zfill(6))               # <-- note: output: \"00你好 \""
   ]
  },
  {
   "cell_type": "markdown",
   "id": "fb4375ab-721c-4eeb-963a-1f31e774ad3b",
   "metadata": {},
   "source": [
    "### Method: .format()"
   ]
  },
  {
   "cell_type": "code",
   "execution_count": null,
   "id": "c710caa6-15e0-4a9f-898f-90ac0cf86892",
   "metadata": {},
   "outputs": [],
   "source": [
    "# - .format()\n",
    "# - takes: multiple positional (`{}`) and/or keyword (`{name}`) arguments\n",
    "# - returns: a new string with placeholders replaced using the provided arguments\n",
    "# - exceptions: IndexError if a positional placeholder is missing, KeyError if a keyword argument is missing\n",
    "# - modifies: does not modify the original string (returns a formatted copy)\n",
    "# - NOTE: replaced by f-strings (`f\"{var}\"`) in Python 3.6+, but still useful for complex formatting cases\n",
    "# -       positional & keyword arguments can be combined"
   ]
  },
  {
   "cell_type": "code",
   "execution_count": null,
   "id": "5f144ff6-5781-4d06-bb4e-214b63981988",
   "metadata": {},
   "outputs": [],
   "source": [
    "print(\"Hello, {}!\".format(\"Alice\"))                   # <-- note: output: \"Hello, Alice!\""
   ]
  },
  {
   "cell_type": "code",
   "execution_count": null,
   "id": "e5d9d989-2fd1-4354-b281-d9e280fb8b50",
   "metadata": {},
   "outputs": [],
   "source": [
    "print(\"{} {} {}\".format(\"red\", \"green\", \"blue\"))      # <-- note: output: \"red green blue\""
   ]
  },
  {
   "cell_type": "code",
   "execution_count": null,
   "id": "6dd877af-3793-45e6-88e8-7d6e54962e5d",
   "metadata": {},
   "outputs": [],
   "source": [
    "print(\"{1} {0} {2}\".format(\"one\", \"two\", \"three\"))    # <-- note: output: \"two one three\""
   ]
  },
  {
   "cell_type": "code",
   "execution_count": null,
   "id": "fb083b17-2841-4edd-9f5f-404d9d114ae3",
   "metadata": {},
   "outputs": [],
   "source": [
    "print(\"Hello, {name}!\".format(name=\"Alice\"))          # <-- note: output: \"Hello, Alice!\""
   ]
  },
  {
   "cell_type": "code",
   "execution_count": null,
   "id": "0f4fd8d0-ae42-4dc1-beed-9ca51ed79751",
   "metadata": {},
   "outputs": [],
   "source": [
    "print(\"{first} + {second} = {result}\".format(first=5, second=3, result=8))         # <-- note: output: \"5 + 3 = 8\""
   ]
  },
  {
   "cell_type": "code",
   "execution_count": null,
   "id": "1aff4a77-c760-4ee9-a265-15301ce98ded",
   "metadata": {},
   "outputs": [],
   "source": [
    "print(\"My name is {0} and I am {age} years old.\".format(\"Alice\", age=25))          # <-- note: output: \"My name is Alice and I am 25 years old.\""
   ]
  },
  {
   "cell_type": "code",
   "execution_count": null,
   "id": "515025ab-68dc-4cbe-a567-3ea9727b9a45",
   "metadata": {},
   "outputs": [],
   "source": [
    "print(\"The number {0} appears twice: {0}\".format(42))                              # <-- note: output: \"The number 42 appears twice: 42\""
   ]
  },
  {
   "cell_type": "code",
   "execution_count": null,
   "id": "b64f7852-7606-43d1-ace1-08030821c021",
   "metadata": {},
   "outputs": [],
   "source": [
    "data = {\"name\": \"Alice\", \"age\": 25}\n",
    "print(\"Hello, {name} & {age}!\".format(**data))         # <-- note: ** unpacks the dictionaries values and passes them to the string"
   ]
  },
  {
   "cell_type": "code",
   "execution_count": null,
   "id": "e437a5fd-19df-46e6-9e44-96a6bf84ddcb",
   "metadata": {},
   "outputs": [],
   "source": [
    "data = {\"name\": \"Alice\", \"age\": 25}\n",
    "print(\"Hello, {name}! You are {age} years old.\".format(name=data[\"name\"], age=data[\"age\"]))  # <-- note: output: \"Hello, Alice! You are 25 years old.\"\n"
   ]
  },
  {
   "cell_type": "code",
   "execution_count": null,
   "id": "ecf50bbb-e2d7-4109-819b-3daabdfd7b58",
   "metadata": {},
   "outputs": [],
   "source": [
    "try:\n",
    "    print(\"Hello, {name}!\".format(age=30))             # <-- note: missing 'name' keyword argument\n",
    "except KeyError as e:\n",
    "    print(repr(e))                                     # <-- note: output: KeyError: 'name'"
   ]
  },
  {
   "cell_type": "code",
   "execution_count": null,
   "id": "6e02d08b-da5b-40c4-8379-e382c7d29592",
   "metadata": {},
   "outputs": [],
   "source": [
    "try:\n",
    "    print(\"Hello, {0}, {4}, {1}!\".format(\"index\", \"error\"))  \n",
    "except IndexError as e:\n",
    "    print(repr(e))                                     # <-- note: output: IndexError: 'Replacement index 4 out of range for positional args tuple'"
   ]
  },
  {
   "cell_type": "markdown",
   "id": "5aa32c41-1b8a-48bf-a6bc-75b18e701474",
   "metadata": {},
   "source": [
    "### Method: .format_map()"
   ]
  },
  {
   "cell_type": "code",
   "execution_count": null,
   "id": "e1bf6a30-864e-4c5b-b704-f85172d93c25",
   "metadata": {},
   "outputs": [],
   "source": [
    "# - .format_map()\n",
    "# - takes: one required arg ('mapping'), a dictionary containing values to substitute\n",
    "# - returns: a new string with placeholders replaced using the given dictionary\n",
    "# - exceptions: KeyError if a placeholder is missing in the dictionary\n",
    "# - modifies: does not modify the original string (returns a formatted copy)\n",
    "# - NOTE: best used with the default dict to provide a default value (or just use the newer .format() method which allows a default value)"
   ]
  },
  {
   "cell_type": "code",
   "execution_count": null,
   "id": "2151259e-2497-4cba-9440-e40b5d4b0659",
   "metadata": {},
   "outputs": [],
   "source": [
    "data = {\"name\": \"Alice\", \"age\": 25}\n",
    "print(\"Hello, my name is {name} and I am {age}.\".format_map(data))  # <-- note: output: \"Hello, my name is Alice and I am 25 years old.\""
   ]
  },
  {
   "cell_type": "code",
   "execution_count": null,
   "id": "8db80894-a957-4e28-8a40-f10f352bc1b3",
   "metadata": {},
   "outputs": [],
   "source": [
    "from collections import defaultdict\n",
    "\n",
    "try:\n",
    "    data = defaultdict(lambda: \"Unknown\", {\"name\": \"Alice\"})\n",
    "    print(\"{name} is {age} years old.\".format_map(data))             # <-- note: KeyError: 'surname'\n",
    "except KeyError as e:\n",
    "    print(repr(e))"
   ]
  },
  {
   "cell_type": "code",
   "execution_count": null,
   "id": "c29abaaf-e1e0-42a4-a262-ef5afdea05d1",
   "metadata": {},
   "outputs": [],
   "source": []
  }
 ],
 "metadata": {
  "kernelspec": {
   "display_name": "Python 3 (ipykernel)",
   "language": "python",
   "name": "python3"
  },
  "language_info": {
   "codemirror_mode": {
    "name": "ipython",
    "version": 3
   },
   "file_extension": ".py",
   "mimetype": "text/x-python",
   "name": "python",
   "nbconvert_exporter": "python",
   "pygments_lexer": "ipython3",
   "version": "3.10.13"
  }
 },
 "nbformat": 4,
 "nbformat_minor": 5
}
