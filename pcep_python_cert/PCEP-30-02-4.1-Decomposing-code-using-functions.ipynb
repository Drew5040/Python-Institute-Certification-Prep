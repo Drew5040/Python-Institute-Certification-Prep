{
 "cells": [
  {
   "cell_type": "markdown",
   "id": "9d685e95-68a3-43e7-8b2b-5feb9aad8fd9",
   "metadata": {},
   "source": [
    "## PCEP-30-02 4.1 – Decomposing code using functions"
   ]
  },
  {
   "cell_type": "code",
   "execution_count": null,
   "id": "35bcc4bf-a04c-4218-a88d-20e64a8de583",
   "metadata": {},
   "outputs": [],
   "source": []
  },
  {
   "cell_type": "code",
   "execution_count": null,
   "id": "f859c3dc-7d64-4bea-be0d-23fbabb47aef",
   "metadata": {},
   "outputs": [],
   "source": []
  },
  {
   "cell_type": "code",
   "execution_count": null,
   "id": "4cb4c7a0-aa36-4687-ad5e-fda45ad3fcb1",
   "metadata": {},
   "outputs": [],
   "source": []
  },
  {
   "cell_type": "code",
   "execution_count": 7,
   "id": "56a81493-875a-434e-97ad-719671d33557",
   "metadata": {},
   "outputs": [
    {
     "name": "stdin",
     "output_type": "stream",
     "text": [
      "Hello!! Please enter your name, and two random numbers between 1 & 10, separating all values by a space: name #1 #2  Andrew 9 9\n"
     ]
    },
    {
     "name": "stdout",
     "output_type": "stream",
     "text": [
      "Andrew 9 9\n",
      "Number 1: 9, and Number 2 9 are equal!! Try again!\n",
      "The sum of the two numbers 18, is even!\n"
     ]
    }
   ],
   "source": [
    "def greet():\n",
    "    name, num1, num2 = input(\"Hello!! Please enter your name, and two random numbers \" \\\n",
    "                             \"between 1 & 10, separating all values by a space: name #1 #2 \").split()\n",
    "    print(name, num1, num2)\n",
    "    return name, int(num1), int(num2)\n",
    "\n",
    "def larger_number(name, num1, num2):\n",
    "    if num1 > num2:\n",
    "        print(f'Number 1: {num1}, is larger')\n",
    "        return name, num1, num2\n",
    "    elif num1 == num2:\n",
    "        print(f'Number 1: {num1}, and Number 2 {num2} are equal!! Try again!')\n",
    "        return name, num1, num2\n",
    "    else:\n",
    "        print(f'Number 2: {num2}, is larger')\n",
    "        return name, num1, num2\n",
    "\n",
    "def even_or_odd(name, num1, num2):\n",
    "    if (num1 + num2) % 2 == 0:\n",
    "        print(f'The sum of the two numbers {num1 + num2}, is even!')\n",
    "        return None\n",
    "    else:\n",
    "        print(f'The sum of the two numbers: {num1 + num2} is odd!')\n",
    "        return None\n",
    "\n",
    "def main():\n",
    "\n",
    "    name, num1, num2 = greet()\n",
    "    name, num1, num2 = larger_number(name, num1, num2)\n",
    "    even_or_odd(name, num1, num2)\n",
    "\n",
    "\n",
    "if __name__ == '__main__':\n",
    "    main()\n",
    "    "
   ]
  },
  {
   "cell_type": "code",
   "execution_count": 9,
   "id": "54f094c3-c9ae-4440-b49e-d885ce323cf9",
   "metadata": {},
   "outputs": [
    {
     "name": "stdout",
     "output_type": "stream",
     "text": [
      "Global_Name\n"
     ]
    }
   ],
   "source": [
    "name = 'Global_Name'\n",
    "\n",
    "def greet():\n",
    "    print(name)\n",
    "\n",
    "greet()"
   ]
  },
  {
   "cell_type": "code",
   "execution_count": 12,
   "id": "ac6cfce8-278f-462d-b25f-b08b7bd58c23",
   "metadata": {},
   "outputs": [
    {
     "ename": "SyntaxError",
     "evalue": "no binding for nonlocal 'name' found (4240618219.py, line 4)",
     "output_type": "error",
     "traceback": [
      "\u001b[0;36m  Cell \u001b[0;32mIn[12], line 4\u001b[0;36m\u001b[0m\n\u001b[0;31m    nonlocal name\u001b[0m\n\u001b[0m    ^\u001b[0m\n\u001b[0;31mSyntaxError\u001b[0m\u001b[0;31m:\u001b[0m no binding for nonlocal 'name' found\n"
     ]
    }
   ],
   "source": [
    "name = \"Alice\"  # global scope\n",
    "\n",
    "def greet():\n",
    "    name = input(\"Enter your name: \")\n",
    "    print(\"Hello,\", name)\n",
    "\n",
    "greet()\n",
    "print(\"Goodbye,\", name)\n"
   ]
  },
  {
   "cell_type": "code",
   "execution_count": 13,
   "id": "2ee20762-9edd-4f06-8c2f-82923188ba32",
   "metadata": {},
   "outputs": [],
   "source": [
    "def get_valid_input():\n",
    "    while True:\n",
    "        user_input = input(\"Enter your name, and two numbers between 1 and 10 (e.g. Alice 3 8): \")\n",
    "        parts = user_input.split()\n",
    "\n",
    "        if len(parts) != 3:\n",
    "            print(\"❌ Please enter exactly three values: name number1 number2\")\n",
    "            continue\n",
    "\n",
    "        name, num1_str, num2_str = parts\n",
    "\n",
    "        if not num1_str.isdigit() or not num2_str.isdigit():\n",
    "            print(\"❌ The numbers must be numeric digits.\")\n",
    "            continue\n",
    "\n",
    "        num1 = int(num1_str)\n",
    "        num2 = int(num2_str)\n",
    "\n",
    "        if not (1 <= num1 <= 10 and 1 <= num2 <= 10):\n",
    "            print(\"❌ Numbers must be between 1 and 10.\")\n",
    "            continue\n",
    "\n",
    "        return name, num1, num2\n"
   ]
  },
  {
   "cell_type": "code",
   "execution_count": 15,
   "id": "d8c59d98-7d4f-4b55-8dfe-93b2372e5117",
   "metadata": {},
   "outputs": [
    {
     "name": "stdin",
     "output_type": "stream",
     "text": [
      "Enter your name, and two numbers between 1 and 10 (e.g. Alice 3 8):  200 300 400\n"
     ]
    },
    {
     "name": "stdout",
     "output_type": "stream",
     "text": [
      "❌ Numbers must be between 1 and 10.\n"
     ]
    },
    {
     "name": "stdin",
     "output_type": "stream",
     "text": [
      "Enter your name, and two numbers between 1 and 10 (e.g. Alice 3 8):  1 9 3\n"
     ]
    },
    {
     "name": "stdout",
     "output_type": "stream",
     "text": [
      "1 9 3\n"
     ]
    }
   ],
   "source": [
    "name, num1, num2 = get_valid_input()\n",
    "print(name, num1, num2)"
   ]
  },
  {
   "cell_type": "code",
   "execution_count": null,
   "id": "4969c871-6cb9-4ce2-9d61-3e29eed108c4",
   "metadata": {},
   "outputs": [],
   "source": [
    "# echo(2)\n",
    "#     print(\"Hi\")\n",
    "#         echo(1)\n",
    "#             print(\"Hi\")\n",
    "#                 echo(0)\n",
    "#                 base-case: 0\n",
    "#             print(\"Bye\")\n",
    "#         print(\"Bye\")"
   ]
  },
  {
   "cell_type": "code",
   "execution_count": 17,
   "id": "e212d606-2879-451c-bc0c-5de88d07312f",
   "metadata": {},
   "outputs": [
    {
     "name": "stdout",
     "output_type": "stream",
     "text": [
      "Hi\n",
      "Hi\n",
      "Hi\n",
      "Hi\n",
      "Hi\n",
      "Hi\n",
      "Hi\n",
      "Hi\n",
      "Bye\n",
      "Bye\n",
      "Bye\n",
      "Bye\n",
      "Bye\n",
      "Bye\n",
      "Bye\n",
      "Bye\n"
     ]
    }
   ],
   "source": [
    "def echo(n):\n",
    "    if n == 0:\n",
    "        return\n",
    "    print(\"Hi\")\n",
    "    echo(n - 1)\n",
    "    print(\"Bye\")\n",
    "\n",
    "echo(8)\n"
   ]
  },
  {
   "cell_type": "code",
   "execution_count": null,
   "id": "333cda81-cdde-4da6-ab06-d346114a70a7",
   "metadata": {},
   "outputs": [],
   "source": []
  },
  {
   "cell_type": "code",
   "execution_count": null,
   "id": "a1aa7811-06fa-4336-8f96-0c0d6b8c5fd4",
   "metadata": {},
   "outputs": [],
   "source": []
  },
  {
   "cell_type": "code",
   "execution_count": null,
   "id": "c29cadbd-d3ec-4954-ba93-aa93d7d1b060",
   "metadata": {},
   "outputs": [],
   "source": []
  },
  {
   "cell_type": "code",
   "execution_count": 18,
   "id": "f1aae72e-f77c-4b56-8962-d6603ba2add4",
   "metadata": {},
   "outputs": [],
   "source": [
    "# func(3): <- left\n",
    "#     func(2): <- left\n",
    "#         func(1): <- left\n",
    "#             func(0): <- left\n",
    "#             print(1)\n",
    "#             func(0): <- right\n",
    "#     print(2)\n",
    "#     func(1): <- right\n",
    "#         func(0): <- left\n",
    "#         print(1) \n",
    "#         func(0): <- right\n",
    "# print(3)\n",
    "# func(2): <- right\n",
    "#     func(1): <- left\n",
    "#         func(0): <- left\n",
    "#         print(1)\n",
    "#         func(0): <- right\n",
    "# print(2)\n",
    "# func(1): <- right\n",
    "#     func(0): <- left\n",
    "#     print(1)\n",
    "#     func(0): <- right"
   ]
  },
  {
   "cell_type": "code",
   "execution_count": 24,
   "id": "5ccf3822-b511-4a99-aba3-620d04efaaa6",
   "metadata": {},
   "outputs": [
    {
     "name": "stdout",
     "output_type": "stream",
     "text": [
      "1 1 2 1 1 2 3 "
     ]
    }
   ],
   "source": [
    "def func(n):\n",
    "    if n == 0:\n",
    "        return\n",
    "    \n",
    "    func(n - 1)\n",
    "    func(n - 1)\n",
    "    print(n, end=' ')\n",
    "    \n",
    "func(3)"
   ]
  },
  {
   "cell_type": "code",
   "execution_count": null,
   "id": "560dd476-e978-4fd6-9c79-a62ebc73d485",
   "metadata": {},
   "outputs": [],
   "source": [
    "## Print Execution Orders\n",
    "\n",
    "# Pre-order: root -> left -> right\n",
    "# Post-order: left -> right -> root\n",
    "# In-order: left -> root -> right"
   ]
  },
  {
   "cell_type": "code",
   "execution_count": null,
   "id": "4d758c9f-ed99-486c-9487-1703ff5068e9",
   "metadata": {},
   "outputs": [],
   "source": []
  },
  {
   "cell_type": "code",
   "execution_count": null,
   "id": "bf9830da-4ac4-40e4-8c49-261c7124fd4c",
   "metadata": {},
   "outputs": [],
   "source": [
    "                      f1(3)\n",
    "                  /           \\\n",
    "             f2(2)              f9(2)\n",
    "            /      \\          /       \\\n",
    "      f3(1)       f6(1)    f10(1)     f13(1)\n",
    "    /    \\       /   \\     /    \\       /    \\\n",
    " f4(0) f5(0) f7(0) f8(0) f11(0) f12(0) f14(0) f15(0)\n"
   ]
  },
  {
   "cell_type": "code",
   "execution_count": null,
   "id": "6862c772-32c0-41c4-a2e6-39990a9edd66",
   "metadata": {},
   "outputs": [],
   "source": [
    "# func1(3): <- left\n",
    "#     func2(2): <- left\n",
    "#         func3(1): <- left\n",
    "#             func4(0): <- left\n",
    "#             print(1)\n",
    "#             func5(0): <- right\n",
    "#     print(2)\n",
    "#     func6(1): <- right\n",
    "#         func7(0): <- left\n",
    "#         print(1) \n",
    "#         func8(0): <- right\n",
    "# print(3)\n",
    "# func9(2): <- right\n",
    "#     func10(1): <- left\n",
    "#         func11(0): <- left\n",
    "#         print(1)\n",
    "#         func12(0): <- right\n",
    "# print(2)\n",
    "# func13(1): <- right\n",
    "#     func14(0): <- left\n",
    "#     print(1)\n",
    "#     func15(0): <- right"
   ]
  },
  {
   "cell_type": "code",
   "execution_count": null,
   "id": "d4a219d6-fc51-4a7a-a5e6-59b22eede96a",
   "metadata": {},
   "outputs": [],
   "source": []
  },
  {
   "cell_type": "code",
   "execution_count": null,
   "id": "ccc6eeac-fb8a-4222-ae01-d7cfbabf6ece",
   "metadata": {},
   "outputs": [],
   "source": []
  },
  {
   "cell_type": "code",
   "execution_count": null,
   "id": "848232de-373c-40ea-ab60-3e8f460f6cca",
   "metadata": {},
   "outputs": [],
   "source": []
  },
  {
   "cell_type": "code",
   "execution_count": null,
   "id": "c49f4145-cc8a-496c-b0a6-c616f06317b3",
   "metadata": {},
   "outputs": [],
   "source": []
  },
  {
   "cell_type": "code",
   "execution_count": null,
   "id": "fa50e2ec-fb06-4ecf-940f-312584757105",
   "metadata": {},
   "outputs": [],
   "source": []
  },
  {
   "cell_type": "code",
   "execution_count": null,
   "id": "567624fd-6463-4b55-bf37-03c86d9d78df",
   "metadata": {},
   "outputs": [],
   "source": []
  },
  {
   "cell_type": "code",
   "execution_count": null,
   "id": "be4082fe-aedc-46f9-89d1-74ae40bab5be",
   "metadata": {},
   "outputs": [],
   "source": []
  },
  {
   "cell_type": "code",
   "execution_count": null,
   "id": "c975b05c-428f-4b97-8640-eac2682d00d8",
   "metadata": {},
   "outputs": [],
   "source": []
  },
  {
   "cell_type": "code",
   "execution_count": null,
   "id": "9d4dd30f-43a7-4cdc-9ab0-8cc2d00f7d91",
   "metadata": {},
   "outputs": [],
   "source": []
  },
  {
   "cell_type": "code",
   "execution_count": null,
   "id": "c45d3492-1f46-4646-953a-b658f2cc9a03",
   "metadata": {},
   "outputs": [],
   "source": []
  }
 ],
 "metadata": {
  "kernelspec": {
   "display_name": "Python 3 (ipykernel)",
   "language": "python",
   "name": "python3"
  },
  "language_info": {
   "codemirror_mode": {
    "name": "ipython",
    "version": 3
   },
   "file_extension": ".py",
   "mimetype": "text/x-python",
   "name": "python",
   "nbconvert_exporter": "python",
   "pygments_lexer": "ipython3",
   "version": "3.10.13"
  }
 },
 "nbformat": 4,
 "nbformat_minor": 5
}
