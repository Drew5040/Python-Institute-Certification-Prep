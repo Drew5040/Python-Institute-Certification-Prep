{
 "cells": [
  {
   "cell_type": "markdown",
   "id": "d46128b9-2116-4e6c-b72b-47d610332de6",
   "metadata": {},
   "source": [
    "# PCEP-30-02 3.1 - Collect and Process Data Using Lists"
   ]
  },
  {
   "cell_type": "code",
   "execution_count": null,
   "id": "c32eaea6-310f-4fae-ad05-78e0ed70e613",
   "metadata": {},
   "outputs": [],
   "source": [
    "# A list in Python is a mutable, ordered collection of elements that can hold different data types. Lists are enclosed in square brackets [ ], \n",
    "# with elements separated by commas.\n",
    "\n",
    "# Creating Lists (Constructing Vectors)\n",
    "# Empty list: my_list = []\n",
    "# List with elements: numbers = [1, 2, 3, 4, 5]\n",
    "# Mixed data types: mixed = [1, \"Hello\", 3.14, True]\n",
    "# List from a function: list_from_range = list(range(5)) → [0, 1, 2, 3, 4]\n",
    "# List comprehension: squared = [x ** 2 for x in range(5)] → [0, 1, 4, 9, 16]"
   ]
  },
  {
   "cell_type": "markdown",
   "id": "08996992-730c-4514-a66c-52e92813f09d",
   "metadata": {},
   "source": [
    "### Indexing & Slicing: Lists"
   ]
  },
  {
   "cell_type": "code",
   "execution_count": null,
   "id": "b7b1dc22-62ea-42a7-9c25-1550bc1ec64f",
   "metadata": {},
   "outputs": [],
   "source": [
    "# Each element in a list has an index, starting from 0.\n",
    "\n",
    "## Indexing ##\n",
    "# Accessing an element: my_list[2] (Retrieves the 3rd element)\n",
    "# Negative indexing: my_list[-1] (Last element)\n",
    "# Modifying an element: my_list[0] = \"New Value\"\n",
    "\n",
    "\n",
    "## Slicing ##\n",
    "# list[start:end] → Extracts elements from start index to end-1\n",
    "# list[:end] → Start from the beginning\n",
    "# list[start:] → Go until the end\n",
    "# list[start:end:step] → Extract with a specific step"
   ]
  },
  {
   "cell_type": "code",
   "execution_count": null,
   "id": "cd8ffd64-83a9-4288-b4b8-57152aea09fc",
   "metadata": {},
   "outputs": [],
   "source": [
    "numbers = [10, 20, 30, 40, 50, 60]\n",
    "\n",
    "print(numbers[1:4])                             # [20, 30, 40]\n",
    "print(numbers[:3])                              # [10, 20, 30]\n",
    "print(numbers[2:])                              # [30, 40, 50, 60]\n",
    "print(numbers[::2])                             # [10, 30, 50]\n",
    "print(numbers[::-1])                            # Reverse the list: [60, 50, 40, 30, 20, 10]\n"
   ]
  },
  {
   "cell_type": "markdown",
   "id": "f322b584-1cb2-46eb-8501-ac0a7bff4970",
   "metadata": {},
   "source": [
    "## List Methods: Adding Elements"
   ]
  },
  {
   "cell_type": "markdown",
   "id": "81276678-742d-44b2-bd42-60a29fd03221",
   "metadata": {},
   "source": [
    "### Method: .extend()"
   ]
  },
  {
   "cell_type": "code",
   "execution_count": null,
   "id": "eb4b55e0-7fc2-4d58-93d3-21f2b25bd5c9",
   "metadata": {},
   "outputs": [],
   "source": [
    "# - .extend(iter)\n",
    "# - takes: iterable\n",
    "# - returns: None\n",
    "# - exceptions: never\n",
    "# - modifies: in-place"
   ]
  },
  {
   "cell_type": "code",
   "execution_count": null,
   "id": "ebdf6baa-8331-4586-9bb9-600c78089fa9",
   "metadata": {},
   "outputs": [],
   "source": [
    "lst = [1, 2, 3]\n",
    "print(id(lst))                                       # <-- id: 140249923650624\n",
    "lst.extend([4, 5])                                   # <-- modifies in-place\n",
    "print(id(lst))                                       # <-- id: 140249923650624                       \n",
    "print(lst)                                      "
   ]
  },
  {
   "cell_type": "code",
   "execution_count": null,
   "id": "79b526a0-7111-47bd-8264-f74466fb9218",
   "metadata": {},
   "outputs": [],
   "source": [
    "lst = [1, 2, 3]\n",
    "lst.extend([])  \n",
    "print(lst) "
   ]
  },
  {
   "cell_type": "code",
   "execution_count": null,
   "id": "37d5f555-8f73-4021-a733-590272bd5f11",
   "metadata": {},
   "outputs": [],
   "source": [
    "lst = [1, 2, 3]\n",
    "lst.extend(lst)                                      # <-- note: extends itself, but doesn't cause recursion from self reference [...]\n",
    "print(lst)  "
   ]
  },
  {
   "cell_type": "code",
   "execution_count": null,
   "id": "a6af658b-56e9-4cea-9cfe-6d1ef2485c75",
   "metadata": {},
   "outputs": [],
   "source": [
    "lst = [1, 2, 3]\n",
    "lst.extend(\"abc\")                                    # <-- note: adds each str literal as a separate element  \n",
    "print(lst)  "
   ]
  },
  {
   "cell_type": "code",
   "execution_count": null,
   "id": "6327d6c0-59ef-4920-9d23-e04d9d427f2c",
   "metadata": {},
   "outputs": [],
   "source": [
    "lst = [1, 2, 3]\n",
    "lst.extend((4, 5, 6))  \n",
    "print(lst)  "
   ]
  },
  {
   "cell_type": "code",
   "execution_count": null,
   "id": "5633e0ca-b00a-426a-82b8-2eeaf86331e0",
   "metadata": {},
   "outputs": [],
   "source": [
    "lst = [1, 2, 3]\n",
    "lst.extend({'key1': 1, 'key2': 2})                   # <-- note: only adds 'keys'   \n",
    "print(lst) "
   ]
  },
  {
   "cell_type": "code",
   "execution_count": null,
   "id": "d09d1714-f05e-41ed-bb99-9d1a28027840",
   "metadata": {},
   "outputs": [],
   "source": [
    "lst = [1, 2, 3]\n",
    "lst.extend({'x': 10, 'y': 20, 'z': 30}.values())     # <-- note: only adds 'values'\n",
    "print(lst) "
   ]
  },
  {
   "cell_type": "code",
   "execution_count": null,
   "id": "5c26c77a-d1b3-481c-8eb3-abf9c0aaa0a0",
   "metadata": {},
   "outputs": [],
   "source": [
    "lst = [1, 2, 3]\n",
    "lst.extend({'x': 10, 'y': 20, 'z': 30}.items())      # <-- note: adds tuple elements (key, value)\n",
    "print(lst) "
   ]
  },
  {
   "cell_type": "code",
   "execution_count": null,
   "id": "a272d7ae-5f46-4d49-8e85-297d154397e3",
   "metadata": {},
   "outputs": [],
   "source": [
    "lst = [1, 2, 3]\n",
    "lst.extend(set({'a', 1, 'b', 2}))                    # <-- note: order is random due to hashing\n",
    "print(lst)  "
   ]
  },
  {
   "cell_type": "code",
   "execution_count": null,
   "id": "9c6c41e1-9343-45e6-ac56-936b154f4d90",
   "metadata": {},
   "outputs": [],
   "source": [
    "lst = [1, 2, 3]\n",
    "lst.extend(frozenset({'c', 1, 'b', 2}))              # <-- note: order is random due to hashing\n",
    "print(lst)  "
   ]
  },
  {
   "cell_type": "code",
   "execution_count": null,
   "id": "7a731642-1055-4897-9bc7-dd5ceb00a951",
   "metadata": {},
   "outputs": [],
   "source": []
  },
  {
   "cell_type": "code",
   "execution_count": null,
   "id": "313f2adc-4713-471e-bb93-3f47263a493c",
   "metadata": {},
   "outputs": [],
   "source": []
  },
  {
   "cell_type": "code",
   "execution_count": null,
   "id": "a21d97f9-17c9-4c43-989c-c51a5036bc4d",
   "metadata": {},
   "outputs": [],
   "source": []
  },
  {
   "cell_type": "code",
   "execution_count": null,
   "id": "bc8dfef7-e80c-4de4-bebd-e2ef95f81e34",
   "metadata": {},
   "outputs": [],
   "source": []
  },
  {
   "cell_type": "code",
   "execution_count": null,
   "id": "b464495f-55b7-4229-a5a6-f84a8740500a",
   "metadata": {},
   "outputs": [],
   "source": []
  },
  {
   "cell_type": "code",
   "execution_count": null,
   "id": "541b59db-6bfd-402c-b4ed-792fef2abbf6",
   "metadata": {},
   "outputs": [],
   "source": []
  },
  {
   "cell_type": "code",
   "execution_count": null,
   "id": "172d29d9-a364-4e81-8f9f-bf742ee37787",
   "metadata": {},
   "outputs": [],
   "source": []
  },
  {
   "cell_type": "code",
   "execution_count": null,
   "id": "52e9510f-23c4-42a0-8c2d-f3e4db10d760",
   "metadata": {},
   "outputs": [],
   "source": []
  },
  {
   "cell_type": "code",
   "execution_count": null,
   "id": "cce9f667-3f9e-44f6-9435-97fb7de53925",
   "metadata": {},
   "outputs": [],
   "source": []
  },
  {
   "cell_type": "markdown",
   "id": "746f2f89-fadc-4a57-a618-1ec8b40bfe72",
   "metadata": {},
   "source": [
    "### Method: .append()"
   ]
  },
  {
   "cell_type": "code",
   "execution_count": null,
   "id": "0305e76a-65dc-4a79-87ea-db4dc2c5efc7",
   "metadata": {},
   "outputs": [],
   "source": [
    "# - .append(iter)\n",
    "# - takes: iterable\n",
    "# - returns: None\n",
    "# - exceptions: never\n",
    "# - modifies: in-place"
   ]
  },
  {
   "cell_type": "code",
   "execution_count": null,
   "id": "ee2193ed-a214-4d1f-a712-8592a99d57d0",
   "metadata": {},
   "outputs": [],
   "source": [
    "lst = [1, 2, 3]\n",
    "lst.append(None)\n",
    "print(lst)  "
   ]
  },
  {
   "cell_type": "code",
   "execution_count": null,
   "id": "eb389682-1a1f-4ffa-b1a6-d217a0282a21",
   "metadata": {},
   "outputs": [],
   "source": [
    "## Circular Reference (recursion) ##\n",
    "\n",
    "lst = [1, 2, 3]\n",
    "\n",
    "lst.append([])  \n",
    "print(lst) \n",
    "\n",
    "lst.append(lst)                             # <-- note: creates circular reference by appending itself\n",
    "print(lst)                                  # <-- note: [1, 2, 3, [...]]\n",
    "\n",
    "\n",
    "# Accessing the self-reference\n",
    "print(lst[-1])                              # <-- note: points to the list itself!\n",
    "print(lst[-1][-1])  \n",
    "print(lst[-1][-1][-1])\n",
    "print(lst[-1][-1][-1][-1])                  # <-- note: keeps going forever\n"
   ]
  },
  {
   "cell_type": "code",
   "execution_count": null,
   "id": "b2b7dbc1-3b13-4bf8-b973-01a87de7e3f3",
   "metadata": {},
   "outputs": [],
   "source": [
    "lst = [1, 2, 3]\n",
    "for x in lst:\n",
    "    print(x)                                  \n",
    "    lst.append(x + 10)                       # <-- note: appending while iterating depending on how, can cause and infinite loop\n",
    "                                             # <-- note: to prevent this behavior, use a copy of the list: lst[:]"
   ]
  },
  {
   "cell_type": "code",
   "execution_count": null,
   "id": "6bec4d6e-e6a9-4d36-adfd-a199c6c7992d",
   "metadata": {},
   "outputs": [],
   "source": [
    "## What's Happening?? ##\n",
    "\n",
    "# 1. The for loop reads the length of lst at the beginning (len(lst) = 3 initially).\n",
    "# 2. The loop tries to fetch lst[0] (which is 1), but before it executes print(x), lst.append(1 + 10) is executed.\n",
    "# 3. The loop sees the new list length (len(lst) = 4) and restarts from index 0 internally.\n",
    "# 4. This process keeps resetting the iteration without ever reaching the print(x) statement.\n",
    "# 5. Since there is no stopping condition, it runs indefinitely without output."
   ]
  },
  {
   "cell_type": "markdown",
   "id": "713aa8aa-4a86-4e8a-a338-454a435df6e4",
   "metadata": {},
   "source": [
    "### Method: .insert() "
   ]
  },
  {
   "cell_type": "code",
   "execution_count": null,
   "id": "98668b2d-6b51-41b4-9fe9-4dbeef4a4a03",
   "metadata": {},
   "outputs": [],
   "source": [
    "# - .insert(index, value)\n",
    "# - takes: index (int)\n",
    "#          value (any)\n",
    "# - returns: None\n",
    "# - exceptions: never\n",
    "# - modifies: in-place\n",
    "\n",
    "# - NOTE: .insert() moves values to the right (->) when inserting the value. "
   ]
  },
  {
   "cell_type": "code",
   "execution_count": null,
   "id": "d0a6f43b-53a5-4df8-b832-da4d028a29ac",
   "metadata": {},
   "outputs": [],
   "source": [
    "lst = [1, 2, 3]\n",
    "lst.insert(10, 99)  \n",
    "print(lst)                               # <-- note: Index is out of bounds, so it just appends to the very end!"
   ]
  },
  {
   "cell_type": "code",
   "execution_count": null,
   "id": "fe103c75-79af-4afa-a875-423690f48863",
   "metadata": {},
   "outputs": [],
   "source": [
    "lst = [1, 2, 3]\n",
    "\n",
    "lst.insert(-1, \"X\")                      # <-- note: -1 means second to last (2) in context of .insert(), so \"X\" is inserted before 3\n",
    "print(lst)                        "
   ]
  },
  {
   "cell_type": "code",
   "execution_count": null,
   "id": "ed49aa71-660c-4156-bc25-8ae09edaabe0",
   "metadata": {},
   "outputs": [],
   "source": [
    "lst = [1, 2, 3]\n",
    "\n",
    "lst.insert(-3, \"y\")                      # <-- note: first index value is inserted\n",
    "print(lst)"
   ]
  },
  {
   "cell_type": "code",
   "execution_count": null,
   "id": "2172f003-5fc1-41d2-bf65-e27874975e39",
   "metadata": {},
   "outputs": [],
   "source": [
    "lst = [1, 2, 3]\n",
    "\n",
    "lst.insert(len(lst), \"Z\")\n",
    "print(lst)"
   ]
  },
  {
   "cell_type": "code",
   "execution_count": null,
   "id": "6f48cd2b-2bcc-48f9-a082-27b28aa68572",
   "metadata": {},
   "outputs": [],
   "source": [
    "lst.insert(0, [])  \n",
    "print(lst)               "
   ]
  },
  {
   "cell_type": "code",
   "execution_count": 43,
   "id": "4a0f5277-9608-4062-bc4c-0f01c9f8d225",
   "metadata": {},
   "outputs": [
    {
     "name": "stdout",
     "output_type": "stream",
     "text": [
      "[1, Ellipsis, 2, 3]\n"
     ]
    },
    {
     "data": {
      "text/plain": [
       "ellipsis"
      ]
     },
     "execution_count": 43,
     "metadata": {},
     "output_type": "execute_result"
    }
   ],
   "source": [
    "lst = [1, 2, 3]\n",
    "lst.insert(1, ...)\n",
    "print(lst)\n",
    "type(lst[1])"
   ]
  },
  {
   "cell_type": "markdown",
   "id": "744724b1-2bef-443f-9a0e-4c969d9001b5",
   "metadata": {},
   "source": [
    "## List Methods: Finding Elements"
   ]
  },
  {
   "cell_type": "markdown",
   "id": "e8f0bbc3-e79d-405a-8c8d-6efe8b656727",
   "metadata": {},
   "source": [
    "### Method: .index() "
   ]
  },
  {
   "cell_type": "code",
   "execution_count": null,
   "id": "07a99be7-851f-4b97-86a2-0fd37d34ea14",
   "metadata": {},
   "outputs": [],
   "source": [
    "# - .index(value, start=0, stop=len(lst))\n",
    "# - takes: value (any), start (int, optional), stop (int, optional)\n",
    "# - returns: first index of 'value' within range [start, stop)\n",
    "# - exceptions: raises 'ValueError' if 'value' is not found\n",
    "# - modifies: no"
   ]
  },
  {
   "cell_type": "code",
   "execution_count": null,
   "id": "a3b3c4aa-e162-431f-97b9-cb686ecfdf6a",
   "metadata": {},
   "outputs": [],
   "source": [
    "lst = [10, 20, 30, 40, 50]\n",
    "print(lst.index(30))                   # <-- note: returns an index (not a value)\n",
    "                                       # <-- note: \"What index is this value at??\" is the question you should ask to understand"
   ]
  },
  {
   "cell_type": "code",
   "execution_count": null,
   "id": "d2b085f7-aba5-4002-89de-82a2b582852e",
   "metadata": {},
   "outputs": [],
   "source": [
    "lst = [10, 20, 30, 40, 30, 50]\n",
    "print(lst.index(30, 3))                # <-- note: starts searching from index 3, skipping the first 30 in the list\n",
    "                                       # <-- note: start & stop are used to search for values beyond the first value in lst"
   ]
  },
  {
   "cell_type": "code",
   "execution_count": null,
   "id": "6dcf17ff-7a72-4932-898c-e319e6bac621",
   "metadata": {},
   "outputs": [],
   "source": [
    "lst = [10, 20, 30, 40, 30, 50]\n",
    "print(lst.index(30, 0, 3))             # <-- note: searches only from index 0 to 2. indexing is normal\n"
   ]
  },
  {
   "cell_type": "code",
   "execution_count": null,
   "id": "e14fa330-60af-4390-8d8b-ad641a7d420e",
   "metadata": {},
   "outputs": [],
   "source": [
    "lst = [1, 2, 3, 2, 4, 2]\n",
    "print(lst.index(2))                    # <-- note: finds first `2`, not the others\n"
   ]
  },
  {
   "cell_type": "code",
   "execution_count": null,
   "id": "33f58867-f0cf-47c9-bdfe-2f943864a883",
   "metadata": {},
   "outputs": [],
   "source": [
    "lst = [[1, 2], [3, 4], [1, 2]]\n",
    "print(lst.index([1, 2]))              # <-- note: finds first `[1,2]`\n"
   ]
  },
  {
   "cell_type": "code",
   "execution_count": null,
   "id": "eb4afe39-d890-45fb-9c00-fcea1285211e",
   "metadata": {},
   "outputs": [],
   "source": [
    "lst = [True, 1, 0, False, 2]\n",
    "print(lst.index(1))                  # <-- note: finds True first, not 1\n",
    "print(lst.index(True))              \n",
    "print(lst.index(0))                  # <-- note: finds 0 before False\n",
    "print(lst.index(False))              # <-- note: same as 0, because False == 0"
   ]
  },
  {
   "cell_type": "code",
   "execution_count": null,
   "id": "10fe08a1-9ef7-4ed2-ae39-082036bd5f31",
   "metadata": {},
   "outputs": [],
   "source": [
    "lst = [1, 2]\n",
    "lst.append(lst)\n",
    "print(lst)                           # <-- note: self-reference\n",
    "print(lst.index(lst))                # <-- note: finds itself at index 2"
   ]
  },
  {
   "cell_type": "code",
   "execution_count": null,
   "id": "a786c447-750f-48f9-9c98-88211c4ad7f8",
   "metadata": {},
   "outputs": [],
   "source": [
    "def func():\n",
    "    print(\"Hello\")\n",
    "\n",
    "lst = [func, func, func]\n",
    "print(lst.index(func))               # <-- note: returns 0 (First occurrence of `func`)\n"
   ]
  },
  {
   "cell_type": "code",
   "execution_count": null,
   "id": "8ad97568-f754-4518-8c0d-6e903dd0a67f",
   "metadata": {},
   "outputs": [],
   "source": [
    "def func():\n",
    "    print(\"Hello\")\n",
    "\n",
    "lst = [func(), func(), func()]\n",
    "print(lst.index(func))"
   ]
  },
  {
   "cell_type": "code",
   "execution_count": null,
   "id": "b48bd1f5-fdd9-4036-9bda-62907953c90b",
   "metadata": {},
   "outputs": [],
   "source": [
    "nums = [10, 20, 30, 40, 50]\n",
    "print(id(nums))\n",
    "print(nums.index(40))                     \n",
    "print(id(nums))"
   ]
  },
  {
   "cell_type": "markdown",
   "id": "65799f06-1ae6-424f-9714-6b160eeedb29",
   "metadata": {},
   "source": [
    "### Method: .count() "
   ]
  },
  {
   "cell_type": "code",
   "execution_count": null,
   "id": "e185d502-05ca-4ca2-8be8-05f48547db69",
   "metadata": {},
   "outputs": [],
   "source": [
    "# - .count(value)\n",
    "# - takes: value (any)\n",
    "# - returns: # of elements that are identical (first through ==, then is tested by 'is')\n",
    "# - exceptions: raises 'ValueError' if 'value' not found\n",
    "# - modifies: no"
   ]
  },
  {
   "cell_type": "code",
   "execution_count": null,
   "id": "f88940ce-2059-4fd4-834b-b883f2e951bf",
   "metadata": {},
   "outputs": [],
   "source": [
    "lst = [1, 2, 3, 2, 4, 2]\n",
    "print(lst.count(2))  # 3 (2 appears three times)\n",
    "print(lst.count(5))  # 0 (5 is not in the list)"
   ]
  },
  {
   "cell_type": "code",
   "execution_count": null,
   "id": "f22978d8-7151-423d-97f0-0294f2464209",
   "metadata": {},
   "outputs": [],
   "source": [
    "lst = [None, 1, None, 2, None]\n",
    "print(lst.count(None))  # 3 (None appears three times)"
   ]
  },
  {
   "cell_type": "code",
   "execution_count": null,
   "id": "e114a67b-96cc-4b10-a483-a69ff420fdfe",
   "metadata": {},
   "outputs": [],
   "source": [
    "lst = [(1, 2), (1, 2), [1, 2], [1, 2]]\n",
    "print(lst.count((1, 2)))  # 2 (Matches only tuples)\n",
    "print(lst.count([1, 2]))  # 2 (Matches only lists)"
   ]
  },
  {
   "cell_type": "code",
   "execution_count": null,
   "id": "64408c87-28c5-4b7c-b462-c9eb9330559e",
   "metadata": {},
   "outputs": [],
   "source": [
    "lst = [[1, 2], [1, 2], (1, 2), (1, 2)]\n",
    "lst[0].append(3)\n",
    "print(lst.count([1, 2]))  # 1 (The modified list is now different)\n",
    "print(lst.count((1, 2)))  # 2 (Immutable, stays the same)"
   ]
  },
  {
   "cell_type": "code",
   "execution_count": null,
   "id": "382ca57c-3809-4fed-b42d-7b45293e2137",
   "metadata": {},
   "outputs": [],
   "source": [
    "lst = [1, \"1.0\", 1.0, True, False]\n",
    "print(lst.count(1.0))  # 3 (2, 2.0, and True are considered equal!)\n",
    "print(lst.count(\"1\"))  # 1 (String \"2\" is different)\n",
    "print(lst.count(False))  # 1 (False is equivalent to 0)\n"
   ]
  },
  {
   "cell_type": "code",
   "execution_count": null,
   "id": "3df96156-e9ba-4b05-942d-03b9e8690f98",
   "metadata": {},
   "outputs": [],
   "source": [
    "def func():\n",
    "    print(\"hello\")\n",
    "\n",
    "lst = [func(), func(), func(), func()]       # <-- note: functions are called even before they are stored in list\n",
    "print(lst)                                   # <-- note: function returns none, therefore, none is stored in the list\n",
    "lst.count(func())                            # <-- note: func() in .count() adds an extra function call\n",
    "print(lst)"
   ]
  },
  {
   "cell_type": "code",
   "execution_count": null,
   "id": "82cdfe18-f1fd-44f5-89ff-e7b4d8e4bd3c",
   "metadata": {},
   "outputs": [],
   "source": [
    "def func():\n",
    "    print(\"hello\")\n",
    "\n",
    "lst = [func, func, func, func]\n",
    "lst.count(func)"
   ]
  },
  {
   "cell_type": "code",
   "execution_count": null,
   "id": "d66dd601-a382-4777-a695-19361b66b832",
   "metadata": {},
   "outputs": [],
   "source": [
    "lst = [1, 2, 3]\n",
    "lst.append(lst)                              # <-- note: append itself\n",
    "\n",
    "print(lst.count(lst))\n",
    "print(lst)\n",
    "print(lst.count([...]))                      # <-- note: does not count nested recursive lists\n"
   ]
  },
  {
   "cell_type": "code",
   "execution_count": null,
   "id": "d022eb6a-7935-4bea-a3ac-de1fbf03839c",
   "metadata": {},
   "outputs": [],
   "source": [
    "# Expected output: 2, 1\n",
    "\n",
    "lst1 = [1, 2]\n",
    "lst2 = [1, 2]  \n",
    "lst = [lst1, lst1, lst2]\n",
    "\n",
    "print(lst.count(lst1))                          # <-- note: count uses == first, and then 'is' comparison only if == is 'False'\n",
    "print(lst.count(lst2))                          # <-- note: lst2 is a different list in memory\n",
    "\n",
    "print(id(lst1))  \n",
    "print(id(lst2))  \n",
    "\n",
    "print([id(x) for x in lst])                     # <-- note: notice lst1 id's are the same but lst2's is different\n",
    "\n"
   ]
  },
  {
   "cell_type": "code",
   "execution_count": null,
   "id": "a8bb599d-cbd6-41fc-834c-70731a9c372d",
   "metadata": {},
   "outputs": [],
   "source": [
    "# Expected output: 2, 1\n",
    "\n",
    "lst1 = [1, 2]\n",
    "lst2 = [1, 3]                                   # <-- note: lst2 is now not '=='   \n",
    "lst = [lst1, lst1, lst2]\n",
    "\n",
    "print(lst.count(lst1))                          # <-- note: count uses == first, and then 'is' comparison only if == is 'False'\n",
    "print(lst.count(lst2))                          # <-- note: lst2 is a different list in memory\n",
    "\n",
    "print(id(lst1))  \n",
    "print(id(lst2))  \n",
    "\n",
    "print([id(x) for x in lst])                     # <-- note: notice lst1 id's are the same but lst2's is different\n",
    "\n"
   ]
  },
  {
   "cell_type": "markdown",
   "id": "00da1ed6-18e9-4f48-8835-f16ac85ed546",
   "metadata": {},
   "source": [
    "# List Methods: Removing Elements"
   ]
  },
  {
   "cell_type": "markdown",
   "id": "cfd2bdd2-6f34-40b3-80a0-4105f8ee1ce7",
   "metadata": {},
   "source": [
    "### Method: .remove() "
   ]
  },
  {
   "cell_type": "code",
   "execution_count": null,
   "id": "5893c565-437e-4c5e-a8ca-9a80bc46d6cc",
   "metadata": {},
   "outputs": [],
   "source": [
    "# - .remove(value)\n",
    "# - takes: value (any)\n",
    "# - returns: removes first occurence of 'value' from left-to-right\n",
    "# - exceptions: raises 'ValueError' if 'value' not found\n",
    "# - modifies: in-place\n",
    "# - comparison operation: equality (==)"
   ]
  },
  {
   "cell_type": "code",
   "execution_count": null,
   "id": "940ca74d-b582-44c3-8ddf-8d768777c0cb",
   "metadata": {},
   "outputs": [],
   "source": [
    "lst = [1, 2, 3, 2]\n",
    "lst.remove(2, 2)                           # <-- note: only removes the first 'value'\n",
    "print(lst)                              # <-- note: normal operation "
   ]
  },
  {
   "cell_type": "code",
   "execution_count": null,
   "id": "b1a44e71-5c2f-4199-9404-3c20d12dd732",
   "metadata": {},
   "outputs": [],
   "source": [
    "lst = [1, 2, 3]\n",
    "lst.remove(99)                          # <-- note: raises 'ValueError': 99 is not in list"
   ]
  },
  {
   "cell_type": "code",
   "execution_count": null,
   "id": "7fad6a2e-fdfd-485d-934e-2c086ec900de",
   "metadata": {},
   "outputs": [],
   "source": [
    "lst = [None, 1, None, 2]\n",
    "lst.remove(None)  \n",
    "print(lst)                              # <-- note: only first `None` removed"
   ]
  },
  {
   "cell_type": "code",
   "execution_count": 39,
   "id": "e00bdb51-8817-4750-a903-c5d9c5060b88",
   "metadata": {},
   "outputs": [
    {
     "name": "stdout",
     "output_type": "stream",
     "text": [
      "[1, 3, 2]\n"
     ]
    }
   ],
   "source": [
    "lst = [1, 2, 2, 3, 2]\n",
    "for x in lst:\n",
    "    if x == 2:\n",
    "        lst.remove(x)\n",
    "\n",
    "print(lst)                              # <-- note: unexpected result happens because the list shifts left when an element is removed\n",
    "                                        #           therefore, the list skips checking for the second '2' after the first one is removed\n",
    "                                        #           (the second 2 took the first 2's place because it shifted left after the first 2 was removed)"
   ]
  },
  {
   "cell_type": "code",
   "execution_count": 40,
   "id": "abadb8c6-04ed-4359-9e8e-0597d2789ed0",
   "metadata": {},
   "outputs": [
    {
     "name": "stdout",
     "output_type": "stream",
     "text": [
      "[1, 3]\n"
     ]
    }
   ],
   "source": [
    "lst = [1, 2, 2, 3, 2]\n",
    "for x in lst[:]:                        # <-- note: iterate over a copy of the list instead of looking at each existing element individually\n",
    "    if x == 2:\n",
    "        lst.remove(x)\n",
    "\n",
    "print(lst) \n"
   ]
  },
  {
   "cell_type": "code",
   "execution_count": null,
   "id": "b76d4373-b5a0-4cb1-9fbd-d31d0c4b94a1",
   "metadata": {},
   "outputs": [],
   "source": [
    "## Removing mutable objects ###\n",
    "\n",
    "lst1 = [1, 2]\n",
    "lst2 = [1, 2]\n",
    "lst = [lst1, lst1, lst2]\n",
    "\n",
    "lst.remove(lst1)                       # <-- note: only first lst1 removed\n",
    "print(lst)"
   ]
  },
  {
   "cell_type": "code",
   "execution_count": null,
   "id": "ae08867b-d513-46eb-b5e2-e15adc56b858",
   "metadata": {},
   "outputs": [],
   "source": [
    "## Self Reference ##\n",
    "\n",
    "lst = [1, 2]\n",
    "lst.append(lst)                        # <-- note: lst is appended to itself making a recursive nested list\n",
    "print(lst)  \n",
    "\n",
    "\n",
    "lst.remove(lst)                        # <-- note: remove removes the recursive nested list\n",
    "print(lst)  "
   ]
  },
  {
   "cell_type": "code",
   "execution_count": null,
   "id": "60b77366-0981-458b-b51b-b15cef2f5c8d",
   "metadata": {},
   "outputs": [],
   "source": [
    "## Removing 1 & True ##\n",
    "\n",
    "lst = [True, 1, 0, False, 2]\n",
    "print(id(lst[0]), id(lst[1]))\n",
    "lst.remove(1)                          # <-- note: .remove() only takes first instance of '1', therefore True is taken first\n",
    "print(id(lst[0]), id(lst[1]))          #           fix: use int(1)\n",
    "print(lst)  \n",
    "\n",
    "# lst.remove(True)                     \n",
    "# print(lst)  "
   ]
  },
  {
   "cell_type": "markdown",
   "id": "84f7222f-25bd-43f5-835e-61dd989b03da",
   "metadata": {},
   "source": [
    "### Method: .pop()"
   ]
  },
  {
   "cell_type": "code",
   "execution_count": null,
   "id": "a9326bd5-aa07-443a-aab3-9a88ae406303",
   "metadata": {},
   "outputs": [],
   "source": [
    "# - .pop(index)\n",
    "# - takes: index\n",
    "# - returns: removes and returns value specified at index, if no index provided, defaults to last index\n",
    "# - exceptions: raises 'IndexError' if 'index' is not found\n",
    "# - modifies: in-place by shifting elements 'leftward'\n",
    "# - iteration considerations: use while loops when possible, as indexing can get complicated"
   ]
  },
  {
   "cell_type": "code",
   "execution_count": null,
   "id": "1362c5f9-f314-4be1-b404-94d9af0f35bf",
   "metadata": {},
   "outputs": [],
   "source": [
    "lst = [10, 20, 30, 40]\n",
    "print(lst.pop(1))  \n",
    "print(lst)"
   ]
  },
  {
   "cell_type": "code",
   "execution_count": null,
   "id": "609c2774-c8ee-42a3-8fb2-4753e5e11c80",
   "metadata": {},
   "outputs": [],
   "source": [
    "lst = [10, 20, 30, 40]\n",
    "print(lst.pop())\n",
    "print(lst) "
   ]
  },
  {
   "cell_type": "code",
   "execution_count": null,
   "id": "d0497e7d-7a7f-4ced-afc6-3cd6049526e3",
   "metadata": {},
   "outputs": [],
   "source": [
    "lst = []\n",
    "print(lst.pop())                          # <-- Raises IndexError: pop from empty list"
   ]
  },
  {
   "cell_type": "code",
   "execution_count": null,
   "id": "ff40b0fa-3a1f-4ed9-90c6-b2eb464ab893",
   "metadata": {},
   "outputs": [],
   "source": [
    "lst = [1, 2, 3, 4]\n",
    "print(lst.pop(-2))                        # <-- note: negative indexing works normally\n",
    "print(lst) \n"
   ]
  },
  {
   "cell_type": "code",
   "execution_count": null,
   "id": "ed382702-2b84-4c7c-ba3c-9a97d1e00f77",
   "metadata": {},
   "outputs": [],
   "source": [
    "lst = [5, 10, 15]\n",
    "while lst:\n",
    "    print(lst.pop(0), lst)                # <-- note: removes elements from the front"
   ]
  },
  {
   "cell_type": "code",
   "execution_count": null,
   "id": "4ff8e696-f2ea-4185-a69d-266a25591f6f",
   "metadata": {},
   "outputs": [],
   "source": [
    "lst = [5, 10, 15]\n",
    "while lst:\n",
    "    print(lst.pop(), lst)                # <-- note: remove elements from the rear"
   ]
  },
  {
   "cell_type": "code",
   "execution_count": null,
   "id": "e8dc8d2f-3974-46b3-9163-64a374e686cc",
   "metadata": {},
   "outputs": [],
   "source": [
    "lst = [5, 10, 15]\n",
    "while lst:\n",
    "    print(lst.pop(-1), lst)              # <-- note: remove elements from the rear"
   ]
  },
  {
   "cell_type": "code",
   "execution_count": null,
   "id": "8dca1770-ec32-4661-b5db-075e8fd46cf8",
   "metadata": {},
   "outputs": [],
   "source": [
    "lst = [1, 2, 3, 4, 5]\n",
    "for i in range(len(lst)):\n",
    "    print(lst.pop(i), lst)               # <-- note: unexpected behavior: The list shrinks dynamically\n",
    "                                         #           causing the loop to lose track of indicies & causing 'IndexError'"
   ]
  },
  {
   "cell_type": "code",
   "execution_count": null,
   "id": "f6e8ac67-7e87-421b-b49f-e4137d8cc549",
   "metadata": {},
   "outputs": [],
   "source": [
    "lst = [1, 2, 3, 4, 5]\n",
    "for i in reversed(range(len(lst))):      # <-- note: first fix for iterating forward with 'for'\n",
    "    print(i, lst[i], lst.pop(i))         # <-- note: indicies of lst are now reversed allowing popping from the front\n"
   ]
  },
  {
   "cell_type": "code",
   "execution_count": null,
   "id": "c17c3971-8f18-4d33-b8c2-1d5c80a20e8f",
   "metadata": {},
   "outputs": [],
   "source": [
    "lst = [10, 20, 30, 40]\n",
    "while lst:  \n",
    "    print(lst.pop(0))                   # <-- note: second fix for popping from the front (left) \n",
    "                                        #           removes first element each time"
   ]
  },
  {
   "cell_type": "code",
   "execution_count": null,
   "id": "0e6bc884-cb6c-4377-bccc-cc5d080bfb14",
   "metadata": {},
   "outputs": [],
   "source": [
    "lst = [1, 2]\n",
    "lst.append(lst)                         # <-- note: self-referencing of a lst\n",
    "print(lst)                              # <-- note: [1, 2, [...]]\n",
    "\n",
    "popped = lst.pop(-1)\n",
    "print(popped)                           # <-- note: the list itself (infinite reference) is popped from itself. no infinite loop by design!\n",
    "print(lst)                              # <-- note: lst doesn't contain itself anymore\n"
   ]
  },
  {
   "cell_type": "code",
   "execution_count": null,
   "id": "6baafc00-01ec-4b63-b417-263f885e074f",
   "metadata": {},
   "outputs": [],
   "source": [
    "lst = []\n",
    "lst.append(lst)\n",
    "print(lst)                              \n",
    "lst.pop(0)                              # <-- note: removes itself\n",
    "print(lst)                              # <-- note: [] (List is now empty)"
   ]
  },
  {
   "cell_type": "code",
   "execution_count": null,
   "id": "7afa5b6e-30b4-4e24-a021-1a710d12354a",
   "metadata": {},
   "outputs": [],
   "source": [
    "lst = [10, 20, 30, 40]\n",
    "print(lst.pop(lst.pop(0) - 10))         # <-- note: removes `20` (lst.pop(0) = 10 → `pop(10-10) = pop(0)`)\n",
    "print(lst)                              # <-- note: [30, 40]"
   ]
  },
  {
   "cell_type": "markdown",
   "id": "4532e909-0d37-41dc-a252-7cb7bebf893b",
   "metadata": {},
   "source": [
    "### Method: .clear()"
   ]
  },
  {
   "cell_type": "code",
   "execution_count": null,
   "id": "cfe5d2fe-aaa2-4548-9a9c-e044396b229f",
   "metadata": {},
   "outputs": [],
   "source": [
    "# - .clear()\n",
    "# - takes: no args\n",
    "# - returns: removes all elements from the list, and returns None\n",
    "# - exceptions: no exceptions\n",
    "# - modifies: in-place leaving the same list (data structure)"
   ]
  },
  {
   "cell_type": "code",
   "execution_count": null,
   "id": "64268ce3-f960-4169-b8ca-e05761534d68",
   "metadata": {},
   "outputs": [],
   "source": [
    "lst = [1, 2, 3]\n",
    "print(lst.clear())\n"
   ]
  },
  {
   "cell_type": "code",
   "execution_count": null,
   "id": "3db6b7df-df7b-43d5-9d6b-372e58b916c2",
   "metadata": {},
   "outputs": [],
   "source": [
    "lst = [1, 2, 3]\n",
    "print(id(lst))                            # <-- note: memory address before clearing\n",
    "lst.clear()\n",
    "print(id(lst))                            # <-- note: memory address stays the same, proving the list itself is not replaced\n"
   ]
  },
  {
   "cell_type": "code",
   "execution_count": null,
   "id": "56d78f6e-8047-41e2-a313-83c22a031f62",
   "metadata": {},
   "outputs": [],
   "source": [
    "lst = []\n",
    "lst.clear()\n",
    "print(lst)                                # <-- note: no error occurs, `.clear()` does nothing if the list is already empty"
   ]
  },
  {
   "cell_type": "code",
   "execution_count": null,
   "id": "b4feb4fe-03ce-4602-9279-f3553410088f",
   "metadata": {},
   "outputs": [],
   "source": [
    "lst = [1, 2]\n",
    "lst.append(lst)                           # <-- note: appends itself, creating a self-referencing list\n",
    "lst.clear()\n",
    "print(lst)                                # <-- note: `.clear()` removes even the self-reference"
   ]
  },
  {
   "cell_type": "code",
   "execution_count": null,
   "id": "d1e7f2f6-a5b1-4eb9-8a74-7e29dffd294d",
   "metadata": {},
   "outputs": [],
   "source": [
    "lst1 = [1, 2, 3]\n",
    "lst2 = lst1                               # <-- note: `lst2` points to the same list as `lst1`\n",
    "lst1.clear()\n",
    "print(lst2)                               # <-- note: since `lst2` references `lst1`, clearing `lst1` also clears `lst2`"
   ]
  },
  {
   "cell_type": "code",
   "execution_count": null,
   "id": "d763ef22-0f4b-4f0b-bb56-e1ae185d78af",
   "metadata": {},
   "outputs": [],
   "source": [
    "lst = [1, 2, 3]\n",
    "lst_copy = lst.copy()                     # <-- note: creates a separate list with the same values\n",
    "\n",
    "lst.clear()\n",
    "print(lst == lst_copy)                    # <-- note: `False`, because `lst` is empty but `lst_copy` still has its elements\n",
    "print(lst is lst_copy)                    # <-- note: `False`, because `.copy()` creates a new list, not a reference"
   ]
  },
  {
   "cell_type": "code",
   "execution_count": null,
   "id": "f325c8ad-91bd-429a-b054-7529c80d0d8f",
   "metadata": {},
   "outputs": [],
   "source": [
    "lst = [[1, 2], [3, 4]]\n",
    "lst.clear()\n",
    "print(lst)                                # <-- note: `lst` becomes an empty list, but the inner lists still exist in memory if referenced elsewhere"
   ]
  },
  {
   "cell_type": "code",
   "execution_count": null,
   "id": "76da5dc6-e51e-41ad-bc98-85562dd68fe4",
   "metadata": {},
   "outputs": [],
   "source": [
    "d = {\"nums\": [1, 2, 3]}\n",
    "d[\"nums\"].clear()\n",
    "print(d)                                  # <-- note: the dictionary remains unchanged, but the list inside it is cleared"
   ]
  },
  {
   "cell_type": "code",
   "execution_count": null,
   "id": "1af018b1-9a4d-4bc0-94bf-f8ab03ee2bf0",
   "metadata": {},
   "outputs": [],
   "source": [
    "lst = [1, 2, 3]\n",
    "del lst[:]\n",
    "print(lst)                                # <-- note: `del lst[:]` works the same as `.clear()`, removing all elements but keeping the list object"
   ]
  },
  {
   "cell_type": "code",
   "execution_count": null,
   "id": "6b08cc35-40cb-49d3-b698-fe40153485ba",
   "metadata": {},
   "outputs": [],
   "source": [
    "lst = [1, 2, 3, 4, 5]\n",
    "for item in lst: \n",
    "    print(item)  \n",
    "    lst.clear()  \n",
    "\n",
    "print(lst)                                # <-- note: `.clear()` empties the list immediately, so the loop runs only once"
   ]
  },
  {
   "cell_type": "code",
   "execution_count": null,
   "id": "9dfaa94c-5f48-4dc9-af2e-7959e33e56a9",
   "metadata": {},
   "outputs": [],
   "source": [
    "lst = [1, 2, 3, 4, 5]\n",
    "for item in lst[:]:                      # <-- note: creates a copy of the list before iteration\n",
    "    print(item)\n",
    "    lst.clear()                          # <-- note: now it clears the original list, but iteration completes\n",
    "\n",
    "print(lst)                               # <-- note: still empty, but the loop printed all elements"
   ]
  },
  {
   "cell_type": "markdown",
   "id": "c62d6bf9-aa8c-412b-902a-6e357ec0b0de",
   "metadata": {},
   "source": [
    "## List Methods: Utility Methods"
   ]
  },
  {
   "cell_type": "markdown",
   "id": "c558768d-dde9-47eb-91ba-54a504559ccc",
   "metadata": {},
   "source": [
    "### Method: .copy()"
   ]
  },
  {
   "cell_type": "code",
   "execution_count": null,
   "id": "9fcbbfce-47af-4128-a3c0-5225bdefc8be",
   "metadata": {},
   "outputs": [],
   "source": [
    "# - .copy()\n",
    "# - takes: no arguments\n",
    "# - returns: a shallow copy of the list (new list, but elements are references to the same objects)\n",
    "# - exceptions: none\n",
    "# - modifies: does not modify the original list\n",
    "# - iteration considerations: modifying the original list does not affect the copy, but modifying mutable elements in either affects both\n",
    "\n",
    "# NOTE: bottom line with ALL shallow copies, only thing that can change both o.g. data structure and the copy \n",
    "#       are changes to mutable elements inside both"
   ]
  },
  {
   "cell_type": "code",
   "execution_count": null,
   "id": "ef694e16-b443-4cde-a649-c36ffceb0ca3",
   "metadata": {},
   "outputs": [],
   "source": [
    "lst1 = [[1, 2], [3, 4]]\n",
    "lst2 = lst1.copy()\n",
    "\n",
    "lst1[0].append(99)\n",
    "print(lst1)                            # <-- note: [[1, 2, 99], [3, 4]] (modified)\n",
    "print(lst2)                            # <-- note: [[1, 2, 99], [3, 4]] (also modified!)\n",
    "\n",
    "lst2[0].append(100)\n",
    "print(lst2)                            # <-- note: [[1, 2, 99, 100], [3, 4]] (modified)\n",
    "print(lst1)                            # <-- note: [[1, 2, 99, 100], [3, 4]] (also modified!)"
   ]
  },
  {
   "cell_type": "code",
   "execution_count": null,
   "id": "dc27f1c0-26cd-4b2e-a2ee-fde7a74f4ca3",
   "metadata": {},
   "outputs": [],
   "source": [
    "lst1 = [1, 2, (3, 4)]\n",
    "lst2 = lst1.copy()\n",
    "\n",
    "lst1[2] += (5,)                        # <-- note: Tuples are immutable, so this creates a new tuple, not modifying the original\n",
    "print(lst1)                            # <-- note: [1, 2, (3, 4, 5)]\n",
    "print(lst2)                            # <-- note: [1, 2, (3, 4)] (unchanged)"
   ]
  },
  {
   "cell_type": "code",
   "execution_count": null,
   "id": "ea4ce1b7-d8fc-49fd-9297-b869a3600a1e",
   "metadata": {},
   "outputs": [],
   "source": [
    "lst1 = [1, 2]\n",
    "lst1.append(lst1)                      # <-- note: Creates a self-referencing list\n",
    "\n",
    "lst2 = lst1.copy()\n",
    "print(lst1)                            # <-- note: [1, 2, [...]]\n",
    "print(lst2)                            # <-- note: [1, 2, [...]] (both point to the same self-reference)\n",
    "\n",
    "lst1[0] = 99\n",
    "print(lst1)                            # <-- note: [99, 2, [...]]\n",
    "print(lst2)                            # <-- note: [1, 2, [...]] (top-level values are independent)\n",
    "\n",
    "lst1[2].append(50)                     # <-- note: Since lst1[2] points to itself, modifying it affects both!\n",
    "print(lst1)                            # <-- note: [99, 2, [99, 2, [...], 50]]\n",
    "print(lst2)                            # <-- note: [1, 2, [1, 2, [...], 50]] (inner structure changed)\n"
   ]
  },
  {
   "cell_type": "code",
   "execution_count": null,
   "id": "6772560c-08a5-4e91-9751-7e729fa1cd72",
   "metadata": {},
   "outputs": [],
   "source": [
    "numbers = [3, 1, 4, 1, 5, 9]\n",
    "print(id(numbers))\n",
    "numbers.sort()                       # <-- [1, 1, 3, 4, 5, 9]  modifies the list in place\n",
    "print(id(numbers))  \n"
   ]
  },
  {
   "cell_type": "markdown",
   "id": "8dd70ec9-a744-4f81-ac0b-c71c63d94b0c",
   "metadata": {},
   "source": [
    "### List Functions"
   ]
  },
  {
   "cell_type": "code",
   "execution_count": null,
   "id": "5bb8820d-d9d3-4c93-aa81-c80e67c44022",
   "metadata": {},
   "outputs": [],
   "source": [
    "numbers = [3, 1, 4, 1, 5, 9]\n",
    "print(id(numbers))\n",
    "numbers = sorted(numbers)             # <-- [1, 1, 3, 4, 5, 9], returns a brand new list\n",
    "print(id(numbers))\n"
   ]
  },
  {
   "cell_type": "code",
   "execution_count": null,
   "id": "a52f45a1-9fbc-4133-8afa-65ffc606143e",
   "metadata": {},
   "outputs": [],
   "source": [
    "nums = [10, 20, 30, 40]\n",
    "\n",
    "del nums[2]                          # <-- Deletes the element at index 2 → [10, 20, 40]\n",
    "print(nums)\n",
    "del nums[:]                          # <-- Deletes all elements, empty list []\n",
    "print(nums)\n",
    "del nums                             # <-- Deletes the list entirely\n",
    "\n",
    "print(nums)                          # <-- produces 'name error' because list is deleted"
   ]
  },
  {
   "cell_type": "markdown",
   "id": "ef2fe1c2-d6cc-4206-ad8d-915e80c35167",
   "metadata": {},
   "source": [
    "### List Iteration: for loops"
   ]
  },
  {
   "cell_type": "code",
   "execution_count": null,
   "id": "081b53cb-0ac7-425b-b220-7f1f295d4394",
   "metadata": {},
   "outputs": [],
   "source": [
    "fruits = [\"apple\", \"banana\", \"cherry\"]\n",
    "for fruit in fruits:\n",
    "    print(fruit)"
   ]
  },
  {
   "cell_type": "code",
   "execution_count": null,
   "id": "cffd3c68-ffdb-4521-ba59-513753bd8637",
   "metadata": {},
   "outputs": [],
   "source": [
    "for i in range(len(fruits)):\n",
    "    print(fruits[i])"
   ]
  },
  {
   "cell_type": "markdown",
   "id": "266c2a69-207b-48b4-99a3-65b31a1d5503",
   "metadata": {},
   "source": [
    "### List Initialization"
   ]
  },
  {
   "cell_type": "code",
   "execution_count": null,
   "id": "566f7900-7378-48cc-89e6-bb473b5d8266",
   "metadata": {},
   "outputs": [],
   "source": [
    "numbers = [0] * 5                                     # Creates [0, 0, 0, 0, 0]\n",
    "print(numbers)\n",
    "empty_list = []                                       # Creates an empty list\n",
    "print(empty_list)\n",
    "predefined = [i for i in range(5)]                    # [0, 1, 2, 3, 4]\n",
    "print(predefined)"
   ]
  },
  {
   "cell_type": "markdown",
   "id": "98af0b88-76c1-483f-8440-172058221852",
   "metadata": {},
   "source": [
    "### Lists: in & not in operators"
   ]
  },
  {
   "cell_type": "code",
   "execution_count": null,
   "id": "9424b07a-a6ff-4d82-bc31-81ffcae3c148",
   "metadata": {},
   "outputs": [],
   "source": [
    "fruits = [\"apple\", \"banana\", \"cherry\"]\n",
    "print(\"banana\" in fruits)                         # True\n",
    "print(\"mango\" not in fruits)                      # True"
   ]
  },
  {
   "cell_type": "markdown",
   "id": "fcaa2cfd-2586-44b7-b282-b35bd01dfd95",
   "metadata": {},
   "source": [
    "### List: Comprehensions"
   ]
  },
  {
   "cell_type": "code",
   "execution_count": null,
   "id": "c321c8ac-2c9f-4d49-9904-502420437fd9",
   "metadata": {},
   "outputs": [],
   "source": [
    "squares = [x ** 2 for x in range(5)]                            # [0, 1, 4, 9, 16]\n",
    "evens = [x for x in range(10) if x % 2 == 0]                    # [0, 2, 4, 6, 8]"
   ]
  },
  {
   "cell_type": "markdown",
   "id": "fe1a0640-cb92-428b-b15f-f20a5b109be5",
   "metadata": {},
   "source": [
    "### List: Shallow Copy (references) & Deep Copies"
   ]
  },
  {
   "cell_type": "code",
   "execution_count": null,
   "id": "105f1ee5-5f10-49b0-90f0-4c4c5bdc96a9",
   "metadata": {},
   "outputs": [],
   "source": [
    "# Shallow copy: when 2 different variable names point to the same object in memory. Doesn't really copy the list\n",
    "\n",
    "# - 1. a shallow copy creates a new list, but the elements inside it are still references to the original objects.\n",
    "# - 2. If the list contains nested objects (lists inside of lists), only the outer list is copied, while inner list remain linked to the other\n",
    "\n",
    "list1 = [1, 2, 3]                        # <-- original object\n",
    "list2 = list1                            # <-- list1 & list2 are same object\n",
    "list2[0] = 99                            # <-- list1 & list2 point to same object allowing changes using either name\n",
    "print(list1)"
   ]
  },
  {
   "cell_type": "code",
   "execution_count": null,
   "id": "9d5012f6-40c8-4f5d-8b8b-815c6535ba29",
   "metadata": {},
   "outputs": [],
   "source": [
    "# Deep Copy: copies everything recursively and creates a completely independent copy of both the outer & inner elements\n",
    "# - changes in the copied list arent reflected in the original list"
   ]
  },
  {
   "cell_type": "markdown",
   "id": "03ba9f67-6c76-4453-b1c3-5305feec954f",
   "metadata": {},
   "source": [
    "#### Shallow Copies: .copy() Method"
   ]
  },
  {
   "cell_type": "code",
   "execution_count": null,
   "id": "42ed52ac-9447-4aa0-a5f4-fe5cf2e2c505",
   "metadata": {},
   "outputs": [],
   "source": [
    "import copy\n",
    "\n",
    "original = [[1, 2, 3], [4, 5, 6]]\n",
    "\n",
    "# Shallow Copy\n",
    "shallow_copy = original.copy()\n",
    "\n",
    "shallow_copy[0][0] = 99                         # <-- modifies both original & shallow_copy. Nested lists are linked                          \n",
    "\n",
    "print(original)\n",
    "print(shallow_copy)"
   ]
  },
  {
   "cell_type": "markdown",
   "id": "c62694f7-50d6-46a1-8a5a-e6236e9c8f3a",
   "metadata": {},
   "source": [
    "#### Shallow Copy: Slicing ([:])"
   ]
  },
  {
   "cell_type": "code",
   "execution_count": null,
   "id": "7ab71563-cf3f-489f-b143-20cd53f23f09",
   "metadata": {},
   "outputs": [],
   "source": [
    "original = [[1, 2, 3], [4, 5, 6]]\n",
    "\n",
    "shallow_copy = original[:]\n",
    "\n",
    "shallow_copy[0][0] = 99                         # <-- modifies both original & shallow copy. Nested lists are linked\n",
    "\n",
    "print(original)\n",
    "print(shallow_copy)"
   ]
  },
  {
   "cell_type": "markdown",
   "id": "dcbba010-66ec-4577-8c57-b98eb82539ab",
   "metadata": {},
   "source": [
    "#### Shallow Copy: list() Constructor"
   ]
  },
  {
   "cell_type": "code",
   "execution_count": null,
   "id": "d04ab4f8-a23d-4d7a-a25c-2244709f170e",
   "metadata": {},
   "outputs": [],
   "source": [
    "original = [[1, 2, 3], [4, 5, 6]]\n",
    "\n",
    "shallow_copy = list(original)\n",
    "\n",
    "shallow_copy[0][0] = 99                         # <-- modifies both original & shallow copy. Nested lists are linked\n",
    "\n",
    "print(original)\n",
    "print(shallow_copy)"
   ]
  },
  {
   "cell_type": "markdown",
   "id": "40c01884-f414-41f9-8468-80c9c1f9f96d",
   "metadata": {},
   "source": [
    "#### Deep Copy: .deepcopy() Method"
   ]
  },
  {
   "cell_type": "code",
   "execution_count": null,
   "id": "3ff836c2-9054-4c58-8f6a-07bf190758b9",
   "metadata": {},
   "outputs": [],
   "source": [
    "from copy import deepcopy\n",
    "\n",
    "original = [[1, 2, 3], [4, 5, 6]]\n",
    "\n",
    "deep_copy = deepcopy(original)\n",
    "\n",
    "deep_copy[0][0] = 99                         # <-- modifies only the deep copy & not the original list. Elements are not linked\n",
    "\n",
    "print(original)\n",
    "print(deep_copy)"
   ]
  },
  {
   "cell_type": "markdown",
   "id": "6cee7196-ef94-4c3d-8025-1e4262ceb247",
   "metadata": {},
   "source": [
    "#### Deep Copy: JSON Serialization"
   ]
  },
  {
   "cell_type": "code",
   "execution_count": null,
   "id": "2aa08eb8-4ba7-46ad-a068-bce9dc1099bc",
   "metadata": {},
   "outputs": [],
   "source": [
    "import json\n",
    "\n",
    "original = [[1, 2, 3], [4, 5, 6]]\n",
    "deep_copy = json.loads(json.dumps(original))          # <-- convert to JSON string and back\n",
    "\n",
    "deep_copy[0][0] = 99                                  # <-- modifies only the deep copy & not the original list. Elements are not linked\n",
    "\n",
    "print(original)    \n",
    "print(deep_copy)   \n"
   ]
  },
  {
   "cell_type": "markdown",
   "id": "0225d7c5-a334-428f-88b8-d806b507c50e",
   "metadata": {},
   "source": [
    "#### Deep Copy: Manual (recursive)"
   ]
  },
  {
   "cell_type": "code",
   "execution_count": null,
   "id": "113a171b-1e9d-4c45-9fa7-027b3810112c",
   "metadata": {},
   "outputs": [],
   "source": [
    "def deep_copy(obj):\n",
    "    if isinstance(obj, list):\n",
    "        return [deep_copy(item) for item in obj]\n",
    "    else:\n",
    "        return obj\n",
    "\n",
    "original = [[1, 2, 3], [4, 5, 6]]\n",
    "\n",
    "deep_copy = deep_copy(original)                      \n",
    "\n",
    "deep_copy[0][0] = 99                                  # <-- modifies only the deep copy & not the original list. Elements are recursively copied\n",
    "\n",
    "print(original)\n",
    "print(deep_copy)"
   ]
  },
  {
   "cell_type": "markdown",
   "id": "aa4182b8-45c9-4740-8aa2-fd3847f68c91",
   "metadata": {},
   "source": [
    "### Lists in Lists: Matrices & Cubes"
   ]
  },
  {
   "cell_type": "code",
   "execution_count": null,
   "id": "471dd436-d70a-4808-ae27-39e2992a6f39",
   "metadata": {},
   "outputs": [],
   "source": [
    "# This involves: Understanding nested lists (lists within lists)\n",
    "# - 1. How to create, access, and modify elements in 2D and 3D lists\n",
    "# - 2. How to iterate through matrices and cubes\n",
    "# - 3. Practical applications like storing tables of data"
   ]
  },
  {
   "cell_type": "code",
   "execution_count": null,
   "id": "1b45f58f-10a4-4d22-b8e6-ffbfc8e4f7c0",
   "metadata": {},
   "outputs": [],
   "source": [
    "# 3x3 grid (2D array)\n",
    "\n",
    "\n",
    "matrix = [\n",
    "\n",
    "    [1, 2, 3],\n",
    "    [4, 5, 6],\n",
    "    [7, 8, 9]\n",
    "]\n"
   ]
  },
  {
   "cell_type": "markdown",
   "id": "7724adc7-e502-4228-a90c-79fc838552f1",
   "metadata": {},
   "source": [
    "#### Way of Creating Matrices: List Comprehension"
   ]
  },
  {
   "cell_type": "code",
   "execution_count": null,
   "id": "7addc175-429f-4b53-a447-7b3ce8e403de",
   "metadata": {},
   "outputs": [],
   "source": [
    "rows, cols = 3, 3\n",
    "matrix = [[0 for _ in range(rows)] for _ in range(cols)]\n",
    "print(matrix)"
   ]
  },
  {
   "cell_type": "markdown",
   "id": "0c18b8ff-52f9-4c62-8e58-62aa70e65826",
   "metadata": {},
   "source": [
    "#### Accessing Matrices: Indexing"
   ]
  },
  {
   "cell_type": "code",
   "execution_count": null,
   "id": "d75b64c8-d994-4bea-abb8-47e24ddf228b",
   "metadata": {},
   "outputs": [],
   "source": [
    "matrix = [\n",
    "    [10, 20, 30],\n",
    "    [40, 50, 60],\n",
    "    [70, 80, 90]\n",
    "]\n",
    "\n",
    "print(matrix[0][1])  # Output: 20 (Row 0, Column 1)\n",
    "print(matrix[2][2])  # Output: 90 (Row 2, Column 2)\n"
   ]
  },
  {
   "cell_type": "markdown",
   "id": "a696ba39-e0e2-4ea5-ba9d-d399c542d350",
   "metadata": {},
   "source": [
    "#### Modifying Elements of Matrices: Indexing"
   ]
  },
  {
   "cell_type": "code",
   "execution_count": null,
   "id": "be2cb2fa-44da-41c7-92c2-6742b9a390e7",
   "metadata": {},
   "outputs": [],
   "source": [
    "matrix = [\n",
    "    [10, 20, 30],\n",
    "    [40, 50, 60],\n",
    "    [70, 80, 90]\n",
    "]\n",
    "\n",
    "matrix[0][1] = 99\n",
    "matrix[2][2] = 100\n",
    "\n",
    "\n",
    "print(matrix[0][1])  # Output: 20 (Row 0, Column 1)\n",
    "print(matrix[2][2])  # Output: 90 (Row 2, Column 2)\n",
    "print(matrix)"
   ]
  },
  {
   "cell_type": "markdown",
   "id": "0e586d01-1790-4199-b7b7-14607fbf5df4",
   "metadata": {},
   "source": [
    "#### Iterating Over Matrices (2D arrays)"
   ]
  },
  {
   "cell_type": "code",
   "execution_count": null,
   "id": "c733c3a1-a612-4a25-980c-d3ab2cbfb1a7",
   "metadata": {},
   "outputs": [],
   "source": [
    "matrix = [\n",
    "    [10, 20, 30],\n",
    "    [40, 50, 60],\n",
    "    [70, 80, 90]\n",
    "]\n",
    "\n",
    "for i in range(len(matrix)):\n",
    "    for j in range(len(matrix)):                             # <-- do not have to use matrix[i] because we have a 3x3 (symmetrical) matrix\n",
    "        print(matrix[i][j], end=' ')"
   ]
  },
  {
   "cell_type": "code",
   "execution_count": null,
   "id": "375619cf-9ae7-486c-b950-b3493b2ff0d7",
   "metadata": {},
   "outputs": [],
   "source": [
    "matrix = [\n",
    "    [10, 20, 30],\n",
    "    [40, 50, 60],\n",
    "]\n",
    "\n",
    "for i in range(len(matrix)):\n",
    "    for j in range(len(matrix[i])):                           # <-- have to use 'len(matrix[i])' because matrix not symmetrical\n",
    "        print(matrix[i][j], end=' ')"
   ]
  },
  {
   "cell_type": "code",
   "execution_count": null,
   "id": "dd5a0dc2-ca88-40cc-8886-fdae807fdd42",
   "metadata": {},
   "outputs": [],
   "source": [
    "matrix = [\n",
    "    [10, 20, 30],\n",
    "    [40, 50, 60],\n",
    "    [70, 80, 90]\n",
    "]\n",
    "\n",
    "for row in matrix:                                             # <-- iterates over every list in the matrix\n",
    "    for element in row:                                        # <-- iterates over every element in each list\n",
    "        print(element, end=' ')"
   ]
  },
  {
   "cell_type": "markdown",
   "id": "7cf1d78e-b530-405d-88c8-e9b5f5f90f2e",
   "metadata": {},
   "source": [
    "### Creating 3D Lists (Cubes)"
   ]
  },
  {
   "cell_type": "code",
   "execution_count": null,
   "id": "f7aea9ac-1506-4469-bf40-8a4d247e596f",
   "metadata": {},
   "outputs": [],
   "source": [
    "# A 3D list is a list where each element is a 2D matrix (array)\n",
    "\n",
    "cube = [\n",
    "    \n",
    "    [[1, 2, 3], [4, 5, 6], [7, 8, 9]],\n",
    "    [[10, 11, 12], [13, 14, 15], [16, 17, 18]],\n",
    "    [[19, 20, 21], [22, 23, 24], [25, 26, 27]]\n",
    "     \n",
    "]\n",
    "\n",
    "for length in cube:\n",
    "    for width in length:\n",
    "        for height in width:\n",
    "            print(height, end=' ')"
   ]
  },
  {
   "cell_type": "markdown",
   "id": "ee89f391-e6da-45ed-b23d-c57d3732593e",
   "metadata": {},
   "source": [
    "#### Accessing Cubes: Indexing"
   ]
  },
  {
   "cell_type": "code",
   "execution_count": null,
   "id": "4d26b0bb-6f81-46bf-b6ef-bdc2f2429396",
   "metadata": {},
   "outputs": [],
   "source": [
    "cube = [\n",
    "    \n",
    "    [[1, 2, 3], [4, 5, 6], [7, 8, 9]],\n",
    "    [[10, 11, 12], [13, 14, 15], [16, 17, 18]],\n",
    "    [[19, 20, 21], [22, 23, 24], [25, 26, 27]]\n",
    "     \n",
    "]\n",
    "\n",
    "print(cube[0])                # <-- is a 2D array (matrix)\n",
    "print(cube[0][0])             # <-- is a single list in the 2D array (matrix)\n",
    "print(cube[0][0][0])          # <-- is a single element in a list"
   ]
  },
  {
   "cell_type": "markdown",
   "id": "c14909fa-d8e1-4bc3-bf2e-0896a079bdee",
   "metadata": {},
   "source": [
    "### List Operators: +"
   ]
  },
  {
   "cell_type": "code",
   "execution_count": null,
   "id": "f2c5d8c0-c6e1-438a-a283-2b97e83dc6f8",
   "metadata": {},
   "outputs": [],
   "source": [
    "a = [1, 2, 3]\n",
    "b = [4, 5, 6]\n",
    "print(a + b)                  # <-- Output: [1, 2, 3, 4, 5, 6]\n",
    "print(b + a)                  # <-- Output: [4, 5, 6, 1, 2, 3]"
   ]
  },
  {
   "cell_type": "code",
   "execution_count": null,
   "id": "1cb7b058-e163-47d8-b7dd-aa9c2596ccf4",
   "metadata": {},
   "outputs": [],
   "source": [
    "# Case: concatenating list with a non-list\n",
    "\n",
    "#print([1, 2, 3] + 4)          # <-- TypeError: can only concatenate list (not \"int\") to list\n",
    "print([1, 2, 3] + [4])         # <-- Output: [1, 2, 3, 4]"
   ]
  },
  {
   "cell_type": "code",
   "execution_count": null,
   "id": "97392052-033f-4e1e-a46e-ba17a6429f20",
   "metadata": {},
   "outputs": [],
   "source": [
    "# Case: concatenating empty lists\n",
    "\n",
    "print([] + [])                 # <-- Output: [] (No error, just an empty list)\n",
    "print([1, 2, 3] + [])          # <-- Output: [1, 2, 3] (Adding an empty list does nothing)\n"
   ]
  },
  {
   "cell_type": "markdown",
   "id": "5c525ae9-9fa9-4f3f-b9a8-51c1f7686314",
   "metadata": {},
   "source": [
    "### List Operators: *"
   ]
  },
  {
   "cell_type": "code",
   "execution_count": null,
   "id": "35254f53-c2cc-4afc-a145-e9cbbea6b3bb",
   "metadata": {},
   "outputs": [],
   "source": [
    "print([1, 2] * 3)              # <-- Output: [1, 2, 1, 2, 1, 2], repeats the list 'n' times"
   ]
  },
  {
   "cell_type": "code",
   "execution_count": null,
   "id": "8ffbe87e-b856-408f-9311-859b704b92b6",
   "metadata": {},
   "outputs": [],
   "source": [
    "# Case: multiply list by 0\n",
    "\n",
    "print([1, 2, 3] * 0)           # <-- Output: [] (empty list)"
   ]
  },
  {
   "cell_type": "code",
   "execution_count": null,
   "id": "261b0db0-e0a5-41f7-9bec-73d15f65b163",
   "metadata": {},
   "outputs": [],
   "source": [
    "# Case: multiply by negative number\n",
    "\n",
    "print([1, 2, 3] * -1)          # <-- Output: [] same as 0"
   ]
  },
  {
   "cell_type": "code",
   "execution_count": null,
   "id": "9f229e79-cb0a-4668-95fd-dd7e97aad6d5",
   "metadata": {},
   "outputs": [],
   "source": [
    "# Case: multiply by float\n",
    "\n",
    "print([1, 2, 3] * 2.5)         # <-- TypeError: can't multiply sequence by non-int"
   ]
  },
  {
   "cell_type": "markdown",
   "id": "a9d98b54-dd57-4569-87ff-b7883b80b537",
   "metadata": {},
   "source": [
    "### Lists Operators: Membership"
   ]
  },
  {
   "cell_type": "code",
   "execution_count": null,
   "id": "cde52abd-4e05-48e5-9e0b-d25fa6dab185",
   "metadata": {},
   "outputs": [],
   "source": [
    "nums = [1, 2, 3]\n",
    "print(2 in nums)               # <-- True\n",
    "print(5 not in nums)           # <-- True\n"
   ]
  },
  {
   "cell_type": "code",
   "execution_count": null,
   "id": "2093bcda-7f1b-471c-8673-5510ce7bd493",
   "metadata": {},
   "outputs": [],
   "source": [
    "# Case: Searching for a sublist\n",
    "\n",
    "nums = [1, 2, 3]\n",
    "print([2, 3] in nums)          # <-- Output: False, because [2, 3] is not an element\n",
    "nums = [1, [2, 3], 3]\n",
    "print([2, 3] in nums)          # <-- Ouput: True, because [2, 3] is an element"
   ]
  },
  {
   "cell_type": "code",
   "execution_count": null,
   "id": "a7db8aba-a0dc-429b-ba14-0eb38dfc61c6",
   "metadata": {},
   "outputs": [],
   "source": [
    "# Case: searching an empty list\n",
    "\n",
    "print(0 in [])                 # <-- Output: False\n",
    "print(None in [])              # <-- Output: False\n",
    "print('' in [])                # <-- Output: False\n",
    "print(None not in [])          # <-- Output: True\n",
    "print(True not in [])          # <-- Output: True\n",
    "print(False in [0])            # <-- Output: True"
   ]
  },
  {
   "cell_type": "markdown",
   "id": "c1a70c99-3981-4322-b57d-da77d9110b2c",
   "metadata": {},
   "source": [
    "#### List Operators: Comparison (Lexicographical)"
   ]
  },
  {
   "cell_type": "code",
   "execution_count": null,
   "id": "13bbe4c8-e854-4ae3-97b6-80a42e28a56d",
   "metadata": {},
   "outputs": [],
   "source": [
    "# Python compares lists like words in a dictionary (lexicographical order)\n",
    "# Python compares lists: left-to-right, element by element. This continues until\n",
    "# a list is found to be shorter than the other, or one list has a greater element than the other\n",
    "\n",
    "# How Lexicographical Comparison Works:\n",
    "# - 1. Compare first elements of both lists\n",
    "# - 2. If they are equal, move to the next elements to compare\n",
    "# - 3. Continue until a mismatch is found or one list runs out of elements\n",
    "\n",
    "# Example: [1, 2, 3] < [1, 2, 4]\n",
    "\n",
    "# a. 1 == 1,   move to next elements\n",
    "# b. 2 == 2,   move to next elements\n",
    "# c. 3 <  4,   therefore, True\n"
   ]
  },
  {
   "cell_type": "code",
   "execution_count": null,
   "id": "6882ff6d-2f1a-4f42-805e-24678a628323",
   "metadata": {},
   "outputs": [],
   "source": [
    "# Case: lexicographical Comparisons\n",
    "\n",
    "print([1, 2, 3] < [1, 2, 4])  # <-- Output: True\n",
    "print([1, 2, 3] > [1, 2])     # <-- Output: True (Longer list is \"greater\")\n",
    "print([3, 1] > [1, 4])        # <-- Output: True, 3 > 1. Python doesn’t even check 1 vs 4 because 3 > 1 already determined the result."
   ]
  },
  {
   "cell_type": "markdown",
   "id": "164498b8-c095-40d3-a4d7-95746279a9bf",
   "metadata": {},
   "source": [
    "#### List Operators: Identity"
   ]
  },
  {
   "cell_type": "code",
   "execution_count": null,
   "id": "07b004de-d1cc-4c10-9134-7c95ccc0f215",
   "metadata": {},
   "outputs": [],
   "source": [
    "a = [1, 2, 3]\n",
    "b = [1, 2, 3]\n",
    "\n",
    "print(a is b)                 # <-- Output: False, completely different objects. "
   ]
  },
  {
   "cell_type": "code",
   "execution_count": null,
   "id": "5e9e6f1a-03cf-47f4-b007-f45acd7d8ee8",
   "metadata": {},
   "outputs": [],
   "source": [
    "a = [1, 2, 3]\n",
    "\n",
    "b = a\n",
    "print(a is b)                 # <-- Output: True, both refer to the same object"
   ]
  },
  {
   "cell_type": "code",
   "execution_count": null,
   "id": "ed4d3630-770b-4af4-a4e3-f0c45b40f38f",
   "metadata": {},
   "outputs": [],
   "source": [
    "#"
   ]
  },
  {
   "cell_type": "code",
   "execution_count": null,
   "id": "9ebef496-2d7b-4927-bf8b-4ca3d7397a83",
   "metadata": {},
   "outputs": [],
   "source": [
    "a = [1, 2, 3, [4, 5, 6]]\n",
    "b = a\n",
    "\n",
    "a[3].append(7)\n",
    "\n",
    "print(a)\n",
    "print(b)\n",
    "\n",
    "a.append(None)\n",
    "print(a)\n",
    "print(b)"
   ]
  },
  {
   "cell_type": "code",
   "execution_count": null,
   "id": "8eb12278-b6b5-4fde-b3ae-9d5ff6939829",
   "metadata": {},
   "outputs": [],
   "source": []
  },
  {
   "cell_type": "markdown",
   "id": "0d3e35df-3f1d-4e17-82f5-e81b5c730abc",
   "metadata": {},
   "source": [
    "#### List Operators: Logical "
   ]
  },
  {
   "cell_type": "code",
   "execution_count": null,
   "id": "d8ae723b-7210-4a0c-8002-943bbc99266d",
   "metadata": {},
   "outputs": [],
   "source": [
    "print(bool([1, 2, 3]))       # <-- True\n",
    "print(bool([]))              # <-- False"
   ]
  },
  {
   "cell_type": "code",
   "execution_count": null,
   "id": "66852819-24a8-423c-bc80-cb40fe080da2",
   "metadata": {},
   "outputs": [],
   "source": [
    "print([1] and [2])           # <-- Output: [2] (Last truthy value)\n",
    "print([] and [2])            # <-- Output: [] (Short-circuits at `[]`)"
   ]
  },
  {
   "cell_type": "code",
   "execution_count": null,
   "id": "0a85672d-c491-4c28-9f81-6920056a2c89",
   "metadata": {},
   "outputs": [],
   "source": [
    "print([] or [2])             # <-- Output: [2] (First truthy value)\n",
    "print([1] or [2])            # <-- Output: [1] (Stops at first truthy value)\n"
   ]
  },
  {
   "cell_type": "code",
   "execution_count": null,
   "id": "05c6a3bb-71ce-4b26-bbef-9f806de57c76",
   "metadata": {},
   "outputs": [],
   "source": [
    "print(not [1, 2, 3])         # <-- Output: False\n",
    "print(not [])                # <-- Output: True\n"
   ]
  },
  {
   "cell_type": "markdown",
   "id": "c45e5f7d-4b02-4e0f-9141-1fbd3a7120f9",
   "metadata": {},
   "source": [
    "### Methods: Return Values"
   ]
  },
  {
   "cell_type": "code",
   "execution_count": 62,
   "id": "b4ede68e-777c-4039-98b2-ff21ad0c7ff3",
   "metadata": {},
   "outputs": [
    {
     "name": "stdout",
     "output_type": "stream",
     "text": [
      "None\n",
      "None\n",
      "None\n",
      "None\n",
      "None\n",
      "None\n",
      "None\n"
     ]
    }
   ],
   "source": [
    "lst = [3, 1, 4]\n",
    "print(lst.append(2))            # <-- note: Output: None\n",
    "print(lst.extend([5]))          # <-- note: Output: None\n",
    "print(lst.insert(1, 99))        # <-- note: Output: None\n",
    "print(lst.sort())               # <-- note: Output: None\n",
    "print(lst.reverse())            # <-- note: Output: None\n",
    "print(lst.remove(99))           # <-- note: Output: None\n",
    "print(lst.clear())              # <-- note: Output: None"
   ]
  },
  {
   "cell_type": "code",
   "execution_count": 55,
   "id": "ea799478-3855-492a-a681-caed6e0a7163",
   "metadata": {},
   "outputs": [
    {
     "name": "stdout",
     "output_type": "stream",
     "text": [
      "5\n",
      "1\n",
      "1\n",
      "1\n",
      "[3, 4, 1]\n"
     ]
    }
   ],
   "source": [
    "lst = [3, 1, 4, 1, 5]\n",
    "print(lst.pop())                # <-- note: Output: 5\n",
    "print(lst.pop(1))               # <-- note: Output: 1\n",
    "print(lst.index(4))             # <-- note: Output: 2\n",
    "print(lst.count(1))             # <-- note: Output: 2\n",
    "print(lst.copy())               # <-- note: Output: [3, 4, 1]"
   ]
  },
  {
   "cell_type": "markdown",
   "id": "b7f52651-f28b-4217-943b-33ce4b6ef97c",
   "metadata": {},
   "source": [
    "### Methods: Exception Types"
   ]
  },
  {
   "cell_type": "code",
   "execution_count": 63,
   "id": "fed41e52-3949-450b-ba46-35b4119fbaff",
   "metadata": {},
   "outputs": [
    {
     "name": "stdout",
     "output_type": "stream",
     "text": [
      "ValueError('list.remove(x): x not in list')\n",
      "IndexError('pop index out of range')\n",
      "ValueError('100 is not in list')\n",
      "TypeError(\"'<' not supported between instances of 'int' and 'str'\")\n"
     ]
    }
   ],
   "source": [
    "lst = [10, 20, 30]\n",
    "\n",
    "try:\n",
    "    print(lst.remove(100))      # <-- note: ValueError: list.remove(x): x not in list\n",
    "except ValueError as e:         # <-- note: TypeError: if no argument provided\n",
    "    print(repr(e))              # <-- note: AttributeError: 'data-structure' object has no attribute 'remove'\n",
    "\n",
    "try:\n",
    "    print(lst.pop(10))          # <-- note: IndexError: pop index out of range\n",
    "except IndexError as e:         # <-- note: IndexError: pop from empty 'list'\n",
    "    print(repr(e))              # <-- note: AttributeError: 'data-structure' object has no attribute 'pop'\n",
    "\n",
    "try:\n",
    "    print(lst.index(100))       # <-- note: ValueError: 100 is not in list\n",
    "except ValueError as e:         # <-- note: TypeError: index expected at least 1 argument, got 0\n",
    "    print(repr(e))              # <-- note: AttributeError: 'data-structure' object has no attribute 'index'\n",
    "\n",
    "try:\n",
    "    lst = [\"apple\", 1, \"banana\"]\n",
    "    print(lst.sort())           # <-- note: TypeError: '<' not supported between instances of 'int' and 'str'\n",
    "except TypeError as e:          # <-- note: AttributeError: 'x' object has no attribute 'sort'\n",
    "    print(repr(e))              # <-- note: AttributeError: 'data-structure' object has no attribute 'sort'\n"
   ]
  },
  {
   "cell_type": "code",
   "execution_count": null,
   "id": "72889e30-d087-4fce-ad74-375570ed6bea",
   "metadata": {},
   "outputs": [],
   "source": []
  },
  {
   "cell_type": "code",
   "execution_count": null,
   "id": "64081ec4-efbb-4b3a-84fe-33d45b15eeec",
   "metadata": {},
   "outputs": [],
   "source": []
  },
  {
   "cell_type": "code",
   "execution_count": null,
   "id": "41fb6dcf-2b65-4756-ad15-ad5a99b7e877",
   "metadata": {},
   "outputs": [],
   "source": []
  },
  {
   "cell_type": "code",
   "execution_count": null,
   "id": "6098adc4-49e7-407b-acd4-f2c2a291f8bd",
   "metadata": {},
   "outputs": [],
   "source": []
  },
  {
   "cell_type": "code",
   "execution_count": null,
   "id": "0bfd033c-b36e-4114-bfad-213f0ef7e259",
   "metadata": {},
   "outputs": [],
   "source": []
  },
  {
   "cell_type": "code",
   "execution_count": null,
   "id": "240ca3c1-65f5-4c6c-a65d-50d70c64bfd4",
   "metadata": {},
   "outputs": [],
   "source": []
  },
  {
   "cell_type": "code",
   "execution_count": null,
   "id": "969a7ce7-fd18-44a8-9902-6f491b94e7a2",
   "metadata": {},
   "outputs": [],
   "source": []
  },
  {
   "cell_type": "code",
   "execution_count": null,
   "id": "9adcff19-a4a0-49f6-9cc5-6d353c8a33df",
   "metadata": {},
   "outputs": [],
   "source": []
  },
  {
   "cell_type": "code",
   "execution_count": null,
   "id": "d189e527-3cf2-4d9f-a9da-276b03af2058",
   "metadata": {},
   "outputs": [],
   "source": []
  },
  {
   "cell_type": "code",
   "execution_count": null,
   "id": "c6c78eb0-b6ba-4052-9756-7edf07b58e64",
   "metadata": {},
   "outputs": [],
   "source": []
  },
  {
   "cell_type": "code",
   "execution_count": null,
   "id": "ed33319e-3e77-4cd1-a884-05124167b9f7",
   "metadata": {},
   "outputs": [],
   "source": []
  },
  {
   "cell_type": "code",
   "execution_count": null,
   "id": "9e8f8b9d-c4c7-4a1a-a24a-20e1ace98f53",
   "metadata": {},
   "outputs": [],
   "source": []
  },
  {
   "cell_type": "code",
   "execution_count": null,
   "id": "ddbee839-4744-42ad-8161-f815646011d7",
   "metadata": {},
   "outputs": [],
   "source": []
  }
 ],
 "metadata": {
  "kernelspec": {
   "display_name": "Python 3 (ipykernel)",
   "language": "python",
   "name": "python3"
  },
  "language_info": {
   "codemirror_mode": {
    "name": "ipython",
    "version": 3
   },
   "file_extension": ".py",
   "mimetype": "text/x-python",
   "name": "python",
   "nbconvert_exporter": "python",
   "pygments_lexer": "ipython3",
   "version": "3.10.13"
  }
 },
 "nbformat": 4,
 "nbformat_minor": 5
}
