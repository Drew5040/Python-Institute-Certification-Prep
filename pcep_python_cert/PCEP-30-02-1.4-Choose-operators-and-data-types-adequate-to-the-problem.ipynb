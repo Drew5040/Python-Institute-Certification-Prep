{
 "cells": [
  {
   "cell_type": "markdown",
   "id": "4434ca1d-0fc5-40c7-a4a7-fa053370a374",
   "metadata": {},
   "source": [
    "# Operator Precendence & Associativity"
   ]
  },
  {
   "cell_type": "code",
   "execution_count": null,
   "id": "ad26f881-1bd7-46d9-bc0a-4d605043b1bb",
   "metadata": {},
   "outputs": [],
   "source": [
    "\n",
    "# Parentheses\t                           ()\t                               Left to Right\n",
    "# Exponentiation\t                       **\t                               Right to Left\n",
    "# Unary Operators\t                    +x, -x, ~x\t                           Right to Left\n",
    "# Multiplication\t                    *, /, //, %\t                           Left to Right\n",
    "# Addition/Subtraction\t                  +, -\t                               Left to Right\n",
    "# Bitwise Shift\t                         <<, >>\t                               Left to Right\n",
    "# Bitwise AND\t                           &\t                               Left to Right\n",
    "# Bitwise XOR\t                           ^\t                               Left to Right\n",
    "# Bitwise OR\t                           |\t                                      `\n",
    "# Comparison\t                   ==, !=, >, <, >=, <=\t                       Left to Right\n",
    "# Boolean NOT\t                          not\t                               Right to Left\n",
    "# Boolean AND\t                          and\t                               Left to Right\n",
    "# Boolean OR\t                          or\t                               Left to Right\n",
    "# Assignment\t            =, +=, -=, *=, /=, //=, %=, **=, &=\t               =, ^=, >>=, <<= "
   ]
  },
  {
   "cell_type": "code",
   "execution_count": 1,
   "id": "9f55b5fe-2ac4-447b-a625-e07ee18019b7",
   "metadata": {},
   "outputs": [
    {
     "name": "stdout",
     "output_type": "stream",
     "text": [
      "6\n"
     ]
    }
   ],
   "source": [
    "x = 3 + 2 * 4 - 5\n",
    "print(x)"
   ]
  },
  {
   "cell_type": "code",
   "execution_count": 3,
   "id": "62e8df07-6a21-4ce4-963d-553c4dad1704",
   "metadata": {},
   "outputs": [
    {
     "name": "stdout",
     "output_type": "stream",
     "text": [
      "512\n"
     ]
    }
   ],
   "source": [
    "y = 2 ** 3 ** 2\n",
    "print(y)"
   ]
  },
  {
   "cell_type": "code",
   "execution_count": 4,
   "id": "fee1f0bb-4a5a-4ef2-a628-f83be2f0cbc3",
   "metadata": {},
   "outputs": [
    {
     "name": "stdout",
     "output_type": "stream",
     "text": [
      "10.0\n"
     ]
    }
   ],
   "source": [
    "z = 10 / 2 + 3 * 2 - 1\n",
    "print(z)"
   ]
  },
  {
   "cell_type": "code",
   "execution_count": 9,
   "id": "00a6e35b-dce3-428c-a975-e3e7d84b2d42",
   "metadata": {},
   "outputs": [
    {
     "data": {
      "text/plain": [
       "20.0"
      ]
     },
     "execution_count": 9,
     "metadata": {},
     "output_type": "execute_result"
    }
   ],
   "source": [
    "a = 10 + (3 * (2 ** 2)) - (8 / 4)\n",
    "a"
   ]
  },
  {
   "cell_type": "code",
   "execution_count": null,
   "id": "a56bce0d-6b57-41a2-a840-c1da838e6e24",
   "metadata": {},
   "outputs": [],
   "source": [
    "x = 5 | 3 & 1\n",
    "print(x)\n"
   ]
  },
  {
   "cell_type": "code",
   "execution_count": null,
   "id": "3753422e-c582-4703-bff0-9eaf1d468eda",
   "metadata": {},
   "outputs": [],
   "source": [
    "# 0011\n",
    "# 0001\n",
    "= 5 | 1"
   ]
  },
  {
   "cell_type": "code",
   "execution_count": 10,
   "id": "f44e3ad6-7897-4623-a80f-382a33e2e59c",
   "metadata": {},
   "outputs": [
    {
     "data": {
      "text/plain": [
       "1"
      ]
     },
     "execution_count": 10,
     "metadata": {},
     "output_type": "execute_result"
    }
   ],
   "source": [
    "3&1"
   ]
  },
  {
   "cell_type": "code",
   "execution_count": null,
   "id": "e05309d6-8376-4ffc-8d7b-6bb32a864a16",
   "metadata": {},
   "outputs": [],
   "source": []
  },
  {
   "cell_type": "code",
   "execution_count": null,
   "id": "09bc6282-2dc7-4a0e-b3c1-2e6700933cd7",
   "metadata": {},
   "outputs": [],
   "source": []
  },
  {
   "cell_type": "code",
   "execution_count": null,
   "id": "9baf151d-a1d8-41b5-a709-f2b81f9cf6d6",
   "metadata": {},
   "outputs": [],
   "source": []
  },
  {
   "cell_type": "code",
   "execution_count": null,
   "id": "88e2803d-68cb-46b6-9dc0-d6579b1c3712",
   "metadata": {},
   "outputs": [],
   "source": []
  },
  {
   "cell_type": "code",
   "execution_count": null,
   "id": "30971288-bf13-44ad-b79b-4660844e1c99",
   "metadata": {},
   "outputs": [],
   "source": []
  },
  {
   "cell_type": "code",
   "execution_count": null,
   "id": "b394265a-d2ea-425f-b456-5d55b2401585",
   "metadata": {},
   "outputs": [],
   "source": []
  },
  {
   "cell_type": "code",
   "execution_count": null,
   "id": "27a5865e-3ae8-4459-873d-df13c1770515",
   "metadata": {},
   "outputs": [],
   "source": []
  },
  {
   "cell_type": "code",
   "execution_count": null,
   "id": "9491faca-afcc-4840-b0af-482abc7c85c4",
   "metadata": {},
   "outputs": [],
   "source": []
  },
  {
   "cell_type": "code",
   "execution_count": null,
   "id": "e8a15f44-5068-4c17-9d9b-a2b762484c8d",
   "metadata": {},
   "outputs": [],
   "source": []
  }
 ],
 "metadata": {
  "kernelspec": {
   "display_name": "Python 3 (ipykernel)",
   "language": "python",
   "name": "python3"
  },
  "language_info": {
   "codemirror_mode": {
    "name": "ipython",
    "version": 3
   },
   "file_extension": ".py",
   "mimetype": "text/x-python",
   "name": "python",
   "nbconvert_exporter": "python",
   "pygments_lexer": "ipython3",
   "version": "3.10.13"
  }
 },
 "nbformat": 4,
 "nbformat_minor": 5
}
