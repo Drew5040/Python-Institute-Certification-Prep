{
 "cells": [
  {
   "cell_type": "markdown",
   "id": "2a79bf43-ce7a-4eed-9804-29a674ef972f",
   "metadata": {},
   "source": [
    "# PCEP-30-02 1.3 – Literals, Variables, and Numeral Systems in Python"
   ]
  },
  {
   "cell_type": "markdown",
   "id": "58a8785a-e5fc-4547-9c46-8239798add0e",
   "metadata": {},
   "source": [
    "### Literals in Python"
   ]
  },
  {
   "cell_type": "code",
   "execution_count": null,
   "id": "a3c75ea2-7f2d-416c-96b6-83b1d5d306d4",
   "metadata": {},
   "outputs": [],
   "source": [
    "# - Literals are fixed values that are directly written in code\n",
    "# - Examples\n",
    "# - Boolean:               True, False \n",
    "# - Integer:               10, -5, 1000\n",
    "# - Floating-Point:        3.14, -2.5, 1.0e3\n",
    "# - Scientific Notation:   1.23e4, 4.5E-3\n",
    "# - String:                'hello', 'Python'"
   ]
  },
  {
   "cell_type": "markdown",
   "id": "8f9dd7f0-ff5c-44cd-84d3-5879428cb244",
   "metadata": {},
   "source": [
    "### Variables in Python"
   ]
  },
  {
   "cell_type": "code",
   "execution_count": null,
   "id": "56ee3491-5dc1-4664-9483-f5c646fcfb06",
   "metadata": {},
   "outputs": [],
   "source": [
    "x = 10                     # Integer\n",
    "y = 3.14                   # Floating-point\n",
    "name = 'Python'            # String\n",
    "is_active = True           # Boolean"
   ]
  },
  {
   "cell_type": "code",
   "execution_count": null,
   "id": "0beb1427-efe5-4b31-9c1f-fe7abf17175e",
   "metadata": {},
   "outputs": [],
   "source": [
    "# Rules for Variables in Python\n",
    "\n",
    "# 1. Must start with a letter a-zA-Z, or an underscore _\n",
    "# 2. Can contain numbers (but not start with numbers), and underscores\n",
    "# 3. Case sensitive: 'myVar' is diff from 'myvar'\n",
    "# 4. Cannot use keywords 'class', 'if', 'else'"
   ]
  },
  {
   "cell_type": "markdown",
   "id": "8083a90f-3e02-4206-b188-505841efa53c",
   "metadata": {},
   "source": [
    "### Pythons Numeral Systems"
   ]
  },
  {
   "cell_type": "code",
   "execution_count": null,
   "id": "a6d3694c-05e4-415e-a74a-8c2b1cc8c1ba",
   "metadata": {},
   "outputs": [],
   "source": [
    "decimal = 10\n",
    "binary = 0b1010\n",
    "octal = 0o12\n",
    "hex_ = 0xA\n",
    "print(decimal, binary, octal, hex_)"
   ]
  },
  {
   "cell_type": "code",
   "execution_count": null,
   "id": "27927635-3b88-4cf7-a9d0-3cc19aa179e1",
   "metadata": {},
   "outputs": [],
   "source": [
    "# decimal base_10: 0 1 2 3 4 5 6 7 8 9   prefix: (none)   decimal 10 rep: 10\n",
    "# binary  base_02: 0 1                   prefix: 0b       decimal 10 rep: 0b1010   <-- prefixes are for python to identify the system being used\n",
    "# octal   base_08: 0 1 2 3 4 5 6 7       prefix: 0o       decimal 10 rep: 0o12\n",
    "# Hexa-d  base_16: 0-9, A-F              prefix: 0x       decimal 10 rep: 0xA\n",
    "\n",
    "# **NOTE: When performing the modulus on each system, it is impossible to get a remainder greater than the number of digits used in the system"
   ]
  },
  {
   "cell_type": "markdown",
   "id": "a371e506-ec2e-48da-9d61-3b02dffb1423",
   "metadata": {},
   "source": [
    "### Decimal System: Data Types"
   ]
  },
  {
   "cell_type": "code",
   "execution_count": null,
   "id": "9198afe2-46aa-4181-beca-2f34db35c622",
   "metadata": {},
   "outputs": [],
   "source": [
    "print(type(10))\n",
    "print(type(10.5))\n",
    "print(type(int('10')))\n",
    "print(type(float(10.5)))"
   ]
  },
  {
   "cell_type": "markdown",
   "id": "7003de67-d7f9-4096-af4a-e18b3243363e",
   "metadata": {},
   "source": [
    "### Binary System: Data Types"
   ]
  },
  {
   "cell_type": "code",
   "execution_count": null,
   "id": "04f25f8c-f917-4364-9fb2-2c2293eb7cf2",
   "metadata": {},
   "outputs": [],
   "source": [
    "print(type(0b101))   \n",
    "print(type(bin(0b101)))         \n",
    "print(type(int(\"0b101\", 2)))  "
   ]
  },
  {
   "cell_type": "markdown",
   "id": "4c4a202c-522c-4e76-bebc-efd3bd54b1c2",
   "metadata": {},
   "source": [
    "### Octal System: Data Types"
   ]
  },
  {
   "cell_type": "code",
   "execution_count": null,
   "id": "b00f376f-2599-40b9-98fd-b848270abac5",
   "metadata": {},
   "outputs": [],
   "source": [
    "print(type(0o101))   \n",
    "print(type(oct(0o101)))         \n",
    "print(type(int(\"0o101\", 8)))  "
   ]
  },
  {
   "cell_type": "markdown",
   "id": "80fc11c5-9750-4664-b66a-0aa4f0eeb6cf",
   "metadata": {},
   "source": [
    "### Hexadecimal System: Data Types"
   ]
  },
  {
   "cell_type": "code",
   "execution_count": null,
   "id": "9b25c4d7-1e54-4706-bb0e-37096aa39879",
   "metadata": {},
   "outputs": [],
   "source": [
    "print(type(0x101))   \n",
    "print(type(oct(0x101)))         \n",
    "print(type(int(\"0x101\", 16)))  "
   ]
  },
  {
   "cell_type": "markdown",
   "id": "aca27028-5c36-4a93-b3c7-c11999a83e7d",
   "metadata": {},
   "source": [
    "### Decimal -> Binary"
   ]
  },
  {
   "cell_type": "code",
   "execution_count": null,
   "id": "5bc5cebc-e041-427a-9cd4-79e174746da1",
   "metadata": {},
   "outputs": [],
   "source": [
    "# - floor divide by 2, record remainders, and read result from bottom to top"
   ]
  },
  {
   "cell_type": "code",
   "execution_count": null,
   "id": "b8b0a63c-adcf-4daf-8280-df3eeab00c8f",
   "metadata": {},
   "outputs": [],
   "source": [
    "# Convert: 13 to binary\n",
    "\n",
    "def decimal_to_binary(n):\n",
    "    if n == 0:\n",
    "        return\n",
    "    decimal_to_binary(n//2)\n",
    "    print(n % 2, end='')\n",
    "\n",
    "decimal_to_binary(13)\n",
    "\n",
    "# Trace:\n",
    "\n",
    "# FILO: read down  =   LIFO: read up\n",
    "#   13//2 = 6          n = 13 % 2 = 1\n",
    "#   6//2  = 3          n = 6  % 2 = 0\n",
    "#   3//2  = 1          n = 3  % 2 = 1\n",
    "#   1//2  = 0          n = 1  % 2 = 1\n"
   ]
  },
  {
   "cell_type": "markdown",
   "id": "12fcd501-e1d2-4873-ba7e-280528dc3d91",
   "metadata": {},
   "source": [
    "### Binary -> Decimal"
   ]
  },
  {
   "cell_type": "code",
   "execution_count": null,
   "id": "2476c46d-7909-4b43-b97e-824ca9e1d85a",
   "metadata": {},
   "outputs": [],
   "source": [
    "# - Multiply each digit by '2' raised to it's position, from right to left starting at '0'"
   ]
  },
  {
   "cell_type": "code",
   "execution_count": null,
   "id": "d5ca7092-ad45-46a5-b555-b827e3a06b9b",
   "metadata": {},
   "outputs": [],
   "source": [
    "# Convert: 0b1010\n",
    "(1*2**3) + (0*2**2) + (1*2**1) + (0*2**0)"
   ]
  },
  {
   "cell_type": "markdown",
   "id": "48886d0f-aec0-498b-8d31-842945459cbd",
   "metadata": {},
   "source": [
    "### Decimal -> Octal"
   ]
  },
  {
   "cell_type": "code",
   "execution_count": null,
   "id": "c6efe1c5-1e9f-47d5-8a5e-38601ade8628",
   "metadata": {},
   "outputs": [],
   "source": [
    "# Steps:\n",
    "# - 1. Floor divide decimal by 8\n",
    "# - 2. Record remainder\n",
    "# - 3. Repeat until quotient = 8\n",
    "# - 4. Read remainders from bottom to top"
   ]
  },
  {
   "cell_type": "code",
   "execution_count": null,
   "id": "68ca044c-742b-4fc8-a9d8-47fdfa1695d1",
   "metadata": {},
   "outputs": [],
   "source": [
    "# Convert: 123 to 0o\n",
    "\n",
    "def decimal_to_octal(n):\n",
    "    if n == 0:\n",
    "        return\n",
    "    decimal_to_octal(n//8)\n",
    "    print(n % 8, end='')\n",
    "\n",
    "decimal_to_octal(123)"
   ]
  },
  {
   "cell_type": "markdown",
   "id": "a66a907a-b14a-493d-8749-1a4fde252467",
   "metadata": {},
   "source": [
    "### Octal -> Decimal"
   ]
  },
  {
   "cell_type": "code",
   "execution_count": null,
   "id": "bffbe70e-7a46-4028-a38b-d5c5c9445639",
   "metadata": {},
   "outputs": [],
   "source": [
    "# - Starting from left to right, multiply each number by 8, raised to it's position. Just like binary, but with 8"
   ]
  },
  {
   "cell_type": "code",
   "execution_count": null,
   "id": "2ace5072-0eef-49b8-b1b1-c999da43db0a",
   "metadata": {},
   "outputs": [],
   "source": [
    "# Convert: 0o173 to decimal\n",
    "\n",
    "(1*8**2) + (7*8**1) + (3*8**0)"
   ]
  },
  {
   "cell_type": "markdown",
   "id": "32ea6563-2fd2-4f06-8d4d-082c57420255",
   "metadata": {},
   "source": [
    "### Decimal -> Hex"
   ]
  },
  {
   "cell_type": "code",
   "execution_count": null,
   "id": "97635d0e-6a5a-4aff-acb3-d9ffbd9549dd",
   "metadata": {},
   "outputs": [],
   "source": [
    "# Steps:\n",
    "\n",
    "# - Divide decimal by 16\n",
    "# - Record remainder (0-15), if it's greater than 9, convert it to A-F\n",
    "# - Repeat until quotient is 0\n",
    "# - Read remainders from top to bottom"
   ]
  },
  {
   "cell_type": "code",
   "execution_count": null,
   "id": "5bbc6785-d52d-4bc5-bbb6-e7635dc886d9",
   "metadata": {},
   "outputs": [],
   "source": [
    "# Convert: 10000 to 0x\n",
    "\n",
    "def decimal_to_hex(n, letters=None):\n",
    "    \n",
    "    if letters is None:\n",
    "        letters = ['0x']\n",
    "        \n",
    "    if n == 0:\n",
    "        return ''.join(letters)\n",
    "        \n",
    "    decimal_to_hex(n//16, letters)\n",
    "    remainder = n % 16\n",
    "\n",
    "    # Use the remainder rule for hexadecimal system\n",
    "    hex_digits = '0123456789abcdef'\n",
    "    letters.append(hex_digits[remainder])\n",
    "\n",
    "    return ''.join(letters)\n",
    "\n",
    "    \n",
    "decimal_to_hex(100000)\n",
    "    "
   ]
  },
  {
   "cell_type": "code",
   "execution_count": null,
   "id": "8b770202-f5c3-4cfb-823c-fdedc9b3a37e",
   "metadata": {},
   "outputs": [],
   "source": [
    "\n",
    "def dec_to_hex(decimal):\n",
    "    hex_digits = \"0123456789abcdef\"\n",
    "    hex_value = \"\"\n",
    "    while decimal > 0:\n",
    "        remainder = decimal % 16                            # <-- Get last hex digit\n",
    "        hex_value = hex_digits[remainder] + hex_value       # <-- Prepend to result\n",
    "        decimal //= 16                                      # <-- Reduce decimal value\n",
    "\n",
    "    return \"0x\" + hex_value\n",
    "\n",
    "\n",
    "dec_to_hex(100)"
   ]
  },
  {
   "cell_type": "markdown",
   "id": "49f46571-1f5d-4fa6-9d2f-0bc50446a269",
   "metadata": {},
   "source": [
    "### Hex -> Decimal"
   ]
  },
  {
   "cell_type": "code",
   "execution_count": null,
   "id": "cf503b5f-2271-4702-a4cb-137ff3e5e4d6",
   "metadata": {},
   "outputs": [],
   "source": [
    "# - Steps:\n",
    "\n",
    "# 1. Translate all letters to numbers first\n",
    "# 2. Multiply each number by 16, raised to its position\n",
    "# 3. Add the numbers"
   ]
  },
  {
   "cell_type": "code",
   "execution_count": null,
   "id": "f1222ca7-1d14-4390-af7f-146937f26bba",
   "metadata": {},
   "outputs": [],
   "source": [
    "# Convert: 0x186a0 to decimal\n",
    "\n",
    "(1*16**4) + (8*16**3) + (6*16**2) + (10*16**1) + (0*16**0)"
   ]
  },
  {
   "cell_type": "markdown",
   "id": "cffdd2a9-f0c4-45ac-aa90-6d39ae24c131",
   "metadata": {},
   "source": [
    "### Binary -> Hex"
   ]
  },
  {
   "cell_type": "code",
   "execution_count": null,
   "id": "59bd2e3b-6f6b-4027-8d70-8167b6f75be4",
   "metadata": {},
   "outputs": [],
   "source": [
    "# Relationship:\n",
    "# Binary uses two digits: 0 1 (base 2)\n",
    "# Hexadecimal uses 16 digits: 0 1 2 3 4 5 6 7 8 9 A B C D E F\n",
    "\n",
    "# - Each hex digit corresponds to exactly 4 binary digits (bits)\n",
    "# - Grouping binary digits into groups of 4 makes conversion easy\n",
    "\n",
    "# Steps:\n",
    "\n",
    "# 1. Group the binary digits into groups of 4 starting from the right going to the left\n",
    "# 2. If the number of bits is not a multiple of 4, add leading 0's\n",
    "# 3. Multiply each digit by 2 raised to its position (positions repeat for each group)"
   ]
  },
  {
   "cell_type": "code",
   "execution_count": null,
   "id": "85002483-0802-4f65-8224-ecbdb6553b0e",
   "metadata": {},
   "outputs": [],
   "source": [
    "# Convert: 110101011 to 0x (hex)\n",
    "\n",
    "# 1 1010 1011 -> 0001 1010 1011 = 0x1ab, a=10, b=11\n",
    "\n",
    "print((0*2**3) + (0*2**2) + (0*2**1) + (1*2**0))\n",
    "print((1*2**3) + (0*2**2) + (1*2**1) + (0*2**0))\n",
    "print((1*2**3) + (0*2**2) + (1*2**1) + (1*2**0))"
   ]
  },
  {
   "cell_type": "markdown",
   "id": "f24be2fd-9143-4c59-b6f7-f6bec7f41875",
   "metadata": {},
   "source": [
    "### Hex -> Binary"
   ]
  },
  {
   "cell_type": "code",
   "execution_count": null,
   "id": "eb989934-aa6b-4968-9906-2df8b5b31b8e",
   "metadata": {},
   "outputs": [],
   "source": [
    "int('1ab', 16)"
   ]
  },
  {
   "cell_type": "code",
   "execution_count": null,
   "id": "92b9be30-5388-4e9b-98f9-776dd3f27b2c",
   "metadata": {},
   "outputs": [],
   "source": [
    "def hex_to_binary(hex_num):\n",
    "    bin_num = int(hex_num, 16)\n",
    "    print(bin_num, end=' ')\n",
    "\n",
    "hex_to_binary(\"1ab\")"
   ]
  },
  {
   "cell_type": "markdown",
   "id": "0a14f484-6227-4132-b44b-749936acb3b0",
   "metadata": {},
   "source": [
    "### Binary -> Octal"
   ]
  },
  {
   "cell_type": "code",
   "execution_count": null,
   "id": "53a6ac6d-5e68-44e7-800d-b649f2cf1cfa",
   "metadata": {},
   "outputs": [],
   "source": [
    "# We can directly convert Binary -> Octal because they both are powers of 2\n",
    "# - Grouping Rule: each 3 binary digits corresponds to 1 octal digit\n",
    "# - 1. Group binary digits into sets of 3 (from right) to left\n",
    "# - 2. Convert each 3-bit group to it's octal equivalent"
   ]
  },
  {
   "cell_type": "code",
   "execution_count": null,
   "id": "3f0f45cf-f9ab-419f-afab-0a9b12ae50ab",
   "metadata": {},
   "outputs": [],
   "source": [
    "# Convert: 101101\n",
    "# Group: 101 101\n",
    "\n",
    "print(oct(0b101101))\n",
    "print()\n",
    "print((1*2**2) + 0 + (1*2**0), end='')\n",
    "print((1*2**2) + 0 + (1*2**0))"
   ]
  },
  {
   "cell_type": "markdown",
   "id": "4c94bceb-830d-418e-811c-6e3ddbd83c30",
   "metadata": {},
   "source": [
    "### Boolean: Short-Circuit Evaluation (\"and\")"
   ]
  },
  {
   "cell_type": "code",
   "execution_count": null,
   "id": "4fc60adc-d705-473f-9ce1-f346b921f842",
   "metadata": {},
   "outputs": [],
   "source": [
    "# The question to ask: How many operands does Python need to evaluate to know the answer\n",
    "print(0 and True)                                               # <-- 0: at least one fasle\n",
    "print(True and 0)                                               # <-- 0: at least one false\n",
    "print(1 and True)                                               # <-- True: needs to evaluate all the way to the 'True'\n",
    "print(True and 1)                                               # <-- 1: needs to evaluate all the way to the '1'\n",
    "print(True and True)                                            # <-- True: needs to go to last 'True'\n",
    "print(True and False)                                           # <-- False: need to go to False\n",
    "print(False and False)                                          # <-- False: needs to go to False\n",
    "print(False and True)                                           # <-- False: at least one false"
   ]
  },
  {
   "cell_type": "markdown",
   "id": "1591c3da-b901-4fda-bf17-08fefe661844",
   "metadata": {},
   "source": [
    "### Boolean: Short-Circuit Evaluation (\"or\")"
   ]
  },
  {
   "cell_type": "code",
   "execution_count": null,
   "id": "7f6e8a46-2e01-4795-8371-3c6999ffd5ff",
   "metadata": {},
   "outputs": [],
   "source": [
    "# The question to ask: How many operands does Python need to evaluate to know the answer\n",
    "print(0 or True)                                               # <-- True: evaluates till 'True'\n",
    "print(True or 0)                                               # <-- True: at least one 'True'\n",
    "print(1 or True)                                               # <-- 1: at least one 'True'\n",
    "print(True or 1)                                               # <-- True: at least one 'True'\n",
    "print(True or True)                                            # <-- True: at least one 'True'\n",
    "print(True or False)                                           # <-- True: at least one 'True'\n",
    "print(False or False)                                          # <-- False: evaluates till the second 'False'\n",
    "print(False or True)                                           # <-- True: evaluates till second 'True'"
   ]
  },
  {
   "cell_type": "markdown",
   "id": "88cebaee-cc0c-40ac-bf4c-c49805725043",
   "metadata": {},
   "source": [
    "### Boolean: Short-Circuit Evaluation (\"mixed\")"
   ]
  },
  {
   "cell_type": "code",
   "execution_count": null,
   "id": "72ae3006-b642-4ea5-a22d-35964af3ce64",
   "metadata": {},
   "outputs": [],
   "source": [
    "print(0 or \"Hello\")\n",
    "print(\"Hello\" or 0)\n",
    "print('' or [])\n",
    "print('' or '')\n",
    "print(1 or \"Hello\")\n",
    "print(\"Hello\" or 1)"
   ]
  },
  {
   "cell_type": "code",
   "execution_count": null,
   "id": "4bcdfe34-70b2-4153-a4ee-773b509dbd8b",
   "metadata": {},
   "outputs": [],
   "source": [
    "print(12 and \"Hello\")\n",
    "print(\"Hello\" and 12)\n",
    "print(\"\" and \"Hello\")\n",
    "print(() and [12])\n",
    "print([12] and \"Hello\")\n",
    "print(\"Hello\" and [12])"
   ]
  },
  {
   "cell_type": "markdown",
   "id": "35e8adc4-4ca9-4dd2-ac67-9b25ac4365be",
   "metadata": {},
   "source": [
    "### Comparison Operators: Chained Short-Circuit Evaluation"
   ]
  },
  {
   "cell_type": "code",
   "execution_count": null,
   "id": "b8b079d5-84b8-4657-a75a-a58fbc57e5ab",
   "metadata": {},
   "outputs": [],
   "source": [
    "# Chained comparison operators can be written in python without the use of 'and'\n",
    "# A statement like: A < B < C = (A < B) and (B < C)\n",
    "# If (A < B) is False, then evaluation stops there\n",
    "# This applies to all comparison operators (<, >, <=, >=, ==, !=)\n",
    "\n",
    "print(3 < 5 < 10)   \n",
    "print(10 > 5 > 3)  \n",
    "print(3 > 5 < 10)   \n",
    "print(3 < 5 == 5)"
   ]
  },
  {
   "cell_type": "code",
   "execution_count": null,
   "id": "35ff0641-a6b5-4604-9653-782436e8ecd0",
   "metadata": {},
   "outputs": [],
   "source": [
    "print(5 == 5.0)                      # Output: True  (because Python converts both to float)\n",
    "print(5 == \"5\")                      # Output: False (string and int are different types)"
   ]
  },
  {
   "cell_type": "code",
   "execution_count": null,
   "id": "b3378038-3471-427c-8734-1465a534830f",
   "metadata": {},
   "outputs": [],
   "source": [
    "print(2 < 4 > 3)                     # <-- (2 < 4) and (4 > 3): True\n",
    "print(10 > 5 > 2 < 8)                # <-- (10 > 5) and (5 > 2) and (2 < 8): True\n",
    "print(1 == 1 < 2)                    # <-- (1 == 1) and (1 < 2): True\n",
    "print(0 < 1 == 1 > 0)                # <-- (0 < 1) and (1 == 1) and (1 > 0): True"
   ]
  },
  {
   "cell_type": "markdown",
   "id": "912e7674-eaf3-4e07-a073-ee980a3fa735",
   "metadata": {},
   "source": [
    "### Comparison Operators: Chained Short-Circuit Evaluation (\"mixed data types\")"
   ]
  },
  {
   "cell_type": "code",
   "execution_count": null,
   "id": "fa2c1918-43e9-43f0-8cf8-de6a17d17c4a",
   "metadata": {},
   "outputs": [],
   "source": [
    "print(1 < \"2\" < 3)                   # <-- (1 < \"2\") and (\"2\" < 3): TypeError\n",
    "\n",
    "a = 256\n",
    "b = 256\n",
    "print(a is b == True)                # <-- (a is b) and (b == True): False\n",
    "\n",
    "print(None == None < 1)              # <-- (None == None) and (None < 1): TypeError\n",
    "\n",
    "print(0.1 + 0.2 == 0.3 < 0.4)        # <-- (0.1 + 0.2) == 0.3 < 0.4\n",
    "                                     # <-- (0.30000000000000004 == 0.3) and (0.3 < 0.4): False\n",
    "\n",
    "print(5 < 10 > print(\"Hello\"))       # <-- TypeError\n",
    "\n",
    "x = []\n",
    "y = []\n",
    "print(x is y == False)               # <-- (x is y) and (y == False): False   NOTE: y = [] is Falsy but doesn't == False\n",
    "\n",
    "print(5 < not False < 10)            # <-- SyntaxError\n",
    "\n",
    "a = 5\n",
    "print(3 < a < (a := 10))             # <-- (3 < a) and (a < (a:=10))\n",
    "                                     # <-- (3 < 5) and (5 < 10): True\n",
    "\n",
    "print(-0 == 0 < 1)                   # <-- (-0 == 0) and (0 < 1): True\n",
    "\n",
    "x = [1, 2, 3]\n",
    "print(x is x[:])                     # <-- 'x' has the same memory # as x[:] (a fully sliced list): False\n",
    "\n"
   ]
  },
  {
   "cell_type": "markdown",
   "id": "301d0a70-c8f4-4015-823a-0744cfefc2a8",
   "metadata": {},
   "source": [
    "### Operator Precedence"
   ]
  },
  {
   "cell_type": "code",
   "execution_count": null,
   "id": "a7e4bfcb-7713-4bc5-901e-38052b60719c",
   "metadata": {},
   "outputs": [],
   "source": [
    "\n",
    "# Precedence\t        Operator(s)\t                              Description\t                                      Associativity\n",
    "#\n",
    "# (Highest)\t               ()\t                             Parentheses (Grouping)\t                                  Left-to-Right\n",
    "#           x[index], x[index:index], x(...), .method()\t     Indexing, Slicing, Function Calls, Attribute Reference\t  Left-to-Right\n",
    "#                          **\t                             Exponentiation\t                                          Right-to-Left\n",
    "#                      +x, -x, ~x\t                         Unary Plus, Unary Minus, Bitwise NOT\t                  Right-to-Left\n",
    "#                      *, /, //, %\t                         Multiplication, Division, Floor Division, Modulus\t      Left-to-Right\n",
    "#                         +, -\t                             Addition, Subtraction\t                                  Left-to-Right\n",
    "#                        <<, >>\t                             Bitwise Left & Right Shift\t                              Left-to-Right\n",
    "#                          &\t                             Bitwise AND\t                                          Left-to-Right\n",
    "#                          ^\t                             Bitwise XOR\t                                          Left-to-Right\n",
    "#   \t                   |\t                             Bitwise OR                                               Left-to-Right\n",
    "#   \t==, !=, >, <, >=, <=, is, is not, in, not in\t     Comparison, Identity, Membership Operators\t              Left-to-Right\n",
    "#   \t                 not x\t                             Logical NOT\t                                          Right-to-Left\n",
    "#   \t                  and\t                             Logical AND\t                                          Left-to-Right\n",
    "#   \t                  or \t                             Logical OR\t                                              Left-to-Right\n",
    "# (Lowest)   \t        if-else\t                             Ternary Conditional Expression\t                          Right-to-Left\n",
    "#   \t                lambda\t                             Lambda Expression\t                                      Right-to-Left\n",
    "#    =, +=, -=, *=, /=, //=, %=, **=, &=, |=, ^=, >>=, <<=\t Assignment Operators                                     Right-to-Left\n",
    "# PIEUMDAS BITWISE COMPARISON-IS-NOT LOGICALLY CONDITIONALLY lAMBDA ASSIGNED\n"
   ]
  },
  {
   "cell_type": "code",
   "execution_count": 2,
   "id": "f6ebaa15-000a-48d2-8ee8-9946a92817b5",
   "metadata": {},
   "outputs": [
    {
     "name": "stdout",
     "output_type": "stream",
     "text": [
      "-5 -6\n"
     ]
    }
   ],
   "source": [
    "x = 5\n",
    "y = -x\n",
    "z = ~x\n",
    "print(y, z)\n"
   ]
  },
  {
   "cell_type": "code",
   "execution_count": 3,
   "id": "9e88f989-a8ce-45a3-97ff-ab9bdb4bf120",
   "metadata": {},
   "outputs": [
    {
     "data": {
      "text/plain": [
       "False"
      ]
     },
     "execution_count": 3,
     "metadata": {},
     "output_type": "execute_result"
    }
   ],
   "source": [
    "not ~x"
   ]
  },
  {
   "cell_type": "code",
   "execution_count": 102,
   "id": "fd650e19-bb11-4e59-8326-a50f8330cfe6",
   "metadata": {},
   "outputs": [
    {
     "data": {
      "text/plain": [
       "False"
      ]
     },
     "execution_count": 102,
     "metadata": {},
     "output_type": "execute_result"
    }
   ],
   "source": [
    "5 < False < 10"
   ]
  },
  {
   "cell_type": "code",
   "execution_count": 103,
   "id": "3da46eb0-f320-48e2-940a-433fd6065c93",
   "metadata": {},
   "outputs": [
    {
     "name": "stdout",
     "output_type": "stream",
     "text": [
      "True\n"
     ]
    },
    {
     "name": "stderr",
     "output_type": "stream",
     "text": [
      "<>:1: SyntaxWarning: \"is\" with a literal. Did you mean \"==\"?\n",
      "<>:1: SyntaxWarning: \"is\" with a literal. Did you mean \"==\"?\n",
      "/tmp/ipykernel_1374/908207987.py:1: SyntaxWarning: \"is\" with a literal. Did you mean \"==\"?\n",
      "  print(5 is 5 + 0)\n"
     ]
    }
   ],
   "source": [
    "print(5 is 5 + 0)"
   ]
  },
  {
   "cell_type": "code",
   "execution_count": null,
   "id": "6542bd59-df17-4905-ac69-6cf010d4fbb5",
   "metadata": {},
   "outputs": [],
   "source": []
  },
  {
   "cell_type": "code",
   "execution_count": null,
   "id": "02be961a-29e5-4cc3-a3cd-5c659874f566",
   "metadata": {},
   "outputs": [],
   "source": []
  },
  {
   "cell_type": "code",
   "execution_count": null,
   "id": "935d0efe-28f7-4204-8616-75eedc7474cf",
   "metadata": {},
   "outputs": [],
   "source": []
  },
  {
   "cell_type": "code",
   "execution_count": null,
   "id": "98d42193-8581-4a85-8b61-195a9bfc9c2d",
   "metadata": {},
   "outputs": [],
   "source": []
  },
  {
   "cell_type": "code",
   "execution_count": null,
   "id": "e7dfb5d6-b081-4cf8-af5d-c385f9b2cc40",
   "metadata": {},
   "outputs": [],
   "source": []
  },
  {
   "cell_type": "code",
   "execution_count": null,
   "id": "82d0300a-7511-476d-916f-ae4ea98a5e3f",
   "metadata": {},
   "outputs": [],
   "source": []
  }
 ],
 "metadata": {
  "kernelspec": {
   "display_name": "Python 3 (ipykernel)",
   "language": "python",
   "name": "python3"
  },
  "language_info": {
   "codemirror_mode": {
    "name": "ipython",
    "version": 3
   },
   "file_extension": ".py",
   "mimetype": "text/x-python",
   "name": "python",
   "nbconvert_exporter": "python",
   "pygments_lexer": "ipython3",
   "version": "3.10.13"
  }
 },
 "nbformat": 4,
 "nbformat_minor": 5
}
