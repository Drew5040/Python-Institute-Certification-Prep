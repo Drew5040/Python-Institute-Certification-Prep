{
 "cells": [
  {
   "cell_type": "markdown",
   "id": "bfb6d324-655e-46ec-9868-63aceccffb32",
   "metadata": {},
   "source": [
    "### Closures"
   ]
  },
  {
   "cell_type": "code",
   "execution_count": null,
   "id": "dfb9aabe-db2f-4619-a6ad-4d7bc14b34f2",
   "metadata": {},
   "outputs": [],
   "source": [
    "# A closure occurs when a nested function remembers and has access to variables from the enclosing function, even\n",
    "# after the function has finished executing. Closures do not require the function to return itself - they happen\n",
    "# as long as a nested function captures and 'remembers' non-local variables.\n",
    "\n",
    "# When do closures happen??\n",
    "# 1. A function is defined inside of another function (nested function)\n",
    "# 2. The inner function references variables from the outer function\n",
    "# 3. The outer function returns the inner function, keeping those variables 'alive'. "
   ]
  },
  {
   "cell_type": "code",
   "execution_count": 7,
   "id": "68b9e9ef-56c3-4d65-af51-c473d1d68db8",
   "metadata": {},
   "outputs": [
    {
     "name": "stdout",
     "output_type": "stream",
     "text": [
      "15\n"
     ]
    }
   ],
   "source": [
    "def outer_function(x):\n",
    "    def inner_function(y):\n",
    "        return x + y                             # <-- 'x' is \"remembered\" from outer_function\n",
    "    return inner_function\n",
    "\n",
    "closure_example = outer_function(10)             # <-- outer_function() executes, but x = 10 is still remembered\n",
    "print(closure_example(5))  # Output: 15"
   ]
  },
  {
   "cell_type": "code",
   "execution_count": 8,
   "id": "c79dae8d-fa20-4a1a-bbdf-53a2112b7e25",
   "metadata": {},
   "outputs": [
    {
     "data": {
      "text/plain": [
       "(<cell at 0x7f63cc5758a0: int object at 0x7f63d7fdc210>,)"
      ]
     },
     "execution_count": 8,
     "metadata": {},
     "output_type": "execute_result"
    }
   ],
   "source": [
    "closure_example.__closure__"
   ]
  },
  {
   "cell_type": "code",
   "execution_count": 9,
   "id": "1f91a8a5-4942-4557-8659-cd5a8e7db727",
   "metadata": {},
   "outputs": [
    {
     "name": "stdout",
     "output_type": "stream",
     "text": [
      "('y',)\n"
     ]
    }
   ],
   "source": [
    "def outer_function(x):\n",
    "    def inner_function(y):\n",
    "        return x + y\n",
    "    print(inner_function.__code__.co_varnames)  # Shows inner function’s local variables\n",
    "    return inner_function\n",
    "\n",
    "closure_example = outer_function(10)\n",
    "# ✅ Output: ('y',)\n"
   ]
  },
  {
   "cell_type": "markdown",
   "id": "541b5f3a-ba91-43ac-a580-155c526ad974",
   "metadata": {},
   "source": [
    "### Function Argument Packing"
   ]
  },
  {
   "cell_type": "code",
   "execution_count": 1,
   "id": "74b1c01e-f463-4e91-a383-134b8b1c26b0",
   "metadata": {},
   "outputs": [
    {
     "name": "stdout",
     "output_type": "stream",
     "text": [
      "(1, 4, (5, 6), 3, {'d': 7, 'e': 8})\n"
     ]
    }
   ],
   "source": [
    "def func(a, b=2, *args, c=3, **kwargs):\n",
    "    return a, b, args, c, kwargs\n",
    "\n",
    "print(func(1, 4, 5, 6, d=7, e=8))"
   ]
  },
  {
   "cell_type": "code",
   "execution_count": 7,
   "id": "db3e563f-2eab-4449-a83a-23cd83242e54",
   "metadata": {},
   "outputs": [
    {
     "name": "stdout",
     "output_type": "stream",
     "text": [
      "(1, (2, 3), 4, {'d': 5, 'e': 6})\n"
     ]
    }
   ],
   "source": [
    "def example(a, *args, c=10, **kwargs):\n",
    "    return a, args, c, kwargs\n",
    "\n",
    "print(example(1, 2, 3, c=4, d=5, e=6))"
   ]
  },
  {
   "cell_type": "code",
   "execution_count": null,
   "id": "d39fa2ab-fc77-4bf0-b8c8-e3f8b00b8f7a",
   "metadata": {},
   "outputs": [],
   "source": [
    "1, (2, 3) 4, {'d': 5, 'e': 6} "
   ]
  },
  {
   "cell_type": "code",
   "execution_count": 10,
   "id": "766a1390-f083-48bb-9b7c-ccd60333a667",
   "metadata": {},
   "outputs": [
    {
     "name": "stdout",
     "output_type": "stream",
     "text": [
      "1 (2, 3) 4 5\n"
     ]
    }
   ],
   "source": [
    "a, b, c, d = example(1, 2, 3, c=4, d=5, e=6)\n",
    "print(a, b, c, d['d'])\n"
   ]
  },
  {
   "cell_type": "code",
   "execution_count": null,
   "id": "0b9c1cae-840c-446a-83f0-7ac8ff24e709",
   "metadata": {},
   "outputs": [],
   "source": [
    "def divide_numbers(num, denom):\n",
    "    try:\n",
    "        quotient = num/denom\n",
    "        return quotient\n",
    "    except ZeroDivisionError:\n",
    "        print(\"Error: Division by zero\")\n",
    "        return None\n",
    "\n"
   ]
  },
  {
   "cell_type": "code",
   "execution_count": null,
   "id": "efa3637b-2195-44ff-8e99-8399fb01cd1b",
   "metadata": {},
   "outputs": [],
   "source": []
  },
  {
   "cell_type": "code",
   "execution_count": null,
   "id": "0c10990c-ba68-41cb-af46-2aab65d27323",
   "metadata": {},
   "outputs": [],
   "source": []
  },
  {
   "cell_type": "code",
   "execution_count": null,
   "id": "f53fc483-3f6f-4fe1-92bc-e2e596adb7d4",
   "metadata": {},
   "outputs": [],
   "source": []
  },
  {
   "cell_type": "code",
   "execution_count": null,
   "id": "2d878446-40a0-4d39-8f24-1753187fb4a4",
   "metadata": {},
   "outputs": [],
   "source": []
  },
  {
   "cell_type": "code",
   "execution_count": null,
   "id": "951f19bf-6c26-49ea-bb9a-b451dfdbc0e2",
   "metadata": {},
   "outputs": [],
   "source": []
  },
  {
   "cell_type": "code",
   "execution_count": null,
   "id": "72901a7e-8d88-48fe-a0fa-5e69dbf15d92",
   "metadata": {},
   "outputs": [],
   "source": []
  },
  {
   "cell_type": "code",
   "execution_count": null,
   "id": "5e1c9783-1f11-4f78-b7b5-bb10ec250ca1",
   "metadata": {},
   "outputs": [],
   "source": []
  },
  {
   "cell_type": "code",
   "execution_count": null,
   "id": "48e246bf-d209-44dd-91d6-ad674eb3b555",
   "metadata": {},
   "outputs": [],
   "source": []
  },
  {
   "cell_type": "code",
   "execution_count": null,
   "id": "45abae89-d8aa-4a6b-b86f-f54a6db3594f",
   "metadata": {},
   "outputs": [],
   "source": []
  },
  {
   "cell_type": "code",
   "execution_count": null,
   "id": "16e89744-94db-49b6-8521-ebc3267f6bf1",
   "metadata": {},
   "outputs": [],
   "source": []
  },
  {
   "cell_type": "code",
   "execution_count": null,
   "id": "1aa48866-d6ef-462c-91ce-e63f78175e82",
   "metadata": {},
   "outputs": [],
   "source": []
  },
  {
   "cell_type": "code",
   "execution_count": null,
   "id": "f198ed81-ecce-45ec-a5c8-5bbe7d995c69",
   "metadata": {},
   "outputs": [],
   "source": []
  },
  {
   "cell_type": "code",
   "execution_count": null,
   "id": "56b880c0-656d-4167-8007-50defe0be0be",
   "metadata": {},
   "outputs": [],
   "source": []
  },
  {
   "cell_type": "code",
   "execution_count": null,
   "id": "7691a38d-777e-4ac3-81df-ebc7c260b9d3",
   "metadata": {},
   "outputs": [],
   "source": []
  },
  {
   "cell_type": "code",
   "execution_count": null,
   "id": "c06c29ef-65bf-4305-9606-c6b34d54ad39",
   "metadata": {},
   "outputs": [],
   "source": []
  },
  {
   "cell_type": "code",
   "execution_count": null,
   "id": "5fefe531-de80-4279-9dcb-1c6a7e71a3d1",
   "metadata": {},
   "outputs": [],
   "source": []
  },
  {
   "cell_type": "code",
   "execution_count": null,
   "id": "f23592ed-a2bb-4ba8-a90e-1ed3247f4858",
   "metadata": {},
   "outputs": [],
   "source": []
  },
  {
   "cell_type": "code",
   "execution_count": null,
   "id": "1727a20a-09c1-4391-a2f4-8663b3b48523",
   "metadata": {},
   "outputs": [],
   "source": []
  },
  {
   "cell_type": "code",
   "execution_count": null,
   "id": "0c8cc7c1-2678-46a3-8be9-992b603f8795",
   "metadata": {},
   "outputs": [],
   "source": []
  },
  {
   "cell_type": "code",
   "execution_count": null,
   "id": "14c90894-eb1a-46dd-8419-3f15c9e2304e",
   "metadata": {},
   "outputs": [],
   "source": []
  }
 ],
 "metadata": {
  "kernelspec": {
   "display_name": "Python 3 (ipykernel)",
   "language": "python",
   "name": "python3"
  },
  "language_info": {
   "codemirror_mode": {
    "name": "ipython",
    "version": 3
   },
   "file_extension": ".py",
   "mimetype": "text/x-python",
   "name": "python",
   "nbconvert_exporter": "python",
   "pygments_lexer": "ipython3",
   "version": "3.10.13"
  }
 },
 "nbformat": 4,
 "nbformat_minor": 5
}
