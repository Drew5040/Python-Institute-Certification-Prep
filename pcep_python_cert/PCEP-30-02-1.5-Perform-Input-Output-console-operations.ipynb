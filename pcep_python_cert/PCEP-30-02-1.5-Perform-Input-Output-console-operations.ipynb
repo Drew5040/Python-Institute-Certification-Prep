{
 "cells": [
  {
   "cell_type": "markdown",
   "id": "89317375-0263-4fc1-8d50-fbf48ddb5cb6",
   "metadata": {},
   "source": [
    "# INPUT & OUTPUT: Console Output"
   ]
  },
  {
   "cell_type": "code",
   "execution_count": 1,
   "id": "7fad90c2-45c7-4ed7-b3b0-19ebe1d9576a",
   "metadata": {},
   "outputs": [
    {
     "name": "stdout",
     "output_type": "stream",
     "text": [
      "This is print!\n"
     ]
    }
   ],
   "source": [
    "# print()\n",
    "\n",
    "print('This', 'is', 'print!')"
   ]
  },
  {
   "cell_type": "code",
   "execution_count": 2,
   "id": "a4d0f25b-2e33-45ac-aa27-13855418b94d",
   "metadata": {},
   "outputs": [
    {
     "name": "stdout",
     "output_type": "stream",
     "text": [
      "This - is - sep=\"\"\n"
     ]
    }
   ],
   "source": [
    "# Sep=''\n",
    "\n",
    "print('This', 'is', 'sep=\"\"', sep=' - ')"
   ]
  },
  {
   "cell_type": "code",
   "execution_count": 3,
   "id": "8b50ad09-245f-450b-b21e-cf314359bc0c",
   "metadata": {},
   "outputs": [
    {
     "name": "stdout",
     "output_type": "stream",
     "text": [
      "Python Rocks!\n"
     ]
    }
   ],
   "source": [
    "# Prints a space at the end of 'Python' instead of a '\\n'\n",
    "\n",
    "print(\"Python\", end=\" \")\n",
    "print(\"Rocks!\")"
   ]
  },
  {
   "cell_type": "code",
   "execution_count": 7,
   "id": "eb6bca98-865f-44ca-b961-feb8fc4ee69a",
   "metadata": {},
   "outputs": [
    {
     "name": "stdout",
     "output_type": "stream",
     "text": [
      "Python-Programming! Let's learn.\n"
     ]
    }
   ],
   "source": [
    "print(\"Python\", \"Programming\", sep=\"-\", end=\"! \")\n",
    "print(\"Let's learn.\")"
   ]
  },
  {
   "cell_type": "code",
   "execution_count": 8,
   "id": "12c4e32f-9768-4c52-905b-3812fa170b9c",
   "metadata": {},
   "outputs": [
    {
     "name": "stdin",
     "output_type": "stream",
     "text": [
      "Enter the price:  1.2\n"
     ]
    },
    {
     "name": "stdout",
     "output_type": "stream",
     "text": [
      "Total cost after tax: 1.44\n"
     ]
    }
   ],
   "source": [
    "price = float(input(\"Enter the price: \"))\n",
    "print(\"Total cost after tax:\", price * 1.2)"
   ]
  },
  {
   "cell_type": "code",
   "execution_count": 9,
   "id": "3bb76c46-0304-4358-986c-8c6cbafecd13",
   "metadata": {},
   "outputs": [
    {
     "name": "stdin",
     "output_type": "stream",
     "text": [
      "Enter a number:  5\n"
     ]
    },
    {
     "ename": "TypeError",
     "evalue": "can only concatenate str (not \"int\") to str",
     "output_type": "error",
     "traceback": [
      "\u001b[0;31m---------------------------------------------------------------------------\u001b[0m",
      "\u001b[0;31mTypeError\u001b[0m                                 Traceback (most recent call last)",
      "Cell \u001b[0;32mIn[9], line 2\u001b[0m\n\u001b[1;32m      1\u001b[0m num \u001b[38;5;241m=\u001b[39m \u001b[38;5;28minput\u001b[39m(\u001b[38;5;124m\"\u001b[39m\u001b[38;5;124mEnter a number: \u001b[39m\u001b[38;5;124m\"\u001b[39m)\n\u001b[0;32m----> 2\u001b[0m \u001b[38;5;28mprint\u001b[39m(\u001b[43mnum\u001b[49m\u001b[43m \u001b[49m\u001b[38;5;241;43m+\u001b[39;49m\u001b[43m \u001b[49m\u001b[38;5;241;43m5\u001b[39;49m)\n",
      "\u001b[0;31mTypeError\u001b[0m: can only concatenate str (not \"int\") to str"
     ]
    }
   ],
   "source": [
    "num = input(\"Enter a number: \")\n",
    "print(num + 5)"
   ]
  },
  {
   "cell_type": "markdown",
   "id": "e26e149d-b51e-4992-9938-65f4cdc826de",
   "metadata": {},
   "source": [
    "### Edge-Case 1: input()"
   ]
  },
  {
   "cell_type": "code",
   "execution_count": 10,
   "id": "429a0aaa-c5ad-4d6e-accb-ff0299144d05",
   "metadata": {},
   "outputs": [
    {
     "name": "stdin",
     "output_type": "stream",
     "text": [
      "Enter a number:  two\n"
     ]
    }
   ],
   "source": [
    "# input() always returns a string\n",
    "num = input('Enter a number: ')\n",
    "if num.isdigit():    \n",
    "    print(num + 10)"
   ]
  },
  {
   "cell_type": "markdown",
   "id": "948cda33-b0e8-415b-95b1-56ff43321ba8",
   "metadata": {},
   "source": [
    "### Edge Case 2: Incorrect Type Conversion"
   ]
  },
  {
   "cell_type": "code",
   "execution_count": null,
   "id": "10591d7a-832d-4a27-bf7c-c5b4ff993310",
   "metadata": {},
   "outputs": [],
   "source": [
    "age = int(input(\"Enter your age: \"))  # User enters \"twenty-five\""
   ]
  },
  {
   "cell_type": "code",
   "execution_count": null,
   "id": "b8122747-376f-4560-a75d-5a283651fa5d",
   "metadata": {},
   "outputs": [],
   "source": [
    "age = input(\"Enter your age: \")\n",
    "if age.isdigit():\n",
    "    age = int(age)\n",
    "else:\n",
    "    print(\"Invalid input. Please enter a number.\")\n"
   ]
  },
  {
   "cell_type": "markdown",
   "id": "34a224f4-0747-4fb8-b8b8-d27ae35696be",
   "metadata": {},
   "source": [
    "### Edge Case 3: sep= and end= Parameter Misuse"
   ]
  },
  {
   "cell_type": "code",
   "execution_count": 13,
   "id": "380e4ec2-9024-4620-b480-1259402b0ebc",
   "metadata": {},
   "outputs": [
    {
     "name": "stdout",
     "output_type": "stream",
     "text": [
      "Hello World\n"
     ]
    }
   ],
   "source": [
    "# Trap: Expecting sep= to work for a single string or misunderstanding how end= affects multiple print() calls.\n",
    "print(\"Hello World\", sep=\"-\")"
   ]
  },
  {
   "cell_type": "code",
   "execution_count": 14,
   "id": "55293597-0d04-4a70-a20d-fda2aff928ac",
   "metadata": {},
   "outputs": [
    {
     "name": "stdout",
     "output_type": "stream",
     "text": [
      "Hello - World\n"
     ]
    }
   ],
   "source": [
    "print(\"Hello\", end=\" - \")\n",
    "print(\"World\")\n"
   ]
  },
  {
   "cell_type": "markdown",
   "id": "c6d0e536-cda1-4c97-adad-995a546dabfe",
   "metadata": {},
   "source": [
    "### Edge Case 4: Handling Extra Spaces in Input"
   ]
  },
  {
   "cell_type": "code",
   "execution_count": 15,
   "id": "d61bc859-2ecb-4259-923f-bac03dc42a8d",
   "metadata": {},
   "outputs": [
    {
     "name": "stdin",
     "output_type": "stream",
     "text": [
      "Enter password:  1\n"
     ]
    }
   ],
   "source": [
    "password = input(\"Enter password: \")\n",
    "if password == \"admin123\":\n",
    "    print(\"Access Granted\")"
   ]
  },
  {
   "cell_type": "code",
   "execution_count": 16,
   "id": "9de652fd-bda7-4546-9939-64d3cac79880",
   "metadata": {},
   "outputs": [
    {
     "name": "stdin",
     "output_type": "stream",
     "text": [
      "Enter password:  ········\n"
     ]
    },
    {
     "name": "stdout",
     "output_type": "stream",
     "text": [
      "Access Denied\n"
     ]
    }
   ],
   "source": [
    "import getpass\n",
    "\n",
    "password = getpass.getpass(\"Enter password: \")\n",
    "if password == \"admin123\":\n",
    "    print(\"Access Granted\")\n",
    "else:\n",
    "    print(\"Access Denied\")\n"
   ]
  },
  {
   "cell_type": "code",
   "execution_count": null,
   "id": "d35d5833-798b-48bc-a143-d13819d434d8",
   "metadata": {},
   "outputs": [],
   "source": [
    "password = input(\"Enter password: \").strip()"
   ]
  },
  {
   "cell_type": "markdown",
   "id": "921672ef-1c9f-4d18-9d5c-9206d5d6b467",
   "metadata": {},
   "source": [
    "### Edge Case 8: Printing Special Characters in Strings"
   ]
  },
  {
   "cell_type": "code",
   "execution_count": null,
   "id": "9b6ae63c-7937-4529-b81e-22200d1c6e50",
   "metadata": {},
   "outputs": [],
   "source": [
    "print(\"He said, \"Hello\"\")\n"
   ]
  },
  {
   "cell_type": "code",
   "execution_count": 17,
   "id": "71a50791-b334-48a6-9299-b0b32225369a",
   "metadata": {},
   "outputs": [
    {
     "name": "stdout",
     "output_type": "stream",
     "text": [
      "He said, \"Hello\"\n",
      "He said, \"Hello\"\n",
      "He said, \"Hello\" \n"
     ]
    }
   ],
   "source": [
    "print(\"He said, \\\"Hello\\\"\")  # Double quotes inside double quotes (escaped)\n",
    "print('He said, \"Hello\"')    # Mixing single and double quotes\n",
    "print(\"\"\"He said, \"Hello\" \"\"\")  # Triple quotes work too\n"
   ]
  },
  {
   "cell_type": "code",
   "execution_count": 18,
   "id": "0ff60bfe-18b1-4275-a565-63da98b3a6c3",
   "metadata": {},
   "outputs": [
    {
     "name": "stdin",
     "output_type": "stream",
     "text": [
      "Enter a number:  3\n"
     ]
    },
    {
     "name": "stdout",
     "output_type": "stream",
     "text": [
      "333\n"
     ]
    }
   ],
   "source": [
    "num = input(\"Enter a number: \")\n",
    "print(num * 3)"
   ]
  },
  {
   "cell_type": "code",
   "execution_count": 25,
   "id": "82ade8c7-db5f-4a5e-81a7-7ae5b2f57b45",
   "metadata": {},
   "outputs": [
    {
     "name": "stdout",
     "output_type": "stream",
     "text": [
      "A-B-C D E\n"
     ]
    }
   ],
   "source": [
    "# print always puts a space between seperate args. that is what sep uses to fill in with the sep arg.\n",
    "print(\"A\", \"B\", \"C\", sep=\"-\", end=\" \")\n",
    "print(\"D\", \"E\")"
   ]
  },
  {
   "cell_type": "code",
   "execution_count": 28,
   "id": "a4a60f58-e1e9-4702-b0e1-7666052f12e9",
   "metadata": {},
   "outputs": [
    {
     "name": "stdout",
     "output_type": "stream",
     "text": [
      "A B CD E\n"
     ]
    }
   ],
   "source": [
    "print('A', 'B', 'C', end='')\n",
    "print('D', 'E')"
   ]
  },
  {
   "cell_type": "markdown",
   "id": "65990697-9b8f-4746-917b-f3a1c83e240d",
   "metadata": {},
   "source": [
    "### int(), float()"
   ]
  },
  {
   "cell_type": "code",
   "execution_count": 29,
   "id": "b45b6883-17f9-4c81-b2b7-22f23d64155f",
   "metadata": {},
   "outputs": [
    {
     "name": "stdout",
     "output_type": "stream",
     "text": [
      "5\n",
      "255\n"
     ]
    }
   ],
   "source": [
    "binary_num = int(\"101\", 2)  # Converts binary string to integer\n",
    "print(binary_num)  # Output: 5\n",
    "\n",
    "hex_num = int(\"FF\", 16)  # Converts hexadecimal string to integer\n",
    "print(hex_num)  "
   ]
  },
  {
   "cell_type": "code",
   "execution_count": null,
   "id": "f5f9b9f5-065a-418d-a0f5-d5492d103298",
   "metadata": {},
   "outputs": [],
   "source": []
  },
  {
   "cell_type": "code",
   "execution_count": null,
   "id": "99979fa4-cdc1-403f-8cb7-2a3cc5d48017",
   "metadata": {},
   "outputs": [],
   "source": []
  },
  {
   "cell_type": "code",
   "execution_count": null,
   "id": "e85f36af-5847-4e9d-a274-e8f9f20db9d8",
   "metadata": {},
   "outputs": [],
   "source": []
  },
  {
   "cell_type": "code",
   "execution_count": null,
   "id": "aef4e7f7-9256-444a-8db9-e4b578b34936",
   "metadata": {},
   "outputs": [],
   "source": []
  },
  {
   "cell_type": "code",
   "execution_count": null,
   "id": "03e8a489-dc92-41ce-91b0-7344d15c741c",
   "metadata": {},
   "outputs": [],
   "source": []
  },
  {
   "cell_type": "code",
   "execution_count": null,
   "id": "d83c956f-9870-44c0-ba41-6265eab963df",
   "metadata": {},
   "outputs": [],
   "source": []
  },
  {
   "cell_type": "code",
   "execution_count": null,
   "id": "1e56bb66-0e0e-48ba-b46b-685267d83b89",
   "metadata": {},
   "outputs": [],
   "source": []
  },
  {
   "cell_type": "code",
   "execution_count": null,
   "id": "60a3eb14-e18e-4935-8b99-c32c42b0daa1",
   "metadata": {},
   "outputs": [],
   "source": []
  },
  {
   "cell_type": "code",
   "execution_count": null,
   "id": "5ed3315b-d1c2-43ff-94a2-ec56209317b7",
   "metadata": {},
   "outputs": [],
   "source": []
  },
  {
   "cell_type": "code",
   "execution_count": null,
   "id": "3adff9bb-6679-4dd1-a61a-865b9fb5ed70",
   "metadata": {},
   "outputs": [],
   "source": []
  },
  {
   "cell_type": "code",
   "execution_count": null,
   "id": "15b6eddd-2786-44c5-9ff9-3528e89ed731",
   "metadata": {},
   "outputs": [],
   "source": []
  },
  {
   "cell_type": "code",
   "execution_count": null,
   "id": "df80e253-891d-4c4f-b409-eab8356fd87c",
   "metadata": {},
   "outputs": [],
   "source": []
  },
  {
   "cell_type": "code",
   "execution_count": null,
   "id": "4ba3fe45-9cae-4ef4-959c-430e6e297773",
   "metadata": {},
   "outputs": [],
   "source": []
  }
 ],
 "metadata": {
  "kernelspec": {
   "display_name": "Python 3 (ipykernel)",
   "language": "python",
   "name": "python3"
  },
  "language_info": {
   "codemirror_mode": {
    "name": "ipython",
    "version": 3
   },
   "file_extension": ".py",
   "mimetype": "text/x-python",
   "name": "python",
   "nbconvert_exporter": "python",
   "pygments_lexer": "ipython3",
   "version": "3.10.13"
  }
 },
 "nbformat": 4,
 "nbformat_minor": 5
}
