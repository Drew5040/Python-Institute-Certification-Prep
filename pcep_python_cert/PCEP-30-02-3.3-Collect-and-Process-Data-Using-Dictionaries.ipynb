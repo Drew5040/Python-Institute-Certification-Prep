{
 "cells": [
  {
   "cell_type": "markdown",
   "id": "b17d317b-7894-48e0-8e82-220980dd6331",
   "metadata": {},
   "source": [
    "### PCEP 30-02 3.3 - Collect and Process Data Using Dictionaries"
   ]
  },
  {
   "cell_type": "code",
   "execution_count": null,
   "id": "2ce3abc3-6b0a-4ada-aacc-b3da3c3e32c8",
   "metadata": {},
   "outputs": [],
   "source": [
    "# Dictionaries: \n",
    "# - mutable\n",
    "# - must use immutable objects for keys\n",
    "# - cannot use lists or other dictionaries as keys"
   ]
  },
  {
   "cell_type": "code",
   "execution_count": null,
   "id": "c6ffe214-4b88-4a5e-98d1-be8bf759c86c",
   "metadata": {},
   "outputs": [],
   "source": [
    "d = {1: \"one\", \"two\": 2, (3, 4): \"tuple\"}        # <-- valid"
   ]
  },
  {
   "cell_type": "code",
   "execution_count": null,
   "id": "519236b1-f930-4355-975f-330d2ee59dfd",
   "metadata": {},
   "outputs": [],
   "source": [
    "d = {[1, 2, 3]: \"list\"}          # <-- TypeError: unhashable type: 'list'"
   ]
  },
  {
   "cell_type": "code",
   "execution_count": null,
   "id": "d01e6934-8851-46ae-b772-b219eafb12e9",
   "metadata": {},
   "outputs": [],
   "source": [
    "# Tuples as keys work if all their elements are immutable\n",
    "d = {(1, 2, (3, 4)): \"valid\"}    # <-- Works! tuples are immutable and hashable. "
   ]
  },
  {
   "cell_type": "code",
   "execution_count": null,
   "id": "8527a1db-9894-4307-b93b-885f57c5509e",
   "metadata": {},
   "outputs": [],
   "source": [
    "d = {(1, 2, [3, 4]): \"invalid\"}  # <-- TypeError (list is mutable) Tuples with mutable elements are immutable but not hashable"
   ]
  },
  {
   "cell_type": "markdown",
   "id": "f2c423fe-a57c-43ec-b5c3-e66212a37c6c",
   "metadata": {},
   "source": [
    "### Dictionary Methods"
   ]
  },
  {
   "cell_type": "code",
   "execution_count": null,
   "id": "3ccbfeeb-0b52-491f-a832-22763edd577d",
   "metadata": {},
   "outputs": [],
   "source": [
    "# d.keys()\t                   Returns dictionary keys\n",
    "# d.values()\t               Returns dictionary values\n",
    "# d.items()\t                   Returns (key, value) pairs\n",
    "# d.get(key)\t               Returns value or None if key doesn’t exist\n",
    "# d.setdefault(key, value)\t   Returns key's value; inserts it if missing\n",
    "# d.pop(key)\t               Removes and returns key’s value\n",
    "# d.popitem()\t               Removes and returns the last inserted (key, value) pair\n",
    "# d.update(other_dict)\t       Merges two dictionaries\n",
    "# d.fromkeys()"
   ]
  },
  {
   "cell_type": "code",
   "execution_count": null,
   "id": "8f09c861-93e5-4eaa-a6a7-11360692a15d",
   "metadata": {},
   "outputs": [],
   "source": [
    "d = {\"a\": 1}\n",
    "print(d.setdefault(\"a\", 100))  # <-- 1 (Already exists, no change)\n",
    "print(d.setdefault(\"b\", 200))  # <-- 200 (Inserted because \"b\" was missing)\n",
    "print(d)                       # <-- {'a': 1, 'b': 200}"
   ]
  },
  {
   "cell_type": "markdown",
   "id": "477ae18a-2a16-48e7-a2fc-8fedf059a5ba",
   "metadata": {},
   "source": [
    "### Dictionary Lookups & Hashing"
   ]
  },
  {
   "cell_type": "code",
   "execution_count": null,
   "id": "ad7a884f-2f6e-4d22-9e7a-cc8b7a941aab",
   "metadata": {},
   "outputs": [],
   "source": [
    "# Dictionaries use hash tables, which means\n",
    "# - Lookups, on average, are O(1) time\n",
    "# - Keys are hashed internally (converted into unique numbers for quick access)"
   ]
  },
  {
   "cell_type": "code",
   "execution_count": null,
   "id": "cbfafd20-e239-435f-ba56-d3a7accf9366",
   "metadata": {},
   "outputs": [],
   "source": [
    "# Only immutable data types are hashable:\n",
    "\n",
    "print(hash(\"apple\"))          # <-- Get the hash value of a string\n",
    "print(hash((1, 2, 3)))        # <-- Tuples are hashable\n"
   ]
  },
  {
   "cell_type": "code",
   "execution_count": null,
   "id": "eddbcb5d-2a95-4ad6-81bd-b181e95c0968",
   "metadata": {},
   "outputs": [],
   "source": [
    "print(hash([1, 2, 3]))        # <-- TypeError: unhashable type: 'list'"
   ]
  },
  {
   "cell_type": "markdown",
   "id": "045f0c2e-76f7-4f73-be6f-bda81d15a2f6",
   "metadata": {},
   "source": [
    "### Dictionary Mutation: (modifying while iterating)"
   ]
  },
  {
   "cell_type": "code",
   "execution_count": null,
   "id": "f16994e0-7c3a-465d-98ba-a47fa07cc231",
   "metadata": {},
   "outputs": [],
   "source": [
    "# List is mutated before the runtime error\n",
    "d = {\"a\": 1, \"b\": 2, \"c\": 3}\n",
    "for k in d:\n",
    "    d[k + \"x\"] = d[k] * 2     # <-- RuntimeError: dictionary changed size during iteration"
   ]
  },
  {
   "cell_type": "code",
   "execution_count": null,
   "id": "69a62d74-b080-4758-91a7-dba631408aa2",
   "metadata": {},
   "outputs": [],
   "source": [
    "# Safe way to copy keys first\n",
    "\n",
    "for k in list(d.keys()):\n",
    "    d[k + \"x\"] = d[k] * 2\n"
   ]
  },
  {
   "cell_type": "code",
   "execution_count": null,
   "id": "1c7ef3ed-6171-4aac-b941-17beee11e0a3",
   "metadata": {},
   "outputs": [],
   "source": [
    "d = {[1, 2, 3]: \"list as key\"}\n"
   ]
  },
  {
   "cell_type": "code",
   "execution_count": null,
   "id": "7e7599c9-c68f-47de-adeb-ee16752e9b38",
   "metadata": {},
   "outputs": [],
   "source": [
    "d = {\"x\": 10}\n",
    "e = d\n",
    "e[\"y\"] = 20\n",
    "print(d)\n"
   ]
  },
  {
   "cell_type": "markdown",
   "id": "2f5b16be-ca6c-4e77-bdf9-029df711df6c",
   "metadata": {},
   "source": [
    "### Dictionary: Methods"
   ]
  },
  {
   "cell_type": "code",
   "execution_count": 3,
   "id": "174d0655-3cbf-43cd-a35c-8b16590fcec0",
   "metadata": {},
   "outputs": [
    {
     "name": "stdout",
     "output_type": "stream",
     "text": [
      "None\n",
      "{}\n"
     ]
    }
   ],
   "source": [
    "# .clear()\n",
    "\n",
    "d = {\"a\": 1, \"b\": 2}\n",
    "print(d.clear())\n",
    "print(d)                             # <-- Output: {}, mutates existing dictionary and returns the same one. Returns 'None'"
   ]
  },
  {
   "cell_type": "code",
   "execution_count": 4,
   "id": "874a9a00-5697-4999-8595-9ebc877a6f55",
   "metadata": {},
   "outputs": [
    {
     "name": "stdout",
     "output_type": "stream",
     "text": [
      "{'a': 1, 'b': 2}\n",
      "{'a': 1, 'b': 2}\n"
     ]
    }
   ],
   "source": [
    "# .copy()\n",
    "\n",
    "d = {\"a\": 1, \"b\": 2}\n",
    "print(d.copy())\n",
    "d_copy = d.copy()\n",
    "print(d_copy)                        # <-- Output: {'a': 1, 'b': 2}, does not mutate existing dict, returns a shallow copy"
   ]
  },
  {
   "cell_type": "code",
   "execution_count": 5,
   "id": "183fe338-2153-4161-9091-3b3c3ece6eae",
   "metadata": {},
   "outputs": [
    {
     "name": "stdout",
     "output_type": "stream",
     "text": [
      "{'a': 'a', 'b': 'a', 'c': 'a'}\n",
      "{'a': 0, 'b': 0, 'c': 0}\n"
     ]
    }
   ],
   "source": [
    "# .fromkeys(iterable, value=None)\n",
    "\n",
    "keys = [\"a\", \"b\", \"c\"]\n",
    "new_dict = dict.fromkeys(keys, 0)\n",
    "print(dict.fromkeys(keys, 'a'))\n",
    "print(new_dict)                      # <-- Output: {'a': 0, 'b': 0, 'c': 0}, returns a new dict with keys from the iterable, and values set to 'value'"
   ]
  },
  {
   "cell_type": "code",
   "execution_count": 6,
   "id": "dab1f115-fe81-4305-a4f7-d78e57f01308",
   "metadata": {},
   "outputs": [
    {
     "name": "stdout",
     "output_type": "stream",
     "text": [
      "1\n",
      "3\n"
     ]
    }
   ],
   "source": [
    "# .get(key, default=None)\n",
    "\n",
    "d = {\"a\": 1, \"b\": 2}\n",
    "print(d.get(\"a\"))                    # <-- Output: 1\n",
    "print(d.get(\"c\", 3))                 # <-- Output: 3, returns the value of the specified key (as a reference), otherwise, returns the default"
   ]
  },
  {
   "cell_type": "code",
   "execution_count": null,
   "id": "02245329-97e4-4896-9ed9-26347b82495b",
   "metadata": {},
   "outputs": [],
   "source": [
    "# If your dictionary (or list) contains only immutable data (like numbers, strings, tuples), a shallow copy is fine.\n",
    "# If your dictionary (or list) contains nested mutable data, a shallow copy can still lead to unintended mutations.\n",
    "# Use deepcopy() when you need a fully independent copy."
   ]
  },
  {
   "cell_type": "code",
   "execution_count": 7,
   "id": "672e0201-1f40-4582-8f6d-d5827fd7bfed",
   "metadata": {},
   "outputs": [
    {
     "name": "stdout",
     "output_type": "stream",
     "text": [
      "{'a': [1, 2, 3, 4]}\n"
     ]
    }
   ],
   "source": [
    "d = {\"a\": [1, 2, 3]}\n",
    "\n",
    "# Retrieve the list using get()\n",
    "retrieved_list = d.get(\"a\")\n",
    "\n",
    "# Modify the retrieved list\n",
    "retrieved_list.append(4)\n",
    "\n",
    "print(d)                             # <-- Output: {'a': [1, 2, 3, 4]}  (Original dictionary is modified because lists are mutable)\n"
   ]
  },
  {
   "cell_type": "code",
   "execution_count": 8,
   "id": "c2250264-b4d8-4de4-82b4-85c328895cb7",
   "metadata": {},
   "outputs": [
    {
     "name": "stdout",
     "output_type": "stream",
     "text": [
      "{'a': [1, 2, 3]}\n",
      "[1, 2, 3, 5]\n"
     ]
    }
   ],
   "source": [
    "d = {\"a\": [1, 2, 3]}\n",
    "\n",
    "retrieved_list_copy = d.get(\"a\", [])[:]  # <-- shallow copy, but internal elements are immutable, therefore, original list does not change\n",
    "\n",
    "print(d)                                 # <-- Output: {'a': [1, 2, 3]}  (Original dictionary remains unchanged)\n",
    "print(retrieved_list_copy)               # <-- Output: [1, 2, 3, 5]\n"
   ]
  },
  {
   "cell_type": "code",
   "execution_count": null,
   "id": "1b8ae06e-44ee-43f7-9de7-19df61124e72",
   "metadata": {},
   "outputs": [],
   "source": [
    "d = {\"a\": [1, 2, 3]}\n",
    "shallow_copy = d.copy()  # Shallow copy (new dictionary, but same list reference)\n",
    "shallow_copy[\"a\"].append(4)  # Modify the inner list\n",
    "\n",
    "print(d)  # Output: {'a': [1, 2, 3, 4]}  (Original is affected!)\n",
    "print(shallow_copy)  # Output: {'a': [1, 2, 3, 4]}  (Same reference to inner list)\n"
   ]
  },
  {
   "cell_type": "code",
   "execution_count": 18,
   "id": "ed8e6abe-e9bd-4fcb-863a-0980d62af4de",
   "metadata": {},
   "outputs": [
    {
     "name": "stdout",
     "output_type": "stream",
     "text": [
      "dict_items([('a', 1), ('b', 2)])\n"
     ]
    }
   ],
   "source": [
    "d = {\"a\": 1, \"b\": 2}\n",
    "print(d.items())                     # <-- Output: dict_items([('a', 1), ('b', 2)]) <-- returns a view object, with key value pairs inside tuples"
   ]
  },
  {
   "cell_type": "code",
   "execution_count": 19,
   "id": "03999ff5-dae6-42c2-92e0-a8ab8c2f36b5",
   "metadata": {},
   "outputs": [
    {
     "name": "stdout",
     "output_type": "stream",
     "text": [
      "dict_keys(['a', 'b'])\n"
     ]
    }
   ],
   "source": [
    "# .keys()\n",
    "\n",
    "d = {\"a\": 1, \"b\": 2}\n",
    "print(d.keys())                      # <-- Output: dict_keys(['a', 'b']) <-- returns a view object containing all the keys in a list"
   ]
  },
  {
   "cell_type": "code",
   "execution_count": 11,
   "id": "b60c3af6-b1ff-4c2f-8fa4-bfe72a67687c",
   "metadata": {},
   "outputs": [
    {
     "name": "stdout",
     "output_type": "stream",
     "text": [
      "0\n",
      "{'a': 1, 'b': 2}\n",
      "1\n",
      "{'b': 2}\n"
     ]
    }
   ],
   "source": [
    "# .pop(key, default)\n",
    "\n",
    "d = {\"a\": 1, \"b\": 2}\n",
    "print(d.pop('c', 0))                 # <-- Output: 1 <-- returns the value of the 'popped' key, otherwise returns default\n",
    "print(d)\n",
    "print(d.pop('a', 0))\n",
    "print(d)                             # <-- Output: {'b': 2} , mutates original dict"
   ]
  },
  {
   "cell_type": "code",
   "execution_count": 14,
   "id": "7140ace7-ba61-42a9-93dc-8a01ed07e41b",
   "metadata": {},
   "outputs": [
    {
     "name": "stdout",
     "output_type": "stream",
     "text": [
      "{'a': 1, 'b': 2}\n",
      "('b', 2)\n",
      "{'a': 1}\n"
     ]
    }
   ],
   "source": [
    "d = {\"a\": 1, \"b\": 2}\n",
    "print(d)\n",
    "print(d.popitem())                   # <-- Output: ('b', 2) (in Python 3.7+) <-- returns a tuple with the key-value pair\n",
    "print(d)                             # <-- Output: {'a': 1} , mutates original dict"
   ]
  },
  {
   "cell_type": "code",
   "execution_count": null,
   "id": "a5b649e5-424e-450c-87d6-56902f456a37",
   "metadata": {},
   "outputs": [],
   "source": [
    "## .setdefault() (Dictionary Method) ##\n",
    "\n",
    "# - Checks if a key exists in a dictionary.\n",
    "# - If the key is missing, it assigns the provided default value and returns it.\n",
    "# - If the key already exists, it simply returns the existing value.\n",
    "\n",
    "## defaultdict() (from collections) ##\n",
    "\n",
    "# - Automatically assigns a default value for missing keys when accessed.\n",
    "# - The default value is determined by a factory function set at the time of creation.\n",
    "# - No need to check if a key exists before assigning a default value.\n",
    "\n",
    "# When to Use What?\n",
    "# Use defaultdict() if you need to handle missing keys consistently across multiple operations.\n",
    "# Use .setdefault() if you just need a default value once in a specific case."
   ]
  },
  {
   "cell_type": "code",
   "execution_count": 15,
   "id": "0651aca8-3ece-489b-98cd-f921508c4d3e",
   "metadata": {},
   "outputs": [
    {
     "name": "stdout",
     "output_type": "stream",
     "text": [
      "1\n",
      "{'a': 1}\n",
      "200\n",
      "{'a': 1, 'b': 200}\n"
     ]
    }
   ],
   "source": [
    "# .setdefault(key, default=None)\n",
    "\n",
    "d = {\"a\": 1}\n",
    "print(d.setdefault(\"a\", 100))        # <-- Output: 1 (key exists)\n",
    "print(d)\n",
    "print(d.setdefault(\"b\", 200))        # <-- Output: 200 (key was missing)\n",
    "print(d)                             # <-- Output: {'a': 1, 'b': 200}\n"
   ]
  },
  {
   "cell_type": "code",
   "execution_count": null,
   "id": "ec900435-4a8a-4c02-bf5d-4bb457263db6",
   "metadata": {},
   "outputs": [],
   "source": [
    "## Difference between defaultdict() ## \n",
    "\n",
    "from collections import defaultdict\n",
    "\n",
    "# Create a defaultdict where missing keys return an empty list\n",
    "dd = defaultdict(float)\n",
    "\n",
    "# Access a non-existing key\n",
    "dd['a']  # No KeyError; 'a' is automatically set to []\n",
    "\n",
    "print(dd)  # Output: defaultdict(<class 'list'>, {'a': [1]})\n"
   ]
  },
  {
   "cell_type": "code",
   "execution_count": 17,
   "id": "ef14dc19-31cd-4d0b-ab1d-1dbd81cdaf61",
   "metadata": {},
   "outputs": [
    {
     "name": "stdout",
     "output_type": "stream",
     "text": [
      "{'a': 1}\n",
      "{'a': 1, 'b': 2, 'c': 3}\n",
      "None\n",
      "{'a': 1, 'b': 2, 'c': 3, 'd': 4, 'e': 5}\n",
      "{'a': 1, 'b': 2, 'c': 3, 'd': 4, 'e': 5, 'f': 6, 'g': 7}\n"
     ]
    }
   ],
   "source": [
    "# .update(other_dict)\n",
    "\n",
    "d = {\"a\": 1}\n",
    "print(d)\n",
    "d.update({\"b\": 2, \"c\": 3})\n",
    "print(d)                             # <-- Output: {'a': 1, 'b': 2, 'c': 3}, mutates, updates dict with key-value pairs from another dict, returns 'None'\n",
    "print(d.update(d=4, e=5))\n",
    "print(d)\n",
    "d.update([('f', 6), ('g', 7)])\n",
    "print(d)"
   ]
  },
  {
   "cell_type": "code",
   "execution_count": null,
   "id": "95894394-4c50-4448-954f-37a3091f5d55",
   "metadata": {},
   "outputs": [],
   "source": [
    "# .values()\n",
    "\n",
    "d = {\"a\": 1, \"b\": 2}\n",
    "print(d.values())                    # <-- Output: dict_values([1, 2]), returns a view object with the values in a list"
   ]
  },
  {
   "cell_type": "code",
   "execution_count": null,
   "id": "c9c6a892-f1b2-4a88-9b1e-1e634a768eb9",
   "metadata": {},
   "outputs": [],
   "source": [
    "d = {\"one\": 1, \"two\": 2}\n",
    "print(d.get(\"three\", 3))\n",
    "print(d)\n"
   ]
  },
  {
   "cell_type": "code",
   "execution_count": null,
   "id": "7403388e-45d6-44d9-8d5b-958c2075a380",
   "metadata": {},
   "outputs": [],
   "source": []
  },
  {
   "cell_type": "code",
   "execution_count": null,
   "id": "9b0cfd76-a172-49cc-b6ba-8552aac391bd",
   "metadata": {},
   "outputs": [],
   "source": []
  },
  {
   "cell_type": "code",
   "execution_count": null,
   "id": "d8d79026-961d-41d9-a7eb-37efa4c78573",
   "metadata": {},
   "outputs": [],
   "source": [
    "T or F and F or F and T\n",
    "T or F or F and T\n",
    "T or F or F\n",
    "T or F\n",
    "T"
   ]
  },
  {
   "cell_type": "code",
   "execution_count": null,
   "id": "57e09026-1df3-44ad-afa0-9c3768324d17",
   "metadata": {},
   "outputs": [],
   "source": [
    "1: a\n",
    "2: b\n",
    "3: c"
   ]
  },
  {
   "cell_type": "code",
   "execution_count": null,
   "id": "f5d5d2c7-4323-403f-b54b-ed5309bffa86",
   "metadata": {},
   "outputs": [],
   "source": [
    "0: 0 2\n",
    "1: 0 2\n",
    "2: 0 2"
   ]
  },
  {
   "cell_type": "code",
   "execution_count": null,
   "id": "e5be8260-25d3-4475-9e66-f9558f98b743",
   "metadata": {},
   "outputs": [],
   "source": [
    "12 & 5 | 8 ^ 3"
   ]
  },
  {
   "cell_type": "code",
   "execution_count": null,
   "id": "02d06bd0-bbde-484b-a976-568e392186fe",
   "metadata": {},
   "outputs": [],
   "source": [
    "1100\n",
    "0101 (&)\n",
    "0100 = 4\n",
    "\n",
    "4 | 8 ^ 3\n",
    "\n",
    "1000\n",
    "0011 (^)\n",
    "1011 = 11\n",
    "\n",
    "4 | 4\n",
    "\n",
    "1011\n",
    "0100 (|)\n",
    "1111 = 15"
   ]
  },
  {
   "cell_type": "code",
   "execution_count": null,
   "id": "0806c447-530d-4e6a-bf91-350b24487188",
   "metadata": {},
   "outputs": [],
   "source": [
    "x = 10\n",
    "\n",
    "def outer():\n",
    "    x = 20\n",
    "    def inner():\n",
    "        nonlocal x\n",
    "        x += 5\n",
    "        return x\n",
    "    return inner()\n",
    "\n",
    "print(outer())"
   ]
  },
  {
   "cell_type": "code",
   "execution_count": null,
   "id": "55b9b232-442a-4cdc-b4ad-d25781c01ba5",
   "metadata": {},
   "outputs": [],
   "source": [
    "x = 12 & 5 | 8 ^ 3\n",
    "print(x)\n"
   ]
  },
  {
   "cell_type": "code",
   "execution_count": null,
   "id": "7c2b1c88-03c9-492e-a17e-835de851136d",
   "metadata": {},
   "outputs": [],
   "source": [
    "for i in range(3):\n",
    "    for j in range(3):\n",
    "        if j == 1:\n",
    "            continue\n",
    "        print(i, j, end=\" | \")\n"
   ]
  },
  {
   "cell_type": "code",
   "execution_count": null,
   "id": "0b163d60-edce-45fc-8284-3bbdb131c794",
   "metadata": {},
   "outputs": [],
   "source": [
    "try:\n",
    "    print(1 / 0)\n",
    "except ArithmeticError:\n",
    "    print(\"Arithmetic Error caught\")\n",
    "except ZeroDivisionError:\n",
    "    print(\"Zero Division Error caught\")\n",
    "except:\n",
    "    print(\"General Exception caught\")\n"
   ]
  },
  {
   "cell_type": "code",
   "execution_count": null,
   "id": "509acfc3-649a-4262-94b6-04654f41b5a1",
   "metadata": {},
   "outputs": [],
   "source": [
    "def func(a, b=2, *args, c=3, **kwargs):\n",
    "    return a, b, args, c, kwargs\n",
    "\n",
    "print(func(1, 4, 5, 6, d=7, e=8))\n"
   ]
  },
  {
   "cell_type": "code",
   "execution_count": null,
   "id": "81956802-5d0a-40a5-b5b6-c9ec55536ed4",
   "metadata": {},
   "outputs": [],
   "source": []
  },
  {
   "cell_type": "code",
   "execution_count": null,
   "id": "72b45ee5-aaf8-4756-a54d-ab91249696b5",
   "metadata": {},
   "outputs": [],
   "source": []
  }
 ],
 "metadata": {
  "kernelspec": {
   "display_name": "Python 3 (ipykernel)",
   "language": "python",
   "name": "python3"
  },
  "language_info": {
   "codemirror_mode": {
    "name": "ipython",
    "version": 3
   },
   "file_extension": ".py",
   "mimetype": "text/x-python",
   "name": "python",
   "nbconvert_exporter": "python",
   "pygments_lexer": "ipython3",
   "version": "3.10.13"
  }
 },
 "nbformat": 4,
 "nbformat_minor": 5
}
