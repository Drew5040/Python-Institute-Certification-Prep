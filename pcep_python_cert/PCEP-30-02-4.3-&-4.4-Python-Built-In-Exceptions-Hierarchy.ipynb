{
 "cells": [
  {
   "cell_type": "code",
   "execution_count": null,
   "id": "76f3a293-b0d8-4b46-92a4-b4adf2c6cad6",
   "metadata": {},
   "outputs": [],
   "source": [
    "# PCEP-30-02 4.3 – Python Built-In Exceptions Hierarchy\n",
    "# • BaseException\n",
    "# • Exception\n",
    "# • SystemExit\n",
    "# • KeyboardInterrupt\n",
    "# • abstract exceptions\n",
    "# • ArithmeticError\n",
    "# • LookupError\n",
    "# • IndexError\n",
    "# • KeyError\n",
    "# • TypeError\n",
    "# • ValueError\n",
    "\n",
    "# PCEP-30-02 4.4 – Basics of Python Exception Handling\n",
    "# • try-except / the try-except Exception\n",
    "# • ordering the except branches\n",
    "# • propagating exceptions through function boundaries\n",
    "# • delegating responsibility for handling exceptions"
   ]
  },
  {
   "cell_type": "markdown",
   "id": "f01dbaa3-d8e6-4f7e-b4a3-9a5fc250b32f",
   "metadata": {},
   "source": [
    "# Hierarchy: Built-in Exceptions (Runtime Errors)"
   ]
  },
  {
   "cell_type": "code",
   "execution_count": null,
   "id": "40f1f6ca-e71e-4940-9397-3c1007b63c9f",
   "metadata": {},
   "outputs": [],
   "source": [
    "# Object\n",
    "#  ├──BaseException                                         <-- catches all exceptions, even those included under 'Exception'\n",
    "#      ├── SystemExit\n",
    "#      ├── KeyboardInterrupt\n",
    "#      ├── GeneratorExit\n",
    "#      ├── Exception\n",
    "#           ├── ArithmeticError                             <-- catches everything up to 'ZeroDivisionError', and no further classes\n",
    "#           │    ├── FloatingPointError\n",
    "#           │    ├── OverflowError\n",
    "#           │    ├── ZeroDivisionError\n",
    "#           ├── AssertionError                              <-- catches only 'AssertionError' class, and nothing else (no subclasses)\n",
    "#           ├── AttributeError\n",
    "#           ├── BufferError\n",
    "#           ├── EOFError\n",
    "#           ├── ImportError                                 <-- catches everything up to 'ModuleNotFoundError' class\n",
    "#           │    ├── ModuleNotFoundError\n",
    "#           ├── LookupError                                 <-- has two subclasses: 'IndexError' & 'KeyError'\n",
    "#           │    ├── IndexError\n",
    "#           │    ├── KeyError\n",
    "#           ├── MemoryError                                 <-- catches only 'MemoryError' class\n",
    "#           ├── NameError\n",
    "#           │    ├── UnboundLocalError\n",
    "#           ├── OSError                                     <-- catches all classes of error up to 'TimeOutError' class\n",
    "#           │    ├── BlockingIOError\n",
    "#           │    ├── ChildProcessError\n",
    "#           │    ├── ConnectionError\n",
    "#           │    │    ├── BrokenPipeError\n",
    "#           │    │    ├── ConnectionAbortedError\n",
    "#           │    │    ├── ConnectionRefusedError\n",
    "#           │    │    ├── ConnectionResetError\n",
    "#           │    ├── FileExistsError\n",
    "#           │    ├── FileNotFoundError\n",
    "#           │    ├── InterruptedError\n",
    "#           │    ├── IsADirectoryError\n",
    "#           │    ├── NotADirectoryError\n",
    "#           │    ├── PermissionError\n",
    "#           │    ├── ProcessLookupError\n",
    "#           │    ├── TimeoutError\n",
    "#           ├── ReferenceError\n",
    "#           ├── RuntimeError\n",
    "#           │    ├── NotImplementedError\n",
    "#           │    ├── RecursionError\n",
    "#           ├── StopIteration\n",
    "#           ├── StopAsyncIteration\n",
    "#           ├── SyntaxError\n",
    "#           │    ├── IndentationError\n",
    "#           │         ├── TabError\n",
    "#           ├── SystemError\n",
    "#           ├── TypeError\n",
    "#           ├── ValueError                                  <-- **This applies to all parent classes and their subclasses in the hierarchy:                        \n",
    "#           │    ├── UnicodeError                                 The 'ValueError' class is the Parent class of 'UnicodeError', 'UnicodeDecodeError',\n",
    "#           │         ├── UnicodeDecodeError                     'UnicodeEncodeError', and 'UnicodeTranslateError' classes. For example,\n",
    "#           │         ├── UnicodeEncodeError                     'UnicodeTranslateError' inherits from: 'UnicodeError' -> 'ValueError' -> \n",
    "#           │         ├── UnicodeTranslateError                  'Exception' -> 'BaseException' -> 'Object'. We use the subclasses in try-blocks\n",
    "#           ├── Warning                                           depending on the granularity our code requires. \n",
    "#                ├── DeprecationWarning\n",
    "#                ├── PendingDeprecationWarning\n",
    "#                ├── RuntimeWarning\n",
    "#                ├── SyntaxWarning\n",
    "#                ├── UserWarning\n",
    "#                ├── FutureWarning\n",
    "#                ├── ImportWarning\n",
    "#                ├── UnicodeWarning\n",
    "#                ├── BytesWarning\n",
    "#                ├── ResourceWarning\n"
   ]
  },
  {
   "cell_type": "markdown",
   "id": "97629760-3265-4b25-93ff-45a19e8f6462",
   "metadata": {},
   "source": [
    "# BaseException: Root of all Exceptions"
   ]
  },
  {
   "cell_type": "code",
   "execution_count": null,
   "id": "5d28bc90-33d2-4c66-9bdf-ce94312e20b1",
   "metadata": {},
   "outputs": [],
   "source": [
    "# - Top most class in Python's built-in exception hierarchy\n",
    "# - Every exception in Python is derived from 'BaseException'\n",
    "# - It provides methods (functions) for: error msg's, stack-traces, and handling exceptions\n",
    "# - You rarely catch a 'BaseException' directly because it also includes system-related exceptions like 'KeyboardInterrupt'\n",
    "# - Catches all subclasses in the hierarchy"
   ]
  },
  {
   "cell_type": "code",
   "execution_count": null,
   "id": "3a4ad54b-48ca-4166-9437-d4eacda750b2",
   "metadata": {},
   "outputs": [],
   "source": [
    "# BaseException\n",
    "#  ├── SystemExit           <-- Raised when sys.exit() is called\n",
    "#  ├── KeyboardInterrupt    <-- Raised when Ctrl + C is pressed\n",
    "#  ├── GeneratorExit        <-- Raised when a generator is exited for cleanup\n",
    "#  ├── Exception            <-- Raised when a subclass is raised"
   ]
  },
  {
   "cell_type": "markdown",
   "id": "f59a6b26-5314-4237-9b5e-bf452be68563",
   "metadata": {},
   "source": [
    "# Abstract Exceptions & Their Subclasses"
   ]
  },
  {
   "cell_type": "markdown",
   "id": "ff7c7ced-0852-4b82-928e-90c9c199b616",
   "metadata": {},
   "source": [
    "### Exception: Root of Most Exceptions"
   ]
  },
  {
   "cell_type": "code",
   "execution_count": null,
   "id": "ed26631e-0180-4204-9ab4-c722f022e5b7",
   "metadata": {},
   "outputs": [],
   "source": [
    "# - Syntax: deals with the structure of the code. Detected before the program runs at compile time. Interpreter stops execution immediately\n",
    "# - Runtime (exceptions): occur when the program is running. Python raises an exception and stops program execution\n",
    "# - Logical: do not cause Python to crash, but they produce the wrong output, hardest to detect, because the code runs without exceptions"
   ]
  },
  {
   "cell_type": "code",
   "execution_count": null,
   "id": "cd49e054-d5ad-4a8b-8157-e9933864a3a4",
   "metadata": {},
   "outputs": [],
   "source": [
    "# - If 'Exception' is used in a 'try-block' it will catch everything except 'KeyboardInterrupt', 'GeneratorExit', & 'SystemExit'\n",
    "# - because they are specifically 'SystemErrors' and are not subclasses of 'Exception'"
   ]
  },
  {
   "cell_type": "code",
   "execution_count": null,
   "id": "fa826c08-73d2-45cd-8b62-7daad0eb98e7",
   "metadata": {},
   "outputs": [],
   "source": [
    "# - Abstract Exception: are the base classes of concrete exceptions themselves, also known as base classes\n",
    "# - They are not meant to be raised directly, but serve as a tool to group their subclasses under one object"
   ]
  },
  {
   "cell_type": "markdown",
   "id": "499cdb13-a0e5-488a-9043-398091e20964",
   "metadata": {},
   "source": [
    "### LookupError"
   ]
  },
  {
   "cell_type": "code",
   "execution_count": null,
   "id": "048fb1bf-3391-4e93-899d-4cf1048a420e",
   "metadata": {},
   "outputs": [],
   "source": [
    "# - 'LookupError' is an 'abstract exception' that serves as a baseclass for errors that occur when looking up an index in a sequence or accessing \n",
    "# - a missing key in a list. It's two subclasses are 'IndexError' & 'KeyError' catching 'LookupError' will catch 'IndexError' & 'KeyError'\n",
    "# - 'LookupError' is more general than the granular 'KeyError' & 'IndexError' "
   ]
  },
  {
   "cell_type": "code",
   "execution_count": null,
   "id": "68659fbd-7745-4b39-a53a-55d26cb46393",
   "metadata": {},
   "outputs": [],
   "source": [
    "# IndexError: list index out of range\n",
    "numbers = [1, 2, 3]\n",
    "print(numbers[5])                     # <-- syntax is correct, but index five does not exist"
   ]
  },
  {
   "cell_type": "code",
   "execution_count": null,
   "id": "2c390939-ae57-411c-8248-6db77aeace51",
   "metadata": {},
   "outputs": [],
   "source": [
    "# KeyError: 'age'\n",
    "data = {\"name\": \"Alice\"}\n",
    "print(data[\"age\"])                    # <-- syntax is correct, but 'age' key does not exist"
   ]
  },
  {
   "cell_type": "markdown",
   "id": "fc28c4f6-4a36-4081-a8ed-5f9f13b52e32",
   "metadata": {},
   "source": [
    "### TypeError: (operation type error)"
   ]
  },
  {
   "cell_type": "code",
   "execution_count": null,
   "id": "5d3a459d-5138-4aba-95c5-1683e0a6f712",
   "metadata": {},
   "outputs": [],
   "source": [
    "# A TypeError Happens due to invalid OPERATIONS on the wrong DATATYPES\n",
    "\n",
    "# - A type error is raised when:\n",
    "# - 1. an OPERATION or FUNCTION is provided the wrong DATATYPE"
   ]
  },
  {
   "cell_type": "code",
   "execution_count": null,
   "id": "859199c1-af33-457f-9b90-3427372d48de",
   "metadata": {},
   "outputs": [],
   "source": [
    "\"5\" + 5                               # <-- raises a 'TypeError': cannot concatenate a 'str' + 'int' types in Python"
   ]
  },
  {
   "cell_type": "code",
   "execution_count": null,
   "id": "9ad8c511-03cb-45f4-ad82-31b64e24776a",
   "metadata": {},
   "outputs": [],
   "source": [
    "x = 10\n",
    "x()                                   # <-- calling a non-callable object"
   ]
  },
  {
   "cell_type": "code",
   "execution_count": null,
   "id": "7455e7f9-9284-4297-a373-2ebbfcaadee9",
   "metadata": {},
   "outputs": [],
   "source": [
    "length = len(None)                    # <-- calling len() on object that has no length"
   ]
  },
  {
   "cell_type": "code",
   "execution_count": null,
   "id": "cc77e41a-a3df-4bda-a2d9-011d5a2878d1",
   "metadata": {},
   "outputs": [],
   "source": [
    "def add_numbers(a, b):\n",
    "    return a + b                      \n",
    "    \n",
    "add_numbers(1, '2')                   # <-- passing incorrect argument types to functions"
   ]
  },
  {
   "cell_type": "code",
   "execution_count": null,
   "id": "fc6592cb-7943-4528-bc30-f0af73920488",
   "metadata": {},
   "outputs": [],
   "source": [
    "for i in 10:  \n",
    "    print(i)                          # <-- iterating over the wrong type"
   ]
  },
  {
   "cell_type": "markdown",
   "id": "1ae4654c-e898-422e-9344-35063dfa7ef7",
   "metadata": {},
   "source": [
    "### ValueError"
   ]
  },
  {
   "cell_type": "code",
   "execution_count": null,
   "id": "37db911f-478e-440a-9574-3ba3a52c30ca",
   "metadata": {},
   "outputs": [],
   "source": [
    "# - A 'ValueError' is raised when a function gets an argument of the CORRECT DATATYPE but WRONG VALUE. It is a subclass of 'Exception'. \n",
    "# - Where 'TypeError' deals with wrong data types, 'ValueError' occurs when the data type is correct, but the value itself is wrong"
   ]
  },
  {
   "cell_type": "code",
   "execution_count": null,
   "id": "8778079e-1bd2-40c0-81e9-b8dfa998bf09",
   "metadata": {},
   "outputs": [],
   "source": [
    "int('ten')                            # <-- seems like a 'TypeError' but it is actually a 'ValueError'\n",
    "                                      #     a correct value would be \"9\", \"10\", \"242\", or a float like  10.0, 20.0 etc..\n",
    "                                      #     int() accepts a 'str' or a float as arguments, but the value of that string is 'ten'\n",
    "\n",
    "int('10')                             # <-- correct value \"10\" is applied"
   ]
  },
  {
   "cell_type": "code",
   "execution_count": null,
   "id": "91826bea-57b5-4ffe-bd10-1ef90a7f5d49",
   "metadata": {},
   "outputs": [],
   "source": [
    "float('Hello')                        # <-- is given the wrong value\n",
    "\n",
    "float('10')                           # <-- correct value"
   ]
  },
  {
   "cell_type": "code",
   "execution_count": null,
   "id": "09951918-2b1b-4af9-ab38-a5eb8f45a6ae",
   "metadata": {},
   "outputs": [],
   "source": [
    "colors = [\"red\", \"blue\", \"green\"]\n",
    "colors.index(\"yellow\")                # <-- 'ValueError', as yellow does not exist in list        "
   ]
  },
  {
   "cell_type": "code",
   "execution_count": null,
   "id": "b5010b66-463e-44bf-b558-fa90cbe778b0",
   "metadata": {},
   "outputs": [],
   "source": [
    "r = range(-5, -50, 0)                 # <-- 'ValueError', step parameter must be > 0 or < 0, but not 0 itself\n",
    "list(r)"
   ]
  },
  {
   "cell_type": "code",
   "execution_count": null,
   "id": "fbc452fe-74e9-4ae2-b4a1-bebd011b52f6",
   "metadata": {},
   "outputs": [],
   "source": [
    "import math\n",
    "\n",
    "math.sqrt(-1)                         # <-- 'ValueError', cannot take sqrt() of a negative number"
   ]
  },
  {
   "cell_type": "code",
   "execution_count": null,
   "id": "6eff1524-bbe8-4683-adb4-5de5c8030c52",
   "metadata": {},
   "outputs": [],
   "source": [
    "# - 'UnicodeError' is the base class of all unicode exceptions and is a subclass of 'ValueError'\n",
    "# -  rarely used because it is better to use more specific exception class types like 'UnicodeDecodeError'\n",
    "# - A 'UnicodeError' occurs when decoding a byte sequence into a string and fails due to invalid coding\n",
    "# - Example: trying to decode a non UTF-8 bytes using utf-8 will cause a 'UnicodeDecodeError'"
   ]
  },
  {
   "cell_type": "code",
   "execution_count": null,
   "id": "aa776f17-b6a7-4853-8fe2-98b10b48f650",
   "metadata": {},
   "outputs": [],
   "source": [
    "bad_bytes = b'\\x80\\x81\\x82'           # <-- 'UnicodeDecodeError' Invalid UTF-8 bytes\n",
    "text = bad_bytes.decode(\"utf-8\")"
   ]
  },
  {
   "cell_type": "code",
   "execution_count": null,
   "id": "07539f50-ff71-400c-8f99-00f8ca9d99c7",
   "metadata": {},
   "outputs": [],
   "source": [
    "text = \"Café\"\n",
    "encoded_text = text.encode(\"ascii\")   # <-- 'UnicodeEncodeError', é is not in ASCII "
   ]
  },
  {
   "cell_type": "code",
   "execution_count": null,
   "id": "6065b4eb-57e2-4c91-9a49-5f5d04cb93dc",
   "metadata": {},
   "outputs": [],
   "source": [
    "text = \"Hello 😊\"\n",
    "translation_table = {0x1F60A: None}              # <-- Remove 😊 (Unicode: U+1F60A)\n",
    "new_text = text.translate(translation_table)     # Works fine\n",
    "\n",
    "# Now, cause an error by providing an invalid mapping\n",
    "text = \"Hello 😊\"\n",
    "invalid_translation = {0x1F60A: 9999999}  # <-- 9999999 is NOT a valid Unicode character\n",
    "new_text = text.translate(invalid_translation)"
   ]
  },
  {
   "cell_type": "markdown",
   "id": "7fa91761-8f93-4152-bb2c-effe0fbb8734",
   "metadata": {},
   "source": [
    "### ArithmeticError"
   ]
  },
  {
   "cell_type": "code",
   "execution_count": null,
   "id": "7a1d57df-b603-4f4d-a005-45c6f8fac6aa",
   "metadata": {},
   "outputs": [],
   "source": [
    "# ArithmeticError is an abstract exception that serves as a base class for exceptions related to numeric operations.\n",
    "# - Never raised by Python directly"
   ]
  },
  {
   "cell_type": "code",
   "execution_count": null,
   "id": "c0d57979-1697-48fb-a6f2-6075b3536f76",
   "metadata": {},
   "outputs": [],
   "source": [
    "# BaseException\n",
    "#  ├── Exception\n",
    "#       ├── ArithmeticError             # <-- Abstract exception (not raised directly)\n",
    "#            ├── FloatingPointError     # <-- Rarely used (floating-point issues)\n",
    "#            ├── OverflowError          # <-  Raised when a number is too large\n",
    "#            ├── ZeroDivisionError      # <-- Raised when dividing by zero\n"
   ]
  },
  {
   "cell_type": "code",
   "execution_count": null,
   "id": "b29d8997-4101-4460-b569-8df53d666b9b",
   "metadata": {},
   "outputs": [],
   "source": [
    "# - Why Doesn’t Python Raise FloatingPointError by Default? \n",
    "# - Python follows IEEE 754 floating-point arithmetic, which allows operations like division by zero to return inf (infinity) \n",
    "# - rather than raising an error:\n",
    "\n",
    "print(1.0 / 0.0)                        # <-- Raises ZeroDivisionError\n",
    "print(1e308 * 1e308)                    # <-- Returns inf instead of OverflowError"
   ]
  },
  {
   "cell_type": "code",
   "execution_count": null,
   "id": "481939ae-3922-42d1-af7e-9ef2ada50853",
   "metadata": {},
   "outputs": [],
   "source": [
    "# IEEE 754 also defines special values to handle edge cases:\n",
    "\n",
    "#  inf (Infinity)\tResult of division by zero or overflow\tprint(1e308 * 1e308) → inf\n",
    "# -inf (Negative Infinity)\tNegative overflow\tprint(-1e308 * 1e308) → -inf\n",
    "#  nan (Not a Number)\tUndefined mathematical operations\tprint(0.0 / 0.0) → nan"
   ]
  },
  {
   "cell_type": "code",
   "execution_count": null,
   "id": "033c9418-eed0-4c8d-93ed-51e1e2bbd10c",
   "metadata": {},
   "outputs": [],
   "source": [
    "import numpy as np\n",
    "\n",
    "np.seterr(all='raise')\n",
    "result = np.divide(1.0, 0.0)            # <-- Division by zero in NumPy\n"
   ]
  },
  {
   "cell_type": "markdown",
   "id": "1a52160c-ed53-41a4-95a5-f90785c6ea76",
   "metadata": {},
   "source": [
    "# Try-Except-Finally: Handling Exceptions (runtime errors)"
   ]
  },
  {
   "cell_type": "markdown",
   "id": "88bc668b-eb4e-4f6f-a728-989d84dc2c2e",
   "metadata": {},
   "source": [
    "### Propagating Errors"
   ]
  },
  {
   "cell_type": "code",
   "execution_count": null,
   "id": "c02b70fe-fc26-46d9-bd52-e73667ae3516",
   "metadata": {},
   "outputs": [],
   "source": [
    "def divide(a, b):\n",
    "    return a / b                        # <-- ZeroDivisionError if b == 0\n",
    "\n",
    "def calculate():\n",
    "    return divide(10, 0)                # <-- Exception propagates to here\n",
    "\n",
    "try:\n",
    "    calculate()                         # <-- Exception propagates to here and is caught\n",
    "except ZeroDivisionError:\n",
    "    print(\"Caught ZeroDivisionError in the main function!\")\n"
   ]
  },
  {
   "cell_type": "markdown",
   "id": "02932598-5006-4a00-a230-6ba815f04786",
   "metadata": {},
   "source": [
    "### Delegating Responsibility of Errrors"
   ]
  },
  {
   "cell_type": "code",
   "execution_count": null,
   "id": "c1e0fc8a-09bf-4d3c-b736-f1f6353547b9",
   "metadata": {},
   "outputs": [],
   "source": [
    "# - If a function does not handle an exception, it propagates to the caller.\n",
    "# - You can choose where to handle exceptions:\n",
    "\n",
    "# 1. Inside the function (prevents propagation)\n",
    "# 2. At the caller level (better flexibility)\n",
    "# 3. At the main program level (centralized handling)\n",
    "# 4. Uncaught exceptions crash the program unless handled at some level."
   ]
  },
  {
   "cell_type": "code",
   "execution_count": null,
   "id": "133b8a0e-ad76-4191-a0b9-a96a4ed83386",
   "metadata": {},
   "outputs": [],
   "source": [
    "## Test Answers I got wrong"
   ]
  },
  {
   "cell_type": "code",
   "execution_count": null,
   "id": "1b9c0c12-21a5-4841-a9b8-f51297695682",
   "metadata": {},
   "outputs": [],
   "source": [
    "# Correct\n",
    "\n",
    "try:\n",
    "    x = 5 / 0\n",
    "except:\n",
    "    print(\"Error!\")\n",
    "\n",
    "\n",
    "\n",
    "\n",
    "# Wrong\n",
    "try:\n",
    "    x = 5 / 0\n",
    "except ZeroDivisionError\n",
    "    print(\"Error!\")\n"
   ]
  },
  {
   "cell_type": "markdown",
   "id": "d520b27b-c8c3-4a88-aea0-ff8b71c65651",
   "metadata": {},
   "source": [
    "### TypeError: Other Examples"
   ]
  },
  {
   "cell_type": "code",
   "execution_count": null,
   "id": "6fa34097-67b1-4583-a131-c97286c0b41c",
   "metadata": {},
   "outputs": [],
   "source": [
    "### Too few Arguments Provided to a Function ###\n",
    "\n",
    "def greet(name, age):\n",
    "    return f\"Hello {name}, you are {age} years old!\"\n",
    "\n",
    "print(greet(\"Alice\"))               # <-- note: TypeError: greet() missing 1 required positional argument: 'age'\n"
   ]
  },
  {
   "cell_type": "code",
   "execution_count": null,
   "id": "42a0e3fc-0c17-4db5-8382-248364964ec9",
   "metadata": {},
   "outputs": [],
   "source": [
    "### Too Many Arguments Provided to a Function ###\n",
    "\n",
    "\n",
    "print(pow(2, 3, 4, 5))            # <-- note: TypeError: pow() takes at most 3 arguments (4 given)\n"
   ]
  },
  {
   "cell_type": "markdown",
   "id": "54ba95de-d15e-4b21-9211-fad59ed89b9f",
   "metadata": {},
   "source": [
    "### Functions: Multiple Error Types"
   ]
  },
  {
   "cell_type": "markdown",
   "id": "d2db815f-bfe8-4de7-8a09-6a7b5ef21085",
   "metadata": {},
   "source": [
    "### int(): TypeError & ValueError"
   ]
  },
  {
   "cell_type": "code",
   "execution_count": null,
   "id": "3377ac7b-fb3c-439b-a4fd-efeb9f31663e",
   "metadata": {},
   "outputs": [],
   "source": [
    "print(int(\"123\"))                 # <-- note: works fine, outputs: 123"
   ]
  },
  {
   "cell_type": "code",
   "execution_count": null,
   "id": "949a7fae-8555-4fdc-b948-5f94fedb2cc8",
   "metadata": {},
   "outputs": [],
   "source": [
    "print(int(\"hello\"))               # <-- note: ValueError"
   ]
  },
  {
   "cell_type": "code",
   "execution_count": null,
   "id": "9a7bb692-8d9c-4837-9f8f-0805cc6a4a5f",
   "metadata": {},
   "outputs": [],
   "source": [
    "print(int([]))                    # <-- note: TypeError: int() argument must be a string, a bytes-like object or a number, not 'list'"
   ]
  },
  {
   "cell_type": "markdown",
   "id": "7f443b22-724e-41d9-9744-9b066738919e",
   "metadata": {},
   "source": [
    "### .index(): ValueError & TypeError"
   ]
  },
  {
   "cell_type": "code",
   "execution_count": null,
   "id": "ad1350e3-b89a-4576-bff8-92f2e977ac57",
   "metadata": {},
   "outputs": [],
   "source": [
    "lst = [10, 20, 30]\n",
    "print(lst.index(20))             # <-- note: Outputs: 1 "
   ]
  },
  {
   "cell_type": "code",
   "execution_count": null,
   "id": "e48d5dc4-fed1-4b77-ae0d-44b678dbb97e",
   "metadata": {},
   "outputs": [],
   "source": [
    "lst = [1, 2, 3]\n",
    "print(lst.index(100))            # <-- note: ValueError: 100 is not in list"
   ]
  },
  {
   "cell_type": "code",
   "execution_count": null,
   "id": "e6e740cf-07ef-44e6-b8dc-be0cea640ba7",
   "metadata": {},
   "outputs": [],
   "source": [
    "lst = [1, 2, 3]\n",
    "print(lst.index())               # <-- note: TypeError: list.index() takes at least 1 argument (0 given)"
   ]
  },
  {
   "cell_type": "markdown",
   "id": "35b1dd02-c1b3-40e2-b0d8-1452f7d20df6",
   "metadata": {},
   "source": [
    "### dict[]: ValueError & KeyError"
   ]
  },
  {
   "cell_type": "code",
   "execution_count": null,
   "id": "7fb9bc1e-f834-422f-a992-7a07490022e1",
   "metadata": {},
   "outputs": [],
   "source": [
    "d = {\"name\": \"Alice\"}\n",
    "print(d[\"name\"])                 # <-- note: Alice"
   ]
  },
  {
   "cell_type": "code",
   "execution_count": null,
   "id": "f43b0cd8-3b1f-4888-88d5-a732b38c6f8d",
   "metadata": {},
   "outputs": [],
   "source": [
    "d = {\"name\": \"Alice\"}\n",
    "print(d[\"age\"])                  # <-- note: KeyError: 'age'"
   ]
  },
  {
   "cell_type": "code",
   "execution_count": 16,
   "id": "18baf6be-d8f9-497b-ab1d-3f719877d304",
   "metadata": {},
   "outputs": [
    {
     "ename": "TypeError",
     "evalue": "unhashable type: 'list'",
     "output_type": "error",
     "traceback": [
      "\u001b[0;31m---------------------------------------------------------------------------\u001b[0m",
      "\u001b[0;31mTypeError\u001b[0m                                 Traceback (most recent call last)",
      "Cell \u001b[0;32mIn[16], line 2\u001b[0m\n\u001b[1;32m      1\u001b[0m d \u001b[38;5;241m=\u001b[39m {\u001b[38;5;124m\"\u001b[39m\u001b[38;5;124mname\u001b[39m\u001b[38;5;124m\"\u001b[39m: \u001b[38;5;124m\"\u001b[39m\u001b[38;5;124mAlice\u001b[39m\u001b[38;5;124m\"\u001b[39m}\n\u001b[0;32m----> 2\u001b[0m \u001b[38;5;28mprint\u001b[39m(\u001b[43md\u001b[49m\u001b[43m[\u001b[49m\u001b[43m[\u001b[49m\u001b[43m]\u001b[49m\u001b[43m]\u001b[49m)                     \u001b[38;5;66;03m# <-- note: TypeError: \u001b[39;00m\n",
      "\u001b[0;31mTypeError\u001b[0m: unhashable type: 'list'"
     ]
    }
   ],
   "source": [
    "d = {\"name\": \"Alice\"}\n",
    "print(d[[]])                     # <-- note: TypeError: unhashable type: 'list'"
   ]
  },
  {
   "cell_type": "code",
   "execution_count": null,
   "id": "2aafb795-1fa3-46f5-b902-69086eeb13fb",
   "metadata": {},
   "outputs": [],
   "source": []
  },
  {
   "cell_type": "code",
   "execution_count": null,
   "id": "411efc75-b846-4ab2-8212-c00e0b71ef72",
   "metadata": {},
   "outputs": [],
   "source": []
  },
  {
   "cell_type": "code",
   "execution_count": null,
   "id": "5e96a2d5-580a-488a-a8a9-3ce0220f59d3",
   "metadata": {},
   "outputs": [],
   "source": []
  },
  {
   "cell_type": "code",
   "execution_count": null,
   "id": "98e30bd5-eac4-4b60-aae2-7385a9af2a7b",
   "metadata": {},
   "outputs": [],
   "source": []
  },
  {
   "cell_type": "code",
   "execution_count": null,
   "id": "81302281-2255-4e60-9666-844c9a6180bf",
   "metadata": {},
   "outputs": [],
   "source": []
  },
  {
   "cell_type": "code",
   "execution_count": null,
   "id": "ea0f546c-01a7-4b4e-8d10-1dfa3d48168c",
   "metadata": {},
   "outputs": [],
   "source": []
  },
  {
   "cell_type": "code",
   "execution_count": null,
   "id": "b53e090d-cedc-4673-8baf-cb01c7553175",
   "metadata": {},
   "outputs": [],
   "source": []
  },
  {
   "cell_type": "code",
   "execution_count": null,
   "id": "eb409208-07e7-4839-b78f-4e078222b96e",
   "metadata": {},
   "outputs": [],
   "source": []
  },
  {
   "cell_type": "code",
   "execution_count": null,
   "id": "ce2eb58c-f07b-4940-87da-d5473f9e0813",
   "metadata": {},
   "outputs": [],
   "source": []
  },
  {
   "cell_type": "code",
   "execution_count": null,
   "id": "ed5b2542-397e-433b-a8dd-d49c200e9dba",
   "metadata": {},
   "outputs": [],
   "source": []
  },
  {
   "cell_type": "code",
   "execution_count": null,
   "id": "3a60165e-4aff-4620-97aa-fc0ca9c07012",
   "metadata": {},
   "outputs": [],
   "source": []
  },
  {
   "cell_type": "code",
   "execution_count": null,
   "id": "702cda60-2156-46cc-9639-02f690a42bce",
   "metadata": {},
   "outputs": [],
   "source": []
  },
  {
   "cell_type": "code",
   "execution_count": null,
   "id": "e8f11a9e-f404-4c2f-b6dc-a8599acbced3",
   "metadata": {},
   "outputs": [],
   "source": []
  },
  {
   "cell_type": "code",
   "execution_count": null,
   "id": "783d9205-828e-4848-bb5f-916c3744b792",
   "metadata": {},
   "outputs": [],
   "source": []
  },
  {
   "cell_type": "code",
   "execution_count": null,
   "id": "035999b9-28aa-4fba-9efe-f5b123bfac8b",
   "metadata": {},
   "outputs": [],
   "source": []
  },
  {
   "cell_type": "code",
   "execution_count": null,
   "id": "01f37671-8fc4-473b-948b-57a7f9a6e36c",
   "metadata": {},
   "outputs": [],
   "source": []
  },
  {
   "cell_type": "code",
   "execution_count": null,
   "id": "7209d200-886c-4ac1-a7a0-2fd4146d3591",
   "metadata": {},
   "outputs": [],
   "source": []
  }
 ],
 "metadata": {
  "kernelspec": {
   "display_name": "Python 3 (ipykernel)",
   "language": "python",
   "name": "python3"
  },
  "language_info": {
   "codemirror_mode": {
    "name": "ipython",
    "version": 3
   },
   "file_extension": ".py",
   "mimetype": "text/x-python",
   "name": "python",
   "nbconvert_exporter": "python",
   "pygments_lexer": "ipython3",
   "version": "3.10.13"
  }
 },
 "nbformat": 4,
 "nbformat_minor": 5
}
