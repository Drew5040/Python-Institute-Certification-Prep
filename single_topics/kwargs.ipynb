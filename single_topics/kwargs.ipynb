{
 "cells": [
  {
   "cell_type": "code",
   "execution_count": 1,
   "id": "5006ec51-becb-489e-bce1-090643943114",
   "metadata": {},
   "outputs": [
    {
     "name": "stdout",
     "output_type": "stream",
     "text": [
      "2\n"
     ]
    }
   ],
   "source": [
    "s = set()\n",
    "s.add(1)\n",
    "s.add(2)\n",
    "s.add(3)\n",
    "s.remove(1)\n",
    "print(len(s))"
   ]
  },
  {
   "cell_type": "code",
   "execution_count": 2,
   "id": "1cfbbfdc-1817-450a-ad3b-96f2285c2a75",
   "metadata": {},
   "outputs": [
    {
     "name": "stdout",
     "output_type": "stream",
     "text": [
      "False True\n"
     ]
    }
   ],
   "source": [
    "x = ['apple', 'banana']\n",
    "y = ['apple', 'banana'] \n",
    "print(x is y, x == y)"
   ]
  },
  {
   "cell_type": "code",
   "execution_count": 7,
   "id": "334cbe01-76fd-43e5-8d0c-906fa7e14ed0",
   "metadata": {},
   "outputs": [
    {
     "data": {
      "text/plain": [
       "1"
      ]
     },
     "execution_count": 7,
     "metadata": {},
     "output_type": "execute_result"
    }
   ],
   "source": [
    "t = tuple()\n",
    "t = (1, 2)\n",
    "t[0]"
   ]
  },
  {
   "cell_type": "code",
   "execution_count": 8,
   "id": "b5e5b9be-3a7d-4d5b-b969-838f4b6c4974",
   "metadata": {},
   "outputs": [
    {
     "data": {
      "text/plain": [
       "1"
      ]
     },
     "execution_count": 8,
     "metadata": {},
     "output_type": "execute_result"
    }
   ],
   "source": [
    "k = [1, (1, 2), 3]\n",
    "k[1][0]"
   ]
  },
  {
   "cell_type": "code",
   "execution_count": 9,
   "id": "1f8a1d0e-7bcc-4109-bab7-a2386da93b3c",
   "metadata": {},
   "outputs": [
    {
     "name": "stdout",
     "output_type": "stream",
     "text": [
      "False\n"
     ]
    }
   ],
   "source": [
    "x = 5\n",
    "y = '5'\n",
    "print(x == y)"
   ]
  },
  {
   "cell_type": "code",
   "execution_count": 10,
   "id": "2344d590-692b-4bab-8531-585672eac316",
   "metadata": {},
   "outputs": [
    {
     "name": "stdout",
     "output_type": "stream",
     "text": [
      "['b', 'c']\n"
     ]
    }
   ],
   "source": [
    "my_list = ['a', 'b', 'c', 'd']\n",
    "print(my_list[1:-1])"
   ]
  },
  {
   "cell_type": "code",
   "execution_count": 13,
   "id": "3034c54a-5856-4a40-bb19-011d7272f5f8",
   "metadata": {},
   "outputs": [
    {
     "data": {
      "text/plain": [
       "['one.two.three']"
      ]
     },
     "execution_count": 13,
     "metadata": {},
     "output_type": "execute_result"
    }
   ],
   "source": [
    "string = 'one.two.three'\n",
    "string.split()"
   ]
  },
  {
   "cell_type": "code",
   "execution_count": 14,
   "id": "d84f0418-f3aa-439c-b774-d5b9a186406d",
   "metadata": {},
   "outputs": [
    {
     "name": "stdout",
     "output_type": "stream",
     "text": [
      "7\n",
      "4\n",
      "2\n",
      "1\n",
      "No items left.\n"
     ]
    }
   ],
   "source": [
    "numbers = [7,4,2,1]\n",
    "for i in numbers:\n",
    "\tprint(i)\n",
    "else:\n",
    "\tprint('No items left.')"
   ]
  },
  {
   "cell_type": "code",
   "execution_count": 15,
   "id": "01ed99ae-9474-4d93-9370-cbe702ddea07",
   "metadata": {},
   "outputs": [
    {
     "data": {
      "text/plain": [
       "'abcd'"
      ]
     },
     "execution_count": 15,
     "metadata": {},
     "output_type": "execute_result"
    }
   ],
   "source": [
    "lst = ['a', 'b', 'c', 'd']\n",
    "''.join(lst)"
   ]
  },
  {
   "cell_type": "code",
   "execution_count": 16,
   "id": "002859ac-6bee-4be7-a8d6-e5a64b58b7fa",
   "metadata": {},
   "outputs": [
    {
     "name": "stdout",
     "output_type": "stream",
     "text": [
      "[2, 3]\n"
     ]
    }
   ],
   "source": [
    "arr = [1, 2, 3, 4]\n",
    "print(arr[1:3])"
   ]
  },
  {
   "cell_type": "code",
   "execution_count": 17,
   "id": "bfeccf9f-b3f7-431b-91a8-a19b2e0c4a8b",
   "metadata": {},
   "outputs": [
    {
     "name": "stdout",
     "output_type": "stream",
     "text": [
      "!dlroW ,olleH\n"
     ]
    }
   ],
   "source": [
    "str1 = 'Hello, World!' \n",
    "print(str1[-1::-1])"
   ]
  },
  {
   "cell_type": "code",
   "execution_count": null,
   "id": "7f2d626a-ac81-48af-8e2f-cb8dfef5c0d9",
   "metadata": {},
   "outputs": [],
   "source": []
  },
  {
   "cell_type": "code",
   "execution_count": 18,
   "id": "f64a8bed-de73-488c-8339-60595059562d",
   "metadata": {},
   "outputs": [
    {
     "name": "stdout",
     "output_type": "stream",
     "text": [
      "hello\n"
     ]
    },
    {
     "name": "stderr",
     "output_type": "stream",
     "text": [
      "<>:3: SyntaxWarning: \"is\" with a literal. Did you mean \"==\"?\n",
      "<>:3: SyntaxWarning: \"is\" with a literal. Did you mean \"==\"?\n",
      "C:\\Users\\andre\\AppData\\Local\\Temp\\ipykernel_21392\\3836674871.py:3: SyntaxWarning: \"is\" with a literal. Did you mean \"==\"?\n",
      "  if x is 1:\n"
     ]
    }
   ],
   "source": [
    "x = 1\n",
    "\n",
    "if x is 1:\n",
    "    print('hello')"
   ]
  },
  {
   "cell_type": "code",
   "execution_count": 19,
   "id": "743755db-ff50-4fdf-b33a-c48b0da8d940",
   "metadata": {},
   "outputs": [
    {
     "data": {
      "text/plain": [
       "False"
      ]
     },
     "execution_count": 19,
     "metadata": {},
     "output_type": "execute_result"
    }
   ],
   "source": [
    "True and False"
   ]
  },
  {
   "cell_type": "code",
   "execution_count": 20,
   "id": "6072202b-e953-4b23-8c2d-af838447cc18",
   "metadata": {},
   "outputs": [
    {
     "data": {
      "text/plain": [
       "'baz'"
      ]
     },
     "execution_count": 20,
     "metadata": {},
     "output_type": "execute_result"
    }
   ],
   "source": [
    "x = [10, [3.141, 20, [30, 'baz', 2.718]], 'foo']\n",
    "x[1][2][1]"
   ]
  },
  {
   "cell_type": "code",
   "execution_count": 21,
   "id": "68151fe6-61fe-44d0-ae65-f6fc63d937f1",
   "metadata": {},
   "outputs": [
    {
     "name": "stdout",
     "output_type": "stream",
     "text": [
      "5\n"
     ]
    }
   ],
   "source": [
    "x = 10\n",
    "y = 2\n",
    "print(x // y)"
   ]
  },
  {
   "cell_type": "code",
   "execution_count": null,
   "id": "db039f6f-8c5e-49d5-9373-35596a00fe2c",
   "metadata": {},
   "outputs": [],
   "source": []
  },
  {
   "cell_type": "code",
   "execution_count": 22,
   "id": "8298b56c-59fe-4458-9be0-3224a3675c92",
   "metadata": {},
   "outputs": [
    {
     "data": {
      "text/plain": [
       "['__and__',\n",
       " '__class__',\n",
       " '__class_getitem__',\n",
       " '__contains__',\n",
       " '__delattr__',\n",
       " '__dir__',\n",
       " '__doc__',\n",
       " '__eq__',\n",
       " '__format__',\n",
       " '__ge__',\n",
       " '__getattribute__',\n",
       " '__getstate__',\n",
       " '__gt__',\n",
       " '__hash__',\n",
       " '__iand__',\n",
       " '__init__',\n",
       " '__init_subclass__',\n",
       " '__ior__',\n",
       " '__isub__',\n",
       " '__iter__',\n",
       " '__ixor__',\n",
       " '__le__',\n",
       " '__len__',\n",
       " '__lt__',\n",
       " '__ne__',\n",
       " '__new__',\n",
       " '__or__',\n",
       " '__rand__',\n",
       " '__reduce__',\n",
       " '__reduce_ex__',\n",
       " '__repr__',\n",
       " '__ror__',\n",
       " '__rsub__',\n",
       " '__rxor__',\n",
       " '__setattr__',\n",
       " '__sizeof__',\n",
       " '__str__',\n",
       " '__sub__',\n",
       " '__subclasshook__',\n",
       " '__xor__',\n",
       " 'add',\n",
       " 'clear',\n",
       " 'copy',\n",
       " 'difference',\n",
       " 'difference_update',\n",
       " 'discard',\n",
       " 'intersection',\n",
       " 'intersection_update',\n",
       " 'isdisjoint',\n",
       " 'issubset',\n",
       " 'issuperset',\n",
       " 'pop',\n",
       " 'remove',\n",
       " 'symmetric_difference',\n",
       " 'symmetric_difference_update',\n",
       " 'union',\n",
       " 'update']"
      ]
     },
     "execution_count": 22,
     "metadata": {},
     "output_type": "execute_result"
    }
   ],
   "source": [
    "dir(set())"
   ]
  },
  {
   "cell_type": "code",
   "execution_count": 23,
   "id": "ec293a96-49cc-45c4-881c-acc8ba67ddc9",
   "metadata": {},
   "outputs": [
    {
     "data": {
      "text/plain": [
       "[1, 2, 3, 4, 5]"
      ]
     },
     "execution_count": 23,
     "metadata": {},
     "output_type": "execute_result"
    }
   ],
   "source": [
    "lst1 = [1, 2, 3, 4, 5]\n",
    "lst2 = lst1[:]\n",
    "lst2"
   ]
  },
  {
   "cell_type": "code",
   "execution_count": 24,
   "id": "35321c7f-4a4c-480d-8543-f89c078e13a2",
   "metadata": {},
   "outputs": [
    {
     "data": {
      "text/plain": [
       "True"
      ]
     },
     "execution_count": 24,
     "metadata": {},
     "output_type": "execute_result"
    }
   ],
   "source": [
    "lst1 == lst2"
   ]
  },
  {
   "cell_type": "code",
   "execution_count": 25,
   "id": "828ab930-561e-4bca-a5c0-e27ec0a181fb",
   "metadata": {},
   "outputs": [
    {
     "data": {
      "text/plain": [
       "[1, 2, 3, 4, 5]"
      ]
     },
     "execution_count": 25,
     "metadata": {},
     "output_type": "execute_result"
    }
   ],
   "source": [
    "lst3 = lst2.copy()\n",
    "lst3"
   ]
  },
  {
   "cell_type": "code",
   "execution_count": 30,
   "id": "5e562d0b-98a7-4589-b9db-aeca9a45bc2c",
   "metadata": {},
   "outputs": [
    {
     "data": {
      "text/plain": [
       "False"
      ]
     },
     "execution_count": 30,
     "metadata": {},
     "output_type": "execute_result"
    }
   ],
   "source": [
    "lst2 is lst3"
   ]
  },
  {
   "cell_type": "code",
   "execution_count": 28,
   "id": "37c41af0-2148-488b-ad41-47011379c382",
   "metadata": {},
   "outputs": [
    {
     "data": {
      "text/plain": [
       "True"
      ]
     },
     "execution_count": 28,
     "metadata": {},
     "output_type": "execute_result"
    }
   ],
   "source": [
    "lst4 = lst1\n",
    "lst1 is lst4"
   ]
  },
  {
   "cell_type": "code",
   "execution_count": 32,
   "id": "5b64f304-9ae2-4a23-88d6-05a57caf25cc",
   "metadata": {},
   "outputs": [
    {
     "data": {
      "text/plain": [
       "True"
      ]
     },
     "execution_count": 32,
     "metadata": {},
     "output_type": "execute_result"
    }
   ],
   "source": [
    "lst5 = [1, 2, 3, 4, 5, 6]\n",
    "lst6 = lst5.copy()\n",
    "lst5 == lst6"
   ]
  },
  {
   "cell_type": "code",
   "execution_count": 33,
   "id": "50c2f00a-548f-4532-b7c4-d9e4424f62be",
   "metadata": {},
   "outputs": [
    {
     "data": {
      "text/plain": [
       "True"
      ]
     },
     "execution_count": 33,
     "metadata": {},
     "output_type": "execute_result"
    }
   ],
   "source": [
    "lst7 = lst6\n",
    "lst6 == lst7"
   ]
  },
  {
   "cell_type": "code",
   "execution_count": 34,
   "id": "f2b57827-fc38-44a1-8587-ddf031f8f51f",
   "metadata": {},
   "outputs": [
    {
     "ename": "SyntaxError",
     "evalue": "invalid syntax (375691658.py, line 1)",
     "output_type": "error",
     "traceback": [
      "\u001b[1;36m  Cell \u001b[1;32mIn[34], line 1\u001b[1;36m\u001b[0m\n\u001b[1;33m    7<>8\u001b[0m\n\u001b[1;37m     ^\u001b[0m\n\u001b[1;31mSyntaxError\u001b[0m\u001b[1;31m:\u001b[0m invalid syntax\n"
     ]
    }
   ],
   "source": [
    "7<>8"
   ]
  },
  {
   "cell_type": "code",
   "execution_count": 37,
   "id": "0a4dcae8-a6e2-4bbd-9d66-c27b16ba4f1e",
   "metadata": {},
   "outputs": [
    {
     "data": {
      "text/plain": [
       "{2, 4, 6, 8}"
      ]
     },
     "execution_count": 37,
     "metadata": {},
     "output_type": "execute_result"
    }
   ],
   "source": [
    "set1={2, 4, 6, 8}\n",
    "set1.add(8)\n",
    "set1"
   ]
  },
  {
   "cell_type": "code",
   "execution_count": 41,
   "id": "68c80660-d41d-4529-8fc3-693ca6e46b95",
   "metadata": {},
   "outputs": [
    {
     "ename": "TypeError",
     "evalue": "'int' object is not iterable",
     "output_type": "error",
     "traceback": [
      "\u001b[1;31m---------------------------------------------------------------------------\u001b[0m",
      "\u001b[1;31mTypeError\u001b[0m                                 Traceback (most recent call last)",
      "Cell \u001b[1;32mIn[41], line 2\u001b[0m\n\u001b[0;32m      1\u001b[0m d \u001b[38;5;241m=\u001b[39m {\u001b[38;5;124m'\u001b[39m\u001b[38;5;124mone\u001b[39m\u001b[38;5;124m'\u001b[39m:\u001b[38;5;241m1\u001b[39m, \u001b[38;5;124m'\u001b[39m\u001b[38;5;124mtwo\u001b[39m\u001b[38;5;124m'\u001b[39m: \u001b[38;5;241m2\u001b[39m, \u001b[38;5;124m'\u001b[39m\u001b[38;5;124mthree\u001b[39m\u001b[38;5;124m'\u001b[39m: \u001b[38;5;241m3\u001b[39m}\n\u001b[1;32m----> 2\u001b[0m \u001b[43md\u001b[49m\u001b[38;5;241;43m.\u001b[39;49m\u001b[43mupdate\u001b[49m\u001b[43m(\u001b[49m\u001b[38;5;241;43m2\u001b[39;49m\u001b[43m)\u001b[49m\n",
      "\u001b[1;31mTypeError\u001b[0m: 'int' object is not iterable"
     ]
    }
   ],
   "source": [
    "d = {'one':1, 'two': 2, 'three': 3}\n",
    "d.update(2)"
   ]
  },
  {
   "cell_type": "code",
   "execution_count": 42,
   "id": "2dbf9c98-d4aa-40e9-9815-feece09045ae",
   "metadata": {},
   "outputs": [
    {
     "name": "stdout",
     "output_type": "stream",
     "text": [
      "[1, 2, 3, 4]\n"
     ]
    }
   ],
   "source": [
    "list1 = [1,2,3]\n",
    "list2 = list1\n",
    "list2.append(4)\n",
    "print(list1)"
   ]
  },
  {
   "cell_type": "code",
   "execution_count": 44,
   "id": "e235b032-bcd3-47cf-9620-981c64d31c85",
   "metadata": {},
   "outputs": [
    {
     "data": {
      "text/plain": [
       "('three', 3)"
      ]
     },
     "execution_count": 44,
     "metadata": {},
     "output_type": "execute_result"
    }
   ],
   "source": [
    "d.popitem()"
   ]
  },
  {
   "cell_type": "code",
   "execution_count": 45,
   "id": "bb8cc081-d2bc-427e-9f62-e3f9917ebf90",
   "metadata": {},
   "outputs": [
    {
     "data": {
      "text/plain": [
       "array(['a', 'b', 'c'], dtype='<U1')"
      ]
     },
     "execution_count": 45,
     "metadata": {},
     "output_type": "execute_result"
    }
   ],
   "source": [
    "import numpy as np\n",
    "a = np.array(['a', 'b', 'c'])\n",
    "a"
   ]
  },
  {
   "cell_type": "code",
   "execution_count": 46,
   "id": "338903cd-a27e-42fe-b058-58916c1c17d0",
   "metadata": {},
   "outputs": [
    {
     "name": "stdout",
     "output_type": "stream",
     "text": [
      "['_CHUNK_SIZE', '__class__', '__del__', '__delattr__', '__dict__', '__dir__', '__doc__', '__enter__', '__eq__', '__exit__', '__format__', '__ge__', '__getattribute__', '__getstate__', '__gt__', '__hash__', '__init__', '__init_subclass__', '__iter__', '__le__', '__lt__', '__ne__', '__new__', '__next__', '__reduce__', '__reduce_ex__', '__repr__', '__setattr__', '__sizeof__', '__str__', '__subclasshook__', '_checkClosed', '_checkReadable', '_checkSeekable', '_checkWritable', '_finalizing', 'buffer', 'close', 'closed', 'detach', 'encoding', 'errors', 'fileno', 'flush', 'isatty', 'line_buffering', 'mode', 'name', 'newlines', 'read', 'readable', 'readline', 'readlines', 'reconfigure', 'seek', 'seekable', 'tell', 'truncate', 'writable', 'write', 'write_through', 'writelines']\n"
     ]
    }
   ],
   "source": [
    "with open('existing_file.json', 'r') as file:\n",
    "    print(dir(file))"
   ]
  },
  {
   "cell_type": "code",
   "execution_count": 47,
   "id": "274891db-c11a-478e-a2b6-3dee096ad398",
   "metadata": {},
   "outputs": [
    {
     "name": "stdout",
     "output_type": "stream",
     "text": [
      "World\n",
      "Hello\n"
     ]
    }
   ],
   "source": [
    "var = 'Hello'\n",
    "def change_var():\n",
    "    var = 'World'\n",
    "    print(var)\n",
    "change_var()\n",
    "print(var)"
   ]
  },
  {
   "cell_type": "code",
   "execution_count": 48,
   "id": "39d5ef63-fca7-4538-b704-5ddfc6f3355f",
   "metadata": {},
   "outputs": [
    {
     "name": "stdout",
     "output_type": "stream",
     "text": [
      "2346948087232\n",
      "[1, 2, 3, 4, 5]\n",
      "2346948087232\n"
     ]
    }
   ],
   "source": [
    "my_list = [1, 2, 3]\n",
    "print(id(my_list))\n",
    "my_list.extend([4, 5])  # Extends the list with elements of the iterable [4, 5]\n",
    "print(my_list)  # Output: [1, 2, 3, 4, 5]\n",
    "print(id(my_list))\n"
   ]
  },
  {
   "cell_type": "code",
   "execution_count": 49,
   "id": "ace39cd0-18ea-483c-b378-380d616f0ac8",
   "metadata": {},
   "outputs": [
    {
     "data": {
      "text/plain": [
       "[10.5, 20]"
      ]
     },
     "execution_count": 49,
     "metadata": {},
     "output_type": "execute_result"
    }
   ],
   "source": [
    "number = [10.5, 15, 20]\n",
    "\n",
    "del number[1]\n",
    "number"
   ]
  },
  {
   "cell_type": "code",
   "execution_count": 50,
   "id": "a72f662c-9b43-4029-85f8-0634b6f476fc",
   "metadata": {},
   "outputs": [
    {
     "name": "stdout",
     "output_type": "stream",
     "text": [
      "4\n"
     ]
    }
   ],
   "source": [
    "#Python\n",
    "arr = ['one', 'two', 'three']\n",
    "arr.append('four')\n",
    "if arr:\n",
    "  print(len(arr))\n",
    "else:\n",
    "  print('Array is empty.')"
   ]
  },
  {
   "cell_type": "code",
   "execution_count": 52,
   "id": "1d6468b4-e49b-40d0-a902-442ad31bf071",
   "metadata": {},
   "outputs": [
    {
     "data": {
      "text/plain": [
       "10"
      ]
     },
     "execution_count": 52,
     "metadata": {},
     "output_type": "execute_result"
    }
   ],
   "source": [
    "def add(*args):\n",
    " return sum(args)\n",
    "\n",
    "add(1, 2, 3, 4)"
   ]
  },
  {
   "cell_type": "code",
   "execution_count": 4,
   "id": "3639f7ad-90e1-4cc2-b94b-b6754db27aae",
   "metadata": {},
   "outputs": [
    {
     "data": {
      "text/plain": [
       "'g'"
      ]
     },
     "execution_count": 4,
     "metadata": {},
     "output_type": "execute_result"
    }
   ],
   "source": [
    "string =  'String'\n",
    "\n",
    "string[-1::]"
   ]
  },
  {
   "cell_type": "code",
   "execution_count": null,
   "id": "68f199ee-a6f4-49ce-8aa9-026fe140c27c",
   "metadata": {},
   "outputs": [],
   "source": []
  },
  {
   "cell_type": "code",
   "execution_count": 18,
   "id": "450cb471-3c80-429e-ab53-405a5a2fa81c",
   "metadata": {},
   "outputs": [],
   "source": [
    "def add_numbers(*args):\n",
    "    total = 0\n",
    "    print(args)\n",
    "    for number in args:\n",
    "        total += number\n",
    "    return total\n",
    "\n",
    "def introduce(**kwargs):\n",
    "    print(kwargs)\n",
    "    for key, value in kwargs.items():\n",
    "        print(f'{key} : {value}')"
   ]
  },
  {
   "cell_type": "code",
   "execution_count": 17,
   "id": "b15d0537-128b-4145-ab5d-ab906453e0ec",
   "metadata": {},
   "outputs": [
    {
     "name": "stdout",
     "output_type": "stream",
     "text": [
      "(1, 2, 3, 4, 5)\n"
     ]
    },
    {
     "data": {
      "text/plain": [
       "15"
      ]
     },
     "execution_count": 17,
     "metadata": {},
     "output_type": "execute_result"
    }
   ],
   "source": [
    "add_numbers(1, 2, 3, 4, 5)"
   ]
  },
  {
   "cell_type": "code",
   "execution_count": 19,
   "id": "fe7c648b-c42d-47f7-8e3a-7122c6b2a027",
   "metadata": {},
   "outputs": [
    {
     "name": "stdout",
     "output_type": "stream",
     "text": [
      "{'name': 'John', 'age': 30, 'country': 'USA'}\n",
      "name : John\n",
      "age : 30\n",
      "country : USA\n"
     ]
    }
   ],
   "source": [
    "introduce(name='John', age=30, country='USA')"
   ]
  },
  {
   "cell_type": "code",
   "execution_count": 20,
   "id": "6ca1f5ac-4993-4beb-82ed-fc49589ad7d0",
   "metadata": {},
   "outputs": [
    {
     "name": "stdout",
     "output_type": "stream",
     "text": [
      "Name: Jane, Email: jane@example.com\n",
      "555-1234\n",
      "555-5678\n",
      "Address: 123 Main St\n",
      "Age: 28\n"
     ]
    }
   ],
   "source": [
    "def register_profile(name, email, *args, **kwargs):\n",
    "    print(f\"Name: {name}, Email: {email}\")\n",
    "    for arg in args:\n",
    "        print(arg)\n",
    "    for key, value in kwargs.items():\n",
    "        print(f\"{key}: {value}\")\n",
    "\n",
    "# Example usage\n",
    "register_profile(\"Jane\", \"jane@example.com\", \"555-1234\", \"555-5678\", Address=\"123 Main St\", Age=28)\n"
   ]
  },
  {
   "cell_type": "code",
   "execution_count": null,
   "id": "6c63c2b8-5012-419f-adba-74ec4e8cd826",
   "metadata": {},
   "outputs": [],
   "source": []
  },
  {
   "cell_type": "code",
   "execution_count": null,
   "id": "505a2a57-b8ca-4f03-905b-05e27ae2bca3",
   "metadata": {},
   "outputs": [],
   "source": []
  },
  {
   "cell_type": "code",
   "execution_count": null,
   "id": "b6924a9c-6b1c-4b59-91a5-2fed97b6fb97",
   "metadata": {},
   "outputs": [],
   "source": []
  },
  {
   "cell_type": "code",
   "execution_count": null,
   "id": "8437f04d-604c-4be6-8556-c4d08fd1fbe6",
   "metadata": {},
   "outputs": [],
   "source": []
  },
  {
   "cell_type": "code",
   "execution_count": null,
   "id": "309c4b28-1053-41dd-9be5-eba0832e4c5e",
   "metadata": {},
   "outputs": [],
   "source": []
  },
  {
   "cell_type": "code",
   "execution_count": null,
   "id": "d6a4c475-525b-4a1b-8293-d1e70f493a3c",
   "metadata": {},
   "outputs": [],
   "source": []
  },
  {
   "cell_type": "code",
   "execution_count": null,
   "id": "545b020a-1087-4c61-aa9b-3bc0ec924da9",
   "metadata": {},
   "outputs": [],
   "source": []
  },
  {
   "cell_type": "code",
   "execution_count": null,
   "id": "e8ead3da-41e4-4c62-92b9-7c49eb20c06e",
   "metadata": {},
   "outputs": [],
   "source": []
  },
  {
   "cell_type": "code",
   "execution_count": null,
   "id": "58d50a10-4c42-4169-a128-15baca1044ab",
   "metadata": {},
   "outputs": [],
   "source": []
  },
  {
   "cell_type": "code",
   "execution_count": null,
   "id": "8f0ccd24-437d-45b1-8dd4-8fc67481963c",
   "metadata": {},
   "outputs": [],
   "source": []
  },
  {
   "cell_type": "code",
   "execution_count": null,
   "id": "febeb43a-1a82-43e7-b239-dae0af178da0",
   "metadata": {},
   "outputs": [],
   "source": []
  },
  {
   "cell_type": "code",
   "execution_count": null,
   "id": "4efc908c-27b8-4f5c-8cd6-87ed1fa97404",
   "metadata": {},
   "outputs": [],
   "source": []
  },
  {
   "cell_type": "code",
   "execution_count": null,
   "id": "947a9067-3f0c-43a2-bff3-406c7604aec0",
   "metadata": {},
   "outputs": [],
   "source": []
  },
  {
   "cell_type": "code",
   "execution_count": null,
   "id": "2d6581ab-e293-4be9-b708-beeebd544555",
   "metadata": {},
   "outputs": [],
   "source": []
  },
  {
   "cell_type": "code",
   "execution_count": null,
   "id": "c7cda54b-e8b4-41fe-82b7-055742aa1d3f",
   "metadata": {},
   "outputs": [],
   "source": []
  },
  {
   "cell_type": "code",
   "execution_count": 5,
   "id": "85877f24-d17d-4e58-b171-eca4093e0b29",
   "metadata": {},
   "outputs": [
    {
     "data": {
      "text/plain": [
       "'gnirtS'"
      ]
     },
     "execution_count": 5,
     "metadata": {},
     "output_type": "execute_result"
    }
   ],
   "source": [
    "string[-1::-1]"
   ]
  },
  {
   "cell_type": "code",
   "execution_count": null,
   "id": "e29e1a5b-40a2-45c8-b8c7-204024c98b57",
   "metadata": {},
   "outputs": [],
   "source": []
  }
 ],
 "metadata": {
  "kernelspec": {
   "display_name": "Python 3 (ipykernel)",
   "language": "python",
   "name": "python3"
  },
  "language_info": {
   "codemirror_mode": {
    "name": "ipython",
    "version": 3
   },
   "file_extension": ".py",
   "mimetype": "text/x-python",
   "name": "python",
   "nbconvert_exporter": "python",
   "pygments_lexer": "ipython3",
   "version": "3.11.7"
  }
 },
 "nbformat": 4,
 "nbformat_minor": 5
}
