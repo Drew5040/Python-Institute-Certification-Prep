{
 "cells": [
  {
   "cell_type": "code",
   "execution_count": 3,
   "id": "8324e455-8e3a-4ff4-83e4-cd041d93a7b3",
   "metadata": {},
   "outputs": [
    {
     "name": "stdout",
     "output_type": "stream",
     "text": [
      "[0, 4, 16, 36, 64, 100, 144, 196, 256, 324, 400, 484, 576, 676, 784, 900, 1024, 1156, 1296, 1444, 1600, 1764, 1936, 2116, 2304, 2500, 2704, 2916, 3136, 3364, 3600, 3844, 4096, 4356, 4624, 4900, 5184, 5476, 5776, 6084, 6400, 6724, 7056, 7396, 7744, 8100, 8464, 8836, 9216, 9604]\n"
     ]
    }
   ],
   "source": [
    " # List comprehension\n",
    "lst = [x**2 for x in range(100) if x**2%2 == 0]\n",
    "print(lst)\n"
   ]
  },
  {
   "cell_type": "code",
   "execution_count": 17,
   "id": "345aff18-cb88-44b3-a333-b23a4ee3fcc7",
   "metadata": {},
   "outputs": [
    {
     "data": {
      "text/plain": [
       "{0: 0, 1: 1, 2: 4, 3: 9, 4: 16, 5: 25, 6: 36, 7: 49, 8: 64, 9: 81}"
      ]
     },
     "execution_count": 17,
     "metadata": {},
     "output_type": "execute_result"
    }
   ],
   "source": [
    "# Dict comp\n",
    "dct = {value:value**2 for value in range(10)}\n",
    "dct"
   ]
  },
  {
   "cell_type": "code",
   "execution_count": 19,
   "id": "41ea9621-6962-4c59-a4cc-72c8395f3d7d",
   "metadata": {},
   "outputs": [
    {
     "data": {
      "text/plain": [
       "{0: {0: 0, 1: 1, 2: 4, 3: 9, 4: 16, 5: 25, 6: 36, 7: 49, 8: 64, 9: 81},\n",
       " 1: {0: 0, 1: 1, 2: 4, 3: 9, 4: 16, 5: 25, 6: 36, 7: 49, 8: 64, 9: 81},\n",
       " 2: {0: 0, 1: 1, 2: 4, 3: 9, 4: 16, 5: 25, 6: 36, 7: 49, 8: 64, 9: 81},\n",
       " 3: {0: 0, 1: 1, 2: 4, 3: 9, 4: 16, 5: 25, 6: 36, 7: 49, 8: 64, 9: 81},\n",
       " 4: {0: 0, 1: 1, 2: 4, 3: 9, 4: 16, 5: 25, 6: 36, 7: 49, 8: 64, 9: 81},\n",
       " 5: {0: 0, 1: 1, 2: 4, 3: 9, 4: 16, 5: 25, 6: 36, 7: 49, 8: 64, 9: 81},\n",
       " 6: {0: 0, 1: 1, 2: 4, 3: 9, 4: 16, 5: 25, 6: 36, 7: 49, 8: 64, 9: 81},\n",
       " 7: {0: 0, 1: 1, 2: 4, 3: 9, 4: 16, 5: 25, 6: 36, 7: 49, 8: 64, 9: 81},\n",
       " 8: {0: 0, 1: 1, 2: 4, 3: 9, 4: 16, 5: 25, 6: 36, 7: 49, 8: 64, 9: 81},\n",
       " 9: {0: 0, 1: 1, 2: 4, 3: 9, 4: 16, 5: 25, 6: 36, 7: 49, 8: 64, 9: 81}}"
      ]
     },
     "execution_count": 19,
     "metadata": {},
     "output_type": "execute_result"
    }
   ],
   "source": [
    "# Nested dict comp\n",
    "dct2 = {outer_key:{inner_key:inner_key**2 for inner_key in range(5)} for outer_key in range(5)}\n",
    "dct2"
   ]
  },
  {
   "cell_type": "code",
   "execution_count": 20,
   "id": "a6705a5e-aec5-49e0-a61e-a6f2327eecce",
   "metadata": {},
   "outputs": [
    {
     "data": {
      "text/plain": [
       "{'a': 1, 'b': 2, 'c': 3}"
      ]
     },
     "execution_count": 20,
     "metadata": {},
     "output_type": "execute_result"
    }
   ],
   "source": [
    "# dict from two lists: zip dict\n",
    "keys = ['a', 'b', 'c']\n",
    "values = [1, 2, 3]\n",
    "\n",
    "dct3 = {key:value for key, value in zip(keys, values)}\n",
    "dct3"
   ]
  },
  {
   "cell_type": "code",
   "execution_count": 22,
   "id": "8d515ad5-d768-424b-b19d-9e7ae35029be",
   "metadata": {},
   "outputs": [
    {
     "data": {
      "text/plain": [
       "{'a': 1, 'b': 2, 'c': 3}"
      ]
     },
     "execution_count": 22,
     "metadata": {},
     "output_type": "execute_result"
    }
   ],
   "source": [
    "# Filtering Items from a dict to another dict\n",
    "\n",
    "original_dict = {'a': 1, 'b': 2, 'c': 3, 'd': 4}\n",
    "\n",
    "filtered_dict = {key:value for key, value in original_dict.items() if value < 4}\n",
    "filtered_dict"
   ]
  },
  {
   "cell_type": "code",
   "execution_count": 24,
   "id": "ccfc325d-63f4-424d-a526-12a221b18382",
   "metadata": {},
   "outputs": [
    {
     "data": {
      "text/plain": [
       "{1: 'odd', 2: 'even', 3: 'odd', 4: 'even', 5: 'odd'}"
      ]
     },
     "execution_count": 24,
     "metadata": {},
     "output_type": "execute_result"
    }
   ],
   "source": [
    "# dict comp with conditionals\n",
    "\n",
    "dict_cond = {key: 'even' if key % 2 == 0 else 'odd' for key in range(1, 6)}\n",
    "dict_cond"
   ]
  },
  {
   "cell_type": "code",
   "execution_count": 25,
   "id": "e2335549-e44c-457d-96d6-658b943109d6",
   "metadata": {},
   "outputs": [
    {
     "data": {
      "text/plain": [
       "{0: 'APPLE', 1: 'BANANA', 2: 'CHERRY'}"
      ]
     },
     "execution_count": 25,
     "metadata": {},
     "output_type": "execute_result"
    }
   ],
   "source": [
    "# enumerate dict\n",
    "\n",
    "lst_items = ['apple', 'banana', 'cherry']\n",
    "dict_with_index = {index: value.upper() for index, value in enumerate(lst_items)}\n",
    "dict_with_index"
   ]
  },
  {
   "cell_type": "code",
   "execution_count": 27,
   "id": "6b9ea220-a67c-4a2f-998e-227cd5a44426",
   "metadata": {},
   "outputs": [
    {
     "data": {
      "text/plain": [
       "{(0, 0): 0,\n",
       " (0, 1): 0,\n",
       " (0, 2): 0,\n",
       " (1, 0): 0,\n",
       " (1, 1): 1,\n",
       " (1, 2): 2,\n",
       " (2, 0): 0,\n",
       " (2, 1): 2,\n",
       " (2, 2): 4}"
      ]
     },
     "execution_count": 27,
     "metadata": {},
     "output_type": "execute_result"
    }
   ],
   "source": [
    "# Nested loops dict\n",
    "\n",
    "dict_from_nested_loop = {(outer_key, inner_key): outer_key * inner_key for outer_key in range(3) for inner_key in range(3)}\n",
    "dict_from_nested_loop"
   ]
  },
  {
   "cell_type": "code",
   "execution_count": 37,
   "id": "fe11d5d8-4197-4329-ad1a-db82c3b63611",
   "metadata": {},
   "outputs": [
    {
     "data": {
      "text/plain": [
       "{'Alice': {'warm': ['red', 'orange', 'yellow'],\n",
       "  'cool': ['blue', 'green', 'purple'],\n",
       "  'other': ['indigo', 'violet']},\n",
       " 'Bob': {'warm': ['red', 'orange', 'yellow'],\n",
       "  'cool': ['blue', 'green', 'purple'],\n",
       "  'other': ['indigo', 'violet']},\n",
       " 'Charlie': {'warm': ['red', 'orange', 'yellow'],\n",
       "  'cool': ['blue', 'green', 'purple'],\n",
       "  'other': ['indigo', 'violet']},\n",
       " 'Diana': {'warm': ['red', 'orange', 'yellow'],\n",
       "  'cool': ['blue', 'green', 'purple'],\n",
       "  'other': ['indigo', 'violet']}}"
      ]
     },
     "execution_count": 37,
     "metadata": {},
     "output_type": "execute_result"
    }
   ],
   "source": [
    "names = ['Alice', 'Bob', 'Charlie', 'Diana']\n",
    "favorite_colors = ['red', 'blue', 'green', 'orange', 'purple', 'yellow', 'indigo', 'violet']\n",
    "warm_colors = ['red', 'orange', 'yellow']\n",
    "cool_colors = ['blue', 'green', 'purple']\n",
    "\n",
    "dct = {name: { \n",
    "            'warm': [color for color in favorite_colors if color in warm_colors],\n",
    "            'cool': [color for color in favorite_colors if color in cool_colors],\n",
    "            'other': [color for color in favorite_colors if color not in warm_colors + cool_colors]\n",
    "} for name in names}\n",
    "\n",
    "dct"
   ]
  },
  {
   "cell_type": "code",
   "execution_count": 38,
   "id": "4b4ae0a0-4961-49f4-98e4-b1dc11176920",
   "metadata": {},
   "outputs": [
    {
     "data": {
      "text/plain": [
       "{'a': '1', 'b': '2', 'c': '3'}"
      ]
     },
     "execution_count": 38,
     "metadata": {},
     "output_type": "execute_result"
    }
   ],
   "source": [
    "# Reverse key value pairs\n",
    "\n",
    "dct = {'1':'a', '2': 'b', '3': 'c'}\n",
    "\n",
    "reverse_dct = {dct[key]: key for key in dct}\n",
    "reverse_dct"
   ]
  },
  {
   "cell_type": "code",
   "execution_count": 39,
   "id": "df056a32-993e-4cd2-875c-4419eb60ebb6",
   "metadata": {},
   "outputs": [
    {
     "data": {
      "text/plain": [
       "{1: 'land', 2: 'sea', 3: 'air'}"
      ]
     },
     "execution_count": 39,
     "metadata": {},
     "output_type": "execute_result"
    }
   ],
   "source": [
    "lst = [[1, 2, 3], ['land', 'sea', 'air']]\n",
    "dict = {key: value for key, value in zip(lst[0], lst[1])}\n",
    "dict"
   ]
  },
  {
   "cell_type": "code",
   "execution_count": 41,
   "id": "3290b66b-f8a6-4b2d-a0bc-4292d0f61d87",
   "metadata": {},
   "outputs": [
    {
     "name": "stdout",
     "output_type": "stream",
     "text": [
      "1 land\n",
      "2 sea\n",
      "3 sky\n"
     ]
    }
   ],
   "source": [
    "lst = [[73,1995,-5], [\"land\", \"sea\", \"sky\"]]\n",
    "for x, y in enumerate(lst[1], 1):\n",
    "    print(x, y)"
   ]
  },
  {
   "cell_type": "code",
   "execution_count": 42,
   "id": "91bd0733-62e8-4a1f-a725-20ad499a749e",
   "metadata": {},
   "outputs": [
    {
     "data": {
      "text/plain": [
       "[(1, 'land'), (2, 'sea'), (3, 'sky')]"
      ]
     },
     "execution_count": 42,
     "metadata": {},
     "output_type": "execute_result"
    }
   ],
   "source": [
    "list(enumerate(lst[1], 1))"
   ]
  },
  {
   "cell_type": "code",
   "execution_count": 48,
   "id": "1e1816d9-d7a3-4938-99b0-7195fb886a82",
   "metadata": {},
   "outputs": [
    {
     "data": {
      "text/plain": [
       "['Hello World', 'When', 'My', 'pint', '']"
      ]
     },
     "execution_count": 48,
     "metadata": {},
     "output_type": "execute_result"
    }
   ],
   "source": [
    "str=\"Hello World?When?My?pint?\"\n",
    "lst = str.split('?')\n",
    "lst"
   ]
  },
  {
   "cell_type": "code",
   "execution_count": 55,
   "id": "9b722e90-b9ca-4d7c-876a-c13e9b340d7e",
   "metadata": {},
   "outputs": [
    {
     "name": "stdout",
     "output_type": "stream",
     "text": [
      "['one two three four']\n"
     ]
    }
   ],
   "source": [
    "text = \"one two three four\"\n",
    "limited_split = text.split(\",\")  # Splits at the first two colons only\n",
    "print(limited_split)  # Output: ['one', 'two', 'three:four']\n"
   ]
  },
  {
   "cell_type": "code",
   "execution_count": 67,
   "id": "0c9c77fd-fed5-4536-8fcf-498f6aafc1f0",
   "metadata": {},
   "outputs": [
    {
     "data": {
      "text/plain": [
       "'World'"
      ]
     },
     "execution_count": 67,
     "metadata": {},
     "output_type": "execute_result"
    }
   ],
   "source": [
    "str='World'\n",
    "#Type your answer here.\n",
    "#str=str.strip()\n",
    "\n",
    "str\n"
   ]
  },
  {
   "cell_type": "code",
   "execution_count": 74,
   "id": "c9dc9bbd-3521-495c-b4f7-555ad9ac2dfb",
   "metadata": {},
   "outputs": [
    {
     "data": {
      "text/plain": [
       "'Babylon'"
      ]
     },
     "execution_count": 74,
     "metadata": {},
     "output_type": "execute_result"
    }
   ],
   "source": [
    "str=\"#$^&#@%$& Babylon #@$&@#\"\n",
    "#Type your code here.\n",
    "\n",
    "str=str.strip('#$^&#@%$&#@$&@#').strip()\n",
    "\n",
    "str\n"
   ]
  },
  {
   "cell_type": "code",
   "execution_count": 75,
   "id": "c59ccfcb-d52d-492d-9c8e-de03b58732f6",
   "metadata": {},
   "outputs": [
    {
     "data": {
      "text/plain": [
       "['__add__',\n",
       " '__class__',\n",
       " '__contains__',\n",
       " '__delattr__',\n",
       " '__dir__',\n",
       " '__doc__',\n",
       " '__eq__',\n",
       " '__format__',\n",
       " '__ge__',\n",
       " '__getattribute__',\n",
       " '__getitem__',\n",
       " '__getnewargs__',\n",
       " '__getstate__',\n",
       " '__gt__',\n",
       " '__hash__',\n",
       " '__init__',\n",
       " '__init_subclass__',\n",
       " '__iter__',\n",
       " '__le__',\n",
       " '__len__',\n",
       " '__lt__',\n",
       " '__mod__',\n",
       " '__mul__',\n",
       " '__ne__',\n",
       " '__new__',\n",
       " '__reduce__',\n",
       " '__reduce_ex__',\n",
       " '__repr__',\n",
       " '__rmod__',\n",
       " '__rmul__',\n",
       " '__setattr__',\n",
       " '__sizeof__',\n",
       " '__str__',\n",
       " '__subclasshook__',\n",
       " 'capitalize',\n",
       " 'casefold',\n",
       " 'center',\n",
       " 'count',\n",
       " 'encode',\n",
       " 'endswith',\n",
       " 'expandtabs',\n",
       " 'find',\n",
       " 'format',\n",
       " 'format_map',\n",
       " 'index',\n",
       " 'isalnum',\n",
       " 'isalpha',\n",
       " 'isascii',\n",
       " 'isdecimal',\n",
       " 'isdigit',\n",
       " 'isidentifier',\n",
       " 'islower',\n",
       " 'isnumeric',\n",
       " 'isprintable',\n",
       " 'isspace',\n",
       " 'istitle',\n",
       " 'isupper',\n",
       " 'join',\n",
       " 'ljust',\n",
       " 'lower',\n",
       " 'lstrip',\n",
       " 'maketrans',\n",
       " 'partition',\n",
       " 'removeprefix',\n",
       " 'removesuffix',\n",
       " 'replace',\n",
       " 'rfind',\n",
       " 'rindex',\n",
       " 'rjust',\n",
       " 'rpartition',\n",
       " 'rsplit',\n",
       " 'rstrip',\n",
       " 'split',\n",
       " 'splitlines',\n",
       " 'startswith',\n",
       " 'strip',\n",
       " 'swapcase',\n",
       " 'title',\n",
       " 'translate',\n",
       " 'upper',\n",
       " 'zfill']"
      ]
     },
     "execution_count": 75,
     "metadata": {},
     "output_type": "execute_result"
    }
   ],
   "source": [
    "dir(str)"
   ]
  },
  {
   "cell_type": "code",
   "execution_count": 79,
   "id": "118e2f28-9037-42c3-b057-f6dfed572ef1",
   "metadata": {},
   "outputs": [
    {
     "data": {
      "text/plain": [
       "'                        str is agood boy!now here hegoes                        '"
      ]
     },
     "execution_count": 79,
     "metadata": {},
     "output_type": "execute_result"
    }
   ],
   "source": [
    "str = 'str is agood boy!now here hegoes'\n",
    "str = str.center(80)\n",
    "str"
   ]
  },
  {
   "cell_type": "code",
   "execution_count": 80,
   "id": "960c5496-d032-4880-b657-6af56adf1f2b",
   "metadata": {},
   "outputs": [
    {
     "name": "stdout",
     "output_type": "stream",
     "text": [
      "ApplicationApplicationApplicationApplicationApplicationApplicationApplicationApplicationApplicationApplication\n"
     ]
    }
   ],
   "source": [
    "title = \"Application\"*10\n",
    "window_width = 80  # Assuming a console window width of 80 characters\n",
    "\n",
    "centered_title = title.center(window_width)\n",
    "print(centered_title)\n"
   ]
  },
  {
   "cell_type": "code",
   "execution_count": null,
   "id": "733a1421-381c-457c-bfac-43cb71e59c01",
   "metadata": {},
   "outputs": [],
   "source": [
    "# Example using format()\n",
    "name = \"John\"\n",
    "age = 30\n",
    "height = 180\n",
    "\n",
    "# Formatting the string using placeholders and format()\n",
    "formatted_string = \"Name: {}, Age: {}, Height: {}cm\".format(name, age, height)\n",
    "\n",
    "print(formatted_string)\n"
   ]
  },
  {
   "cell_type": "code",
   "execution_count": 83,
   "id": "c449e1c4-d75a-414d-9143-e061794c771a",
   "metadata": {},
   "outputs": [
    {
     "name": "stdout",
     "output_type": "stream",
     "text": [
      "Name: Alice, Age: 25, Height: 165cm\n"
     ]
    }
   ],
   "source": [
    "# Example using format_map()\n",
    "person_info = {\"name\": \"Alice\", \"age\": 25, \"height\": 165}\n",
    "\n",
    "# Formatting the string using placeholders and format_map()\n",
    "formatted_string = \"Name: {name}, Age: {age}, Height: {height}cm\".format_map(person_info)\n",
    "\n",
    "print(formatted_string)\n"
   ]
  },
  {
   "cell_type": "code",
   "execution_count": 84,
   "id": "af7c2f10-e56d-43d7-9081-869692c72f34",
   "metadata": {},
   "outputs": [
    {
     "name": "stdout",
     "output_type": "stream",
     "text": [
      "Hello, World!\n"
     ]
    }
   ],
   "source": [
    "string = \"   Hello, World!   \"\n",
    "stripped_string = string.strip()\n",
    "print(stripped_string)  # Output: \"Hello, World!\"\n"
   ]
  },
  {
   "cell_type": "code",
   "execution_count": 85,
   "id": "d17fdbcc-763b-4de9-b349-9df7714d97ff",
   "metadata": {},
   "outputs": [
    {
     "name": "stdout",
     "output_type": "stream",
     "text": [
      "Hello, World!...\n"
     ]
    }
   ],
   "source": [
    "string = \"...Hello, World!...\"\n",
    "stripped_string = string.lstrip(\".\")\n",
    "print(stripped_string)  # Output: \"Hello, World!...\"\n"
   ]
  },
  {
   "cell_type": "code",
   "execution_count": 86,
   "id": "a6aaf9b2-bdc6-4792-821e-c9c2c0d8caaf",
   "metadata": {},
   "outputs": [
    {
     "name": "stdout",
     "output_type": "stream",
     "text": [
      "...Hello, World!\n"
     ]
    }
   ],
   "source": [
    "string = \"...Hello, World!...\"\n",
    "stripped_string = string.rstrip(\".\")\n",
    "print(stripped_string)  # Output: \"...Hello, World!\"\n"
   ]
  },
  {
   "cell_type": "code",
   "execution_count": 87,
   "id": "4fa53898-3251-4f3b-8e5a-7bb28768895d",
   "metadata": {},
   "outputs": [
    {
     "name": "stdout",
     "output_type": "stream",
     "text": [
      "Th3s 3s 1 s1mpl2 t2xt t4 d2m4nstr1t2 tr1nsl1t2() m2th4d.\n"
     ]
    }
   ],
   "source": [
    "# Create a translation table using maketrans()\n",
    "translation_table = str.maketrans(\"aeiou\", \"12345\")\n",
    "\n",
    "# Define a string\n",
    "text = \"This is a sample text to demonstrate translate() method.\"\n",
    "\n",
    "# Apply the translation table to the string using translate()\n",
    "translated_text = text.translate(translation_table)\n",
    "\n",
    "print(translated_text)\n"
   ]
  },
  {
   "cell_type": "code",
   "execution_count": 89,
   "id": "ecd09126-a03c-4264-8727-b62e567b8779",
   "metadata": {},
   "outputs": [
    {
     "name": "stdout",
     "output_type": "stream",
     "text": [
      "[0.5, 2, 17, 400, 500, 999, 1000, 40000]\n"
     ]
    }
   ],
   "source": [
    "\n",
    "lst1=[500, 1000, 400, 40000, 999, 2, 0.5, 17]\n",
    "\n",
    "#Type your answer here.\n",
    "\n",
    "lst2=sorted(lst1)\n",
    "\n",
    "\n",
    "print(lst2)\n"
   ]
  },
  {
   "cell_type": "code",
   "execution_count": 90,
   "id": "115660fd-043e-440c-a2c2-7fcb016c67af",
   "metadata": {},
   "outputs": [
    {
     "name": "stdout",
     "output_type": "stream",
     "text": [
      "['ant', 'bird', 'giraffe', 'porcupine', 'zebra']\n"
     ]
    }
   ],
   "source": [
    "\n",
    "lst1=[\"zebra\", \"bird\", \"ant\", \"porcupine\", \"giraffe\"]\n",
    "\n",
    "#Type your answer here.\n",
    "\n",
    "lst2=sorted(lst1)\n",
    "\n",
    "\n",
    "print(lst2)"
   ]
  },
  {
   "cell_type": "code",
   "execution_count": 144,
   "id": "3b1ef6e6-91b9-49b9-98ec-d270295cacfa",
   "metadata": {},
   "outputs": [],
   "source": [
    "json_str = '''{\n",
    "    \"name\": \"John Doe\",\n",
    "    \"age\": 30,\n",
    "    \"city\": \"New York\",\n",
    "    \"email\": \"john.doe@example.com\",\n",
    "    \"is_active\": true,\n",
    "    \"languages\": [\"Python\", \"JavaScript\", \"Java\"],\n",
    "    \"address\": {\n",
    "        \"street\": \"123 Main St\",\n",
    "        \"city\": \"Anytown\",\n",
    "        \"zip_code\": \"12345\"\n",
    "    }\n",
    "}'''\n"
   ]
  },
  {
   "cell_type": "code",
   "execution_count": 91,
   "id": "e1e92ffb-253b-4edd-9a4e-c0c7a3be4ad0",
   "metadata": {},
   "outputs": [],
   "source": []
  },
  {
   "cell_type": "code",
   "execution_count": 111,
   "id": "9e6919fa-cce5-44ae-be77-32c2701183c8",
   "metadata": {},
   "outputs": [
    {
     "data": {
      "text/plain": [
       "{'name': 'John Doe', 'age': 30, 'languages': ['Python', 'JavaScript']}"
      ]
     },
     "metadata": {},
     "output_type": "display_data"
    },
    {
     "data": {
      "text/plain": [
       "dict"
      ]
     },
     "metadata": {},
     "output_type": "display_data"
    }
   ],
   "source": [
    "import json\n",
    "\n",
    "# JSON formatted string\n",
    "json_string = '{\"name\": \"John Doe\", \"age\": 30, \"languages\": [\"Python\", \"JavaScript\"]}'\n",
    "\n",
    "# Convert JSON string to Python dictionary\n",
    "python_dict = json.loads(json_string)\n",
    "display(python_dict)\n",
    "display(type(python_dict))"
   ]
  },
  {
   "cell_type": "code",
   "execution_count": 113,
   "id": "f46dfe48-ca1b-4fa6-a550-330f68d2ef5c",
   "metadata": {},
   "outputs": [
    {
     "data": {
      "text/plain": [
       "'{\"name\": \"Jane Doe\", \"age\": 28, \"languages\": [\"Java\", \"C#\"]}'"
      ]
     },
     "metadata": {},
     "output_type": "display_data"
    },
    {
     "data": {
      "text/plain": [
       "str"
      ]
     },
     "metadata": {},
     "output_type": "display_data"
    }
   ],
   "source": [
    "import json\n",
    "\n",
    "# Python dictionary\n",
    "python_dict = {\"name\": \"Jane Doe\", \"age\": 28, \"languages\": [\"Java\", \"C#\"]}\n",
    "\n",
    "# Convert Python dictionary to JSON formatted string\n",
    "json_string = json.dumps(python_dict)\n",
    "display(json_string)\n",
    "display(type(json_string))"
   ]
  },
  {
   "cell_type": "code",
   "execution_count": 117,
   "id": "6eb5a1e8-21e7-41a9-aef1-3baeae225a32",
   "metadata": {},
   "outputs": [
    {
     "name": "stdout",
     "output_type": "stream",
     "text": [
      "['age', 'languages', 'name']\n"
     ]
    }
   ],
   "source": [
    "from pprint import pprint\n",
    "\n",
    "#  Write a Python program to convert Python dictionary object (sort by key) to JSON data. Print the object members with indent level 4.\n",
    "\n",
    "json_data = sorted(python_dict)\n",
    "pprint(json_data, indent=4)"
   ]
  },
  {
   "cell_type": "code",
   "execution_count": 156,
   "id": "50baea8a-76c6-4ba3-99c9-6c3b7741bb10",
   "metadata": {},
   "outputs": [],
   "source": [
    "import json\n",
    "\n",
    "# Python dictionary\n",
    "python_string = '''{\n",
    "    \"name\": \"John Doe\",\n",
    "    \"age\": 30,\n",
    "    \"is_active\": True,\n",
    "    \"languages\": [\"Python\", \"JavaScript\", \"Java\"],\n",
    "    \"address\": {\n",
    "        \"zip_code\": \"12345\",\n",
    "        \"street\": \"123 Main St\",\n",
    "        \"city\": \"Anytown\"\n",
    "    }\n",
    "}'''\n",
    "\n"
   ]
  },
  {
   "cell_type": "code",
   "execution_count": 145,
   "id": "306c0766-a1da-460c-947f-1d8f1ba7b017",
   "metadata": {},
   "outputs": [],
   "source": [
    "python_dict = {\n",
    "    \n",
    "    \"name\": \"John Doe\",\n",
    "    \"age\": 30,\n",
    "    \"city\": \"New York\",\n",
    "    \"email\": \"john.doe@example.com\",\n",
    "    \"is_active\": True,\n",
    "    \"languages\": [\"Python\", \"JavaScript\", \"Java\"],\n",
    "    \"address\": {\n",
    "        \"street\": \"123 Main St\",\n",
    "        \"city\": \"Anytown\",\n",
    "        \"zip_code\": \"12345\"\n",
    "    }\n",
    "}\n"
   ]
  },
  {
   "cell_type": "code",
   "execution_count": 164,
   "id": "e8397cb5-2941-4126-9876-8b89ed42ab68",
   "metadata": {},
   "outputs": [],
   "source": [
    "# Write Python dict to json file\n",
    "with open('existing_file.json', 'w') as json_file:\n",
    "    json.dump(json_dict, json_file, indent=4)"
   ]
  },
  {
   "cell_type": "code",
   "execution_count": 165,
   "id": "8efed581-fd78-4293-bdcf-595bcad3f8a6",
   "metadata": {},
   "outputs": [],
   "source": [
    "# Read json file to python dict\n",
    "with open('existing_file.json', 'r') as json_file:\n",
    "    dictionary = json.load(json_file)"
   ]
  },
  {
   "cell_type": "code",
   "execution_count": 166,
   "id": "96a6deea-33ea-4276-8105-063f45965ba5",
   "metadata": {},
   "outputs": [
    {
     "data": {
      "text/plain": [
       "{'name': 'John Doe',\n",
       " 'age': 30,\n",
       " 'city': 'New York',\n",
       " 'email': 'john.doe@example.com',\n",
       " 'is_active': True,\n",
       " 'languages': ['Python', 'JavaScript', 'Java'],\n",
       " 'address': {'street': '123 Main St', 'city': 'Anytown', 'zip_code': '12345'}}"
      ]
     },
     "execution_count": 166,
     "metadata": {},
     "output_type": "execute_result"
    }
   ],
   "source": [
    "dictionary"
   ]
  },
  {
   "cell_type": "code",
   "execution_count": null,
   "id": "a71e29ca-51ab-4e39-bfd6-f2a7c0731265",
   "metadata": {},
   "outputs": [],
   "source": []
  },
  {
   "cell_type": "code",
   "execution_count": 167,
   "id": "3db82928-1315-4418-bfb7-2973ac76f301",
   "metadata": {},
   "outputs": [
    {
     "data": {
      "text/plain": [
       "'\"{\\\\n    \\\\\"name\\\\\": \\\\\"John Doe\\\\\",\\\\n    \\\\\"age\\\\\": 30,\\\\n    \\\\\"is_active\\\\\": True,\\\\n    \\\\\"languages\\\\\": [\\\\\"Python\\\\\", \\\\\"JavaScript\\\\\", \\\\\"Java\\\\\"],\\\\n    \\\\\"address\\\\\": {\\\\n        \\\\\"zip_code\\\\\": \\\\\"12345\\\\\",\\\\n        \\\\\"street\\\\\": \\\\\"123 Main St\\\\\",\\\\n        \\\\\"city\\\\\": \\\\\"Anytown\\\\\"\\\\n    }\\\\n}\"'"
      ]
     },
     "execution_count": 167,
     "metadata": {},
     "output_type": "execute_result"
    }
   ],
   "source": [
    "# Python string to a JSON string (serialize)\n",
    "json_string = json.dumps(python_string)\n",
    "json_string"
   ]
  },
  {
   "cell_type": "code",
   "execution_count": 168,
   "id": "c790ae32-770a-4171-9635-65fd22847c49",
   "metadata": {},
   "outputs": [
    {
     "data": {
      "text/plain": [
       "'{\\n    \"name\": \"John Doe\",\\n    \"age\": 30,\\n    \"is_active\": True,\\n    \"languages\": [\"Python\", \"JavaScript\", \"Java\"],\\n    \"address\": {\\n        \"zip_code\": \"12345\",\\n        \"street\": \"123 Main St\",\\n        \"city\": \"Anytown\"\\n    }\\n}'"
      ]
     },
     "execution_count": 168,
     "metadata": {},
     "output_type": "execute_result"
    }
   ],
   "source": [
    "# Json string to python string (unserialized)\n",
    "python_string = json.loads(json_string)\n",
    "python_string"
   ]
  },
  {
   "cell_type": "code",
   "execution_count": 169,
   "id": "52ccac1b-3b0c-45a2-8111-1b8bfd9316ea",
   "metadata": {},
   "outputs": [
    {
     "ename": "TypeError",
     "evalue": "'dict' object is not callable",
     "output_type": "error",
     "traceback": [
      "\u001b[1;31m---------------------------------------------------------------------------\u001b[0m",
      "\u001b[1;31mTypeError\u001b[0m                                 Traceback (most recent call last)",
      "Cell \u001b[1;32mIn[169], line 2\u001b[0m\n\u001b[0;32m      1\u001b[0m \u001b[38;5;66;03m# Python string representation of a dictionary to an actual dictionary\u001b[39;00m\n\u001b[1;32m----> 2\u001b[0m python_dict \u001b[38;5;241m=\u001b[39m \u001b[38;5;28;43mdict\u001b[39;49m\u001b[43m(\u001b[49m\u001b[43mpython_string\u001b[49m\u001b[43m)\u001b[49m\n\u001b[0;32m      3\u001b[0m python_dict\n",
      "\u001b[1;31mTypeError\u001b[0m: 'dict' object is not callable"
     ]
    }
   ],
   "source": [
    "# Python string representation of a dictionary to an actual dictionary\n",
    "python_dict = dict(python_string)\n",
    "python_dict"
   ]
  },
  {
   "cell_type": "code",
   "execution_count": 170,
   "id": "47c7f4b9-e4b2-4009-a7bb-396c555a466c",
   "metadata": {},
   "outputs": [
    {
     "data": {
      "text/plain": [
       "str"
      ]
     },
     "execution_count": 170,
     "metadata": {},
     "output_type": "execute_result"
    }
   ],
   "source": [
    "type(python_string)"
   ]
  },
  {
   "cell_type": "code",
   "execution_count": 2,
   "id": "f0ea34b5-2302-422f-980e-fb0deadb8d93",
   "metadata": {},
   "outputs": [
    {
     "name": "stdout",
     "output_type": "stream",
     "text": [
      "[(2, 'banana'), (4, 'cherry'), (3, 'blueberry'), (1, 'apple')]\n"
     ]
    }
   ],
   "source": [
    "# List of tuples\n",
    "data = [(2, 'banana'), (1, 'apple'), (4, 'cherry'), (3, 'blueberry')]\n",
    "\n",
    "# Sorting by the second element in each tuple\n",
    "sorted_data = sorted(data, key=lambda x: x[1][1])\n",
    "print(sorted_data)  # Output: [(1, 'apple'), (3, 'blueberry'), (2, 'banana'), (4, 'cherry')]\n"
   ]
  },
  {
   "cell_type": "code",
   "execution_count": null,
   "id": "1008951e-a8aa-4442-b748-c4b1e9569407",
   "metadata": {},
   "outputs": [],
   "source": [
    "data = [(2, 'banana'), (1, 'apple'), (4, 'cherry'), (3, 'blueberry')]\n",
    "# so: x[0] = (2, 'banana'), x[1] = (1, 'apple'), x[2] = (4, 'cherry') ...\n",
    "# and: x[0][0] = 2, x[0][1] = 'banana', x[1][0] = 1, ..."
   ]
  },
  {
   "cell_type": "code",
   "execution_count": 3,
   "id": "efaa2bb6-2687-4aeb-b10d-942b6eb7c2f1",
   "metadata": {},
   "outputs": [
    {
     "name": "stdout",
     "output_type": "stream",
     "text": [
      "a\n",
      "b\n",
      "c\n"
     ]
    }
   ],
   "source": [
    "my_dict = {'a': 1, 'b': 2, 'c': 3}\n",
    "for x in my_dict:\n",
    "    print(x)  # x will be 'a', 'b', then 'c'\n"
   ]
  },
  {
   "cell_type": "code",
   "execution_count": 7,
   "id": "2440ded7-ee34-464d-9fe4-a7e4a4be6f6c",
   "metadata": {},
   "outputs": [
    {
     "data": {
      "text/plain": [
       "['a', 'b', 'c']"
      ]
     },
     "execution_count": 7,
     "metadata": {},
     "output_type": "execute_result"
    }
   ],
   "source": [
    "sorted(my_dict)"
   ]
  },
  {
   "cell_type": "code",
   "execution_count": 12,
   "id": "5c3b651d-6360-497a-8997-3e211ad4c607",
   "metadata": {},
   "outputs": [
    {
     "data": {
      "text/plain": [
       "[1, 2, 3]"
      ]
     },
     "execution_count": 12,
     "metadata": {},
     "output_type": "execute_result"
    }
   ],
   "source": [
    "sorted(my_dict.values())"
   ]
  },
  {
   "cell_type": "code",
   "execution_count": 14,
   "id": "d696232c-8203-4722-a895-5fa58a67942b",
   "metadata": {},
   "outputs": [
    {
     "data": {
      "text/plain": [
       "[1, 2, 3, 4, 5]"
      ]
     },
     "execution_count": 14,
     "metadata": {},
     "output_type": "execute_result"
    }
   ],
   "source": [
    "lst = [1, 2, 3, 4, 5]\n",
    "sorted(lst, key=lambda x: 1/x, reverse=True)"
   ]
  },
  {
   "cell_type": "code",
   "execution_count": 19,
   "id": "502b1943-dd3b-4981-b1d9-f3f661c9e98c",
   "metadata": {},
   "outputs": [
    {
     "name": "stdout",
     "output_type": "stream",
     "text": [
      "division by zero\n"
     ]
    }
   ],
   "source": [
    "x = 0\n",
    "\n",
    "try:\n",
    "    y = 1/x\n",
    "except ZeroDivisionError as e:\n",
    "    print(e)\n"
   ]
  },
  {
   "cell_type": "code",
   "execution_count": null,
   "id": "393094b6-a69c-4aa0-b9fd-ab0c5cd324a8",
   "metadata": {},
   "outputs": [],
   "source": []
  },
  {
   "cell_type": "code",
   "execution_count": 2,
   "id": "c943e2a7-6a6b-49fd-80f9-cfed56c57476",
   "metadata": {},
   "outputs": [
    {
     "data": {
      "text/plain": [
       "'{\"name\": \"John\", \"age\": 30, \"city\": \"New York\"}'"
      ]
     },
     "execution_count": 2,
     "metadata": {},
     "output_type": "execute_result"
    }
   ],
   "source": [
    "import json\n",
    "\n",
    "# a Python object (dict)\n",
    "x = {\n",
    "\n",
    "    'name': 'John', \n",
    "    'age': 30,\n",
    "    'city': 'New York'\n",
    "}\n",
    "\n",
    "# Convert into JSON string\n",
    "y = json.dumps(x)\n",
    "y\n"
   ]
  },
  {
   "cell_type": "code",
   "execution_count": null,
   "id": "eb5ce48c-8ba2-45cd-8133-b2137704c104",
   "metadata": {},
   "outputs": [],
   "source": [
    "# Can convert these types to JSON strings\n",
    "# - dict\n",
    "# - list\n",
    "# - tuple\n",
    "# - string\n",
    "# - int \n",
    "# - float\n",
    "# - True\n",
    "# - False\n",
    "# - None"
   ]
  },
  {
   "cell_type": "code",
   "execution_count": 3,
   "id": "ac038001-1d72-45ef-b275-cadf815bb8cf",
   "metadata": {},
   "outputs": [
    {
     "name": "stdout",
     "output_type": "stream",
     "text": [
      "{\"one\": 1, \"two\": 2, \"three\": 3}\n",
      "[1, 2, 3, 4, 5]\n",
      "[\"tuple\", 2]\n",
      "\"string\"\n",
      "100\n",
      "100.0\n",
      "true\n",
      "false\n",
      "null\n"
     ]
    }
   ],
   "source": [
    "print(json.dumps({'one': 1, 'two': 2, 'three': 3})) # --> turns into a JSON object type\n",
    "print(json.dumps([1, 2, 3, 4, 5]))                  # --> turns into an Array type\n",
    "print(json.dumps(('tuple', 2)))                     # --> turns into an Array type\n",
    "print(json.dumps('string'))                         # --> turns into the String type\n",
    "print(json.dumps(100))                              # --> turns into the Number type\n",
    "print(json.dumps(100.00))                           # --> turns into the Number type\n",
    "print(json.dumps(True))                             # --> turns into the 'true' type (lowercase)\n",
    "print(json.dumps(False))                            # --> turns into the 'false' type (lowercase)\n",
    "print(json.dumps(None))                             # --> turns into the 'null' type"
   ]
  },
  {
   "cell_type": "code",
   "execution_count": 4,
   "id": "14906111-1bff-47ae-b607-f0d36b0f920b",
   "metadata": {},
   "outputs": [
    {
     "name": "stdout",
     "output_type": "stream",
     "text": [
      "{\n",
      "    \"name\": \"John\",\n",
      "    \"age\": 30,\n",
      "    \"married\": true,\n",
      "    \"divorced\": false,\n",
      "    \"children\": [\n",
      "        \"Ann\",\n",
      "        \"Billy\"\n",
      "    ],\n",
      "    \"pets\": null,\n",
      "    \"cars\": [\n",
      "        {\n",
      "            \"model\": \"BMW 230\",\n",
      "            \"mpg\": 27.5\n",
      "        },\n",
      "        {\n",
      "            \"model\": \"Ford Edge\",\n",
      "            \"mpg\": 24.1\n",
      "        }\n",
      "    ]\n",
      "}\n"
     ]
    }
   ],
   "source": [
    "# Dict that has all the legal JSON types\n",
    "import json\n",
    "\n",
    "x = {\n",
    "  \n",
    "  \"name\": \"John\",\n",
    "  \"age\": 30,\n",
    "  \"married\": True,\n",
    "  \"divorced\": False,\n",
    "  \"children\": (\"Ann\",\"Billy\"),\n",
    "  \"pets\": None,\n",
    "  \"cars\": [\n",
    "            {\"model\": \"BMW 230\", \"mpg\": 27.5},\n",
    "            {\"model\": \"Ford Edge\", \"mpg\": 24.1}\n",
    "  ]\n",
    "\n",
    "}\n",
    "\n",
    "print(json.dumps(x, indent=4))"
   ]
  },
  {
   "cell_type": "code",
   "execution_count": 6,
   "id": "3167dff1-5cd2-4de6-bb08-069213d2a1e7",
   "metadata": {},
   "outputs": [
    {
     "name": "stdout",
     "output_type": "stream",
     "text": [
      "{\n",
      "    \"name\" = \"John\": \n",
      "    \"age\" = 30: \n",
      "    \"married\" = true: \n",
      "    \"divorced\" = false: \n",
      "    \"children\" = [\n",
      "        \"Ann\": \n",
      "        \"Billy\"\n",
      "    ]: \n",
      "    \"pets\" = null: \n",
      "    \"cars\" = [\n",
      "        {\n",
      "            \"model\" = \"BMW 230\": \n",
      "            \"mpg\" = 27.5\n",
      "        }: \n",
      "        {\n",
      "            \"model\" = \"Ford Edge\": \n",
      "            \"mpg\" = 24.1\n",
      "        }\n",
      "    ]\n",
      "}\n"
     ]
    }
   ],
   "source": [
    "# Change separators\n",
    "print(json.dumps(x, indent=4, separators=(\": \", \" = \")))"
   ]
  },
  {
   "cell_type": "code",
   "execution_count": 7,
   "id": "8c62226e-dd00-43c3-86b6-6edd96ddaa56",
   "metadata": {},
   "outputs": [
    {
     "name": "stdout",
     "output_type": "stream",
     "text": [
      "{\n",
      "    \"age\" = 30:\n",
      "    \"cars\" = [\n",
      "        {\n",
      "            \"model\" = \"BMW 230\":\n",
      "            \"mpg\" = 27.5\n",
      "        }:\n",
      "        {\n",
      "            \"model\" = \"Ford Edge\":\n",
      "            \"mpg\" = 24.1\n",
      "        }\n",
      "    ]:\n",
      "    \"children\" = [\n",
      "        \"Ann\":\n",
      "        \"Billy\"\n",
      "    ]:\n",
      "    \"divorced\" = false:\n",
      "    \"married\" = true:\n",
      "    \"name\" = \"John\":\n",
      "    \"pets\" = null\n",
      "}\n"
     ]
    }
   ],
   "source": [
    "# Order the JSON string result\n",
    "print(json.dumps(x, indent=4, separators=(':', ' = '), sort_keys=True))"
   ]
  },
  {
   "cell_type": "code",
   "execution_count": null,
   "id": "845546d7-a46c-4b08-a799-b1e1fc6d8a65",
   "metadata": {},
   "outputs": [],
   "source": []
  },
  {
   "cell_type": "code",
   "execution_count": null,
   "id": "8c94020e-14ad-48bd-a1ae-469fc5d785d4",
   "metadata": {},
   "outputs": [],
   "source": [
    "# Files\n",
    "\n",
    "# - 'r' : read\n",
    "# - 'a' : append\n",
    "# - 'w' : write\n",
    "# - 'x' : Create\n",
    "# - 'b' : binary\n",
    "# - 't' : text : text mode is the default therefore 't' is optional, but can be combined with other modes as well\n",
    "# - '+' : update mode for both reading and writing\n",
    "\n",
    "# - 'r+': Open the file for reading and writing. The file pointer is placed at the beginning of the file, which can\n",
    "#         be useful for modifying existing files without truncating them. However, if the file does not exist, an error will be raised.\n",
    "\n",
    "# - 'w+': Open the file for reading and writing, truncating the file first. If the file does not exist, it will be created. This mode is \n",
    "#         useful when you want to overwrite the entire file or start with a new file.\n",
    "\n",
    "# - 'a+': Open the file for reading and writing, appending to the end of the file if it exists. If the file does not exist, it will be created. \n",
    "#         Writes to the file will always be appended to the end, regardless of the current file pointer position."
   ]
  },
  {
   "cell_type": "code",
   "execution_count": 10,
   "id": "629acc60-cc0f-4697-a2a1-75da9cff24b9",
   "metadata": {},
   "outputs": [],
   "source": [
    "with open('test_text_file.txt', 'a+') as file:\n",
    "    file.write(str(dir(file)))"
   ]
  },
  {
   "cell_type": "code",
   "execution_count": 13,
   "id": "ae84affd-feca-42c9-88bb-60810a62baf6",
   "metadata": {},
   "outputs": [
    {
     "name": "stdout",
     "output_type": "stream",
     "text": [
      "['# Files\\n', '\\n', \"# - 'r' : read\\n\", \"# - 'a' : append\\n\", \"# - 'w' : write\\n\", \"# - 'x' : Create\\n\", \"# - 'b' : binary\\n\", \"# - 't' : text : text mode is the default therefore 't' is optional, but can be combined with other modes as well\\n\", \"# - '+' : update mode for both reading and writing\\n\", '\\n', \"# - 'r+': Open the file for reading and writing. The file pointer is placed at the beginning of the file, which can\\n\", '#         be useful for modifying existing files without truncating them. However, if the file does not exist, an error will be raised.\\n', '\\n', \"# - 'w+': Open the file for reading and writing, truncating the file first. If the file does not exist, it will be created. This mode is \\n\", '#         useful when you want to overwrite the entire file or start with a new file.\\n', '\\n', \"# - 'a+': Open the file for reading and writing, appending to the end of the file if it exists. If the file does not exist, it will be created. \\n\", '#         Writes to the file will always be appended to the end, regardless of the current file pointer position.']\n"
     ]
    }
   ],
   "source": [
    "with open('test_text_file.txt', 'r') as file:\n",
    "    lines = file.readlines()\n",
    "    print(lines)"
   ]
  },
  {
   "cell_type": "code",
   "execution_count": 19,
   "id": "2806c56c-8852-48b2-a48e-ffcbf1af5a8a",
   "metadata": {
    "scrolled": true
   },
   "outputs": [
    {
     "name": "stdout",
     "output_type": "stream",
     "text": [
      "therefore 't' is optional, but can be combined with other modes as well\n",
      "# - '+' : update mode for both reading and writing\n",
      "\n",
      "# - 'r+': Open the file for reading and writing. The file pointer is placed at the beginning of the file, which can\n",
      "#         be useful for modifying existing files without truncating them. However, if the file does not exist, an error will be raised.\n",
      "\n",
      "# - 'w+': Open the file for reading and writing, truncating the file first. If the file does not exist, it will be created. This mode is \n",
      "#         useful when you want to overwrite the entire file or start with a new file.\n",
      "\n",
      "# - 'a+': Open the file for reading and writing, appending to the end of the file if it exists. If the file does not exist, it will be created. \n",
      "#         Writes to the file will always be appended to the end, regardless of the current file pointer position.\n"
     ]
    }
   ],
   "source": [
    "with open('test_text_file.txt', 'r+') as file:\n",
    "    file.seek(100)\n",
    "    file.write('       This is 100 bytes         ')\n",
    "    x = file.read()\n",
    "    print(x)"
   ]
  },
  {
   "cell_type": "code",
   "execution_count": 21,
   "id": "e7c43aaf-9fdd-47bb-b901-c4cc85ce05d9",
   "metadata": {},
   "outputs": [],
   "source": [
    "with open('test_text_file.txt', 'a') as file:\n",
    "    file.write('This was appended to the end of the file. How do you think this will look when the file is finally opened and looked at?')\n",
    "    "
   ]
  },
  {
   "cell_type": "code",
   "execution_count": 23,
   "id": "74597acd-1d8c-476e-be65-ff5ef437d5f2",
   "metadata": {},
   "outputs": [
    {
     "ename": "FileExistsError",
     "evalue": "[Errno 17] File exists: 'this_is_an_x_file.txt'",
     "output_type": "error",
     "traceback": [
      "\u001b[1;31m---------------------------------------------------------------------------\u001b[0m",
      "\u001b[1;31mFileExistsError\u001b[0m                           Traceback (most recent call last)",
      "Cell \u001b[1;32mIn[23], line 1\u001b[0m\n\u001b[1;32m----> 1\u001b[0m \u001b[38;5;28;01mwith\u001b[39;00m \u001b[38;5;28;43mopen\u001b[39;49m\u001b[43m(\u001b[49m\u001b[38;5;124;43m'\u001b[39;49m\u001b[38;5;124;43mthis_is_an_x_file.txt\u001b[39;49m\u001b[38;5;124;43m'\u001b[39;49m\u001b[43m,\u001b[49m\u001b[43m \u001b[49m\u001b[38;5;124;43m'\u001b[39;49m\u001b[38;5;124;43mx\u001b[39;49m\u001b[38;5;124;43m'\u001b[39;49m\u001b[43m)\u001b[49m \u001b[38;5;28;01mas\u001b[39;00m file:\n\u001b[0;32m      2\u001b[0m     x \u001b[38;5;241m=\u001b[39m file\u001b[38;5;241m.\u001b[39mreadlines()\n\u001b[0;32m      3\u001b[0m     \u001b[38;5;28mprint\u001b[39m(x)\n",
      "File \u001b[1;32m~\\Python Review\\venv\\Lib\\site-packages\\IPython\\core\\interactiveshell.py:310\u001b[0m, in \u001b[0;36m_modified_open\u001b[1;34m(file, *args, **kwargs)\u001b[0m\n\u001b[0;32m    303\u001b[0m \u001b[38;5;28;01mif\u001b[39;00m file \u001b[38;5;129;01min\u001b[39;00m {\u001b[38;5;241m0\u001b[39m, \u001b[38;5;241m1\u001b[39m, \u001b[38;5;241m2\u001b[39m}:\n\u001b[0;32m    304\u001b[0m     \u001b[38;5;28;01mraise\u001b[39;00m \u001b[38;5;167;01mValueError\u001b[39;00m(\n\u001b[0;32m    305\u001b[0m         \u001b[38;5;124mf\u001b[39m\u001b[38;5;124m\"\u001b[39m\u001b[38;5;124mIPython won\u001b[39m\u001b[38;5;124m'\u001b[39m\u001b[38;5;124mt let you open fd=\u001b[39m\u001b[38;5;132;01m{\u001b[39;00mfile\u001b[38;5;132;01m}\u001b[39;00m\u001b[38;5;124m by default \u001b[39m\u001b[38;5;124m\"\u001b[39m\n\u001b[0;32m    306\u001b[0m         \u001b[38;5;124m\"\u001b[39m\u001b[38;5;124mas it is likely to crash IPython. If you know what you are doing, \u001b[39m\u001b[38;5;124m\"\u001b[39m\n\u001b[0;32m    307\u001b[0m         \u001b[38;5;124m\"\u001b[39m\u001b[38;5;124myou can use builtins\u001b[39m\u001b[38;5;124m'\u001b[39m\u001b[38;5;124m open.\u001b[39m\u001b[38;5;124m\"\u001b[39m\n\u001b[0;32m    308\u001b[0m     )\n\u001b[1;32m--> 310\u001b[0m \u001b[38;5;28;01mreturn\u001b[39;00m \u001b[43mio_open\u001b[49m\u001b[43m(\u001b[49m\u001b[43mfile\u001b[49m\u001b[43m,\u001b[49m\u001b[43m \u001b[49m\u001b[38;5;241;43m*\u001b[39;49m\u001b[43margs\u001b[49m\u001b[43m,\u001b[49m\u001b[43m \u001b[49m\u001b[38;5;241;43m*\u001b[39;49m\u001b[38;5;241;43m*\u001b[39;49m\u001b[43mkwargs\u001b[49m\u001b[43m)\u001b[49m\n",
      "\u001b[1;31mFileExistsError\u001b[0m: [Errno 17] File exists: 'this_is_an_x_file.txt'"
     ]
    }
   ],
   "source": [
    "with open('this_is_an_x_file.txt', 'x') as file:\n",
    "    x = file.readlines()\n",
    "    print(x)"
   ]
  },
  {
   "cell_type": "code",
   "execution_count": 24,
   "id": "f005c08a-694c-4ca8-a4b2-5ff64c73e69b",
   "metadata": {},
   "outputs": [
    {
     "name": "stdout",
     "output_type": "stream",
     "text": [
      "[]\n"
     ]
    }
   ],
   "source": [
    "with open('this_is_an_x_file.txt', 'r+') as file:\n",
    "    x = file.readlines()\n",
    "    print(x)"
   ]
  },
  {
   "cell_type": "code",
   "execution_count": 26,
   "id": "ab550231-b74d-4409-8fde-6cf3c809d039",
   "metadata": {},
   "outputs": [],
   "source": [
    "# Remove the practice files that we created\n",
    "import os\n",
    "\n",
    "if os.path.exists('this_is_an_x_file.txt'):\n",
    "    if os.path.exists('test_text_file.txt'):\n",
    "        os.remove('this_is_an_x_file.txt')\n",
    "        os.remove('test_text_file.txt')\n",
    "    else:\n",
    "        print('files do not exist')"
   ]
  },
  {
   "cell_type": "code",
   "execution_count": 27,
   "id": "098264bb-dd5c-4e9c-a2e0-0462c8af8708",
   "metadata": {},
   "outputs": [],
   "source": [
    "# make directories\n",
    "\n",
    "os.mkdir('practice_directory')"
   ]
  },
  {
   "cell_type": "code",
   "execution_count": 28,
   "id": "97749235-cef5-4602-a2b2-9e4ea73d584f",
   "metadata": {},
   "outputs": [],
   "source": [
    "# Remove directories\n",
    "\n",
    "os.rmdir('practice_directory')"
   ]
  },
  {
   "cell_type": "code",
   "execution_count": null,
   "id": "ee0c0097-581e-4963-af03-45416fc4f7ef",
   "metadata": {},
   "outputs": [],
   "source": []
  },
  {
   "cell_type": "code",
   "execution_count": null,
   "id": "6352b18d-0e70-4b1b-865a-0d6cd9dde9ee",
   "metadata": {},
   "outputs": [],
   "source": []
  },
  {
   "cell_type": "code",
   "execution_count": null,
   "id": "a3027d6c-49b4-44b9-8d92-3a99b4212ac4",
   "metadata": {},
   "outputs": [],
   "source": []
  },
  {
   "cell_type": "code",
   "execution_count": null,
   "id": "b58403f8-6dfb-4fa7-a8f8-abdc7506ef19",
   "metadata": {},
   "outputs": [],
   "source": []
  },
  {
   "cell_type": "code",
   "execution_count": null,
   "id": "c8f646f1-dda9-413e-84e0-742c534ddfe7",
   "metadata": {},
   "outputs": [],
   "source": []
  },
  {
   "cell_type": "code",
   "execution_count": null,
   "id": "edb25516-415b-4a56-953d-d588589fe3bc",
   "metadata": {},
   "outputs": [],
   "source": []
  },
  {
   "cell_type": "code",
   "execution_count": null,
   "id": "fbdeb0ee-de22-4089-85a5-a9c0bd7c2c22",
   "metadata": {},
   "outputs": [],
   "source": []
  },
  {
   "cell_type": "code",
   "execution_count": null,
   "id": "85f3a9bf-8a0b-40f9-94af-e761e20a10c9",
   "metadata": {},
   "outputs": [],
   "source": []
  },
  {
   "cell_type": "code",
   "execution_count": null,
   "id": "342d8836-b7d7-45b0-93f8-d3ab073e95c7",
   "metadata": {},
   "outputs": [],
   "source": []
  },
  {
   "cell_type": "code",
   "execution_count": null,
   "id": "4a67360b-b65d-4500-80f7-7845aeecd947",
   "metadata": {},
   "outputs": [],
   "source": []
  },
  {
   "cell_type": "code",
   "execution_count": null,
   "id": "74bb4aa9-8c53-40d4-ba1f-6fa66d431df3",
   "metadata": {},
   "outputs": [],
   "source": []
  },
  {
   "cell_type": "code",
   "execution_count": null,
   "id": "be8274d6-c4c3-4da7-a3ff-c6c97750385f",
   "metadata": {},
   "outputs": [],
   "source": []
  },
  {
   "cell_type": "code",
   "execution_count": null,
   "id": "8397567e-5127-40d4-96a8-8c8f52c95175",
   "metadata": {},
   "outputs": [],
   "source": []
  },
  {
   "cell_type": "code",
   "execution_count": null,
   "id": "2473a761-a6a9-4559-84ad-54cd63664345",
   "metadata": {},
   "outputs": [],
   "source": []
  },
  {
   "cell_type": "code",
   "execution_count": null,
   "id": "0fde4c1e-f578-490b-8fc1-d7bbb9e324e9",
   "metadata": {},
   "outputs": [],
   "source": []
  },
  {
   "cell_type": "code",
   "execution_count": null,
   "id": "3bb33bed-19d0-42ef-afa2-eccfa5709f7d",
   "metadata": {},
   "outputs": [],
   "source": []
  },
  {
   "cell_type": "code",
   "execution_count": null,
   "id": "600cf1db-0908-4fed-8301-74b7a5a63245",
   "metadata": {},
   "outputs": [],
   "source": []
  },
  {
   "cell_type": "code",
   "execution_count": null,
   "id": "9c2cead2-215a-4480-a0c9-6f26bead2689",
   "metadata": {},
   "outputs": [],
   "source": []
  },
  {
   "cell_type": "code",
   "execution_count": null,
   "id": "4d8a0674-dcd2-4ff1-a5ab-0e20f0f1b341",
   "metadata": {},
   "outputs": [],
   "source": []
  },
  {
   "cell_type": "code",
   "execution_count": null,
   "id": "8c73cfd4-6a18-460f-94df-5e241c4dadef",
   "metadata": {},
   "outputs": [],
   "source": []
  },
  {
   "cell_type": "code",
   "execution_count": null,
   "id": "195842b1-bde1-4f0d-a1ef-11987c98f841",
   "metadata": {},
   "outputs": [],
   "source": []
  },
  {
   "cell_type": "code",
   "execution_count": null,
   "id": "0e8d9b22-7a9c-4cbb-8f6b-b820e87acda9",
   "metadata": {},
   "outputs": [],
   "source": []
  },
  {
   "cell_type": "code",
   "execution_count": null,
   "id": "b06a219c-ccbd-403a-8dfd-89657594488c",
   "metadata": {},
   "outputs": [],
   "source": []
  },
  {
   "cell_type": "code",
   "execution_count": null,
   "id": "d506e871-56d3-4579-be46-deb0014fd172",
   "metadata": {},
   "outputs": [],
   "source": []
  },
  {
   "cell_type": "code",
   "execution_count": null,
   "id": "f75d6c5e-09ab-4b73-94e7-0ea77a77a641",
   "metadata": {},
   "outputs": [],
   "source": []
  },
  {
   "cell_type": "code",
   "execution_count": null,
   "id": "0057ce6e-ff67-4a72-a0c6-f8aff2201d8c",
   "metadata": {},
   "outputs": [],
   "source": []
  },
  {
   "cell_type": "code",
   "execution_count": null,
   "id": "03de9ee2-2ef3-4a9c-8c66-08b2205899e8",
   "metadata": {},
   "outputs": [],
   "source": []
  },
  {
   "cell_type": "code",
   "execution_count": null,
   "id": "14fddd08-3227-45cb-900f-e58b73ecba82",
   "metadata": {},
   "outputs": [],
   "source": []
  },
  {
   "cell_type": "code",
   "execution_count": null,
   "id": "77e7f211-e73f-4b30-a3c1-a255b142763e",
   "metadata": {},
   "outputs": [],
   "source": []
  },
  {
   "cell_type": "code",
   "execution_count": null,
   "id": "fa37216c-b61e-41a4-8411-77746ec2cd47",
   "metadata": {},
   "outputs": [],
   "source": []
  },
  {
   "cell_type": "code",
   "execution_count": null,
   "id": "f808e479-f36c-4e5b-ae98-b8b73a313181",
   "metadata": {},
   "outputs": [],
   "source": []
  },
  {
   "cell_type": "code",
   "execution_count": null,
   "id": "323e4fa6-5365-43bc-aaf7-32ebe9bc4900",
   "metadata": {},
   "outputs": [],
   "source": []
  },
  {
   "cell_type": "code",
   "execution_count": null,
   "id": "b2b99a75-d4ca-4478-96f8-66a16d31164a",
   "metadata": {},
   "outputs": [],
   "source": []
  },
  {
   "cell_type": "code",
   "execution_count": null,
   "id": "d522faf3-e0de-4b64-a92d-59401fbdd6b1",
   "metadata": {},
   "outputs": [],
   "source": []
  },
  {
   "cell_type": "code",
   "execution_count": null,
   "id": "ea7b195a-c479-4fae-bc53-35edb3f504c0",
   "metadata": {},
   "outputs": [],
   "source": []
  },
  {
   "cell_type": "code",
   "execution_count": null,
   "id": "124cf184-628d-4f53-8b10-4d88f2018f1b",
   "metadata": {},
   "outputs": [],
   "source": []
  },
  {
   "cell_type": "code",
   "execution_count": null,
   "id": "c52fb752-24b2-4fe6-b007-7ee8d462d799",
   "metadata": {},
   "outputs": [],
   "source": []
  },
  {
   "cell_type": "code",
   "execution_count": null,
   "id": "4294ebec-da55-41ed-8fde-e1f03224d11d",
   "metadata": {},
   "outputs": [],
   "source": []
  },
  {
   "cell_type": "code",
   "execution_count": null,
   "id": "757bd853-ed65-4cf4-ae2b-5cfde1bfd999",
   "metadata": {},
   "outputs": [],
   "source": []
  },
  {
   "cell_type": "code",
   "execution_count": null,
   "id": "f509cb48-6c6c-4eb2-8456-f92ea23cf45e",
   "metadata": {},
   "outputs": [],
   "source": []
  },
  {
   "cell_type": "code",
   "execution_count": null,
   "id": "d3c6665f-55d2-41b2-95cb-4e935d961c36",
   "metadata": {},
   "outputs": [],
   "source": []
  },
  {
   "cell_type": "code",
   "execution_count": null,
   "id": "27544b33-b9ad-440f-8a69-f8e0e1683caf",
   "metadata": {},
   "outputs": [],
   "source": []
  },
  {
   "cell_type": "code",
   "execution_count": null,
   "id": "6fd017d3-8ae7-4a01-af42-68e1449ada37",
   "metadata": {},
   "outputs": [],
   "source": []
  },
  {
   "cell_type": "code",
   "execution_count": null,
   "id": "460a3e89-1e41-4aaa-8853-9b3fc7cb8b4f",
   "metadata": {},
   "outputs": [],
   "source": []
  },
  {
   "cell_type": "code",
   "execution_count": null,
   "id": "a36e4a2d-f854-4d08-b3af-519e136ea80c",
   "metadata": {},
   "outputs": [],
   "source": []
  },
  {
   "cell_type": "code",
   "execution_count": null,
   "id": "f12658bb-fac6-4605-a440-46017edd604a",
   "metadata": {},
   "outputs": [],
   "source": []
  },
  {
   "cell_type": "code",
   "execution_count": null,
   "id": "406987cb-3036-40d6-b0ec-6cce2ce667ba",
   "metadata": {},
   "outputs": [],
   "source": []
  },
  {
   "cell_type": "code",
   "execution_count": null,
   "id": "05e41992-3404-4f91-8048-060ae83fa3fa",
   "metadata": {},
   "outputs": [],
   "source": []
  },
  {
   "cell_type": "code",
   "execution_count": null,
   "id": "84515232-7772-4558-ae45-4ba12bd766ca",
   "metadata": {},
   "outputs": [],
   "source": []
  },
  {
   "cell_type": "code",
   "execution_count": null,
   "id": "9a2712ea-6207-4b84-8d9f-994199f860ca",
   "metadata": {},
   "outputs": [],
   "source": []
  },
  {
   "cell_type": "code",
   "execution_count": null,
   "id": "760b930c-bc39-4365-bb9f-1340c3c586d2",
   "metadata": {},
   "outputs": [],
   "source": []
  },
  {
   "cell_type": "code",
   "execution_count": null,
   "id": "d6fe94fa-8ba0-4b49-9992-3cc395798e06",
   "metadata": {},
   "outputs": [],
   "source": []
  },
  {
   "cell_type": "code",
   "execution_count": null,
   "id": "7ab47be3-1325-451c-b244-df422657789a",
   "metadata": {},
   "outputs": [],
   "source": []
  },
  {
   "cell_type": "code",
   "execution_count": null,
   "id": "643db210-0730-4168-a5b6-4b1d2fffcf75",
   "metadata": {},
   "outputs": [],
   "source": []
  },
  {
   "cell_type": "code",
   "execution_count": null,
   "id": "2de42774-b225-44fb-b843-da1f9cfe71c6",
   "metadata": {},
   "outputs": [],
   "source": []
  }
 ],
 "metadata": {
  "kernelspec": {
   "display_name": "Python 3 (ipykernel)",
   "language": "python",
   "name": "python3"
  },
  "language_info": {
   "codemirror_mode": {
    "name": "ipython",
    "version": 3
   },
   "file_extension": ".py",
   "mimetype": "text/x-python",
   "name": "python",
   "nbconvert_exporter": "python",
   "pygments_lexer": "ipython3",
   "version": "3.11.7"
  }
 },
 "nbformat": 4,
 "nbformat_minor": 5
}
