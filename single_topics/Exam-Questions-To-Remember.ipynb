{
 "cells": [
  {
   "cell_type": "markdown",
   "id": "53ee094b-9359-4684-acac-f545072565d1",
   "metadata": {},
   "source": [
    "### Dictionaries"
   ]
  },
  {
   "cell_type": "code",
   "execution_count": null,
   "id": "29e273bd-6aac-4ebd-b78d-a1183b93f46a",
   "metadata": {},
   "outputs": [],
   "source": [
    "d = {1: \"one\", True: \"true\", 0: \"zero\", False: \"false\"}\n",
    "print(d[1], d[0])"
   ]
  },
  {
   "cell_type": "code",
   "execution_count": null,
   "id": "63161922-d813-456f-a55b-dfa6e190d8d9",
   "metadata": {},
   "outputs": [],
   "source": []
  },
  {
   "cell_type": "markdown",
   "id": "18b90290-de3a-489d-a189-7f84c7d96d32",
   "metadata": {},
   "source": [
    "### Conditional Blocks"
   ]
  },
  {
   "cell_type": "code",
   "execution_count": null,
   "id": "9cc32a6f-8a1a-4665-a03e-9f469aabcf63",
   "metadata": {},
   "outputs": [],
   "source": [
    "x, y, z = 3, 4, 5\n",
    "if x or y and not z:\n",
    "    print(\"Condition A\")\n",
    "elif not (x and y) or z:\n",
    "    print(\"Condition B\")\n",
    "else:\n",
    "    print(\"Condition C\")\n",
    "\n"
   ]
  },
  {
   "cell_type": "markdown",
   "id": "6ba3f967-f6bc-4274-b3a7-88bede8b7a81",
   "metadata": {},
   "source": [
    "### Loops"
   ]
  },
  {
   "cell_type": "code",
   "execution_count": null,
   "id": "33c5acc1-12a5-4c46-b10b-6f803666cbdc",
   "metadata": {},
   "outputs": [],
   "source": [
    "for x in range(1, 6):\n",
    "    for y in range(2, 4):   \n",
    "        if x % y == 0:\n",
    "            break\n",
    "    else:\n",
    "        print(x, end=\" \")"
   ]
  },
  {
   "cell_type": "code",
   "execution_count": null,
   "id": "ae9be301-2610-486c-9853-00a927847b92",
   "metadata": {},
   "outputs": [],
   "source": [
    "count = 0\n",
    "for i in range(5):\n",
    "    for j in range(i, 5):\n",
    "        count += 1\n",
    "print(count)"
   ]
  },
  {
   "cell_type": "code",
   "execution_count": null,
   "id": "c5a4e95b-32f2-4ebc-b125-fdbaa5e3715a",
   "metadata": {},
   "outputs": [],
   "source": [
    "for i in range(1, 6, 2):\n",
    "    for j in range(i):\n",
    "        print(j, end=\" \")\n",
    "    print()"
   ]
  },
  {
   "cell_type": "code",
   "execution_count": null,
   "id": "0a5f0ec2-7f60-4941-a90e-5414e52e6255",
   "metadata": {},
   "outputs": [],
   "source": [
    "for x in range(3):\n",
    "    for y in range(2):\n",
    "        if x == y:\n",
    "            break\n",
    "    else:\n",
    "        print(x, end=\" \")\n"
   ]
  },
  {
   "cell_type": "code",
   "execution_count": null,
   "id": "9fa8b29c-9527-4f50-b9ca-0d324ecfe3c1",
   "metadata": {},
   "outputs": [],
   "source": []
  },
  {
   "cell_type": "code",
   "execution_count": null,
   "id": "29726ddc-e90c-4c42-905c-430a8528a067",
   "metadata": {},
   "outputs": [],
   "source": []
  },
  {
   "cell_type": "code",
   "execution_count": null,
   "id": "cc634204-5fce-4493-b05a-a408ef978d43",
   "metadata": {},
   "outputs": [],
   "source": []
  },
  {
   "cell_type": "code",
   "execution_count": null,
   "id": "ba635708-b9db-4cdf-94ff-4b77f2e522d8",
   "metadata": {},
   "outputs": [],
   "source": []
  },
  {
   "cell_type": "code",
   "execution_count": null,
   "id": "1904016b-e331-48c0-9a40-20ea461f165a",
   "metadata": {},
   "outputs": [],
   "source": []
  },
  {
   "cell_type": "markdown",
   "id": "6e15320e-533e-480b-8223-472687476647",
   "metadata": {},
   "source": [
    "### Tuple Unpacking"
   ]
  },
  {
   "cell_type": "code",
   "execution_count": null,
   "id": "e1e4dc6e-f87b-484d-aa43-ad5362c6e46d",
   "metadata": {},
   "outputs": [],
   "source": [
    "def func(a, b, c):\n",
    "    return a + b + c\n",
    "\n",
    "t = (1, 2, 3)\n",
    "print(func(*t))"
   ]
  },
  {
   "cell_type": "code",
   "execution_count": null,
   "id": "b2771547-1838-42fb-8e46-18971ea25f99",
   "metadata": {},
   "outputs": [],
   "source": []
  },
  {
   "cell_type": "markdown",
   "id": "8d7b4970-eca7-4a82-a715-99023bb97008",
   "metadata": {},
   "source": [
    "### Recursion"
   ]
  },
  {
   "cell_type": "code",
   "execution_count": null,
   "id": "585702bc-e9f8-41aa-9bfa-948df142befc",
   "metadata": {},
   "outputs": [],
   "source": [
    "def mystery_function(n):\n",
    "    if n == 0:\n",
    "        return 1\n",
    "    return n * mystery_function(n - 2)\n",
    "\n",
    "print(mystery_function(5))"
   ]
  },
  {
   "cell_type": "code",
   "execution_count": null,
   "id": "eff8688d-97df-43aa-bbd3-e0d98314e57f",
   "metadata": {},
   "outputs": [],
   "source": [
    "def mystery(n):\n",
    "    if n < 1:\n",
    "        return 0\n",
    "    return n + mystery(n // 2)\n",
    "\n",
    "print(mystery(10))"
   ]
  },
  {
   "cell_type": "markdown",
   "id": "1e4efecf-aff4-4be8-9385-2b6e47ccf9e9",
   "metadata": {},
   "source": [
    "### Exception Handling"
   ]
  },
  {
   "cell_type": "code",
   "execution_count": null,
   "id": "8f16a3f2-9c9f-4602-bfbb-3e7dfbe45677",
   "metadata": {},
   "outputs": [],
   "source": [
    "def divide(x, y):\n",
    "    try:\n",
    "        return x / y\n",
    "    except ZeroDivisionError:\n",
    "        print(\"Cannot divide by zero\")\n",
    "    finally:\n",
    "        print(\"Execution finished\")\n",
    "\n",
    "print(divide(10, 0))"
   ]
  },
  {
   "cell_type": "markdown",
   "id": "51e71c92-3fd1-4bee-8d52-ecd05d5c61e8",
   "metadata": {},
   "source": [
    "### Mutability & Closures"
   ]
  },
  {
   "cell_type": "code",
   "execution_count": null,
   "id": "6846be38-91da-40e3-abdb-1bd9a01a85ea",
   "metadata": {},
   "outputs": [],
   "source": [
    "def factory(n):\n",
    "    def inner(x):\n",
    "        return n + x\n",
    "    return inner\n",
    "\n",
    "f1 = factory(5)\n",
    "f2 = factory(10)\n",
    "\n",
    "print(f1(2), f2(2))"
   ]
  },
  {
   "cell_type": "code",
   "execution_count": 14,
   "id": "1435401e-8982-4433-88b9-02218c731c31",
   "metadata": {},
   "outputs": [
    {
     "name": "stdout",
     "output_type": "stream",
     "text": [
      "[1]\n",
      "[1, 2]\n",
      "[1, 2, 3]\n"
     ]
    }
   ],
   "source": [
    "def f(x, y=[]):\n",
    "    y.append(x)\n",
    "    return y\n",
    "\n",
    "print(f(1))  # First call\n",
    "print(f(2))  # Second call\n",
    "print(f(3))"
   ]
  },
  {
   "cell_type": "code",
   "execution_count": 17,
   "id": "6b5db669-5849-4904-9125-d62022b39ac7",
   "metadata": {},
   "outputs": [
    {
     "ename": "SyntaxError",
     "evalue": "invalid decimal literal (4152366610.py, line 1)",
     "output_type": "error",
     "traceback": [
      "\u001b[0;36m  Cell \u001b[0;32mIn[17], line 1\u001b[0;36m\u001b[0m\n\u001b[0;31m    10variable = \"invalid\"\u001b[0m\n\u001b[0m     ^\u001b[0m\n\u001b[0;31mSyntaxError\u001b[0m\u001b[0;31m:\u001b[0m invalid decimal literal\n"
     ]
    }
   ],
   "source": [
    "10variable = \"invalid\"\n"
   ]
  },
  {
   "cell_type": "code",
   "execution_count": 18,
   "id": "ebd86487-5bdb-43f6-85f4-0146c4f0fec1",
   "metadata": {},
   "outputs": [
    {
     "ename": "SyntaxError",
     "evalue": "expected ':' (3116653666.py, line 1)",
     "output_type": "error",
     "traceback": [
      "\u001b[0;36m  Cell \u001b[0;32mIn[18], line 1\u001b[0;36m\u001b[0m\n\u001b[0;31m    if True\u001b[0m\n\u001b[0m           ^\u001b[0m\n\u001b[0;31mSyntaxError\u001b[0m\u001b[0;31m:\u001b[0m expected ':'\n"
     ]
    }
   ],
   "source": [
    "if True\n",
    "    print(\"Yes\")\n"
   ]
  },
  {
   "cell_type": "code",
   "execution_count": null,
   "id": "7582fd19-abfc-4667-95f4-01bca300195b",
   "metadata": {},
   "outputs": [],
   "source": []
  },
  {
   "cell_type": "code",
   "execution_count": null,
   "id": "19789e13-b3f6-4732-863c-8858634cd13b",
   "metadata": {},
   "outputs": [],
   "source": []
  },
  {
   "cell_type": "code",
   "execution_count": null,
   "id": "33131e64-e584-4c11-a075-0e5a59983eff",
   "metadata": {},
   "outputs": [],
   "source": []
  }
 ],
 "metadata": {
  "kernelspec": {
   "display_name": "Python 3 (ipykernel)",
   "language": "python",
   "name": "python3"
  },
  "language_info": {
   "codemirror_mode": {
    "name": "ipython",
    "version": 3
   },
   "file_extension": ".py",
   "mimetype": "text/x-python",
   "name": "python",
   "nbconvert_exporter": "python",
   "pygments_lexer": "ipython3",
   "version": "3.10.13"
  }
 },
 "nbformat": 4,
 "nbformat_minor": 5
}
