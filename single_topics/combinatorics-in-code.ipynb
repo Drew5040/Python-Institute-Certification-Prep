{
 "cells": [
  {
   "cell_type": "code",
   "execution_count": 1,
   "id": "9f0a4fcf-d8a4-45e0-9659-c110c08f52d2",
   "metadata": {},
   "outputs": [
    {
     "name": "stdout",
     "output_type": "stream",
     "text": [
      "Collecting more-itertools\n",
      "  Downloading more_itertools-10.2.0-py3-none-any.whl.metadata (34 kB)\n",
      "Downloading more_itertools-10.2.0-py3-none-any.whl (57 kB)\n",
      "   ---------------------------------------- 0.0/57.0 kB ? eta -:--:--\n",
      "   ---------------------------------------- 57.0/57.0 kB 1.5 MB/s eta 0:00:00\n",
      "Installing collected packages: more-itertools\n",
      "Successfully installed more-itertools-10.2.0\n"
     ]
    }
   ],
   "source": [
    "!pip install more-itertools"
   ]
  },
  {
   "cell_type": "code",
   "execution_count": 4,
   "id": "aa8c1f24-57c1-4011-859c-654c7148d67b",
   "metadata": {},
   "outputs": [],
   "source": [
    "import itertools as it"
   ]
  },
  {
   "cell_type": "code",
   "execution_count": 11,
   "id": "faa61366-aa88-4fc7-baf1-4d362e87ebfd",
   "metadata": {},
   "outputs": [
    {
     "name": "stdout",
     "output_type": "stream",
     "text": [
      "('a', 'b', 'c')\n",
      "('a', 'c', 'b')\n",
      "('b', 'a', 'c')\n",
      "('b', 'c', 'a')\n",
      "('c', 'a', 'b')\n",
      "('c', 'b', 'a')\n"
     ]
    }
   ],
   "source": [
    "# Permutations\n",
    "items = ['a', 'b', 'c']\n",
    "perms = it.permutations(items)\n",
    "for perm in perms:\n",
    "    print(perm)"
   ]
  },
  {
   "cell_type": "code",
   "execution_count": 8,
   "id": "1886594a-e6fa-4c63-a9e8-185c35aeea7a",
   "metadata": {},
   "outputs": [
    {
     "name": "stdout",
     "output_type": "stream",
     "text": [
      "('a', 'b')\n",
      "('a', 'c')\n",
      "('b', 'c')\n"
     ]
    }
   ],
   "source": [
    "# Combinations\n",
    "combos = it.combinations(items, 2)\n",
    "for combo in combos:\n",
    "    print(combo)"
   ]
  },
  {
   "cell_type": "code",
   "execution_count": 12,
   "id": "86d41cd4-eb25-4a9a-8681-c44f745c4ea8",
   "metadata": {},
   "outputs": [
    {
     "name": "stdout",
     "output_type": "stream",
     "text": [
      "('a', 1)\n",
      "('a', 2)\n",
      "('a', 3)\n",
      "('a', 4)\n",
      "('a', 5)\n",
      "('b', 1)\n",
      "('b', 2)\n",
      "('b', 3)\n",
      "('b', 4)\n",
      "('b', 5)\n",
      "('c', 1)\n",
      "('c', 2)\n",
      "('c', 3)\n",
      "('c', 4)\n",
      "('c', 5)\n"
     ]
    }
   ],
   "source": [
    "# Cartesian Product\n",
    "nums = [1, 2, 3, 4, 5]\n",
    "prod = it.product(items, nums)\n",
    "for p in prod:\n",
    "    print(p)"
   ]
  },
  {
   "cell_type": "code",
   "execution_count": 18,
   "id": "f61f056b-eae1-4600-911b-c55a1e7d20d2",
   "metadata": {},
   "outputs": [
    {
     "name": "stdout",
     "output_type": "stream",
     "text": [
      "['b', 'c']\n",
      "['c']\n",
      "[]\n",
      "[[]]\n",
      "[[], ['c']]\n",
      "[[], ['c'], ['b'], ['b', 'c']]\n"
     ]
    },
    {
     "data": {
      "text/plain": [
       "[[], ['c'], ['b'], ['b', 'c'], ['a'], ['a', 'c'], ['a', 'b'], ['a', 'b', 'c']]"
      ]
     },
     "execution_count": 18,
     "metadata": {},
     "output_type": "execute_result"
    }
   ],
   "source": [
    "# Recursive subsets\n",
    "\n",
    "def generate_subsets(s):\n",
    "    if len(s) == 0:\n",
    "        return [[]]\n",
    "    print(s[1:])\n",
    "    subsets = generate_subsets(s[1:])\n",
    "    print(subsets)\n",
    "    return subsets + [[s[0]] + subset for subset in subsets]\n",
    "\n",
    "items = ['a', 'b', 'c']\n",
    "subsets = generate_subsets(items)\n",
    "subsets"
   ]
  },
  {
   "cell_type": "code",
   "execution_count": 14,
   "id": "cf2547ad-e812-457f-9c8c-1508dd19acb2",
   "metadata": {},
   "outputs": [
    {
     "name": "stdout",
     "output_type": "stream",
     "text": [
      "(1, 2, 3)\n",
      "(1, 3, 2)\n",
      "(2, 1, 3)\n",
      "(2, 3, 1)\n",
      "(3, 1, 2)\n",
      "(3, 2, 1)\n"
     ]
    }
   ],
   "source": [
    "import more_itertools as mit\n",
    "# Distinct permutations\n",
    "\n",
    "items = [1, 2, 3]\n",
    "d_perms = mit.distinct_permutations(items)\n",
    "for p in d_perms:\n",
    "    print(p)"
   ]
  },
  {
   "cell_type": "code",
   "execution_count": null,
   "id": "132b464e-8a8e-436a-b4a4-66c259e2856f",
   "metadata": {},
   "outputs": [],
   "source": []
  },
  {
   "cell_type": "code",
   "execution_count": null,
   "id": "00855c75-e7b4-43b6-b9e4-163ffe3475d8",
   "metadata": {},
   "outputs": [],
   "source": []
  },
  {
   "cell_type": "code",
   "execution_count": null,
   "id": "4d7ffc59-f9d8-4231-9a60-5a1c90827309",
   "metadata": {},
   "outputs": [],
   "source": []
  },
  {
   "cell_type": "code",
   "execution_count": null,
   "id": "2a8422f1-3a16-43d4-8273-028132ba19c1",
   "metadata": {},
   "outputs": [],
   "source": []
  },
  {
   "cell_type": "code",
   "execution_count": null,
   "id": "aeca96c0-9e78-47f3-9081-471cca5c4cf2",
   "metadata": {},
   "outputs": [],
   "source": []
  },
  {
   "cell_type": "code",
   "execution_count": null,
   "id": "19f33c70-fc51-48cb-b880-59b07634a262",
   "metadata": {},
   "outputs": [],
   "source": []
  },
  {
   "cell_type": "code",
   "execution_count": null,
   "id": "52709d40-0c6b-4272-b6e6-cfdac52c5b78",
   "metadata": {},
   "outputs": [],
   "source": []
  },
  {
   "cell_type": "code",
   "execution_count": null,
   "id": "b955e05c-022f-4275-bc97-73a9435c8b9e",
   "metadata": {},
   "outputs": [],
   "source": []
  },
  {
   "cell_type": "code",
   "execution_count": null,
   "id": "422de212-9521-48a5-9e44-b0fc38aa411a",
   "metadata": {},
   "outputs": [],
   "source": []
  },
  {
   "cell_type": "code",
   "execution_count": null,
   "id": "29d25ba4-9888-42a7-a050-91aa098cac0d",
   "metadata": {},
   "outputs": [],
   "source": []
  },
  {
   "cell_type": "code",
   "execution_count": null,
   "id": "f846bd0a-4f08-463d-9b5a-49794bf743fb",
   "metadata": {},
   "outputs": [],
   "source": []
  },
  {
   "cell_type": "code",
   "execution_count": null,
   "id": "9ab064a9-a82f-4b0c-afbd-a634630b913c",
   "metadata": {},
   "outputs": [],
   "source": []
  },
  {
   "cell_type": "code",
   "execution_count": null,
   "id": "81fe05fc-f304-49a4-ac9f-4e3237104b34",
   "metadata": {},
   "outputs": [],
   "source": []
  },
  {
   "cell_type": "code",
   "execution_count": null,
   "id": "d9e5954f-3707-49df-bef7-141308099a41",
   "metadata": {},
   "outputs": [],
   "source": []
  },
  {
   "cell_type": "code",
   "execution_count": null,
   "id": "1310c19d-ecbb-4347-b530-567794465a23",
   "metadata": {},
   "outputs": [],
   "source": []
  },
  {
   "cell_type": "code",
   "execution_count": null,
   "id": "a153a90b-60fb-4c50-8736-621a29809c96",
   "metadata": {},
   "outputs": [],
   "source": []
  },
  {
   "cell_type": "code",
   "execution_count": null,
   "id": "d409eb44-58d9-4a32-8841-33cf242542ca",
   "metadata": {},
   "outputs": [],
   "source": []
  },
  {
   "cell_type": "code",
   "execution_count": null,
   "id": "be07a3aa-92e0-4724-abe0-f8ad420f1626",
   "metadata": {},
   "outputs": [],
   "source": []
  },
  {
   "cell_type": "code",
   "execution_count": null,
   "id": "8c01db59-a3b4-4da2-aa89-489a8cc2daed",
   "metadata": {},
   "outputs": [],
   "source": []
  },
  {
   "cell_type": "code",
   "execution_count": null,
   "id": "84761d7f-6881-4dd6-875c-4f6e699a13ce",
   "metadata": {},
   "outputs": [],
   "source": []
  },
  {
   "cell_type": "code",
   "execution_count": null,
   "id": "85b5a33b-7c06-4c9c-b3b9-c9e727abd9fd",
   "metadata": {},
   "outputs": [],
   "source": []
  },
  {
   "cell_type": "code",
   "execution_count": null,
   "id": "0d5f2ae4-52f9-479a-9dd6-4f6236bd609e",
   "metadata": {},
   "outputs": [],
   "source": []
  },
  {
   "cell_type": "code",
   "execution_count": null,
   "id": "2759f861-d1af-4921-87c4-ddf29509d6e6",
   "metadata": {},
   "outputs": [],
   "source": []
  },
  {
   "cell_type": "code",
   "execution_count": null,
   "id": "e5f83c61-600f-436f-90ac-db38494527d5",
   "metadata": {},
   "outputs": [],
   "source": []
  },
  {
   "cell_type": "code",
   "execution_count": null,
   "id": "1fd3c737-e011-4c8e-8c46-79aafc7d2947",
   "metadata": {},
   "outputs": [],
   "source": []
  },
  {
   "cell_type": "code",
   "execution_count": null,
   "id": "b210fe7b-72d4-4a5d-bc91-24431e7f4c2b",
   "metadata": {},
   "outputs": [],
   "source": []
  },
  {
   "cell_type": "code",
   "execution_count": null,
   "id": "e0170fc5-4a1d-4292-8796-12e5253d6c6c",
   "metadata": {},
   "outputs": [],
   "source": []
  },
  {
   "cell_type": "code",
   "execution_count": null,
   "id": "04646676-d424-4185-b4e2-287ca23d91e6",
   "metadata": {},
   "outputs": [],
   "source": []
  },
  {
   "cell_type": "code",
   "execution_count": null,
   "id": "1010c0ae-bc49-40b3-8b3a-00da27348dba",
   "metadata": {},
   "outputs": [],
   "source": []
  },
  {
   "cell_type": "code",
   "execution_count": null,
   "id": "2259b43e-78c1-40b6-9dc0-cac7a5ad6b37",
   "metadata": {},
   "outputs": [],
   "source": []
  },
  {
   "cell_type": "code",
   "execution_count": null,
   "id": "08069549-decd-4a2e-b334-d7fb9cd2a7cc",
   "metadata": {},
   "outputs": [],
   "source": []
  },
  {
   "cell_type": "code",
   "execution_count": null,
   "id": "aa6f65ab-14ee-4388-a3c9-1129d7a3b0ad",
   "metadata": {},
   "outputs": [],
   "source": []
  },
  {
   "cell_type": "code",
   "execution_count": null,
   "id": "dd13eed3-ce2b-4bdb-9d0f-04bd706f0dbe",
   "metadata": {},
   "outputs": [],
   "source": []
  },
  {
   "cell_type": "code",
   "execution_count": null,
   "id": "60cd3e0a-d2b9-4811-88f8-f986603c89ac",
   "metadata": {},
   "outputs": [],
   "source": []
  },
  {
   "cell_type": "code",
   "execution_count": null,
   "id": "19546728-efe9-4950-b84f-d409e0413cff",
   "metadata": {},
   "outputs": [],
   "source": []
  },
  {
   "cell_type": "code",
   "execution_count": null,
   "id": "d74cefdc-83e6-4697-be0a-3d5699491696",
   "metadata": {},
   "outputs": [],
   "source": []
  },
  {
   "cell_type": "code",
   "execution_count": null,
   "id": "243828fd-c7c2-4d36-9b92-96718a6b2e0b",
   "metadata": {},
   "outputs": [],
   "source": []
  },
  {
   "cell_type": "code",
   "execution_count": null,
   "id": "8e8145f5-afdb-4de7-ad4b-9d06388959ce",
   "metadata": {},
   "outputs": [],
   "source": []
  },
  {
   "cell_type": "code",
   "execution_count": null,
   "id": "2297f667-7030-4263-a20c-b8d0014076c5",
   "metadata": {},
   "outputs": [],
   "source": []
  },
  {
   "cell_type": "code",
   "execution_count": null,
   "id": "f3e7ed18-2c9e-48fc-b428-7fc2a12a0a84",
   "metadata": {},
   "outputs": [],
   "source": []
  },
  {
   "cell_type": "code",
   "execution_count": null,
   "id": "3d3c6e58-156a-4513-86ca-00c59ff12846",
   "metadata": {},
   "outputs": [],
   "source": []
  },
  {
   "cell_type": "code",
   "execution_count": null,
   "id": "f6b03837-ef2e-4611-8869-186c1932c2f1",
   "metadata": {},
   "outputs": [],
   "source": []
  },
  {
   "cell_type": "code",
   "execution_count": null,
   "id": "5d188846-b7e2-429e-ab2c-db6cee6283b1",
   "metadata": {},
   "outputs": [],
   "source": []
  }
 ],
 "metadata": {
  "kernelspec": {
   "display_name": "Python 3 (ipykernel)",
   "language": "python",
   "name": "python3"
  },
  "language_info": {
   "codemirror_mode": {
    "name": "ipython",
    "version": 3
   },
   "file_extension": ".py",
   "mimetype": "text/x-python",
   "name": "python",
   "nbconvert_exporter": "python",
   "pygments_lexer": "ipython3",
   "version": "3.11.7"
  }
 },
 "nbformat": 4,
 "nbformat_minor": 5
}
