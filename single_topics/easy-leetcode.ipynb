{
 "cells": [
  {
   "cell_type": "code",
   "execution_count": null,
   "id": "5a860e6c-9ee6-4270-829e-4e223d161119",
   "metadata": {},
   "outputs": [],
   "source": [
    "\n",
    "\n",
    " "
   ]
  },
  {
   "cell_type": "code",
   "execution_count": 1,
   "id": "df206833-39ac-4850-a45b-59adbb04d379",
   "metadata": {},
   "outputs": [
    {
     "name": "stdout",
     "output_type": "stream",
     "text": [
      "['__add__', '__class__', '__class_getitem__', '__contains__', '__delattr__', '__delitem__', '__dir__', '__doc__', '__eq__', '__format__', '__ge__', '__getattribute__', '__getitem__', '__getstate__', '__gt__', '__hash__', '__iadd__', '__imul__', '__init__', '__init_subclass__', '__iter__', '__le__', '__len__', '__lt__', '__mul__', '__ne__', '__new__', '__reduce__', '__reduce_ex__', '__repr__', '__reversed__', '__rmul__', '__setattr__', '__setitem__', '__sizeof__', '__str__', '__subclasshook__', 'append', 'clear', 'copy', 'count', 'extend', 'index', 'insert', 'pop', 'remove', 'reverse', 'sort']\n"
     ]
    }
   ],
   "source": [
    "\n",
    "print(dir(list))"
   ]
  },
  {
   "cell_type": "code",
   "execution_count": 22,
   "id": "4b33b795-6ed5-4dfb-af62-bcf6a4a0879b",
   "metadata": {},
   "outputs": [
    {
     "name": "stdout",
     "output_type": "stream",
     "text": [
      "0 l\n"
     ]
    },
    {
     "data": {
      "text/plain": [
       "0"
      ]
     },
     "execution_count": 22,
     "metadata": {},
     "output_type": "execute_result"
    }
   ],
   "source": [
    "\n",
    "# Given a string s, find the first non-repeating character in it and return its index. If it does not exist, return -1.\n",
    "\n",
    "s = 'leetcode'\n",
    "\n",
    "def first_non_repeat(s):\n",
    "    char_count = {}\n",
    "    for char in s:\n",
    "        if char in char_count:\n",
    "            char_count[char] += 1\n",
    "        else:\n",
    "            char_count[char] = 1\n",
    "    for index, char in enumerate(s):\n",
    "        if char_count[char] == 1:\n",
    "            return index\n",
    "    return -1\n",
    "\n",
    "\n",
    "first_non_repeat(s)\n",
    "    "
   ]
  },
  {
   "cell_type": "code",
   "execution_count": 26,
   "id": "07c382f2-7c27-409a-adaa-25e09b1c6880",
   "metadata": {},
   "outputs": [
    {
     "data": {
      "text/plain": [
       "False"
      ]
     },
     "execution_count": 26,
     "metadata": {},
     "output_type": "execute_result"
    }
   ],
   "source": [
    "# Given two strings s and t, return true if t is an anagram of s, and false otherwise.\n",
    "\n",
    "# An Anagram is a word or phrase formed by rearranging the letters of a different word or phrase, \n",
    "# typically using all the original letters exactly once.\n",
    "\n",
    "# Example:\n",
    "\n",
    "# Input: s = \"anagram\", t = \"nagaram\"\n",
    "# Output: true\n",
    "\n",
    "# Input: s = \"rat\", t = \"car\"\n",
    "# Output: false\n",
    "\n",
    "\n",
    "s = 'rat'\n",
    "t = 'car'\n",
    "\n",
    "def valid_anagram(s, t):\n",
    "    s = sorted(s)\n",
    "    t = sorted(t)\n",
    "    if s == t:\n",
    "        return True\n",
    "    return False\n",
    "\n",
    "\n",
    "valid_anagram(s, t)"
   ]
  },
  {
   "cell_type": "code",
   "execution_count": 99,
   "id": "ba4a3e62-26f9-4be9-acea-44a8809da4e2",
   "metadata": {},
   "outputs": [
    {
     "name": "stdout",
     "output_type": "stream",
     "text": [
      "amanaplanacanalpanama amanaplanacanalpanama\n"
     ]
    },
    {
     "data": {
      "text/plain": [
       "True"
      ]
     },
     "execution_count": 99,
     "metadata": {},
     "output_type": "execute_result"
    }
   ],
   "source": [
    "import re\n",
    "\n",
    "# A phrase is a palindrome if, after converting all uppercase letters into lowercase letters and removing all non-alphanumeric characters, \n",
    "# it reads the same forward and backward. Alphanumeric characters include letters and numbers.\n",
    "\n",
    "# Given a string s, return true if it is a palindrome, or false otherwise.\n",
    "\n",
    "s = \"A man, a plan, a canal: Panama\"\n",
    "\n",
    "def valid_palindrome(s):\n",
    "    s = s.lower()\n",
    "    pattern = r'[^a-zA-Z0-9]'\n",
    "    rep = re.sub(pattern, '', s)\n",
    "    print(rep, rep[::-1])\n",
    "    if rep == rep[::-1]:\n",
    "        return True\n",
    "    return False\n",
    "\n",
    "valid_palindrome(s)"
   ]
  },
  {
   "cell_type": "code",
   "execution_count": null,
   "id": "f3a29520-2d71-49b2-a6fb-9c2e63a10edc",
   "metadata": {},
   "outputs": [],
   "source": [
    "# The algorithm for myAtoi(string s) is as follows:\n",
    "\n",
    "# Read in and ignore any leading whitespace.\n",
    "# Check if the next character (if not already at the end of the string) is '-' or '+'. Read this character in if it is either. This determines if the\n",
    "# final result is negative or positive respectively. Assume the result is positive if neither is present.\n",
    "\n",
    "# Read in next the characters until the next non-digit character or the end of the input is reached. The rest of the string is ignored.\n",
    "# Convert these digits into an integer (i.e. \"123\" -> 123, \"0032\" -> 32). If no digits were read, then the integer is 0. Change the sign as \n",
    "# necessary (from step 2).\n",
    "\n",
    "# If the integer is out of the 32-bit signed integer range [-231, 231 - 1], then clamp the integer so that it remains in the range. Specifically, integers less than -231 should be clamped to -231, and integers greater than 231 - 1 should be clamped to 231 - 1.\n",
    "# Return the integer as the final result.\n",
    "\n",
    "# Note:\n",
    "# Only the space character ' ' is considered a whitespace character.\n",
    "# Do not ignore any characters other than the leading whitespace or the rest of the string after the digits."
   ]
  },
  {
   "cell_type": "code",
   "execution_count": 102,
   "id": "9f0196d7-d0df-4bba-b7e0-f2b638d4eac9",
   "metadata": {},
   "outputs": [
    {
     "name": "stdout",
     "output_type": "stream",
     "text": [
      "-42\n",
      "4193\n",
      "0\n"
     ]
    }
   ],
   "source": [
    "def myAtoi(s):\n",
    "    s = s.strip()  # Remove leading whitespace\n",
    "    if not s:\n",
    "        return 0\n",
    "\n",
    "    # Check for sign\n",
    "    sign = -1 if s[0] == '-' else 1\n",
    "    if s[0] in ['-', '+']:\n",
    "        s = s[1:]\n",
    "\n",
    "    result = 0\n",
    "    for char in s:\n",
    "        if char.isdigit():\n",
    "            result = result * 10 + int(char)\n",
    "        else:\n",
    "            break  # Stop at the first non-numeric character\n",
    "\n",
    "    # Apply sign and handle range\n",
    "    result *= sign\n",
    "    result = max(-2**31, min(result, 2**31 - 1))\n",
    "\n",
    "    return result\n",
    "\n",
    "# Example usage\n",
    "print(myAtoi(\"   -42\"))  # Output: -42\n",
    "print(myAtoi(\"4193 with words\"))  # Output: 4193\n",
    "print(myAtoi(\"words and 987\"))  # Output: 0"
   ]
  },
  {
   "cell_type": "code",
   "execution_count": null,
   "id": "c9d777b3-9f4d-4ec1-941b-74068364c642",
   "metadata": {},
   "outputs": [],
   "source": [
    "# Given two strings needle and haystack, return the index of the first occurrence of needle in haystack, or -1 if needle is not part of haystack.\n",
    "\n",
    "# Examples: \n",
    "\n",
    "# Input: haystack = \"sadbutsad\", needle = \"sad\"\n",
    "# Output: 0\n",
    "# Explanation: \"sad\" occurs at index 0 and 6.\n",
    "# The first occurrence is at index 0, so we return 0\n",
    "\n",
    "# Input: haystack = \"leetcode\", needle = \"leeto\"\n",
    "# Output: -1\n",
    "# Explanation: \"leeto\" did not occur in \"leetcode\", so we return -1.\n",
    " "
   ]
  },
  {
   "cell_type": "code",
   "execution_count": 103,
   "id": "1c04f1b8-7399-45e5-9614-7a27a334fe6f",
   "metadata": {},
   "outputs": [
    {
     "name": "stdout",
     "output_type": "stream",
     "text": [
      "['__add__', '__class__', '__contains__', '__delattr__', '__dir__', '__doc__', '__eq__', '__format__', '__ge__', '__getattribute__', '__getitem__', '__getnewargs__', '__getstate__', '__gt__', '__hash__', '__init__', '__init_subclass__', '__iter__', '__le__', '__len__', '__lt__', '__mod__', '__mul__', '__ne__', '__new__', '__reduce__', '__reduce_ex__', '__repr__', '__rmod__', '__rmul__', '__setattr__', '__sizeof__', '__str__', '__subclasshook__', 'capitalize', 'casefold', 'center', 'count', 'encode', 'endswith', 'expandtabs', 'find', 'format', 'format_map', 'index', 'isalnum', 'isalpha', 'isascii', 'isdecimal', 'isdigit', 'isidentifier', 'islower', 'isnumeric', 'isprintable', 'isspace', 'istitle', 'isupper', 'join', 'ljust', 'lower', 'lstrip', 'maketrans', 'partition', 'removeprefix', 'removesuffix', 'replace', 'rfind', 'rindex', 'rjust', 'rpartition', 'rsplit', 'rstrip', 'split', 'splitlines', 'startswith', 'strip', 'swapcase', 'title', 'translate', 'upper', 'zfill']\n"
     ]
    }
   ],
   "source": [
    "print(dir(str))"
   ]
  },
  {
   "cell_type": "code",
   "execution_count": 106,
   "id": "579db8ce-33e7-42bb-9033-f0684b0f6006",
   "metadata": {},
   "outputs": [
    {
     "data": {
      "text/plain": [
       "-1"
      ]
     },
     "execution_count": 106,
     "metadata": {},
     "output_type": "execute_result"
    }
   ],
   "source": [
    "haystack = 'leetcode'\n",
    "needle = 'leeto'\n",
    "\n",
    "def needle_haystack(h, n):\n",
    "    \n",
    "    index = h.find(n)\n",
    "    if index > -1:\n",
    "        return index\n",
    "    else:\n",
    "        return -1"
   ]
  },
  {
   "cell_type": "code",
   "execution_count": null,
   "id": "f9caf38e-d105-4469-8c75-e6d4e99150f4",
   "metadata": {},
   "outputs": [],
   "source": [
    "# Write a function to find the longest common prefix string amongst an array of strings.\n",
    "# If there is no common prefix, return an empty string \"\".\n",
    "\n",
    "# Examples: \n",
    "\n",
    "# Input: strs = [\"flower\",\"flow\",\"flight\"]\n",
    "# Output: \"fl\"\n",
    "\n",
    "# Input: strs = [\"dog\",\"racecar\",\"car\"]\n",
    "# Output: \"\"\n",
    "# Explanation: There is no common prefix among the input strings."
   ]
  },
  {
   "cell_type": "code",
   "execution_count": 13,
   "id": "3cb48cf4-8f11-4971-b4e1-f4c97e05d948",
   "metadata": {},
   "outputs": [
    {
     "data": {
      "text/plain": [
       "'fl'"
      ]
     },
     "execution_count": 13,
     "metadata": {},
     "output_type": "execute_result"
    }
   ],
   "source": [
    "\n"
   ]
  },
  {
   "cell_type": "code",
   "execution_count": 25,
   "id": "930e0082-f49d-4780-8ae1-d385296e66f4",
   "metadata": {},
   "outputs": [],
   "source": [
    "strs = ['flower', 'flow', 'flight']\n",
    "\n",
    "def longest_common_prefix(strs):\n",
    "    strs=sorted(strs)\n",
    "    ans=\"\"\n",
    "    first=strs[0]\n",
    "    last=strs[len(strs)-1]\n",
    "    for i in range(min(len(first),len(last))):\n",
    "        if first[i] != last[i]:\n",
    "            return ans\n",
    "        else:\n",
    "            ans+=first[i]\n",
    "    return ans"
   ]
  },
  {
   "cell_type": "code",
   "execution_count": 27,
   "id": "4dcbce3d-43d0-4a21-8617-d7fc20314cb4",
   "metadata": {
    "scrolled": true
   },
   "outputs": [
    {
     "name": "stdout",
     "output_type": "stream",
     "text": [
      "553 ns ± 35.8 ns per loop (mean ± std. dev. of 7 runs, 1,000,000 loops each)\n"
     ]
    }
   ],
   "source": [
    "%timeit longest_common_prefix(strs)"
   ]
  },
  {
   "cell_type": "code",
   "execution_count": null,
   "id": "7f76a3b2-d658-49ee-8908-b4870a3b5407",
   "metadata": {},
   "outputs": [],
   "source": [
    "# Given an integer array nums sorted in non-decreasing order, remove the duplicates in-place such that each unique element appears only once. \n",
    "# The relative order of the elements should be kept the same. Then return the number of unique elements in nums.\n",
    "# Consider the number of unique elements of nums to be k, to get accepted, you need to do the following things:\n",
    "# Change the array nums such that the first k elements of nums contain the unique elements in the order they were present in nums initially.\n",
    "# The remaining elements of nums are not important as well as the size of nums.\n",
    "# Return k.\n",
    "\n",
    "# Examples: \n",
    "\n",
    "# Input: nums = [1,1,2]\n",
    "# Output: 2, nums = [1,2,_]\n",
    "# Explanation: Your function should return k = 2, with the first two elements of nums being 1 and 2 respectively.\n",
    "# It does not matter what you leave beyond the returned k (hence they are underscores).\n",
    "\n",
    "# Input: nums = [0,0,1,1,1,2,2,3,3,4]\n",
    "# Output: 5, nums = [0,1,2,3,4,_,_,_,_,_]\n",
    "# Explanation: Your function should return k = 5, with the first five elements of nums being 0, 1, 2, 3, and 4 respectively.\n",
    "# It does not matter what you leave beyond the returned k (hence they are underscores)."
   ]
  },
  {
   "cell_type": "code",
   "execution_count": 65,
   "id": "dd1c7d94-92d2-4f9c-86e2-4cdb856c576e",
   "metadata": {},
   "outputs": [
    {
     "name": "stdout",
     "output_type": "stream",
     "text": [
      "2\n"
     ]
    },
    {
     "data": {
      "text/plain": [
       "[1, 1, 2]"
      ]
     },
     "execution_count": 65,
     "metadata": {},
     "output_type": "execute_result"
    }
   ],
   "source": [
    "nums = [1, 1, 2]\n",
    "\n",
    "len_nums = len(nums)\n",
    "lst = []\n",
    "for i in range(len_nums):\n",
    "    if nums[i] not in lst:\n",
    "        lst.append(nums[i])\n",
    "len_lst = len(lst)\n",
    "print(len_lst)\n",
    "\n",
    "nums"
   ]
  },
  {
   "cell_type": "code",
   "execution_count": 47,
   "id": "ba33799a-25b8-47f2-be2a-8ed8c5651a45",
   "metadata": {},
   "outputs": [
    {
     "name": "stdout",
     "output_type": "stream",
     "text": [
      "nums\n"
     ]
    }
   ],
   "source": []
  },
  {
   "cell_type": "code",
   "execution_count": null,
   "id": "cf267d56-18e7-4f0a-9bb6-b3105f23ee55",
   "metadata": {},
   "outputs": [],
   "source": [
    "zeros = len_nums - len_lst\n",
    "# for zero in range(zeros):\n",
    "#     lst.append(0)\n"
   ]
  },
  {
   "cell_type": "code",
   "execution_count": 74,
   "id": "05900e63-d3c8-4025-a24c-94ec9de9de04",
   "metadata": {},
   "outputs": [
    {
     "name": "stdout",
     "output_type": "stream",
     "text": [
      "[0, 1, 2, 3, 4, 2, 3, 3, 4]\n"
     ]
    }
   ],
   "source": [
    "\n",
    "\n",
    "nums = [0, 1, 1, 2, 2, 2, 3, 3, 4]\n",
    "\n",
    "# Initialize first pointer\n",
    "k = 1\n",
    "\n",
    "# Iterate through the nums list starting with the second element\n",
    "for i in range(1, len(nums)):\n",
    "    # If the current element is not equal to the previous element, keep the unique element\n",
    "    if nums[i] != nums[i-1]:\n",
    "        # Assign the current element to the position pointed to by 'k'\n",
    "        nums[k] = nums[i]\n",
    "\n",
    "        # increment 'k'\n",
    "        k += 1\n",
    "\n",
    "print(nums)"
   ]
  },
  {
   "cell_type": "code",
   "execution_count": 69,
   "id": "77a17c3f-1b1d-4a46-987f-3820ebe370fb",
   "metadata": {},
   "outputs": [
    {
     "data": {
      "text/plain": [
       "2"
      ]
     },
     "execution_count": 69,
     "metadata": {},
     "output_type": "execute_result"
    }
   ],
   "source": [
    "Solution().removeDuplicates(nums)"
   ]
  },
  {
   "cell_type": "code",
   "execution_count": 71,
   "id": "d8cccac0-4432-41fe-b5b8-52a4cfa0a230",
   "metadata": {},
   "outputs": [
    {
     "data": {
      "text/plain": [
       "[1, 1, 1]"
      ]
     },
     "execution_count": 71,
     "metadata": {},
     "output_type": "execute_result"
    }
   ],
   "source": [
    "nums[2] = 1\n",
    "nums"
   ]
  },
  {
   "cell_type": "code",
   "execution_count": null,
   "id": "27960306-b9f4-4a3f-afae-09d53c76be4d",
   "metadata": {},
   "outputs": [],
   "source": [
    "# You are given an integer array prices where prices[i] is the price of a given stock on the ith day.\n",
    "\n",
    "# On each day, you may decide to buy and/or sell the stock. You can only hold at most one share of the stock at any time. However, you \n",
    "# can buy it then immediately sell it on the same day.\n",
    "\n",
    "# Find and return the maximum profit you can achieve.\n",
    "\n",
    "# Examples:\n",
    "\n",
    "# Input: prices = [7,1,5,3,6,4]\n",
    "# Output: 7\n",
    "# Explanation: Buy on day 2 (price = 1) and sell on day 3 (price = 5), profit = 5-1 = 4.\n",
    "# Then buy on day 4 (price = 3) and sell on day 5 (price = 6), profit = 6-3 = 3.\n",
    "# Total profit is 4 + 3 = 7.\n",
    "\n",
    "\n",
    "# Input: prices = [1,2,3,4,5]\n",
    "# Output: 4\n",
    "# Explanation: Buy on day 1 (price = 1) and sell on day 5 (price = 5), profit = 5-1 = 4.\n",
    "# Total profit is 4.\n",
    "\n",
    "\n",
    "# Input: prices = [7,6,4,3,1]\n",
    "# Output: 0\n",
    "# Explanation: There is no way to make a positive profit, so we never buy the stock to achieve the maximum profit of 0.\n",
    " "
   ]
  },
  {
   "cell_type": "code",
   "execution_count": 91,
   "id": "0a5c41ab-71ab-46ec-9dbf-760e78108cf5",
   "metadata": {},
   "outputs": [
    {
     "name": "stdout",
     "output_type": "stream",
     "text": [
      "[1, 2, 3, 4, 5, 6, 7]\n",
      "21 27\n"
     ]
    }
   ],
   "source": [
    "prices = [1, 2, 3, 4, 5, 6, 7]\n",
    "buy = 0\n",
    "sell = 0\n",
    "total_profit = 0\n",
    "\n",
    "sorted_prices = sorted(prices)\n",
    "print(sorted_prices)\n",
    "if sorted_prices == prices:\n",
    "    for i in range(len(prices) - 1):\n",
    "        buy += prices[i]\n",
    "        sell += prices[i + 1]\n",
    "\n",
    "\n",
    "print(buy, sell)"
   ]
  },
  {
   "cell_type": "code",
   "execution_count": null,
   "id": "e44e240d-a2be-4585-a0a0-4e448952a1c2",
   "metadata": {},
   "outputs": [],
   "source": []
  },
  {
   "cell_type": "code",
   "execution_count": null,
   "id": "dc69f9de-b800-46b3-87c8-7d1aebe3b4c9",
   "metadata": {},
   "outputs": [],
   "source": []
  },
  {
   "cell_type": "code",
   "execution_count": null,
   "id": "7fccf2bb-6b94-436b-94f9-e9baed0b7c4f",
   "metadata": {},
   "outputs": [],
   "source": []
  },
  {
   "cell_type": "code",
   "execution_count": null,
   "id": "157ee576-715f-46b9-b06e-691df034298d",
   "metadata": {},
   "outputs": [],
   "source": []
  },
  {
   "cell_type": "code",
   "execution_count": null,
   "id": "e105a5fd-ec13-4443-b82d-b2c1a502456c",
   "metadata": {},
   "outputs": [],
   "source": []
  },
  {
   "cell_type": "code",
   "execution_count": null,
   "id": "b19ce6c9-1bee-4109-879e-7916c9ffa8fb",
   "metadata": {},
   "outputs": [],
   "source": []
  },
  {
   "cell_type": "code",
   "execution_count": null,
   "id": "f4585953-8401-4129-b9fa-b26cc6b90f0e",
   "metadata": {},
   "outputs": [],
   "source": []
  },
  {
   "cell_type": "code",
   "execution_count": null,
   "id": "64db5b7d-b300-4797-9ea4-319edd5d369a",
   "metadata": {},
   "outputs": [],
   "source": []
  },
  {
   "cell_type": "code",
   "execution_count": null,
   "id": "ffa2288f-2a23-426a-9d0c-533c982964bf",
   "metadata": {},
   "outputs": [],
   "source": []
  },
  {
   "cell_type": "code",
   "execution_count": null,
   "id": "b74c8f09-863a-4c03-a87b-6ed7b01cb9f2",
   "metadata": {},
   "outputs": [],
   "source": []
  },
  {
   "cell_type": "code",
   "execution_count": null,
   "id": "6df84946-ce67-4796-8810-0a79e1cd7a99",
   "metadata": {},
   "outputs": [],
   "source": []
  }
 ],
 "metadata": {
  "kernelspec": {
   "display_name": "Python 3 (ipykernel)",
   "language": "python",
   "name": "python3"
  },
  "language_info": {
   "codemirror_mode": {
    "name": "ipython",
    "version": 3
   },
   "file_extension": ".py",
   "mimetype": "text/x-python",
   "name": "python",
   "nbconvert_exporter": "python",
   "pygments_lexer": "ipython3",
   "version": "3.11.7"
  }
 },
 "nbformat": 4,
 "nbformat_minor": 5
}
