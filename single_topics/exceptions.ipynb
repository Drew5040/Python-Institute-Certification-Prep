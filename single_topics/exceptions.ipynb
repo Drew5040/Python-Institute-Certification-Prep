{
 "cells": [
  {
   "cell_type": "code",
   "execution_count": null,
   "id": "45baadb7-1dbb-49d0-9337-f651ff199938",
   "metadata": {},
   "outputs": [],
   "source": [
    "# Exception: This is the base class for most built-in exceptions (excluding system-exiting exceptions). Catching Exception is a way to \n",
    "# catch most errors while avoiding catching system-exiting exceptions like SystemExit, KeyboardInterrupt, etc.\n",
    "\n",
    "# AttributeError: Raised when an attribute reference or assignment fails.\n",
    "\n",
    "# IOError (or OSError in Python 3): Raised when an I/O operation fails, such as opening a file that doesn't exist.\n",
    "\n",
    "# ValueError: Raised when a function receives an argument of the correct type but with an inappropriate value.\n",
    "\n",
    "# KeyError: Raised when a dictionary key isn't found.\n",
    "\n",
    "# TypeError: Raised when an operation or function is applied to an object of inappropriate type.\n",
    "\n",
    "# IndexError: Raised when a sequence subscript is out of range.\n",
    "\n",
    "# ZeroDivisionError: Raised when the second argument of a division or modulo operation is zero.\n",
    "\n",
    "# KeyboardInterrupt: Raised when the user hits the interrupt key (usually Ctrl+C or Delete).\n",
    "\n",
    "# SyntaxError: Raised by the parser when a syntax error is encountered.\n",
    "\n",
    "# ImportError: Raised when an import statement fails to find the module definition or when a from ... import fails to find a name that is to be imported."
   ]
  },
  {
   "cell_type": "code",
   "execution_count": 1,
   "id": "c41dd7e5-8c1f-49f5-9122-05645c5e2156",
   "metadata": {},
   "outputs": [
    {
     "name": "stdin",
     "output_type": "stream",
     "text": [
      "Please enter a valid integer..  1.0\n"
     ]
    },
    {
     "name": "stdout",
     "output_type": "stream",
     "text": [
      "Please enter an integer please.. \n"
     ]
    }
   ],
   "source": [
    "# Write a Python program that prompts the user to input an integer and raises a ValueError exception if the input is not a valid integer.\n",
    "\n",
    "def prompt():\n",
    "\n",
    "    try:\n",
    "        inputs = int(input('Please enter a valid integer.. '))\n",
    "    except ValueError as e:\n",
    "        print('Please enter an integer please.. ')\n",
    "\n",
    "\n",
    "prompt()\n",
    "        \n",
    "    "
   ]
  },
  {
   "cell_type": "code",
   "execution_count": 10,
   "id": "d791aa56-7a00-4d8f-9205-2c39dabccb49",
   "metadata": {},
   "outputs": [
    {
     "data": {
      "text/plain": [
       "{'name': 'John Doe',\n",
       " 'age': 30,\n",
       " 'city': 'New York',\n",
       " 'email': 'john.doe@example.com',\n",
       " 'is_active': True,\n",
       " 'languages': ['Python', 'JavaScript', 'Java'],\n",
       " 'address': {'street': '123 Main St', 'city': 'Anytown', 'zip_code': '12345'}}"
      ]
     },
     "execution_count": 10,
     "metadata": {},
     "output_type": "execute_result"
    }
   ],
   "source": [
    "import json\n",
    "#  Write a Python program that opens a file and handles a FileNotFoundError exception if the file does not exist.\n",
    "\n",
    "def file_open(path):\n",
    "\n",
    "    try:\n",
    "        with open(path, 'r') as file:\n",
    "           lines = json.load(file)\n",
    "    except FileNotFoundError as e:\n",
    "        print('The file does not exist')\n",
    "\n",
    "    return lines\n",
    "\n",
    "file_open('existing_file.json')\n"
   ]
  },
  {
   "cell_type": "code",
   "execution_count": 16,
   "id": "192995f0-f6d2-402d-85cf-0400af1958dc",
   "metadata": {},
   "outputs": [
    {
     "name": "stdin",
     "output_type": "stream",
     "text": [
      "Please enter a numeric 1\n",
      "Please enter another numeric Hello\n"
     ]
    },
    {
     "ename": "TypeError",
     "evalue": "Both inputs must be numerical",
     "output_type": "error",
     "traceback": [
      "\u001b[1;31m---------------------------------------------------------------------------\u001b[0m",
      "\u001b[1;31mValueError\u001b[0m                                Traceback (most recent call last)",
      "Cell \u001b[1;32mIn[16], line 6\u001b[0m, in \u001b[0;36mis_numeric\u001b[1;34m()\u001b[0m\n\u001b[0;32m      5\u001b[0m     result1 \u001b[38;5;241m=\u001b[39m \u001b[38;5;28mfloat\u001b[39m(\u001b[38;5;28minput\u001b[39m(\u001b[38;5;124m\"\u001b[39m\u001b[38;5;124mPlease enter a numeric\u001b[39m\u001b[38;5;124m\"\u001b[39m))\n\u001b[1;32m----> 6\u001b[0m     result2 \u001b[38;5;241m=\u001b[39m \u001b[38;5;28;43mfloat\u001b[39;49m\u001b[43m(\u001b[49m\u001b[38;5;28;43minput\u001b[39;49m\u001b[43m(\u001b[49m\u001b[38;5;124;43m\"\u001b[39;49m\u001b[38;5;124;43mPlease enter another numeric\u001b[39;49m\u001b[38;5;124;43m\"\u001b[39;49m\u001b[43m)\u001b[49m\u001b[43m)\u001b[49m\n\u001b[0;32m      7\u001b[0m \u001b[38;5;28;01mexcept\u001b[39;00m \u001b[38;5;167;01mValueError\u001b[39;00m:\n",
      "\u001b[1;31mValueError\u001b[0m: could not convert string to float: 'Hello'",
      "\nDuring handling of the above exception, another exception occurred:\n",
      "\u001b[1;31mTypeError\u001b[0m                                 Traceback (most recent call last)",
      "Cell \u001b[1;32mIn[16], line 10\u001b[0m\n\u001b[0;32m      7\u001b[0m     \u001b[38;5;28;01mexcept\u001b[39;00m \u001b[38;5;167;01mValueError\u001b[39;00m:\n\u001b[0;32m      8\u001b[0m         \u001b[38;5;28;01mraise\u001b[39;00m \u001b[38;5;167;01mTypeError\u001b[39;00m(\u001b[38;5;124m'\u001b[39m\u001b[38;5;124mBoth inputs must be numerical\u001b[39m\u001b[38;5;124m'\u001b[39m)\n\u001b[1;32m---> 10\u001b[0m \u001b[43mis_numeric\u001b[49m\u001b[43m(\u001b[49m\u001b[43m)\u001b[49m\n",
      "Cell \u001b[1;32mIn[16], line 8\u001b[0m, in \u001b[0;36mis_numeric\u001b[1;34m()\u001b[0m\n\u001b[0;32m      6\u001b[0m     result2 \u001b[38;5;241m=\u001b[39m \u001b[38;5;28mfloat\u001b[39m(\u001b[38;5;28minput\u001b[39m(\u001b[38;5;124m\"\u001b[39m\u001b[38;5;124mPlease enter another numeric\u001b[39m\u001b[38;5;124m\"\u001b[39m))\n\u001b[0;32m      7\u001b[0m \u001b[38;5;28;01mexcept\u001b[39;00m \u001b[38;5;167;01mValueError\u001b[39;00m:\n\u001b[1;32m----> 8\u001b[0m     \u001b[38;5;28;01mraise\u001b[39;00m \u001b[38;5;167;01mTypeError\u001b[39;00m(\u001b[38;5;124m'\u001b[39m\u001b[38;5;124mBoth inputs must be numerical\u001b[39m\u001b[38;5;124m'\u001b[39m)\n",
      "\u001b[1;31mTypeError\u001b[0m: Both inputs must be numerical"
     ]
    }
   ],
   "source": [
    "# Write a Python program that prompts the user to input two numbers and raises a TypeError exception if the inputs are not numerical.\n",
    "\n",
    "def is_numeric():\n",
    "    try:\n",
    "        result1 = float(input(\"Please enter a numeric\"))\n",
    "        result2 = float(input(\"Please enter another numeric\"))\n",
    "    except ValueError:\n",
    "        raise TypeError('Both inputs must be numerical')\n",
    "\n",
    "is_numeric()"
   ]
  },
  {
   "cell_type": "code",
   "execution_count": 19,
   "id": "99f18160-6479-4bd3-8024-9169546fbff9",
   "metadata": {},
   "outputs": [
    {
     "ename": "TypeError",
     "evalue": "can only concatenate str (not \"int\") to str",
     "output_type": "error",
     "traceback": [
      "\u001b[1;31m---------------------------------------------------------------------------\u001b[0m",
      "\u001b[1;31mTypeError\u001b[0m                                 Traceback (most recent call last)",
      "Cell \u001b[1;32mIn[19], line 1\u001b[0m\n\u001b[1;32m----> 1\u001b[0m \u001b[38;5;124;43m'\u001b[39;49m\u001b[38;5;124;43mhello\u001b[39;49m\u001b[38;5;124;43m'\u001b[39;49m\u001b[43m \u001b[49m\u001b[38;5;241;43m+\u001b[39;49m\u001b[43m \u001b[49m\u001b[38;5;241;43m5\u001b[39;49m\n",
      "\u001b[1;31mTypeError\u001b[0m: can only concatenate str (not \"int\") to str"
     ]
    }
   ],
   "source": [
    "'hello' + 5"
   ]
  },
  {
   "cell_type": "code",
   "execution_count": 18,
   "id": "88497847-c4a0-4418-8f6c-e9aeb7a79872",
   "metadata": {},
   "outputs": [
    {
     "ename": "ValueError",
     "evalue": "could not convert string to float: 'forty-two'",
     "output_type": "error",
     "traceback": [
      "\u001b[1;31m---------------------------------------------------------------------------\u001b[0m",
      "\u001b[1;31mValueError\u001b[0m                                Traceback (most recent call last)",
      "Cell \u001b[1;32mIn[18], line 1\u001b[0m\n\u001b[1;32m----> 1\u001b[0m \u001b[38;5;28;43mfloat\u001b[39;49m\u001b[43m(\u001b[49m\u001b[38;5;124;43m'\u001b[39;49m\u001b[38;5;124;43mforty-two\u001b[39;49m\u001b[38;5;124;43m'\u001b[39;49m\u001b[43m)\u001b[49m\n",
      "\u001b[1;31mValueError\u001b[0m: could not convert string to float: 'forty-two'"
     ]
    }
   ],
   "source": [
    "float('forty-two')"
   ]
  },
  {
   "cell_type": "code",
   "execution_count": null,
   "id": "b986741f-2ae9-4ab6-a125-13496287d231",
   "metadata": {},
   "outputs": [],
   "source": []
  },
  {
   "cell_type": "code",
   "execution_count": null,
   "id": "8b25736b-20d7-4835-bdc7-8d930bc7c586",
   "metadata": {},
   "outputs": [],
   "source": []
  }
 ],
 "metadata": {
  "kernelspec": {
   "display_name": "Python 3 (ipykernel)",
   "language": "python",
   "name": "python3"
  },
  "language_info": {
   "codemirror_mode": {
    "name": "ipython",
    "version": 3
   },
   "file_extension": ".py",
   "mimetype": "text/x-python",
   "name": "python",
   "nbconvert_exporter": "python",
   "pygments_lexer": "ipython3",
   "version": "3.11.7"
  }
 },
 "nbformat": 4,
 "nbformat_minor": 5
}
