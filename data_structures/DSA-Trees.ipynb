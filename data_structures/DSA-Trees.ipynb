{
 "cells": [
  {
   "cell_type": "code",
   "execution_count": null,
   "id": "6b78aab9",
   "metadata": {},
   "outputs": [],
   "source": [
    "## Binary Tree Class"
   ]
  },
  {
   "cell_type": "code",
   "execution_count": null,
   "id": "0c08990e",
   "metadata": {},
   "outputs": [],
   "source": []
  },
  {
   "cell_type": "code",
   "execution_count": null,
   "id": "2ed4fa70",
   "metadata": {},
   "outputs": [],
   "source": [
    "\n",
    "### > Used to hold data in a hierarchical structure\n",
    "### > Non-Linear data structure\n",
    "### > Tree stores the data in hierarchical fashion\n",
    "\n",
    "### > Components of a Tree:\n",
    "### > Node, Root, Leaf, Child, Parent, Sub-Tree, Descendants, Ancestors, Degree, Internal Nodes\n",
    "\n",
    "### > Descendants: are the leaves within sub-trees\n",
    "### > Degree: the number of children a node has\n",
    "### > Leaves: are the nodes that are of degree zero, no descendants or children\n",
    "### > Internal Nodes: nodes that are not leaf nodes\n",
    "### > Root: the first and top most node\n"
   ]
  },
  {
   "cell_type": "markdown",
   "id": "6e091c4b",
   "metadata": {},
   "source": [
    "## Tree Traversal Methods"
   ]
  },
  {
   "cell_type": "code",
   "execution_count": null,
   "id": "211cc8a9",
   "metadata": {},
   "outputs": [],
   "source": [
    "### > Breadth First (Level Order)\n",
    "\n",
    "## > 1. In order\n",
    "## > 2. Pre-order\n",
    "## > 3. Post-order\n",
    "\n",
    "### > Depth First\n",
    "\n",
    "## > 1. In order\n",
    "## > 2. Pre-order\n",
    "## > 3. Post-order\n",
    "\n",
    "### > Breadth first: traverse the tree on each level, left to right, top to bottom, like reading a book\n",
    "### > Depth first: also known as recursive: Traverse Root, Traverse left subtree, traverse right subtree\n",
    "### > There are 3! ways of performing depth first traversal\n",
    "### > Out of the six ways to do the depth first traversal 3 are the most popular\n",
    "### > The 3 most popular ways are called: In-order, pre-order, post-order\n",
    "\n",
    "### > in-order: print left sub-tree, print root, print right sub-tree\n",
    "### > pre-order: print root, print left, print right\n",
    "### > post-order: print left, print right, print root\n",
    "\n",
    "# Exercise:\n",
    "\n",
    "# In-Order: 40, 20, 70, 50, 80, 10, 30, 60\n",
    "\n",
    "# Pre-order: 10, 20, 40, 50, 70, 80, 30, 60\n",
    "\n",
    "# Post-Order: 40, 70, 80, 50, 20, 60, 30, 10\n"
   ]
  },
  {
   "cell_type": "markdown",
   "id": "729b4d6c",
   "metadata": {},
   "source": [
    "## Binary Trees"
   ]
  },
  {
   "cell_type": "code",
   "execution_count": null,
   "id": "67b3ef91",
   "metadata": {},
   "outputs": [],
   "source": [
    "\n",
    "### > Every binary tree has at most two children (<=2)\n",
    "### > Degree of a node is the # of children the node has\n",
    "### > In memory, each node consists of three blocks\n",
    "### > Full node in memory ---> [refference to left child] [data] [refference to right child]\n",
    "### > Most commonly used tree is binary tree\n",
    "\n",
    "### > Internal Memory of representation of nodes\n",
    "\n",
    "### >             [key][30][key]\n",
    "### >     [key][40][n]  [key][50][key]\n",
    "### >  [n][70][n] [n][60][n] [n][80][n]\n"
   ]
  },
  {
   "cell_type": "markdown",
   "id": "c93ff11a",
   "metadata": {},
   "source": [
    "## Build Tree Node"
   ]
  },
  {
   "cell_type": "code",
   "execution_count": 2,
   "id": "2eb70291",
   "metadata": {},
   "outputs": [
    {
     "name": "stdout",
     "output_type": "stream",
     "text": [
      "20 10 40 30 50 "
     ]
    }
   ],
   "source": [
    "class Node:\n",
    "    def __init__(self, k):\n",
    "        self.left = None\n",
    "        self.key = k\n",
    "        self.right = None\n",
    "        \n",
    "\n",
    "root = Node(10)\n",
    "root.left = Node(20)\n",
    "root.right = Node(30)\n",
    "root.right.left = Node(40)\n",
    "root.right.right = Node(50)\n",
    "\n",
    "       \n",
    "        \n",
    "### > Time: O(n) work\n",
    "### > Aux:  O(h) space\n",
    "\n",
    "# Calls every node exactly once\n",
    "# At most n + 1 calls in the stack at once\n",
    "# Where n = # of levels of the tree\n",
    "\n",
    "def in_order(root):\n",
    "    \n",
    "    if root != None:\n",
    "        in_order(root.left)\n",
    "        print(root.key, end=' ')\n",
    "        in_order(root.right)\n",
    "\n",
    "\n",
    "in_order(root)\n"
   ]
  },
  {
   "cell_type": "markdown",
   "id": "de9693f2",
   "metadata": {},
   "source": [
    "## In Order Traversal"
   ]
  },
  {
   "cell_type": "code",
   "execution_count": null,
   "id": "642ad7bc",
   "metadata": {},
   "outputs": [],
   "source": [
    "### > inorder(10)\n",
    "### >    inorder(20)\n",
    "### >        inorder(None) - left child\n",
    "### >        print(20)\n",
    "### >        inorder(None) - right child\n",
    "### > print(10)\n",
    "### > inorder(30)\n",
    "### >    inorder(40)\n",
    "### >        inorder(None) - left child\n",
    "### >        print(40)\n",
    "### >        inorder(None) - right child\n",
    "### >    print(30)\n",
    "### >    inorder(50)\n",
    "### >        inorder(None) - left child\n",
    "### >        print(50)\n",
    "### >        inorder(None) - right child"
   ]
  },
  {
   "cell_type": "markdown",
   "id": "d475eecf",
   "metadata": {},
   "source": [
    "## Pre-Order Traversal"
   ]
  },
  {
   "cell_type": "code",
   "execution_count": 7,
   "id": "bc720e13",
   "metadata": {},
   "outputs": [
    {
     "name": "stdout",
     "output_type": "stream",
     "text": [
      "10\n",
      "20\n",
      "30\n",
      "40\n",
      "50\n"
     ]
    }
   ],
   "source": [
    "class Node:\n",
    "    \n",
    "    def __init__(self, key):\n",
    "        self.left = None\n",
    "        self.key = key\n",
    "        self.right = None\n",
    "        \n",
    "root = Node(10)\n",
    "root.left = Node(20)\n",
    "root.right = Node(30)\n",
    "root.right.left = Node(40)\n",
    "root.right.right = Node(50)\n",
    "\n",
    "\n",
    "### > Time: O(n) work\n",
    "### > Aux:  O(h) space: because at any one time we will have 'h' calls in call stack\n",
    "\n",
    "# Calls every node exactly once\n",
    "# At most n + 1 calls in the stack at once\n",
    "# Where n = # of levels of the tree\n",
    "\n",
    "def pre_order(root):\n",
    "    \n",
    "    if root != None:\n",
    "        print(root.key)\n",
    "        pre_order(root.left)\n",
    "        pre_order(root.right)\n",
    "        \n",
    "pre_order(root)\n",
    "   "
   ]
  },
  {
   "cell_type": "markdown",
   "id": "49c49f3a",
   "metadata": {},
   "source": [
    "## Post-Order Traversal"
   ]
  },
  {
   "cell_type": "code",
   "execution_count": 11,
   "id": "0e793246",
   "metadata": {},
   "outputs": [
    {
     "name": "stdout",
     "output_type": "stream",
     "text": [
      "20\n",
      "40\n",
      "50\n",
      "30\n",
      "10\n"
     ]
    }
   ],
   "source": [
    "\n",
    "### > Time: O(n) work\n",
    "### > Aux:  O(h) space: because at any one time we will have 'h' calls in call stack\n",
    "\n",
    "# Calls every node exactly once\n",
    "# At most n + 1 calls in the stack at once\n",
    "# Where n = # of levels of the tree\n",
    "# Not Tail Recursive\n",
    "# Should use: in_order, or pre_order for question if given a choice\n",
    "\n",
    "def post_order(root, h=0):\n",
    "    if root != None:\n",
    "        post_order(root.left)\n",
    "        post_order(root.right)\n",
    "        a = root.key\n",
    "        print(a)\n",
    "        \n",
    "post_order(root)"
   ]
  },
  {
   "cell_type": "markdown",
   "id": "51047813",
   "metadata": {},
   "source": [
    "## Height of a Binary Tree"
   ]
  },
  {
   "cell_type": "code",
   "execution_count": null,
   "id": "ecc39891",
   "metadata": {},
   "outputs": [],
   "source": [
    "### > Two conventions for finding the height of a binary tree\n",
    "### > 1. the hight of a binary tree is the max # of nodes on root to leaf path\n",
    "### > 2. the maximum number of edges from root to leaf. The max # of edges is # of nodes from root to leaf minus 1\n",
    "\n",
    "### > How to find the hight:\n",
    "### > 1. Recursively call left subtree, then record height + 1\n",
    "### > 2. Recursively call right subtree, then record height + 1\n",
    "### > 3. Compare heights and choose which is bigger"
   ]
  },
  {
   "cell_type": "code",
   "execution_count": 12,
   "id": "80540cd4",
   "metadata": {},
   "outputs": [
    {
     "data": {
      "text/plain": [
       "3"
      ]
     },
     "execution_count": 12,
     "metadata": {},
     "output_type": "execute_result"
    }
   ],
   "source": [
    "\n",
    "# Time: O(n)\n",
    "# Aux:  O(h) at mose h + 1 function calls on the stack\n",
    "\n",
    "# Maximum number of nodes\n",
    "def height(root):\n",
    "    if root == None:\n",
    "        return 0\n",
    "    lh = height(root.left)\n",
    "    rh = height(root.right)\n",
    "   \n",
    "    return max(lh, rh) + 1\n",
    "    \n",
    "root = Node(10)\n",
    "root.left = Node(20)\n",
    "root.right = Node(30)\n",
    "root.left.left = Node(40)\n",
    "root.left.right = Node(50)\n",
    "root.right.right = Node(70)\n",
    "\n",
    "height(root)\n",
    "\n",
    "    "
   ]
  },
  {
   "cell_type": "markdown",
   "id": "eaa0c3fc",
   "metadata": {},
   "source": [
    "## Problem: Print Node at K Distance From Root"
   ]
  },
  {
   "cell_type": "code",
   "execution_count": 18,
   "id": "234c2bbc",
   "metadata": {},
   "outputs": [
    {
     "name": "stdout",
     "output_type": "stream",
     "text": [
      "160 170 180 190 200 210 220 230 240 250 260 270 280 290 300 310 "
     ]
    }
   ],
   "source": [
    "\n",
    "# Time: O(n)\n",
    "# Aux: O(h) going to be h+1 calls in the stack\n",
    "\n",
    "def print_k_distance(root, k):\n",
    "    if root is None:\n",
    "        return\n",
    "    if k == 0:\n",
    "        print(root.key, end = ' ')\n",
    "    else:\n",
    "        print_k_distance(root.left, k - 1)\n",
    "        print_k_distance(root.right, k - 1)\n",
    "        \n",
    "root = Node(10)\n",
    "\n",
    "root.left = Node(20)\n",
    "root.right = Node(30)\n",
    "\n",
    "root.left.left = Node(40)\n",
    "root.left.right = Node(50)\n",
    "root.right.left = Node(60)\n",
    "root.right.right = Node(70)\n",
    "\n",
    "root.left.left.left = Node(80)\n",
    "root.left.left.right = Node(90)\n",
    "root.left.right.left = Node(100)\n",
    "root.left.right.right = Node(110)\n",
    "root.right.left.left = Node(120)\n",
    "root.right.left.right = Node(130)\n",
    "root.right.right.left = Node(140)\n",
    "root.right.right.right = Node(150)\n",
    "\n",
    "root.left.left.left.left = Node(160)\n",
    "root.left.left.left.right = Node(170)\n",
    "root.left.left.right.left = Node(180)\n",
    "root.left.left.right.right = Node(190)\n",
    "root.left.right.left.left = Node(200)\n",
    "root.left.right.left.right = Node(210)\n",
    "root.left.right.right.left = Node(220)\n",
    "root.left.right.right.right = Node(230)\n",
    "root.right.left.left.left = Node(240)\n",
    "root.right.left.left.right = Node(250)\n",
    "root.right.left.right.left = Node(260)\n",
    "root.right.left.right.right = Node(270)\n",
    "root.right.right.left.left = Node(280)\n",
    "root.right.right.left.right = Node(290)\n",
    "root.right.right.right.left = Node(300)\n",
    "root.right.right.right.right = Node(310)\n",
    "\n",
    "        \n",
    "print_k_distance(root, 4)"
   ]
  },
  {
   "cell_type": "markdown",
   "id": "4b90b3b1",
   "metadata": {},
   "source": [
    "## Level Order Traversal"
   ]
  },
  {
   "cell_type": "code",
   "execution_count": 19,
   "id": "9851f560",
   "metadata": {},
   "outputs": [
    {
     "name": "stdout",
     "output_type": "stream",
     "text": [
      "10 20 30 40 50 60 70 80 90 100 110 120 130 140 150 160 170 180 190 200 210 220 230 240 250 260 270 280 290 300 310 \n",
      "10 20 30 40 50 60 70 80 90 100 110 120 130 140 150 160 170 180 190 200 210 220 230 240 250 260 270 280 290 300 310 "
     ]
    }
   ],
   "source": [
    "# Every level has to be printed left to right\n",
    "\n",
    "# Naive method\n",
    "# Time: O(n + nh) = O(nh)\n",
    "\n",
    "# get the height of the tree\n",
    "h = height(root)\n",
    "# recurse the exact number of times needed to print out entire tree\n",
    "for k in range(h):\n",
    "    print_k_distance(root, k)\n",
    "print()    \n",
    "    \n",
    "    \n",
    "    \n",
    "from collections import deque\n",
    "\n",
    "# Time: O(n)\n",
    "# Aux: O(w) w = width of binary tree at its base\n",
    "\n",
    "def level_order_traversal(root):\n",
    "    if root is None:\n",
    "        return\n",
    "    q = deque()\n",
    "    q.append(root)\n",
    "    while len(q) > 0:\n",
    "        node = q.popleft()\n",
    "        print(node.key, end = ' ')\n",
    "        if node.left is not None:\n",
    "            q.append(node.left)\n",
    "        if node.right is not None:\n",
    "            q.append(node.right)\n",
    "\n",
    "\n",
    "level_order_traversal(root)\n"
   ]
  },
  {
   "cell_type": "markdown",
   "id": "12e0e2e8",
   "metadata": {},
   "source": [
    "## Number of Nodes in Binary Tree"
   ]
  },
  {
   "cell_type": "code",
   "execution_count": 22,
   "id": "cfa5c6b0",
   "metadata": {},
   "outputs": [
    {
     "ename": "NameError",
     "evalue": "name 'tree_size' is not defined",
     "output_type": "error",
     "traceback": [
      "\u001b[0;31m---------------------------------------------------------------------------\u001b[0m",
      "\u001b[0;31mNameError\u001b[0m                                 Traceback (most recent call last)",
      "\u001b[0;32m<ipython-input-22-a67b60f8ba0a>\u001b[0m in \u001b[0;36m<module>\u001b[0;34m\u001b[0m\n\u001b[1;32m     27\u001b[0m         \u001b[0;32mreturn\u001b[0m \u001b[0mls\u001b[0m \u001b[0;34m+\u001b[0m \u001b[0mrs\u001b[0m \u001b[0;34m+\u001b[0m \u001b[0;36m1\u001b[0m\u001b[0;34m,\u001b[0m \u001b[0mlst\u001b[0m\u001b[0;34m\u001b[0m\u001b[0m\n\u001b[1;32m     28\u001b[0m \u001b[0;34m\u001b[0m\u001b[0m\n\u001b[0;32m---> 29\u001b[0;31m \u001b[0mnumber_of_nodes\u001b[0m\u001b[0;34m(\u001b[0m\u001b[0mroot\u001b[0m\u001b[0;34m)\u001b[0m\u001b[0;34m\u001b[0m\u001b[0m\n\u001b[0m",
      "\u001b[0;32m<ipython-input-22-a67b60f8ba0a>\u001b[0m in \u001b[0;36mnumber_of_nodes\u001b[0;34m(root)\u001b[0m\n\u001b[1;32m     23\u001b[0m         \u001b[0;32mreturn\u001b[0m \u001b[0;36m0\u001b[0m\u001b[0;34m\u001b[0m\u001b[0m\n\u001b[1;32m     24\u001b[0m     \u001b[0;32melse\u001b[0m\u001b[0;34m:\u001b[0m\u001b[0;34m\u001b[0m\u001b[0m\n\u001b[0;32m---> 25\u001b[0;31m         \u001b[0mls\u001b[0m \u001b[0;34m=\u001b[0m \u001b[0mtree_size\u001b[0m\u001b[0;34m(\u001b[0m\u001b[0mroot\u001b[0m\u001b[0;34m.\u001b[0m\u001b[0mleft\u001b[0m\u001b[0;34m)\u001b[0m\u001b[0;34m\u001b[0m\u001b[0m\n\u001b[0m\u001b[1;32m     26\u001b[0m         \u001b[0mrs\u001b[0m \u001b[0;34m=\u001b[0m \u001b[0mtree_size\u001b[0m\u001b[0;34m(\u001b[0m\u001b[0mroot\u001b[0m\u001b[0;34m.\u001b[0m\u001b[0mright\u001b[0m\u001b[0;34m)\u001b[0m\u001b[0;34m\u001b[0m\u001b[0m\n\u001b[1;32m     27\u001b[0m         \u001b[0;32mreturn\u001b[0m \u001b[0mls\u001b[0m \u001b[0;34m+\u001b[0m \u001b[0mrs\u001b[0m \u001b[0;34m+\u001b[0m \u001b[0;36m1\u001b[0m\u001b[0;34m,\u001b[0m \u001b[0mlst\u001b[0m\u001b[0;34m\u001b[0m\u001b[0m\n",
      "\u001b[0;31mNameError\u001b[0m: name 'tree_size' is not defined"
     ]
    }
   ],
   "source": [
    "### > num_nodes(10)\n",
    "### >     ls = num_nodes(20)\n",
    "### >              ls = num_nodes(40)\n",
    "### >                       ls = num_nodes(None)\n",
    "### >                       rs = num_nodes(None)\n",
    "### >                       return 0 + 0 + 1  \n",
    "### >              rs = num_nodes(50)\n",
    "### >                       ls = num_nodes(None)\n",
    "### >                       rs = num_nodes(None)\n",
    "### >                       return 0 + 0 + 1\n",
    "### >     return 1 + 1 + 1\n",
    "### >     rs = num_nodes(30)\n",
    "### >              ls = num_nodes(None)    \n",
    "### >              rs = num_nodes(None)\n",
    "### >     return 3 + 1 + 1\n",
    "### > 4\n",
    "\n",
    "# Time: O(n)\n",
    "# Aux : O(n)\n",
    "\n",
    "def number_of_nodes(root):\n",
    "    if root == None:\n",
    "        return 0\n",
    "    else:\n",
    "        ls = tree_size(root.left)\n",
    "        rs = tree_size(root.right)\n",
    "        return ls + rs + 1, lst\n",
    "    \n",
    "number_of_nodes(root)"
   ]
  },
  {
   "cell_type": "markdown",
   "id": "42b1f9c2",
   "metadata": {},
   "source": [
    "## Find the Max of Binary Tree"
   ]
  },
  {
   "cell_type": "code",
   "execution_count": 23,
   "id": "5d0aa9ce",
   "metadata": {},
   "outputs": [
    {
     "data": {
      "text/plain": [
       "310"
      ]
     },
     "execution_count": 23,
     "metadata": {},
     "output_type": "execute_result"
    }
   ],
   "source": [
    "### > get_max(10)\n",
    "### >     ls = get_max(80)\n",
    "### >               ls = get_max(None)\n",
    "### >               rs = get_max(None)\n",
    "### >               return max(80, -inf, -inf)  \n",
    "### >     rs = get_max(15)\n",
    "### >               ls = get_max(40)\n",
    "### >                         ls = num_nodes(None)\n",
    "### >                         rs = num_nodes(None)\n",
    "### >                         return max(40, -inf, -inf)\n",
    "### >               rs = get_max(None)\n",
    "### >               return max(15, 40, -inf)\n",
    "### >     return max(10, 80, 40)\n",
    "### > 80\n",
    "\n",
    "# Time: O(n)\n",
    "# Aux:  O(h) max number of function calls in stack are proportional to height of binary tree\n",
    "\n",
    "import math\n",
    "\n",
    "def get_max(root):\n",
    "    if root == None:\n",
    "        return -math.inf\n",
    "    else:\n",
    "        ls = get_max(root.left)\n",
    "        rs = get_max(root.right)\n",
    "        return max(root.key, ls, rs)\n",
    "    \n",
    "get_max(root)"
   ]
  },
  {
   "cell_type": "code",
   "execution_count": null,
   "id": "2d3180e4",
   "metadata": {},
   "outputs": [],
   "source": []
  },
  {
   "cell_type": "code",
   "execution_count": null,
   "id": "784b0d44",
   "metadata": {},
   "outputs": [],
   "source": []
  },
  {
   "cell_type": "code",
   "execution_count": null,
   "id": "731f7a2a",
   "metadata": {},
   "outputs": [],
   "source": []
  },
  {
   "cell_type": "code",
   "execution_count": null,
   "id": "ce4225e2",
   "metadata": {},
   "outputs": [],
   "source": []
  },
  {
   "cell_type": "code",
   "execution_count": null,
   "id": "e55fcad7",
   "metadata": {},
   "outputs": [],
   "source": []
  },
  {
   "cell_type": "code",
   "execution_count": null,
   "id": "38aa3ffb",
   "metadata": {},
   "outputs": [],
   "source": []
  }
 ],
 "metadata": {
  "kernelspec": {
   "display_name": "Python 3",
   "language": "python",
   "name": "python3"
  },
  "language_info": {
   "codemirror_mode": {
    "name": "ipython",
    "version": 3
   },
   "file_extension": ".py",
   "mimetype": "text/x-python",
   "name": "python",
   "nbconvert_exporter": "python",
   "pygments_lexer": "ipython3",
   "version": "3.6.6+"
  }
 },
 "nbformat": 4,
 "nbformat_minor": 5
}
