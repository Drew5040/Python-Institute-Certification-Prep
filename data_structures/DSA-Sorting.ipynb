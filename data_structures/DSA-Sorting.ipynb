{
 "cells": [
  {
   "cell_type": "code",
   "execution_count": null,
   "id": "4cf1f21a",
   "metadata": {
    "collapsed": true,
    "jupyter": {
     "outputs_hidden": true
    }
   },
   "outputs": [],
   "source": [
    "## Sorting in Python"
   ]
  },
  {
   "cell_type": "code",
   "execution_count": null,
   "id": "6df0b099",
   "metadata": {
    "collapsed": true,
    "jupyter": {
     "outputs_hidden": true
    }
   },
   "outputs": [],
   "source": [
    "# Two methods for sorting in Python:\n",
    "# - sort(): sorts in place, only works for list, use if you want the same list\n",
    "# - sorted(): works for any iterable, does not modify the container\n",
    "#             returns a list of sorted items, use if you want to create a new list of sorted items\n",
    "# Both use TimSort\n",
    "# TimSort is a hybrid algorithm that uses merge sort and insertion sort with O(n_log_n)\n",
    "# \n"
   ]
  },
  {
   "cell_type": "markdown",
   "id": "aab9a777",
   "metadata": {},
   "source": [
    "## Sort() Method in Python"
   ]
  },
  {
   "cell_type": "code",
   "execution_count": null,
   "id": "98185018",
   "metadata": {
    "collapsed": true,
    "jupyter": {
     "outputs_hidden": true
    }
   },
   "outputs": [],
   "source": [
    "# By default sorts in increasing order\n",
    "\n",
    "lst = [5, 10, 15, 1]\n",
    "lst.sort()\n",
    "print(lst)\n",
    "\n",
    "# Pass the 'reverse' argument for decreasing order\n",
    "\n",
    "lst = [1, 5, 3, 10]\n",
    "lst.sort(reverse = True)\n",
    "print(lst)\n",
    "\n",
    "# Strings will be sorted in alphabetical order\n",
    "\n",
    "lst = ['zed', 'med', 'sed']\n",
    "lst.sort()\n",
    "print(lst)\n",
    "\n",
    "# Sort strings in reverse alphabetical order by passing the reverse argument\n",
    "lst = ['sed', 'sod', 'sad']\n",
    "lst.sort(reverse = True)\n",
    "print(lst)\n",
    "\n",
    "\n",
    "def myFunc(string):\n",
    "    return len(string)\n",
    "\n",
    "\n",
    "# To sort by differnt parameters created by a function, pass the 'key' parameter\n",
    "# The function return the len of each string in the list\n",
    "# Therefore, they are sorted according to length\n",
    "# We pass a function into the 'key' parameter when we want to sort according\n",
    "# to something other than a natural order\n",
    "# The next section will show another way using classes\n",
    "\n",
    "lst = ['c', 'bb', 'aaa']\n",
    "lst.sort(key = myFunc)\n",
    "print(lst)\n",
    "\n",
    "\n",
    "# Can also reverse the order\n",
    "\n",
    "lst = ['c', 'bb', 'aaa']\n",
    "lst.sort(key = myFunc, reverse = True)\n",
    "print(lst)\n",
    "\n",
    "\n",
    "\n"
   ]
  },
  {
   "cell_type": "markdown",
   "id": "dc18ec7e",
   "metadata": {},
   "source": [
    "## Sort() Method with User Defined Class"
   ]
  },
  {
   "cell_type": "code",
   "execution_count": null,
   "id": "d239fb37",
   "metadata": {
    "collapsed": true,
    "jupyter": {
     "outputs_hidden": true
    }
   },
   "outputs": [],
   "source": [
    "\n",
    "# Python sort() is stable which means if one has the same x-values it will still be able\n",
    "# to sort\n",
    "# \n",
    "\n",
    "class Point:\n",
    "    def __init__(self, x, y):\n",
    "        self.x = x\n",
    "        self.y = y\n",
    "        \n",
    "    # If we provide the '__lt__' dunder method in our class we do not need the 'key'\n",
    "    # parameter in the sort method. There is also an equal  dunder method\n",
    "    \n",
    "    def __lt__(self, other):\n",
    "        if self.x == other.y:\n",
    "            return self.y < other.y\n",
    "        else:\n",
    "            return self.x < other.x\n",
    "        \n",
    "lst = [Point(1, 15), Point(10, 5), Point(5, 8)]\n",
    "\n",
    "\n",
    "# We use the class way of sorting when we want to sort according to a natural order inherent in the object\n",
    "\n",
    "lst.sort()\n",
    "\n",
    "# Have to iterate through list to print the objects in the list\n",
    "\n",
    "for i in lst:\n",
    "    print(i.x, i.y)\n",
    "    \n",
    "    "
   ]
  },
  {
   "cell_type": "markdown",
   "id": "275ce5fb",
   "metadata": {},
   "source": [
    "## Sorted() Python"
   ]
  },
  {
   "cell_type": "code",
   "execution_count": null,
   "id": "ce605489",
   "metadata": {
    "collapsed": true,
    "jupyter": {
     "outputs_hidden": true
    }
   },
   "outputs": [],
   "source": [
    "# Works for any iterable\n",
    "# returns a new list\n",
    "# parameters: key, and reverse work the same way as in .sort()\n",
    "\n",
    "lst = [10, 20, 14, 10]\n",
    "sorted(lst)\n",
    "\n",
    "dic = {7:'apple', 2:'orange', 3: 'bananna'}\n",
    "print(sorted(dic, reverse = False))\n",
    "\n",
    "\n",
    "# can use any pertinent function\n",
    "\n",
    "lst = [-14, 18, -3, 4]\n",
    "sorted(lst, key = abs, reverse = False)\n",
    "\n",
    "\n",
    "# Can sort a string\n",
    "\n",
    "string = 'Mississippi'\n",
    "sorted(string)\n",
    "\n",
    "\n",
    "# Can sort a tuple\n",
    "# sorts according to first element in tupl\n",
    "\n",
    "tupl = [(1, 8), (10, 48), (4, 2)]\n",
    "sorted(tupl)\n",
    "\n",
    "\n",
    "# Can use it to sort a list of class objects\n",
    "\n",
    "class Point:\n",
    "    def __init__(self, x, y):\n",
    "        self.x = x\n",
    "        self.y = y \n",
    "        \n",
    "    def __lt__(self, other):\n",
    "        return self.x < other.x\n",
    "    \n",
    "\n",
    "lst = [Point(5, 6), Point(1, 2), Point(3, 4)]\n",
    "lsts = sorted(lst)\n",
    "\n",
    "for i in lsts:\n",
    "    print(i.x, i.y)"
   ]
  },
  {
   "cell_type": "markdown",
   "id": "611c37e1",
   "metadata": {},
   "source": [
    "## Stability in Sorting Algorithms"
   ]
  },
  {
   "cell_type": "code",
   "execution_count": null,
   "id": "5c1785ee",
   "metadata": {
    "collapsed": true,
    "jupyter": {
     "outputs_hidden": true
    }
   },
   "outputs": [],
   "source": [
    "\n",
    "\n",
    "# Stability: if two items have the same value, then they should appear in the same order as they\n",
    "# appeared in the original array\n",
    "\n",
    "# Stability is only relevant when we have objects with multiple fields\n",
    "\n",
    "# We want to sort the array according to the students marks such that if any two students have the same \n",
    "# marks their name will be in alphabetical order\n",
    "\n",
    "array = [ ('Pyush', 50), ('Ramesh', 80), ('Anil', 50), ('Ayan', 80)]\n",
    "\n",
    "\n",
    "# Stable sorted array in increasing order according to their marks and alphabetical order\n",
    "\n",
    "array = [('Anil', 50), ('Pyush', 50), ('Ayan', 80), ('Ramesh', 80)]\n",
    "\n",
    "\n",
    "# Un-stable sorted array in increasing order according to their marks\n",
    "\n",
    "array = [('Pyush', 50), ('Anil', 50), ('Ayan', 80), ('Ramesh', 80)]\n",
    "\n",
    "\n",
    "# Stable Sorts: \n",
    "# - Bubble Sort\n",
    "# - Insertion Sort\n",
    "# - Merge Sort\n",
    "\n",
    "# Unstable Sorts: \n",
    "# - Selection Sort\n",
    "# - Quick Sort\n",
    "# - Heap Sort\n"
   ]
  },
  {
   "cell_type": "markdown",
   "id": "2f5f8e39",
   "metadata": {},
   "source": [
    "## Bubble-Sort"
   ]
  },
  {
   "cell_type": "code",
   "execution_count": null,
   "id": "f1ed7c21",
   "metadata": {
    "collapsed": true,
    "jupyter": {
     "outputs_hidden": true
    }
   },
   "outputs": [],
   "source": [
    "# Bubble-Sort: \n",
    "# - Simple Comparison Algo\n",
    "# - O(n^2)\n",
    "# Bubble Sort is a stable sorting algorithm\n",
    "# Being stable means that elements in the list are in same order as the original array.  \n",
    "# This is because they are only swapped when j > j + 1, and never j = j\n",
    "\n",
    "# Bubble Sort doesnt have any practical application other than academia\n",
    "\n",
    "# First traversal: move largest element to 'nth' position\n",
    "# Second traversl: move second largest element to the (n-1)st position\n",
    "# Third traversal: move third largest element to the (n-2)nd position\n",
    "# .\n",
    "# .\n",
    "# until complete\n",
    "\n",
    "# If there is 9 elements in array then 8 traversals are necesarry\n",
    "# When j = 0 no elements are in correct position\n",
    "# When j = 1 one element is in correct position\n",
    "# When j = 4 four elements are in correct position\n",
    "\n",
    "# Optimize bubble sort by including the flag variable 'swapped' so we only do one pass for an already\n",
    "# sorted list\n",
    "\n",
    "\n",
    "\n",
    "\n",
    "arr = [15, 4, 8, 10, 17]\n",
    "\n",
    "def bubble_sort(lst):\n",
    "    for i in range(len(lst) - 1):\n",
    "        swapped = False\n",
    "        for j in range((len(lst) - 1)-i):\n",
    "            if lst[j] > lst[j + 1]:\n",
    "                lst[j], lst[j + 1] = lst[j + 1], lst[j]\n",
    "                swapped = True\n",
    "    if swapped == False:\n",
    "        print(lst)\n",
    "    #print(lst)\n",
    "        \n",
    "bubble_sort(arr)\n",
    "\n",
    "\n",
    "\n"
   ]
  },
  {
   "cell_type": "markdown",
   "id": "bfc9c605",
   "metadata": {},
   "source": [
    "## Selection Sort"
   ]
  },
  {
   "cell_type": "code",
   "execution_count": 1,
   "id": "ef06995d",
   "metadata": {},
   "outputs": [
    {
     "data": {
      "text/plain": [
       "[2, 5, 8, 10, 18, 20]"
      ]
     },
     "execution_count": 1,
     "metadata": {},
     "output_type": "execute_result"
    }
   ],
   "source": [
    "# Selection Sort:\n",
    "# - O(n^2)\n",
    "# - Comaparison Based Algo\n",
    "# - Whats good is it does less memory writes compared to other algos\n",
    "# - Not a stable algo\n",
    "# - Is an 'inplace algo', sorts in place\n",
    "# - Works by finding 1st minimum element and put it into the first position\n",
    "# - Then, finding the second smallest element and putting it into the second position\n",
    "\n",
    "\n",
    "def selection_sort(lst):\n",
    "    \n",
    "    # 'i' is inititalized at index 0\n",
    "    for i in range(len(lst)):\n",
    "        # 'i' remains the min_idx as long as no other element is less than the first element\n",
    "        min_idx = i\n",
    "        for j in range(i + 1, len(lst)):\n",
    "            if lst[j] < lst[min_idx]:\n",
    "                min_idx = j\n",
    "        lst[min_idx], lst[i] = lst[i], lst[min_idx]\n",
    "    return lst\n",
    "\n",
    "lst = [10, 5, 8, 20, 2, 18]\n",
    "\n",
    "selection_sort(lst)\n",
    "\n",
    "\n",
    "\n",
    "\n",
    "\n",
    "\n"
   ]
  },
  {
   "cell_type": "markdown",
   "id": "f8a99945",
   "metadata": {},
   "source": [
    "## Insertion Sort"
   ]
  },
  {
   "cell_type": "code",
   "execution_count": null,
   "id": "2cee12b6",
   "metadata": {
    "collapsed": true,
    "jupyter": {
     "outputs_hidden": true
    }
   },
   "outputs": [],
   "source": [
    "\n",
    "# O(n^2): worst case when the list is reverse sorted. The while loop will run a max number of times\n",
    "# In-place sorting and is stable\n",
    "# Used in practice for small arrays (TimSort, IntroSort)\n",
    "# Most efficient for sorting small arrays\n",
    "# O(n): best case is when the array is already sorted the while loop will never be activated\n",
    "\n",
    "# For most sorting algorithms we always begin with the second element\n",
    "\n",
    "\n",
    "\n",
    "\n",
    "\n",
    "\n",
    "lst = [20, 5, 40, 60, 10, 30]\n",
    "\n",
    "\n",
    "def insertion_sort(lst):\n",
    "    \n",
    "    \n",
    "    # for loop is the outer loop and iterates to the right\n",
    "    \n",
    "    for i in range(1, len(lst)):\n",
    "        \n",
    "        # Iterate through each element of the list\n",
    "        current_value = lst[i]\n",
    "        \n",
    "        # create j index which is one place behind the 'i' index\n",
    "        j = i - 1\n",
    "    \n",
    "        # Inner indefinite loop iterates to the left\n",
    "        # Smaller elements will always move from left to right\n",
    "        while j >= 0 and current_value < lst[j]:\n",
    "            \n",
    "            # Swap the smaller element on the right with the larger element on the left\n",
    "            lst[j + 1] = lst[j]\n",
    "            \n",
    "            # Decrement j for the next iteration\n",
    "            j = j - 1\n",
    "        \n",
    "        # Swap the larger element on the left with the smaller element on the right\n",
    "        lst[j + 1] = current_value\n",
    "        \n",
    "    return lst\n",
    "\n",
    "\n",
    "        \n",
    "lst = [20, 5, 40, 60, 10, 30]\n",
    "\n",
    "insert_sort(lst)\n",
    "\n"
   ]
  },
  {
   "cell_type": "code",
   "execution_count": 24,
   "id": "46178a68",
   "metadata": {},
   "outputs": [
    {
     "name": "stdout",
     "output_type": "stream",
     "text": [
      "[5, 10, 20, 30, 40, 60]\n",
      "[5, 10, 20, 30, 40, 60]\n",
      "[10, 5, 40, 60, 20, 30]\n",
      "[10, 5, 40, 60, 20, 30]\n",
      "[5, 10, 40, 60, 20, 30]\n",
      "[5, 10, 30, 20, 60, 40]\n",
      "[5, 10, 20, 30, 60, 40]\n",
      "[5, 10, 20, 30, 40, 60]\n"
     ]
    },
    {
     "data": {
      "text/plain": [
       "[5, 10, 20, 30, 40, 60]"
      ]
     },
     "execution_count": 24,
     "metadata": {},
     "output_type": "execute_result"
    }
   ],
   "source": [
    "def merge_sort(arr):\n",
    "    if len(arr) > 1:\n",
    "        mid=len(arr)//2\n",
    "        left=arr[:mid]\n",
    "        right=arr[mid:]\n",
    "        merge_sort(left)\n",
    "        merge_sort(right)\n",
    "        i=j=k=0\n",
    "        while i < len(left) and j < len(right):\n",
    "            if left[i]<right[j]:\n",
    "                arr[k]=left[i]\n",
    "                i+=1\n",
    "                k+=1\n",
    "            else:\n",
    "                arr[k]=right[j]\n",
    "                j+=1\n",
    "                k+=1\n",
    "                \n",
    "        while i < len(left):\n",
    "            arr[k]=left[i]\n",
    "            i+=1\n",
    "            k+=1\n",
    "            \n",
    "        while j < len(right):\n",
    "            arr[k]=right[j]\n",
    "            j+=1\n",
    "            k+=1\n",
    "        return arr\n",
    "    \n",
    "print(merge_sort(lst))\n",
    "\n",
    "def insertion_sort(arr):\n",
    "    for i in range(1,len(arr)):\n",
    "        curr = arr[i]\n",
    "        j=i-1\n",
    "        while j>=0 and curr<arr[j]:\n",
    "            arr[j+1] = arr[j]\n",
    "            j-=1\n",
    "        arr[j+1]=curr\n",
    "    return arr\n",
    "\n",
    "print(insertion_sort(lst))\n",
    "\n",
    "def hoares_part(arr, l, h):\n",
    "    pivot = arr[l]\n",
    "    i=l-1\n",
    "    j=h+1\n",
    "    while True:\n",
    "        i+=1\n",
    "        while arr[i] < pivot:\n",
    "            i+=1\n",
    "        j-=1\n",
    "        while arr[j] > pivot:\n",
    "            j-=1\n",
    "        if i>=j:\n",
    "            print(arr)\n",
    "            return j\n",
    "        arr[i], arr[j]=arr[j],arr[i]\n",
    "lst = [20, 5, 40, 60, 10, 30]\n",
    "hoares_part(lst, 0, len(lst)-1)\n",
    "\n",
    "def quick_sort(arr, l, h):\n",
    "    if l < h:\n",
    "        p=hoares_part(arr, l, h)\n",
    "        quick_sort(arr, l, p)\n",
    "        quick_sort(arr, p+1, h)\n",
    "    return arr\n",
    "lst = [20, 5, 40, 60, 10, 30]\n",
    "quick_sort(lst, 0, len(lst)-1)"
   ]
  },
  {
   "cell_type": "markdown",
   "id": "43de7f20",
   "metadata": {},
   "source": [
    "## Merge Sort: Merge two sorted lists"
   ]
  },
  {
   "cell_type": "code",
   "execution_count": null,
   "id": "b7da3bd9",
   "metadata": {
    "collapsed": true,
    "jupyter": {
     "outputs_hidden": true
    }
   },
   "outputs": [],
   "source": [
    "\n",
    "# Merge sort is a divide and conquer algorithm\n",
    "# First divides the input list into two parts\n",
    "# Then recursively sorts the two parts then merges them\n",
    "# Stable: maintains the order of equivalent items\n",
    "# Time: O(n_log_n): best possible time for a single processor and random input\n",
    "# Auxilliary: O(n)\n",
    "# Is well suited for linked lists. Works in O(1) auxilliary space\n",
    "# Used in external sorting\n",
    "# In general for arrays, QuickSort outperforms merge sort\n",
    "\n",
    "\n",
    "# Merge two sorted lists\n",
    "\n",
    "# O(m + n)\n",
    "\n",
    "def merge_lists(a):\n",
    "    \n",
    "    res = []\n",
    "    len_lst1 = 8                      # len(a)\n",
    "    len_lst2 = 5                      # len(b)\n",
    "    i = 0\n",
    "    j = 0\n",
    "    \n",
    "    while i < len_lst1 and j < len_lst2:\n",
    "        \n",
    "        # appending the lesser number first\n",
    "        if a[i] < b[j]:\n",
    "            res.append(a[i])\n",
    "            i = i + 1\n",
    "        \n",
    "        else:\n",
    "            res.append(b[j])\n",
    "            j = j + 1\n",
    "    \n",
    "    while i < len_lst1:\n",
    "        res.append(a[i])\n",
    "        i = i + 1\n",
    "    \n",
    "    \n",
    "    while j < len_lst2:\n",
    "        res.append(b[j])\n",
    "        j = j + 1\n",
    "   \n",
    "    \n",
    "    return res\n",
    "\n",
    "x = [5, 6, 6, 6, 7, 31, 32, 32]\n",
    "y = [10, 15, 20, 21, 30]\n",
    "\n",
    "\n",
    "merge_lists(x, y)\n",
    "\n"
   ]
  },
  {
   "cell_type": "markdown",
   "id": "2af5e0dd",
   "metadata": {},
   "source": [
    "## Merge SubArrays"
   ]
  },
  {
   "cell_type": "code",
   "execution_count": null,
   "id": "d61a7ed2",
   "metadata": {
    "collapsed": true,
    "jupyter": {
     "outputs_hidden": true
    }
   },
   "outputs": [],
   "source": [
    "\n",
    "# If an array is half  sorted with the largest half first\n",
    "# O(n + m)\n",
    "\n",
    "def merge(a, low, mid, high):\n",
    "    \n",
    "    left = a[low: mid + 1]\n",
    "          \n",
    "    # Have to add one to mid and high to keep indexing straight\n",
    "    right = a[mid + 1: high + 1]\n",
    "    \n",
    "    i = j = 0\n",
    "    k = low\n",
    "    \n",
    "    while i < len(left) and j < len(right):\n",
    "        \n",
    "       \n",
    "        if left[i] < right[j]:\n",
    "            \n",
    "            a[k] = left[i]\n",
    "            k += 1\n",
    "            i += 1\n",
    "            \n",
    "    \n",
    "        else:\n",
    "            a[k] = right[j]\n",
    "            k += 1\n",
    "            j += 1\n",
    "            \n",
    "\n",
    "\n",
    "    while i < len(left):\n",
    "        a[k] = left[i]\n",
    "        i += 1\n",
    "        k += 1\n",
    "\n",
    "        \n",
    "    while j < len(right):\n",
    "        a[k] = right[j]\n",
    "        j += 1\n",
    "        k += 1\n",
    "        \n",
    "        \n",
    "a = [100, 150, 200, 400, 8, 11, 55]\n",
    "\n",
    "merge(a, 0, 3, 6)\n",
    "\n",
    "print(*a)\n",
    "\n",
    "    "
   ]
  },
  {
   "cell_type": "code",
   "execution_count": null,
   "id": "95faffb0",
   "metadata": {
    "collapsed": true,
    "jupyter": {
     "outputs_hidden": true
    }
   },
   "outputs": [],
   "source": [
    "#def bubble_sort(lst):\n",
    "\n",
    "lst = [100, 150, 200, 400, 8, 11, 55]\n",
    "for i in range(len(lst) - 1):\n",
    "    #print(lst)\n",
    "    swapped = False\n",
    "    for j in range(len(lst) - 1 - i):\n",
    "        print(lst)\n",
    "        if lst[j] > lst[j + 1]:\n",
    "            #print(lst)\n",
    "            lst[j], lst[j + 1] = lst[j + 1], lst[j]\n",
    "            swapped =  True\n",
    "if swapped == False:\n",
    "    print(lst)\n",
    "        \n",
    "        \n",
    "            "
   ]
  },
  {
   "cell_type": "markdown",
   "id": "242e6340",
   "metadata": {},
   "source": [
    "## Merge Sort\n",
    "    "
   ]
  },
  {
   "cell_type": "code",
   "execution_count": null,
   "id": "94cc00c2",
   "metadata": {
    "collapsed": true,
    "jupyter": {
     "outputs_hidden": true
    }
   },
   "outputs": [],
   "source": [
    "\n",
    "# Merge Sort:\n",
    "# - Stable\n",
    "# - divides an array into two smaller subarrays\n",
    "# - sorts each subarray\n",
    "# - merges each subarray back together\n",
    "# - used in conjunction with quick sort to improve performance\n",
    "\n",
    "# O(n_log_n)\n",
    "\n",
    "\n",
    "def merge(a, low, mid, high):\n",
    "    \n",
    "    left = a[low:mid + 1]\n",
    "    right = a[mid + 1:high + 1]\n",
    "\n",
    "    i = j = 0\n",
    "    k = low\n",
    "\n",
    "    while i < len(left) and j < len(right):\n",
    "\n",
    "        if left[i] < right[j]:\n",
    "            a[k] = left[i]\n",
    "\n",
    "            k += 1\n",
    "            i += 1\n",
    "        else:\n",
    "            a[k] = right[j]\n",
    "            k += 1\n",
    "            j += 1\n",
    "\n",
    "    while i < len(left):\n",
    "        a[k] = left[i]\n",
    "        i += 1\n",
    "        k += 1\n",
    "\n",
    "    while j < len(right):\n",
    "        a[k] = right[j]\n",
    "        j += 1\n",
    "        k += 1\n",
    "\n",
    "\n",
    "def merge_sort(arr, left, right):\n",
    "    \n",
    "    if left < right:\n",
    "    \n",
    "        mid = (right + left)//2\n",
    "        #print(arr[left], arr[mid], arr[right])\n",
    "        \n",
    "        \n",
    "        # Left array\n",
    "        merge_sort(arr, left, mid)\n",
    "    \n",
    "        # Right array\n",
    "        merge_sort(arr, mid + 1, right)\n",
    "        \n",
    "        # Merge 1st subarray, then second subarray\n",
    "        merge(arr, left, mid, right)\n",
    "        \n",
    "    return arr\n",
    "        \n",
    "\n",
    "a = [100, 150, 200, 400, 8, 11, 55]\n",
    "        \n",
    "merge_sort(a, 0, len(a) - 1)"
   ]
  },
  {
   "cell_type": "markdown",
   "id": "b12a33f4",
   "metadata": {},
   "source": [
    "## Another Version of Merge Sort"
   ]
  },
  {
   "cell_type": "code",
   "execution_count": null,
   "id": "5264bebb",
   "metadata": {
    "collapsed": true,
    "jupyter": {
     "outputs_hidden": true
    }
   },
   "outputs": [],
   "source": [
    "def merge_sort(arr):\n",
    "    \n",
    "    if len(arr) > 1: \n",
    "        mid = len(arr)//2\n",
    "\n",
    "        left = arr[:mid]\n",
    "\n",
    "        right = arr[mid:]\n",
    "\n",
    "        # Sort first half\n",
    "        merge_sort(left)\n",
    "\n",
    "        # Sort second half\n",
    "        merge_sort(right)\n",
    "\n",
    "        i = j = k = 0\n",
    "\n",
    "        # Copy data into two temporary arrays\n",
    "        while i < len(left) and j < len(right):\n",
    "\n",
    "            if left[i] < right[j]:\n",
    "                arr[k] = left[i]\n",
    "                i += 1\n",
    "\n",
    "            else:\n",
    "                arr[k] = right[j]\n",
    "                j += 1\n",
    "                k += 1\n",
    "\n",
    "        # Checking if any elements are left\n",
    "        while i < len(left):\n",
    "            arr[k] = left[i]\n",
    "            i += 1\n",
    "            k += 1\n",
    "\n",
    "        while j < len(right):\n",
    "            arr[k] = right[j]\n",
    "            j += 1\n",
    "            k += 1\n",
    "        \n",
    "    \n",
    "# Code to print the final list\n",
    "def print_lst(arr):\n",
    "    print(arr)\n",
    "        \n",
    "        \n",
    "\n",
    "        \n",
    "if __name__ == '__main__':\n",
    "    \n",
    "    arr = [12, 11, 13, 5, 6, 7]\n",
    "    print(\"Given array is: \", end = '')\n",
    "    print_lst(arr)\n",
    "    merge_sort(arr)\n",
    "    print(\"Sorted array is: \", end = '')\n",
    "    print_lst(arr)    \n",
    "        \n",
    "        \n",
    "        \n",
    "        \n",
    "        "
   ]
  },
  {
   "cell_type": "markdown",
   "id": "4ad94a52",
   "metadata": {},
   "source": [
    "## Union of Two Sorted Arrays"
   ]
  },
  {
   "cell_type": "code",
   "execution_count": null,
   "id": "652b2269",
   "metadata": {
    "collapsed": true,
    "jupyter": {
     "outputs_hidden": true
    }
   },
   "outputs": [],
   "source": [
    "import snoop\n",
    "import big_o\n",
    "from bigO import BigO\n",
    "from bigO import algorithm\n",
    "from random import randint\n",
    "\n",
    "\n",
    "#@snoop\n",
    "def union(a, b):\n",
    "    \n",
    "    lst = a + b\n",
    "    \n",
    "    lst.sort()\n",
    "    \n",
    "    for i in range(0, len(lst)):\n",
    "        \n",
    "        if i == 0 or lst[i] != lst[i - 1]:\n",
    "            \n",
    "            print(lst[i], end = ' ')\n",
    "    \n",
    "    print(lst)\n",
    "    \n",
    "    return lst\n",
    "              \n",
    "     \n",
    "# O(n + m)\n",
    "    \n",
    "def array_union(b):\n",
    "\n",
    "    i = 0\n",
    "    j = 0\n",
    "    \n",
    "    while i < len(a) and j < len(b):\n",
    "\n",
    "        if a[i] < b[j]:\n",
    "            print(a[i], end = ' ')\n",
    "            i = i + 1\n",
    "\n",
    "        elif a[i] > b[j]:\n",
    "            print(b[j], end = ' ')\n",
    "            j = j + 1\n",
    "\n",
    "        elif a[i] == b[j]:\n",
    "            print(a[i], end = ' ')\n",
    "            i = i + 1\n",
    "            j = j + 1\n",
    "\n",
    "        if j == len(b):\n",
    "            print(*a[i:], end = ' ')\n",
    "\n",
    "        elif i == len(a):\n",
    "            print(*b[j:])\n",
    "\n",
    "            \n",
    "\n",
    "    \n",
    "def time_complexity(func):\n",
    "    lib = BigO()\n",
    "    \n",
    "    cmplx = lib.test_all(func)\n",
    "#     cmplx = lib.test(func, one, 'sorted')\n",
    "#     cmplx = lib.test(func, one, 'reversed')\n",
    "#     cmplx = lib.test(func, one, 'partial')\n",
    "#     cmplx = lib.test(func, one, 'Ksorted')\n",
    "#     cmplx = lib.compare(fname, fname1, 'random', 5000)\n",
    "#     cmplx = lib.compare(fname, fname1, 'all', 5000)\n",
    "\n",
    "\n",
    "a = [2, 8, 9, 10]\n",
    "b = [3, 5, 8, 12, 13]\n",
    "\n",
    "\n",
    "\n",
    "time_complexity(fib_naive)\n",
    "\n",
    "\n",
    "\n",
    "    "
   ]
  },
  {
   "cell_type": "code",
   "execution_count": null,
   "id": "6894cdcf",
   "metadata": {
    "collapsed": true,
    "jupyter": {
     "outputs_hidden": true
    }
   },
   "outputs": [],
   "source": [
    "import matplotlib.pyplot as plt\n",
    "import numpy as np\n",
    "\n",
    "x = np.linspace(0, 10, 100)  # Sample data of resulution 100\n",
    "\n",
    "fig, ax = plt.subplots(figsize=(5, 2.7), layout='constrained')\n",
    "\n",
    "ax.plot(x, x, label='O(n)')  # Plot some data on the axes.\n",
    "ax.plot(x, x**2, label='O(n^2)')  # Plot more data on the axes...\n",
    "ax.plot(x, x**3, label='O(n^3)')  # ... and some more.\n",
    "\n",
    "ax.set_xlabel('x label')  # Add an x-label to the axes.\n",
    "ax.set_ylabel('y label')  # Add a y-label to the axes.\n",
    "ax.legend()  # Add a legend.\n",
    "\n",
    "plt.show()"
   ]
  },
  {
   "cell_type": "markdown",
   "id": "9cf303e5",
   "metadata": {},
   "source": [
    "## Intersection (Union) of Two Sorted Arrays"
   ]
  },
  {
   "cell_type": "code",
   "execution_count": null,
   "id": "4031150e",
   "metadata": {
    "collapsed": true,
    "jupyter": {
     "outputs_hidden": true
    }
   },
   "outputs": [],
   "source": [
    "\n",
    "# Naive: O(n^2)\n",
    "\n",
    "def intersection(a, b):\n",
    "    \n",
    "    for i in range(len(a)):\n",
    "        if i > 0 and a[i-1] == a[i]:\n",
    "        \n",
    "            continue\n",
    "    \n",
    "        for j in range(len(b)):\n",
    "            if a[i] == b[j]:\n",
    "                print(a[i], end = ' ')\n",
    "            \n",
    "                break\n",
    "                \n",
    "lst1 = [2, 3, 8, 9, 10]\n",
    "lst2 = [1, 4, 8, 6, 21]\n",
    "\n",
    "#intersection(lst1, lst2)\n",
    "\n",
    "\n",
    "# Efficient way: O(n + m)\n",
    "\n",
    "\n",
    "def inter_section(a, b):\n",
    "    \n",
    "    i = 0\n",
    "    j = 0\n",
    "    \n",
    "    \n",
    "    while i < len(a) and j < len(b):\n",
    "       \n",
    "        if i > 0 and a[i - 1] == a[i]:\n",
    "            i += 1\n",
    "            \n",
    "            continue\n",
    "        \n",
    "        if a[i] < b[j]:\n",
    "            i += 1\n",
    "            \n",
    "        elif b[j] < a[i]:\n",
    "            j += 1\n",
    "            \n",
    "        else:\n",
    "            print(a[i], end = ' ')\n",
    "            i += 1\n",
    "            j += 1\n",
    "            \n",
    "\n",
    "a = [1, 2, 3, 4, 5, 6, 7, 8, 9, 10]\n",
    "b = [7, 8, 9, 10, 11, 12]\n",
    "\n",
    "inter_section(a, b)\n"
   ]
  },
  {
   "cell_type": "markdown",
   "id": "095e33ba",
   "metadata": {},
   "source": [
    "## Count Inversions in Array"
   ]
  },
  {
   "cell_type": "code",
   "execution_count": null,
   "id": "1818583d",
   "metadata": {
    "collapsed": true,
    "jupyter": {
     "outputs_hidden": true
    }
   },
   "outputs": [],
   "source": [
    "# An inversion is when:\n",
    "#      i < j \n",
    "# arr[i] > arr[j]\n",
    "# If the array is sorted in reversed order, there are maximum inversions\n",
    "# The formula for the number of inversions is n(n-1)/2\n",
    "\n",
    "\n",
    "# Naive Method\n",
    "\n",
    "# random:       O(n^2)\n",
    "# sorted:       O(n^2)\n",
    "# reversed:     O(n^2)\n",
    "# partial:      O(n^2)\n",
    "# Ksorted:      O(n^2)\n",
    "# Almost equal: O(n^2)\n",
    "\n",
    "def inversions(lst):\n",
    "    n = len(lst)\n",
    "    res = 0\n",
    "    for i in range(n - 1):\n",
    "        print(i)\n",
    "        for j in range(i + 1, n):\n",
    "            print(j)\n",
    "            if lst[i] > lst[j]:\n",
    "                res += 1\n",
    "    return res\n",
    "\n",
    "# Or\n",
    "\n",
    "def inversion(a):\n",
    "    i = -1\n",
    "    j = 0\n",
    "    count = 0\n",
    "    while i < len(a):\n",
    "        j = 0\n",
    "        i = i + 1\n",
    "        while j < len(a):\n",
    "            if i < j and a[i] > a[j]:\n",
    "                count += 1\n",
    "                print(i, '<',  j, a[i], '>', a[j])\n",
    "            j = j + 1\n",
    "    print(count)\n",
    "\n",
    "# Efficient Method    \n",
    "    \n",
    "\n",
    "\n",
    "# Merge Sort:\n",
    "# - Stable\n",
    "# - divides an array into two smaller subarrays\n",
    "# - sorts each subarray\n",
    "# - merges each subarray back together\n",
    "# - used in conjunction with quick sort to improve performance\n",
    "\n",
    "# O(n_log_n)\n",
    "\n",
    "\n",
    "def merge_count_inversions(a, low, mid, high):\n",
    "    \n",
    "    left = a[low:mid + 1]\n",
    "    right = a[mid + 1:high + 1]\n",
    "\n",
    "    res, i, j, k = 0, 0, 0, low\n",
    "\n",
    "\n",
    "    while i < len(left) and j < len(right):\n",
    "       \n",
    "        if left[i] <= right[j]:\n",
    "            a[k] = left[i]\n",
    "            i += 1\n",
    "          \n",
    "        \n",
    "        else:\n",
    "            a[k] = right[j]\n",
    "            j += 1\n",
    "            res += (len(left) - i)\n",
    "        k += 1\n",
    "\n",
    "    while i < len(left):\n",
    "        a[k] = left[i]\n",
    "        i += 1\n",
    "        k += 1\n",
    "\n",
    "    while j < len(right):\n",
    "        a[k] = right[j]\n",
    "        j += 1\n",
    "        k += 1\n",
    "        \n",
    "    return res\n",
    "\n",
    "\n",
    "\n",
    "def count_inversions(arr, left, right):\n",
    "    \n",
    "    res = 0\n",
    "    \n",
    "    if left < right:\n",
    "    \n",
    "        mid = (right + left)//2\n",
    "        \n",
    "        # Left array\n",
    "        res += count_inversions(arr, left, mid)\n",
    "    \n",
    "        # Right array\n",
    "        res += count_inversions(arr, mid + 1, right)\n",
    "        \n",
    "        # Merge 1st subarray, then second subarray\n",
    "        res += merge_count_inversions(arr, left, mid, right)\n",
    "        \n",
    "    return res\n",
    "        \n",
    "    \n",
    "\n",
    "\n",
    "\n",
    "    \n",
    "#a = [5, 4, 3, 2, 1] \n",
    "\n",
    "\n",
    "count_inversions(a, 0, len(a) -1)\n",
    "\n",
    "\n",
    "\n",
    "\n",
    "\n",
    "\n",
    "\n",
    "\n"
   ]
  },
  {
   "cell_type": "markdown",
   "id": "a7b45cc0",
   "metadata": {},
   "source": [
    "## Partition of a Given Array"
   ]
  },
  {
   "cell_type": "code",
   "execution_count": null,
   "id": "c4497649",
   "metadata": {
    "collapsed": true,
    "jupyter": {
     "outputs_hidden": true
    }
   },
   "outputs": [],
   "source": [
    "# This function will be used as a subroutine in the quicksort algorithm\n",
    "\n",
    "# Example: [3, 8, 6, 12, 10, 7]\n",
    "# index of last element: partition_point = 7\n",
    "# want to arrange into: [3, 6, 7, 8, 12, 10] or [6, 3, 7, 12, 8, 10]\n",
    "# all elements to the left of 7 are < 7 and all elements to the right are > 7\n",
    "# It doesnt matter if the elements are sorted as long as they are partitioned\n",
    "# into two halfs\n",
    "# Has a stable advantabe over larutos partition and hoares partition\n",
    "\n",
    "\n",
    "# Naive solution but stable\n",
    "# O(n) and O(n) auxilliary\n",
    "\n",
    "def partition(arr, p):\n",
    "    \n",
    "    n = len(arr)\n",
    "    \n",
    "    arr[p], arr[n-1] = arr[n-1], arr[p]\n",
    "    \n",
    "    temp = []\n",
    "    \n",
    "    for x in arr:\n",
    "        if x <= arr[n-1]:\n",
    "            temp.append(x)\n",
    "    \n",
    "    for x in arr:\n",
    "        if x > arr[n-1]:\n",
    "            temp.append(x)\n",
    "    \n",
    "    for i in range(len(arr)):\n",
    "        arr[i] = temp[i]\n",
    "    \n",
    "    return arr\n",
    "\n",
    "\n",
    "#a = [5, 13, 6, 9, 12, 8, 11]\n",
    "\n",
    "partition(a, 3)\n",
    "\n"
   ]
  },
  {
   "cell_type": "markdown",
   "id": "a43fa5eb",
   "metadata": {},
   "source": [
    "## Hoar's Partition for QuickSort"
   ]
  },
  {
   "cell_type": "code",
   "execution_count": null,
   "id": "3504de95",
   "metadata": {
    "collapsed": true,
    "jupyter": {
     "outputs_hidden": true
    }
   },
   "outputs": [],
   "source": [
    "\n",
    "# All the elements on the left are less than or equal to the pivot\n",
    "# OR\n",
    "# All the elements on the right are less than or equal to the pivot\n",
    "# Not guaranteed for the pivot to be in the correct position\n",
    "# Fastest out of all partitioning algorithms\n",
    "# 3xs faster than lamuto partition\n",
    "# BUT: not stable\n",
    "\n",
    "# O(n) and O(1) auxilliary\n",
    "\n",
    "def hoares_partition(arr, l, h):\n",
    "    \n",
    "    pivot = arr[l]\n",
    "    i = l - 1\n",
    "    j = h + 1\n",
    "\n",
    "    # i and j are intialized  outside the bounds of array at l-1 and h+1\n",
    "    # i and j are incremented toward eachother with only one traversal of the array\n",
    "   \n",
    "    while True:\n",
    "        i += 1\n",
    "       \n",
    "        while arr[i] < pivot:\n",
    "            i = i + 1\n",
    "        \n",
    "        j = j - 1\n",
    "    \n",
    "        while arr[j] > pivot:\n",
    "            j = j - 1\n",
    "\n",
    "        # if i >= j this means the array is partitioned according to pivot\n",
    "        if i >= j:\n",
    "            print(arr)\n",
    "            return j\n",
    "       \n",
    "        arr[i], arr[j] = arr[j], arr[i]\n",
    "        \n",
    "\n",
    "a = [1, 3, 2, 4, 8, 7, 5, 10]\n",
    "hoares_partition(a,0 , len(a) - 1)\n",
    "    "
   ]
  },
  {
   "cell_type": "markdown",
   "id": "8eb31d54",
   "metadata": {},
   "source": [
    "## Lamuto Partition"
   ]
  },
  {
   "cell_type": "code",
   "execution_count": null,
   "id": "74afa314",
   "metadata": {
    "collapsed": true,
    "jupyter": {
     "outputs_hidden": true
    }
   },
   "outputs": [],
   "source": [
    "\n",
    "# O(n) and O(1) auxilliary\n",
    "# always set the last element equal to the pivot element\n",
    "\n",
    "def lamutoPartition(arr, l, h):\n",
    "    \n",
    "    pivot = arr[h]\n",
    "    i = l - 1\n",
    "    \n",
    "    for j in range(l, h):\n",
    "        print(i, j)\n",
    "        print(arr)\n",
    "\n",
    "        \n",
    "        if arr[j] < pivot:\n",
    "            i = i + 1\n",
    "            arr[i], arr[j] = arr[j], arr[i]\n",
    "            \n",
    "    arr[i + 1], arr[h] = arr[h], arr[i + 1]\n",
    "    print(arr)\n",
    "    return i + 1\n",
    "\n",
    "\n",
    "a = [10, 80, 30, 90, 50, 70]\n",
    "lamutoPartition(a, 0, len(a) - 1)\n"
   ]
  },
  {
   "cell_type": "markdown",
   "id": "41b38cba",
   "metadata": {},
   "source": [
    "## QuickSort"
   ]
  },
  {
   "cell_type": "code",
   "execution_count": null,
   "id": "9b412f73",
   "metadata": {
    "collapsed": true,
    "jupyter": {
     "outputs_hidden": true
    }
   },
   "outputs": [],
   "source": [
    "\n",
    "# Divide and conquer algo\n",
    "# Worst case O(n^2)\n",
    "\n",
    "# Despite worst case is considered faster than MergeSort because\n",
    "    # 1. Sorts in-place no auxilliary arrays only extra space used is the call-stack\n",
    "    # 2. Cache friendly\n",
    "    # 3. Average case O(nlogn)\n",
    "    # 4. Tail recursive means you can rewrite last recursion call as a loop \n",
    "\n",
    "# Lamuto or Hoare partition key function in QuickSort\n",
    "# Hoares partition is used in practice with QuickSort but is not stable\n",
    "# Therefore, libraries use QuickSort when stability is not required\n",
    "# TimSort is stable, and is used in Python and Java for sorting non-primitive data types\n",
    "\n",
    "# Bottom line, when stability is not required or needed, use QuickSort\n",
    "# When stability is required or needed, use MergeSort\n"
   ]
  },
  {
   "cell_type": "markdown",
   "id": "4a7e0206",
   "metadata": {},
   "source": [
    "## QuickSort: Using Hoares Partition\n"
   ]
  },
  {
   "cell_type": "code",
   "execution_count": null,
   "id": "987a0e2a",
   "metadata": {
    "collapsed": true,
    "jupyter": {
     "outputs_hidden": true
    }
   },
   "outputs": [],
   "source": [
    "\n",
    "def hoares_partition(arr, l, h):\n",
    "    \n",
    "    pivot = arr[l]\n",
    "    i = l - 1\n",
    "    j = h + 1\n",
    "    \n",
    "    while True:\n",
    "        i += 1\n",
    "        \n",
    "        while arr[i] < pivot:\n",
    "            i +=1\n",
    "        \n",
    "        j -= 1\n",
    "        \n",
    "        while arr[j] > pivot:\n",
    "            j -= 1\n",
    "\n",
    "        if i >= j:\n",
    "            print(arr)\n",
    "            return j\n",
    "    \n",
    "        arr[i], arr[j] = arr[j], arr[i]\n",
    "        \n",
    "\n",
    "# Uses partition values to recursively sort each half of the array\n",
    "def quick_sort(arr, l, h):\n",
    "    \n",
    "    if l < h:\n",
    "        \n",
    "        p = hoares_partition(arr, l, h)\n",
    "        print(p, end = ' ')\n",
    "        \n",
    "        # Recursively Sort first half of array from 0:p\n",
    "        quick_sort(arr, l, p)\n",
    "        # Recursively Sort second half of array from p + 1:h\n",
    "        quick_sort(arr, p + 1, h)\n",
    "        \n",
    "    \n",
    "\n",
    "a = [8, 4, 7, 9, 3, 10, 5]\n",
    "quick_sort(a, 0, len(a) - 1)\n"
   ]
  },
  {
   "cell_type": "markdown",
   "id": "ca4d017c",
   "metadata": {},
   "source": [
    "## Analysis of QuickSort Algorithm"
   ]
  },
  {
   "cell_type": "code",
   "execution_count": null,
   "id": "1c4d42af",
   "metadata": {
    "collapsed": true,
    "jupyter": {
     "outputs_hidden": true
    }
   },
   "outputs": [],
   "source": [
    "# Best Case: O(nlogn)\n",
    "# 1st Level:        [0.....................7]         ... O(n)\n",
    "# 2nd Level:        [0........3]     [4........7]     ... O(n)\n",
    "# 3rd Level:       [0...1][2...3]   [4...5][6...7]    ... O(n)\n",
    "# 4th Level:      [0] [1] [2] [3]  [4] [5] [6] [7]    ... O(n)\n",
    "\n",
    "\n",
    "# Worst Case: O(n^2)\n",
    "# If pivot at idx = 0 is the smallest element in the array because list is already sorted in ascending order\n",
    "\n",
    "# 1st Level:       [0.........(n - 1)]         \n",
    "# 2nd Level:   [0]         O(1)   [1...(n - 1)]                      O(n - 1)*O(n)\n",
    "# 3rd Level:       [1]     O(1)            [2...(n - 1)]             O(n - 1)*O(n)   \n",
    "# 4th Level:           [2] O(1)                      [3...(n - 1)]   O(n - 1)*O(n)\n"
   ]
  },
  {
   "cell_type": "markdown",
   "id": "47d7e172",
   "metadata": {},
   "source": [
    "## Heap Sort"
   ]
  },
  {
   "cell_type": "code",
   "execution_count": null,
   "id": "a5b1dfdd",
   "metadata": {
    "collapsed": true,
    "jupyter": {
     "outputs_hidden": true
    }
   },
   "outputs": [],
   "source": [
    "# Heap Sort can be seen as an optimization of SelectionSort\n",
    "# SelectionSort is a linear traversal\n",
    "\n",
    "# Two Steps:\n",
    "    # 1. Build a Max Heap\n",
    "    # 2. Repeatedly Swap root with the last node\n",
    "    #    reduce heap size by 1 and heapify\n",
    "    \n",
    "# Time: O(nlogn)\n",
    "# Aux:  O(1)\n",
    "# Not Stable\n",
    "# Used in hybrid sorting algorithms like IntroSort\n",
    "\n"
   ]
  },
  {
   "cell_type": "code",
   "execution_count": null,
   "id": "d8770b3b",
   "metadata": {
    "collapsed": true,
    "jupyter": {
     "outputs_hidden": true
    }
   },
   "outputs": [],
   "source": []
  },
  {
   "cell_type": "code",
   "execution_count": null,
   "id": "dce5e567",
   "metadata": {
    "collapsed": true,
    "jupyter": {
     "outputs_hidden": true
    }
   },
   "outputs": [],
   "source": []
  },
  {
   "cell_type": "code",
   "execution_count": null,
   "id": "ce1aa774",
   "metadata": {
    "collapsed": true,
    "jupyter": {
     "outputs_hidden": true
    }
   },
   "outputs": [],
   "source": []
  },
  {
   "cell_type": "code",
   "execution_count": null,
   "id": "f9cc56b8",
   "metadata": {
    "collapsed": true,
    "jupyter": {
     "outputs_hidden": true
    }
   },
   "outputs": [],
   "source": []
  },
  {
   "cell_type": "code",
   "execution_count": null,
   "id": "a24bfc87",
   "metadata": {
    "collapsed": true,
    "jupyter": {
     "outputs_hidden": true
    }
   },
   "outputs": [],
   "source": []
  }
 ],
 "metadata": {
  "kernelspec": {
   "display_name": "Python 3 (ipykernel)",
   "language": "python",
   "name": "python3"
  },
  "language_info": {
   "codemirror_mode": {
    "name": "ipython",
    "version": 3
   },
   "file_extension": ".py",
   "mimetype": "text/x-python",
   "name": "python",
   "nbconvert_exporter": "python",
   "pygments_lexer": "ipython3",
   "version": "3.10.13"
  }
 },
 "nbformat": 4,
 "nbformat_minor": 5
}
